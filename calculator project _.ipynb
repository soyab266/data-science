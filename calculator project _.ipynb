{
  "cells": [
    {
      "cell_type": "markdown",
      "metadata": {
        "id": "view-in-github",
        "colab_type": "text"
      },
      "source": [
        "<a href=\"https://colab.research.google.com/github/soyab266/test/blob/master/calculator%20project%20_.ipynb\" target=\"_parent\"><img src=\"https://colab.research.google.com/assets/colab-badge.svg\" alt=\"Open In Colab\"/></a>"
      ]
    },
    {
      "cell_type": "code",
      "source": [
        "#1- add\n",
        "#2-substract\n",
        "#3-multiple\n",
        "#4-division\n",
        "print('select the operator to perform ')\n",
        "print('1. add')\n",
        "print('2.substract')\n",
        "print('3.multiple')\n",
        "print('4. division')\n",
        "\n",
        "operation= input()\n",
        "if operation == '1' :\n",
        "\n",
        "  num1=input('enter value for first')\n",
        "  num2=input ('enter the value of second')\n",
        "  print(str(int(num1)+int(num2)))\n",
        "\n",
        "elif operation == '2':\n",
        "  num1=input('enter value for first')\n",
        "  num2= input('enter value for second')\n",
        "  print(str(int(num1)-int(num2)))\n",
        "\n",
        "elif operation == '3':\n",
        "  num1= input('enter the value of first')\n",
        "  nu2= input('enter the value of second')\n",
        "  print(str(int(num1) *  int(num2)))\n",
        "\n",
        "elif operation=='4':\n",
        "  num1= input('enter the value for first')\n",
        "  num2= input ('enter the value for second ')\n",
        "  print(str(int(num1)/ int(num2)))\n",
        "\n",
        "else:\n",
        "  print('invalid entry')\n"
      ],
      "metadata": {
        "colab": {
          "base_uri": "https://localhost:8080/"
        },
        "id": "WfRBWTFz8suK",
        "outputId": "a652cb4b-8e0e-4b75-e22c-3f598400420b"
      },
      "execution_count": 39,
      "outputs": [
        {
          "output_type": "stream",
          "name": "stdout",
          "text": [
            "select the operator to perform \n",
            "1. add\n",
            "2.substract\n",
            "3.multiple\n",
            "4. division\n",
            "4\n",
            "enter the value for first4\n",
            "enter the value for second 6\n",
            "0.6666666666666666\n"
          ]
        }
      ]
    },
    {
      "cell_type": "code",
      "source": [
        "\n"
      ],
      "metadata": {
        "id": "pMl5X_0TDqkP"
      },
      "execution_count": null,
      "outputs": []
    },
    {
      "cell_type": "code",
      "source": [
        "\n",
        " \n",
        "\n",
        "\n",
        "\n",
        "\n",
        "\n",
        "\n",
        "\n",
        "\n"
      ],
      "metadata": {
        "id": "1e2ceJV8FQID"
      },
      "execution_count": 22,
      "outputs": []
    },
    {
      "cell_type": "code",
      "source": [
        "operation= input()"
      ],
      "metadata": {
        "id": "msUqe4ha9ihH"
      },
      "execution_count": null,
      "outputs": []
    },
    {
      "cell_type": "code",
      "source": [
        ""
      ],
      "metadata": {
        "id": "Mn7p0QrxEZE-"
      },
      "execution_count": 12,
      "outputs": []
    }
  ],
  "metadata": {
    "colab": {
      "name": "calculator  .ipynb",
      "provenance": [],
      "collapsed_sections": [],
      "mount_file_id": "15wGNYkS024uN3QhofFOdguQR3xEP-d4q",
      "authorship_tag": "ABX9TyMb6ZqzuCT0L+UhNlb8EqUQ",
      "include_colab_link": true
    },
    "kernelspec": {
      "display_name": "Python 3",
      "name": "python3"
    },
    "language_info": {
      "name": "python"
    }
  },
  "nbformat": 4,
  "nbformat_minor": 0
}