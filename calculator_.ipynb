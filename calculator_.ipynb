{
  "cells": [
    {
      "cell_type": "markdown",
      "metadata": {
        "id": "view-in-github",
        "colab_type": "text"
      },
      "source": [
        "<a href=\"https://colab.research.google.com/github/soyab266/test/blob/master/calculator_.ipynb\" target=\"_parent\"><img src=\"https://colab.research.google.com/assets/colab-badge.svg\" alt=\"Open In Colab\"/></a>"
      ]
    },
    {
      "cell_type": "code",
      "source": [
        "#1- add\n",
        "#2-substract\n",
        "#3-multiple\n",
        "#4-division\n",
        "#5-modlous\n",
        "print('select the operator to perform ')\n",
        "print('1. add')\n",
        "print('2.substract')\n",
        "print('3.multiple')\n",
        "print('4. division')\n",
        "print('5.modlous')\n",
        "\n",
        "operation= input()\n",
        "if operation == '1' :\n",
        "  num1=input('enter value for first')\n",
        "  num2=input ('enter the value of second')\n",
        "  print(int(num1)+int(num2))\n",
        "\n",
        "elif operation == '2':\n",
        "  num1=input('enter value for first')\n",
        "  num2= input('enter value for second')\n",
        "  print(int(num1)-int(num2))\n",
        "\n",
        "elif operation == '3':\n",
        "  num1= input('enter the value of first')\n",
        "  nu2= input('enter the value of second')\n",
        "  print(int(num1) *  int(num2))\n",
        "\n",
        "elif operation=='4':\n",
        "  num1= input('enter the value for first')\n",
        "  num2= input ('enter the value for second ')\n",
        "  print(int(num1)/ int(num2))\n",
        "\n",
        "elif operation =='5':\n",
        "  num1= input('enter the value of first')\n",
        "  num2= input ('enter the value of second')\n",
        "  print(int(num1) % int(num2))\n",
        "\n",
        "else:\n",
        "  print('invalid entry')"
      ],
      "metadata": {
        "colab": {
          "base_uri": "https://localhost:8080/"
        },
        "id": "WfRBWTFz8suK",
        "outputId": "17b52320-a74c-442b-b840-ef09afae59ed"
      },
      "execution_count": null,
      "outputs": [
        {
          "output_type": "stream",
          "name": "stdout",
          "text": [
            "select the operator to perform \n",
            "1. add\n",
            "2.substract\n",
            "3.multiple\n",
            "4. division\n",
            "5.modlous\n",
            "1\n",
            "enter value for first2\n",
            "enter the value of second3\n",
            "5\n"
          ]
        }
      ]
    },
    {
      "cell_type": "code",
      "source": [
        ""
      ],
      "metadata": {
        "id": "uc14FicfOn-1"
      },
      "execution_count": null,
      "outputs": []
    },
    {
      "cell_type": "code",
      "source": [
        ""
      ],
      "metadata": {
        "id": "yYIl214JLWyT"
      },
      "execution_count": null,
      "outputs": []
    },
    {
      "cell_type": "code",
      "source": [
        "\n"
      ],
      "metadata": {
        "id": "pMl5X_0TDqkP"
      },
      "execution_count": null,
      "outputs": []
    }
  ],
  "metadata": {
    "colab": {
      "name": "calculator  .ipynb",
      "provenance": [],
      "collapsed_sections": [],
      "mount_file_id": "15wGNYkS024uN3QhofFOdguQR3xEP-d4q",
      "authorship_tag": "ABX9TyNRtBLLiusF2K7avN/EIfAT",
      "include_colab_link": true
    },
    "kernelspec": {
      "display_name": "Python 3",
      "name": "python3"
    },
    "language_info": {
      "name": "python"
    }
  },
  "nbformat": 4,
  "nbformat_minor": 0
}