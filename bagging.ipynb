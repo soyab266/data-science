{
  "cells": [
    {
      "cell_type": "markdown",
      "metadata": {
        "id": "view-in-github",
        "colab_type": "text"
      },
      "source": [
        "<a href=\"https://colab.research.google.com/github/soyab266/data-science/blob/master/bagging.ipynb\" target=\"_parent\"><img src=\"https://colab.research.google.com/assets/colab-badge.svg\" alt=\"Open In Colab\"/></a>"
      ]
    },
    {
      "cell_type": "code",
      "source": [
        "import pandas as pd\n",
        "import numpy as np\n",
        "from sklearn.datasets import make_classification\n",
        "import seaborn as sns\n",
        "import matplotlib.pyplot as plt\n",
        "from sklearn.preprocessing import LabelEncoder\n",
        "from sklearn.ensemble import BaggingClassifier\n",
        "from sklearn.model_selection import GridSearchCV\n",
        "from sklearn.ensemble import RandomForestClassifier\n",
        "from sklearn.metrics import accuracy_score\n",
        "from sklearn.tree import DecisionTreeClassifier\n",
        "from sklearn.model_selection import train_test_split\n"
      ],
      "metadata": {
        "id": "XyiHIitiKDFp"
      },
      "execution_count": 59,
      "outputs": []
    },
    {
      "cell_type": "code",
      "source": [
        "x,y=make_classification( n_samples=10000,n_features=10,n_informative=3)"
      ],
      "metadata": {
        "id": "4vqWXr6RXaDq"
      },
      "execution_count": 23,
      "outputs": []
    },
    {
      "cell_type": "code",
      "source": [
        "x_train, x_test, y_train, y_test=train_test_split( x, y ,test_size=0.2,random_state=42)"
      ],
      "metadata": {
        "id": "qByJcmO3Xakd"
      },
      "execution_count": 24,
      "outputs": []
    },
    {
      "cell_type": "code",
      "source": [
        "dt=DecisionTreeClassifier( random_state=43)\n",
        "dt.fit(x_train, y_train)\n",
        "y_pred=dt.predict(x_test)\n",
        "accuracy_score(y_test,y_pred)"
      ],
      "metadata": {
        "colab": {
          "base_uri": "https://localhost:8080/"
        },
        "id": "bMe7tSMnXaob",
        "outputId": "85970766-ab33-40d9-c269-3fb3f0a4215f"
      },
      "execution_count": 25,
      "outputs": [
        {
          "output_type": "execute_result",
          "data": {
            "text/plain": [
              "0.9155"
            ]
          },
          "metadata": {},
          "execution_count": 25
        }
      ]
    },
    {
      "cell_type": "markdown",
      "source": [
        "bagging (base estimator means  name of classifier , n_estimators= num of classifier,max_sample= percentage of sample that you will use for TRAINING (roughfly around 25 to 50 percent, booststrap= sampling with replacement (true\n",
        "))"
      ],
      "metadata": {
        "id": "41qSB1XDaGtA"
      }
    },
    {
      "cell_type": "code",
      "source": [
        "bag=BaggingClassifier( base_estimator=DecisionTreeClassifier(),  n_estimators=500,max_samples=0.25,bootstrap=True, random_state=42 )"
      ],
      "metadata": {
        "id": "g26CphLrbKSd"
      },
      "execution_count": 32,
      "outputs": []
    },
    {
      "cell_type": "code",
      "source": [
        "bag.fit(x_train, y_train)\n",
        "y_pred=bag.predict(x_test)\n",
        "accuracy_score(y_test, y_pred)"
      ],
      "metadata": {
        "colab": {
          "base_uri": "https://localhost:8080/"
        },
        "id": "7hST3lKsbKWP",
        "outputId": "ccdfa2d8-0945-418a-d5be-884c8d02f31e"
      },
      "execution_count": 33,
      "outputs": [
        {
          "output_type": "execute_result",
          "data": {
            "text/plain": [
              "0.9425"
            ]
          },
          "metadata": {},
          "execution_count": 33
        }
      ]
    },
    {
      "cell_type": "code",
      "source": [
        "bag.estimators_samples_[0].shape"
      ],
      "metadata": {
        "colab": {
          "base_uri": "https://localhost:8080/"
        },
        "id": "ID1lHLPsbKaq",
        "outputId": "c870819d-37ad-4dc2-d142-6d431ef57fa3"
      },
      "execution_count": 34,
      "outputs": [
        {
          "output_type": "execute_result",
          "data": {
            "text/plain": [
              "(2000,)"
            ]
          },
          "metadata": {},
          "execution_count": 34
        }
      ]
    },
    {
      "cell_type": "code",
      "source": [
        "bag.estimators_features_[0].shape"
      ],
      "metadata": {
        "colab": {
          "base_uri": "https://localhost:8080/"
        },
        "id": "tuYccqL5bKgY",
        "outputId": "78b0337e-4c08-41d0-d744-c08ae3bda60f"
      },
      "execution_count": 35,
      "outputs": [
        {
          "output_type": "execute_result",
          "data": {
            "text/plain": [
              "(10,)"
            ]
          },
          "metadata": {},
          "execution_count": 35
        }
      ]
    },
    {
      "cell_type": "markdown",
      "source": [
        "pasting (different from bagging only in bootstrap = false, i.e. sampling without replacement.)"
      ],
      "metadata": {
        "id": "kDXf7r5ciAIu"
      }
    },
    {
      "cell_type": "code",
      "source": [
        "pas=BaggingClassifier( base_estimator=DecisionTreeClassifier(), n_estimators=500,max_samples=0.25,random_state=42,bootstrap=False,n_jobs=-1, verbose=1)"
      ],
      "metadata": {
        "id": "Ic97gNlJh_DD"
      },
      "execution_count": 37,
      "outputs": []
    },
    {
      "cell_type": "code",
      "source": [
        "pas.fit(x_train, y_train)\n",
        "y_pred=pas.predict(x_test)\n",
        "accuracy_score(y_test, y_pred)"
      ],
      "metadata": {
        "colab": {
          "base_uri": "https://localhost:8080/"
        },
        "id": "K6wxt0jsjSZ5",
        "outputId": "0b07b502-3a68-471e-c5f4-d3d5b3099458"
      },
      "execution_count": 40,
      "outputs": [
        {
          "output_type": "stream",
          "name": "stderr",
          "text": [
            "[Parallel(n_jobs=2)]: Using backend LokyBackend with 2 concurrent workers.\n",
            "[Parallel(n_jobs=2)]: Done   2 out of   2 | elapsed:    8.1s remaining:    0.0s\n",
            "[Parallel(n_jobs=2)]: Done   2 out of   2 | elapsed:    8.1s finished\n",
            "[Parallel(n_jobs=2)]: Using backend LokyBackend with 2 concurrent workers.\n",
            "[Parallel(n_jobs=2)]: Done   2 out of   2 | elapsed:    0.5s remaining:    0.0s\n",
            "[Parallel(n_jobs=2)]: Done   2 out of   2 | elapsed:    0.5s finished\n"
          ]
        },
        {
          "output_type": "execute_result",
          "data": {
            "text/plain": [
              "0.944"
            ]
          },
          "metadata": {},
          "execution_count": 40
        }
      ]
    },
    {
      "cell_type": "markdown",
      "source": [
        "random subspace we use column sampling, with or without replacement."
      ],
      "metadata": {
        "id": "826C4h4kkkO3"
      }
    },
    {
      "cell_type": "code",
      "source": [
        "rans=BaggingClassifier( \n",
        "    base_estimator=DecisionTreeClassifier(), \n",
        "    n_estimators=500,max_samples=1.0, \n",
        "    max_features=0.5,\n",
        "    bootstrap=False,\n",
        "    random_state=42,\n",
        "    bootstrap_features=True)"
      ],
      "metadata": {
        "id": "KTxKvwzChC9m"
      },
      "execution_count": 42,
      "outputs": []
    },
    {
      "cell_type": "code",
      "source": [
        "rans.fit(x_train, y_train)\n",
        "y_pred=rans.predict(x_test)\n",
        "accuracy_score(y_test, y_pred)"
      ],
      "metadata": {
        "colab": {
          "base_uri": "https://localhost:8080/"
        },
        "id": "vall-xPAmBEt",
        "outputId": "6d4aef8e-4bb6-4ed4-bd36-cbe15b4a7ea9"
      },
      "execution_count": 43,
      "outputs": [
        {
          "output_type": "execute_result",
          "data": {
            "text/plain": [
              "0.932"
            ]
          },
          "metadata": {},
          "execution_count": 43
        }
      ]
    },
    {
      "cell_type": "code",
      "source": [
        "rans.estimators_features_[0].shape"
      ],
      "metadata": {
        "colab": {
          "base_uri": "https://localhost:8080/"
        },
        "id": "BxUiaElfmBKR",
        "outputId": "7364eb8b-4115-4781-c4e5-7ae0ab8fb782"
      },
      "execution_count": 47,
      "outputs": [
        {
          "output_type": "execute_result",
          "data": {
            "text/plain": [
              "(5,)"
            ]
          },
          "metadata": {},
          "execution_count": 47
        }
      ]
    },
    {
      "cell_type": "markdown",
      "source": [
        "random patches we do both column and row sampling\n"
      ],
      "metadata": {
        "id": "BJ9B-gJDnTXp"
      }
    },
    {
      "cell_type": "code",
      "source": [
        "ranp=BaggingClassifier(base_estimator=DecisionTreeClassifier(), \n",
        "                       n_estimators=500, \n",
        "                       max_samples=0.25,\n",
        "                       max_features=0.5,\n",
        "                       bootstrap=True,\n",
        "                       random_state=42,\n",
        "                       )"
      ],
      "metadata": {
        "id": "nEa7CDxmnSjI"
      },
      "execution_count": 48,
      "outputs": []
    },
    {
      "cell_type": "code",
      "source": [
        "ranp.fit(x_train, y_train)\n",
        "y_pred=ranp.predict(x_test)\n",
        "accuracy_score(y_test, y_pred)"
      ],
      "metadata": {
        "colab": {
          "base_uri": "https://localhost:8080/"
        },
        "id": "oRdHEvAemBTm",
        "outputId": "cfc74ce7-9961-451b-cfb2-327cec7f5c37"
      },
      "execution_count": 50,
      "outputs": [
        {
          "output_type": "execute_result",
          "data": {
            "text/plain": [
              "0.9355"
            ]
          },
          "metadata": {},
          "execution_count": 50
        }
      ]
    },
    {
      "cell_type": "markdown",
      "source": [
        "oob = out of sample bag(data which didnt used by an classifier due to sampling with replacement = true)"
      ],
      "metadata": {
        "id": "PU9yvUVxp2G_"
      }
    },
    {
      "cell_type": "code",
      "source": [
        "oob=BaggingClassifier( base_estimator=DecisionTreeClassifier(), n_estimators=500,max_samples=0.25,bootstrap=True,oob_score=True, random_state=42)"
      ],
      "metadata": {
        "id": "GuSrl2pnp1Bb"
      },
      "execution_count": 57,
      "outputs": []
    },
    {
      "cell_type": "code",
      "source": [
        "oob.fit(x_train, y_train)\n",
        "y_pred=oob.predict(x_test)\n",
        "accuracy_score(y_test, y_pred)"
      ],
      "metadata": {
        "colab": {
          "base_uri": "https://localhost:8080/"
        },
        "id": "A1nqQ178p1Fs",
        "outputId": "fa5fa5da-d3ca-4e38-c7e0-0c08e175d6a0"
      },
      "execution_count": 58,
      "outputs": [
        {
          "output_type": "execute_result",
          "data": {
            "text/plain": [
              "0.9425"
            ]
          },
          "metadata": {},
          "execution_count": 58
        }
      ]
    },
    {
      "cell_type": "markdown",
      "source": [
        "applying gridsearch cv to get best parameters"
      ],
      "metadata": {
        "id": "JFhIjThntA_s"
      }
    },
    {
      "cell_type": "code",
      "source": [
        "from tables.file import parameters\n",
        "parameters={\n",
        "    'n_estimators': [300],\n",
        "     'max_samples': [0.45],\n",
        "      'bootstrap': [True, False],\n",
        "      'max_features':[ 0.4]\n",
        "}"
      ],
      "metadata": {
        "id": "1rZHw5F8tJZk"
      },
      "execution_count": 95,
      "outputs": []
    },
    {
      "cell_type": "code",
      "source": [
        "gsearch=GridSearchCV(BaggingClassifier(),parameters,cv=5)"
      ],
      "metadata": {
        "id": "vby5lgCltJdq"
      },
      "execution_count": 96,
      "outputs": []
    },
    {
      "cell_type": "code",
      "source": [
        "gsearch.fit(x_train, y_train)\n",
        "y_pred=gsearch.predict(x_test)\n",
        "accuracy_score(y_test, y_pred)"
      ],
      "metadata": {
        "colab": {
          "base_uri": "https://localhost:8080/"
        },
        "id": "bRo6YO8QtJlf",
        "outputId": "a383af6e-c086-44a2-df62-54be96e7dfe3"
      },
      "execution_count": 97,
      "outputs": [
        {
          "output_type": "execute_result",
          "data": {
            "text/plain": [
              "0.929"
            ]
          },
          "metadata": {},
          "execution_count": 97
        }
      ]
    },
    {
      "cell_type": "code",
      "source": [
        "gsearch.best_params_"
      ],
      "metadata": {
        "colab": {
          "base_uri": "https://localhost:8080/"
        },
        "id": "vwlL8iMEtJtO",
        "outputId": "2523a5ae-180c-4004-fa94-da31a82aa42d"
      },
      "execution_count": 98,
      "outputs": [
        {
          "output_type": "execute_result",
          "data": {
            "text/plain": [
              "{'bootstrap': True,\n",
              " 'max_features': 0.4,\n",
              " 'max_samples': 0.45,\n",
              " 'n_estimators': 300}"
            ]
          },
          "metadata": {},
          "execution_count": 98
        }
      ]
    }
  ],
  "metadata": {
    "colab": {
      "collapsed_sections": [],
      "provenance": [],
      "mount_file_id": "15wGNYkS024uN3QhofFOdguQR3xEP-d4q",
      "authorship_tag": "ABX9TyOpmqjk9cIHoSqFfccIeA6u",
      "include_colab_link": true
    },
    "kernelspec": {
      "display_name": "Python 3",
      "name": "python3"
    },
    "language_info": {
      "name": "python"
    }
  },
  "nbformat": 4,
  "nbformat_minor": 0
}