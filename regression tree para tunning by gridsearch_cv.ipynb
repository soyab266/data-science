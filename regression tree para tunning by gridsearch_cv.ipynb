{
  "cells": [
    {
      "cell_type": "markdown",
      "metadata": {
        "id": "view-in-github",
        "colab_type": "text"
      },
      "source": [
        "<a href=\"https://colab.research.google.com/github/soyab266/test/blob/master/regression%20tree%20para%20tunning%20by%20gridsearch_cv.ipynb\" target=\"_parent\"><img src=\"https://colab.research.google.com/assets/colab-badge.svg\" alt=\"Open In Colab\"/></a>"
      ]
    },
    {
      "cell_type": "code",
      "source": [
        "import pandas as pd\n",
        "import numpy as np\n",
        "import matplotlib.pyplot as plt\n",
        "from pandas_datareader import data\n",
        "%matplotlib inline\n",
        "from sklearn.model_selection import train_test_split\n",
        "from sklearn.datasets import load_boston\n",
        "from sklearn.model_selection import GridSearchCV\n",
        "from sklearn import tree\n",
        "from sklearn.tree import DecisionTreeRegressor\n",
        "dtd=DecisionTreeRegressor()\n",
        "\n",
        "from sklearn import metrics\n",
        "from sklearn.metrics import r2_score"
      ],
      "metadata": {
        "id": "kBf6441qGjgy"
      },
      "execution_count": 1,
      "outputs": []
    },
    {
      "cell_type": "code",
      "source": [
        "boston=load_boston()"
      ],
      "metadata": {
        "id": "Ua-wwfPhT69x"
      },
      "execution_count": null,
      "outputs": []
    },
    {
      "cell_type": "code",
      "source": [
        "df=pd.DataFrame(boston.data)"
      ],
      "metadata": {
        "id": "aSwclVMDRMRA"
      },
      "execution_count": 4,
      "outputs": []
    },
    {
      "cell_type": "code",
      "source": [
        "df.columns=boston.feature_names\n"
      ],
      "metadata": {
        "id": "h-kzQzN6y0qh"
      },
      "execution_count": 5,
      "outputs": []
    },
    {
      "cell_type": "code",
      "source": [
        "df['MEDW']=boston.target"
      ],
      "metadata": {
        "id": "zpTTZ-aoy0tp"
      },
      "execution_count": 6,
      "outputs": []
    },
    {
      "cell_type": "code",
      "source": [
        "df.head()"
      ],
      "metadata": {
        "id": "k8KwC09dy0w9"
      },
      "execution_count": null,
      "outputs": []
    },
    {
      "cell_type": "code",
      "source": [
        "x=df.iloc[:,0:13]\n",
        "y=df.iloc[:,13]"
      ],
      "metadata": {
        "id": "7Fz3VbjRy0z1"
      },
      "execution_count": 7,
      "outputs": []
    },
    {
      "cell_type": "code",
      "source": [
        "x_train,x_test,y_train,y_test= train_test_split(x,y,test_size=0.2, random_state=42 )"
      ],
      "metadata": {
        "id": "Onek7MgBy028"
      },
      "execution_count": 8,
      "outputs": []
    },
    {
      "cell_type": "code",
      "source": [
        "from sklearn import tree\n",
        "from sklearn.tree import DecisionTreeRegressor\n",
        "dtd=DecisionTreeRegressor()\n",
        "dts=DecisionTreeRegressor(criterion='mse',max_depth=5,   )\n"
      ],
      "metadata": {
        "id": "yNSvhXVIy050"
      },
      "execution_count": 9,
      "outputs": []
    },
    {
      "cell_type": "code",
      "source": [
        "dts.fit( x_train, y_train)"
      ],
      "metadata": {
        "colab": {
          "base_uri": "https://localhost:8080/"
        },
        "id": "p2iu9ejoy08u",
        "outputId": "e16bdb96-aba1-4ba6-c8ce-f1a9ec436722"
      },
      "execution_count": 10,
      "outputs": [
        {
          "output_type": "stream",
          "name": "stderr",
          "text": [
            "/usr/local/lib/python3.7/dist-packages/sklearn/tree/_classes.py:363: FutureWarning: Criterion 'mse' was deprecated in v1.0 and will be removed in version 1.2. Use `criterion='squared_error'` which is equivalent.\n",
            "  FutureWarning,\n"
          ]
        },
        {
          "output_type": "execute_result",
          "data": {
            "text/plain": [
              "DecisionTreeRegressor(criterion='mse', max_depth=5)"
            ]
          },
          "metadata": {},
          "execution_count": 10
        }
      ]
    },
    {
      "cell_type": "code",
      "source": [
        "y_pred=dts.predict(x_test)"
      ],
      "metadata": {
        "id": "WINpNClnFLsI"
      },
      "execution_count": 11,
      "outputs": []
    },
    {
      "cell_type": "code",
      "source": [
        "r2_score(y_pred, y_test)"
      ],
      "metadata": {
        "colab": {
          "base_uri": "https://localhost:8080/"
        },
        "id": "o_XyCganFLze",
        "outputId": "6b471f65-3e07-4362-c429-f07982bab9c5"
      },
      "execution_count": 12,
      "outputs": [
        {
          "output_type": "execute_result",
          "data": {
            "text/plain": [
              "0.8589039148979485"
            ]
          },
          "metadata": {},
          "execution_count": 12
        }
      ]
    },
    {
      "cell_type": "code",
      "source": [
        "param_grid={\n",
        "    'max_depth':[2,4,5,6,8,9,None],\n",
        "    'criterion':['mse','mae'],\n",
        "    'splitter':['random'],\n",
        "    'max_features':['auto']\n",
        "    \n",
        "    \n",
        "    }"
      ],
      "metadata": {
        "id": "PruYQEBNFL1P"
      },
      "execution_count": 21,
      "outputs": []
    },
    {
      "cell_type": "code",
      "source": [
        "reg=GridSearchCV( DecisionTreeRegressor(), param_grid=param_grid)"
      ],
      "metadata": {
        "id": "5rf6no6PFL37"
      },
      "execution_count": 22,
      "outputs": []
    },
    {
      "cell_type": "code",
      "source": [
        "reg.fit(x_train, y_train)"
      ],
      "metadata": {
        "id": "7D9RRB2bFL6v"
      },
      "execution_count": null,
      "outputs": []
    },
    {
      "cell_type": "code",
      "source": [
        "reg.best_score_"
      ],
      "metadata": {
        "colab": {
          "base_uri": "https://localhost:8080/"
        },
        "id": "Fep_kZGgFL_D",
        "outputId": "605d901c-7d6b-4569-cf3e-67bf39476dff"
      },
      "execution_count": 24,
      "outputs": [
        {
          "output_type": "execute_result",
          "data": {
            "text/plain": [
              "0.7244882791235543"
            ]
          },
          "metadata": {},
          "execution_count": 24
        }
      ]
    },
    {
      "cell_type": "code",
      "source": [
        "reg.best_params_"
      ],
      "metadata": {
        "colab": {
          "base_uri": "https://localhost:8080/"
        },
        "id": "bupcK41U1YvY",
        "outputId": "5590157c-6a33-4863-a341-6eb9469f734c"
      },
      "execution_count": 25,
      "outputs": [
        {
          "output_type": "execute_result",
          "data": {
            "text/plain": [
              "{'criterion': 'mae',\n",
              " 'max_depth': None,\n",
              " 'max_features': 'auto',\n",
              " 'splitter': 'random'}"
            ]
          },
          "metadata": {},
          "execution_count": 25
        }
      ]
    },
    {
      "cell_type": "code",
      "source": [
        "reg.best_estimator_\n",
        "import pandas as pd\n",
        "from pandas_datareader import data\n",
        "import numpy as np\n",
        "from sklearn.tree import DecisionTreeRegressor\n",
        "from sklearn.model_selection import train_test_split\n",
        "from sklearn import metrics\n",
        "from sklearn.metrics import r2_score\n",
        "from sklearn.datasets import load_boston\n",
        "from sklearn.model_selection import GridSearchCV"
      ],
      "metadata": {
        "id": "YnTIYAVr1fnm"
      },
      "execution_count": 32,
      "outputs": []
    },
    {
      "cell_type": "code",
      "source": [
        "# just wanted to know the importance of columns\n",
        "for importance, name in sorted(zip(dts.feature_importances_, x_train.columns),reverse=True):\n",
        "  print (name, importance)\n",
        "  "
      ],
      "metadata": {
        "colab": {
          "base_uri": "https://localhost:8080/"
        },
        "id": "gZiamWBT2G3x",
        "outputId": "f5415a75-4cfc-40d3-e61d-5bd2d8fc835e"
      },
      "execution_count": 35,
      "outputs": [
        {
          "output_type": "stream",
          "name": "stdout",
          "text": [
            "RM 0.6292222501550577\n",
            "LSTAT 0.1942642707592569\n",
            "CRIM 0.07395590730916528\n",
            "DIS 0.07272221949123787\n",
            "B 0.011905660139828134\n",
            "AGE 0.00617612617436653\n",
            "PTRATIO 0.0043910975071285345\n",
            "INDUS 0.0038014280782565596\n",
            "NOX 0.0035610403857025646\n",
            "ZN 0.0\n",
            "TAX 0.0\n",
            "RAD 0.0\n",
            "CHAS 0.0\n"
          ]
        }
      ]
    }
  ],
  "metadata": {
    "colab": {
      "name": "Decision tree tunning by gridsearch cv.ipynb",
      "provenance": [],
      "collapsed_sections": [],
      "mount_file_id": "15wGNYkS024uN3QhofFOdguQR3xEP-d4q",
      "authorship_tag": "ABX9TyMNIsu0md/yNpvQwN7PlfsE",
      "include_colab_link": true
    },
    "kernelspec": {
      "display_name": "Python 3",
      "name": "python3"
    },
    "language_info": {
      "name": "python"
    }
  },
  "nbformat": 4,
  "nbformat_minor": 0
}