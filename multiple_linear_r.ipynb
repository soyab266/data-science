{
  "nbformat": 4,
  "nbformat_minor": 0,
  "metadata": {
    "colab": {
      "provenance": [],
      "authorship_tag": "ABX9TyMprnAaB3ZpfX4SvVMT4BOM",
      "include_colab_link": true
    },
    "kernelspec": {
      "name": "python3",
      "display_name": "Python 3"
    },
    "language_info": {
      "name": "python"
    }
  },
  "cells": [
    {
      "cell_type": "markdown",
      "metadata": {
        "id": "view-in-github",
        "colab_type": "text"
      },
      "source": [
        "<a href=\"https://colab.research.google.com/github/soyab266/data-science/blob/master/multiple_linear_r.ipynb\" target=\"_parent\"><img src=\"https://colab.research.google.com/assets/colab-badge.svg\" alt=\"Open In Colab\"/></a>"
      ]
    },
    {
      "cell_type": "code",
      "execution_count": 13,
      "metadata": {
        "id": "YP_p4QTFKmKK"
      },
      "outputs": [],
      "source": [
        "from numpy.random import test\n",
        "import pandas as pd\n",
        "import numpy as np\n",
        "from sklearn.datasets import make_regression\n",
        "import plotly.express as px\n",
        "import plotly.graph_objects as go\n",
        "from sklearn.metrics import mean_absolute_error,mean_squared_error,r2_score\n",
        "from sklearn.model_selection import train_test_split\n",
        "from sklearn.linear_model import LinearRegression"
      ]
    },
    {
      "cell_type": "code",
      "source": [
        "x,y=make_regression(n_samples=100,n_features=2,n_informative=2,n_targets=1,noise=50)"
      ],
      "metadata": {
        "id": "j_i4gBvKOPKw"
      },
      "execution_count": 2,
      "outputs": []
    },
    {
      "cell_type": "code",
      "source": [
        "x"
      ],
      "metadata": {
        "colab": {
          "base_uri": "https://localhost:8080/"
        },
        "id": "HUge7CqUC2sV",
        "outputId": "4efae4af-26df-4d4b-9d8b-59c3bff9c8d0"
      },
      "execution_count": 3,
      "outputs": [
        {
          "output_type": "execute_result",
          "data": {
            "text/plain": [
              "array([[ 9.29818420e-01, -1.33647807e+00],\n",
              "       [-5.69079987e-01,  3.98485278e-01],\n",
              "       [-1.44815712e+00,  8.73172539e-01],\n",
              "       [-1.44007482e+00,  2.35758883e-01],\n",
              "       [-2.81228755e-01,  1.04605596e+00],\n",
              "       [ 1.54623602e-02, -1.92889467e+00],\n",
              "       [ 1.48978701e+00,  1.27757464e+00],\n",
              "       [-9.04849545e-02, -4.22190006e-02],\n",
              "       [ 7.25146533e-01, -4.53045314e-01],\n",
              "       [-9.98835054e-01, -7.39438252e-01],\n",
              "       [-5.86553756e-01, -1.20244609e+00],\n",
              "       [ 5.93568579e-01,  3.50858851e-01],\n",
              "       [ 5.28765499e-01, -6.25404614e-01],\n",
              "       [ 1.06261535e+00,  1.41514892e+00],\n",
              "       [ 5.25284211e-02, -8.01406020e-02],\n",
              "       [-2.11648502e+00, -2.84754111e-01],\n",
              "       [ 9.52573180e-01,  1.34432498e+00],\n",
              "       [ 7.72942686e-01, -1.21098985e+00],\n",
              "       [-8.91112367e-01, -2.40639290e-01],\n",
              "       [-8.06864301e-01, -4.73159522e-02],\n",
              "       [ 2.52331101e-01, -1.88386383e+00],\n",
              "       [ 1.67739437e+00,  7.55678397e-01],\n",
              "       [ 9.51899253e-04, -1.01129514e+00],\n",
              "       [ 2.96986889e-01,  1.17198600e+00],\n",
              "       [-1.12221649e+00,  1.42845995e-01],\n",
              "       [-5.54126867e-01, -7.82533578e-01],\n",
              "       [-1.02166840e+00, -1.69564475e+00],\n",
              "       [-1.57142919e+00, -6.60102806e-01],\n",
              "       [-8.19186460e-01,  2.47910524e-01],\n",
              "       [-2.70274691e-01,  5.11936444e-01],\n",
              "       [ 4.13339578e-01, -6.49058252e-01],\n",
              "       [ 2.16598344e-01, -4.62499828e-01],\n",
              "       [-1.16317189e-01, -1.75073326e+00],\n",
              "       [-7.58079530e-01,  1.44174382e+00],\n",
              "       [-2.19632776e-01, -1.45038743e+00],\n",
              "       [ 6.41108004e-01,  4.70502645e-01],\n",
              "       [ 9.58860012e-02,  1.21483251e+00],\n",
              "       [ 5.61872187e-01, -1.89219100e-01],\n",
              "       [ 1.25728289e+00,  1.07091071e+00],\n",
              "       [ 1.04096766e+00, -3.68603731e-01],\n",
              "       [ 6.86249691e-01,  9.98885791e-01],\n",
              "       [-7.36129671e-01,  4.79230164e-01],\n",
              "       [ 1.73659173e-02, -4.02909385e-01],\n",
              "       [-4.82171076e-01, -3.63659161e-01],\n",
              "       [-8.51866394e-01,  4.20859379e-01],\n",
              "       [ 4.35744556e-01,  8.18389304e-01],\n",
              "       [-1.75439995e-01,  1.08751143e+00],\n",
              "       [ 9.36644231e-01, -1.25490133e+00],\n",
              "       [ 7.01272863e-01,  1.32803550e+00],\n",
              "       [-1.24338316e+00,  5.95379281e-01],\n",
              "       [ 1.33014328e-01, -8.88299394e-01],\n",
              "       [-1.44805081e-01, -2.37128133e+00],\n",
              "       [ 7.60330589e-01, -2.85995803e-01],\n",
              "       [-7.17742899e-02, -1.07324945e+00],\n",
              "       [ 4.24769686e-01, -4.06426578e-02],\n",
              "       [ 3.04563568e-01, -8.64472949e-01],\n",
              "       [-7.10228473e-01,  3.22363326e-01],\n",
              "       [-8.85665027e-01,  8.40010006e-01],\n",
              "       [-1.69108058e+00,  1.53861104e+00],\n",
              "       [-2.91721669e-01, -4.27487299e-01],\n",
              "       [ 5.76688222e-03,  8.22943106e-01],\n",
              "       [-1.83297919e+00,  5.62281089e-01],\n",
              "       [ 1.65362218e-01, -7.07865330e-02],\n",
              "       [-7.62478741e-01,  5.96160194e-02],\n",
              "       [-6.08272042e-01, -3.86409833e-02],\n",
              "       [ 6.89737957e-01, -1.91264308e-01],\n",
              "       [ 2.48737261e+00, -7.68339598e-01],\n",
              "       [-4.06395902e-02, -1.16565731e+00],\n",
              "       [ 1.80653112e+00,  5.65664951e-01],\n",
              "       [ 1.70898550e+00,  1.42611720e-02],\n",
              "       [-1.09528147e+00,  2.27726889e-01],\n",
              "       [-3.87330929e-01, -1.12218773e+00],\n",
              "       [ 9.97088924e-01,  2.02431872e-01],\n",
              "       [-1.83983593e-01, -1.37962426e+00],\n",
              "       [ 1.19665382e+00, -2.61287172e-01],\n",
              "       [ 9.28667847e-01,  1.10313784e+00],\n",
              "       [-5.27632661e-02,  6.74806165e-01],\n",
              "       [ 3.88607804e-01, -2.16535883e-01],\n",
              "       [-6.80449580e-01, -1.37789727e+00],\n",
              "       [ 1.29294091e+00,  1.56892022e-01],\n",
              "       [ 1.30662877e+00,  1.73366463e-01],\n",
              "       [ 6.23944594e-01, -1.08333863e+00],\n",
              "       [-6.78739810e-01, -5.35847350e-01],\n",
              "       [-1.32014103e+00,  1.07312488e+00],\n",
              "       [-6.99640344e-01, -1.93697275e+00],\n",
              "       [-5.72586113e-01, -7.00779256e-01],\n",
              "       [ 3.85949677e-01,  9.10593646e-01],\n",
              "       [ 4.71274071e-01,  9.92983693e-01],\n",
              "       [-4.05120300e-01, -1.51974380e-01],\n",
              "       [ 1.71447515e+00, -2.59121234e-01],\n",
              "       [-3.54640736e-02,  4.30146213e-01],\n",
              "       [-6.06980860e-01, -7.80142197e-01],\n",
              "       [ 1.13800215e+00,  2.97145675e-01],\n",
              "       [ 6.98754288e-01,  2.52349461e+00],\n",
              "       [-7.20541476e-01, -2.65006297e-01],\n",
              "       [-2.54228384e+00,  4.70023462e-01],\n",
              "       [ 1.25825625e+00, -7.87100307e-01],\n",
              "       [-1.33922396e+00, -7.79993485e-01],\n",
              "       [ 6.51977499e-01,  6.23251483e-01],\n",
              "       [ 4.65698219e-01,  6.00402400e-01]])"
            ]
          },
          "metadata": {},
          "execution_count": 3
        }
      ]
    },
    {
      "cell_type": "code",
      "source": [
        "y"
      ],
      "metadata": {
        "colab": {
          "base_uri": "https://localhost:8080/"
        },
        "id": "svW_vTqAC2uq",
        "outputId": "4cf50c0b-3837-467c-ced1-7896128ca799"
      },
      "execution_count": 4,
      "outputs": [
        {
          "output_type": "execute_result",
          "data": {
            "text/plain": [
              "array([ -35.3530342 ,  -89.15160076, -106.79750112,  -59.38915762,\n",
              "         50.77146859,  -17.47055671,   63.860656  ,   21.24276383,\n",
              "        -33.59084827, -114.2329867 ,   -0.91749859,   51.39649931,\n",
              "         27.36734473,   34.98137656,  -70.65662192, -121.14204931,\n",
              "         40.19338194,    1.07534264, -147.60686251, -106.44716112,\n",
              "         -4.93872602,   -1.095023  ,   47.11398626,   49.61246582,\n",
              "         -8.85324008,  -75.1383954 ,  -55.52302913,  -11.64416681,\n",
              "        -26.15814753,   10.75570834,   -0.25385749,  -24.33028321,\n",
              "          0.93675664,   56.47957134,   27.81771223,   10.16040716,\n",
              "         30.40280709,  -75.72303624,   41.80877526,   42.2032222 ,\n",
              "          6.56979572,  -51.34431243,  -14.67753724,  -54.45690542,\n",
              "        -27.18928505,   54.9668485 ,  -41.00344614,   70.85581609,\n",
              "         10.36536927,   24.29111275,  -12.81370683, -132.2560374 ,\n",
              "         84.36150877,   14.76967942,    3.02364235,   76.62121909,\n",
              "        -11.16311778,  -41.3932583 ,  -92.45392819,   42.33042722,\n",
              "         55.19769317,   15.74511018,   14.16651071,  -14.34887243,\n",
              "          8.05890963,  107.45855505,   75.78016884,  -19.31899249,\n",
              "         59.94337467,   53.31517766,   30.76879431,  -31.20375177,\n",
              "         37.63347865,  -85.4726751 ,   72.93447082,  -79.64507565,\n",
              "         70.5861812 ,  -27.14079503,  -31.874217  ,   81.68073838,\n",
              "         91.66334909,    1.62868496,  -64.3835739 ,   32.21295323,\n",
              "       -139.42108701,   46.3909697 ,   -3.7478473 ,   41.45223097,\n",
              "        -48.77188703,   39.51358617,  -27.17002918,  -48.81815805,\n",
              "         49.86570456,   57.96810392,  -38.77946942,  -84.44127023,\n",
              "          9.08136674, -127.81055593,   33.73018503,   55.53926354])"
            ]
          },
          "metadata": {},
          "execution_count": 4
        }
      ]
    },
    {
      "cell_type": "code",
      "source": [
        "df=pd.DataFrame({'feature1':x[:,0],'feature2':x[:,1],'target':y})"
      ],
      "metadata": {
        "id": "zgbgyuxcC2xW"
      },
      "execution_count": 5,
      "outputs": []
    },
    {
      "cell_type": "code",
      "source": [
        "df.head()"
      ],
      "metadata": {
        "colab": {
          "base_uri": "https://localhost:8080/",
          "height": 206
        },
        "id": "xyMWVWoIC20A",
        "outputId": "1254ffa3-ac1f-408f-b5e1-cc50d731843d"
      },
      "execution_count": 6,
      "outputs": [
        {
          "output_type": "execute_result",
          "data": {
            "text/plain": [
              "   feature1  feature2      target\n",
              "0  0.929818 -1.336478  -35.353034\n",
              "1 -0.569080  0.398485  -89.151601\n",
              "2 -1.448157  0.873173 -106.797501\n",
              "3 -1.440075  0.235759  -59.389158\n",
              "4 -0.281229  1.046056   50.771469"
            ],
            "text/html": [
              "\n",
              "  <div id=\"df-d3f7038f-da5a-4caf-8d01-26cf13e0033c\">\n",
              "    <div class=\"colab-df-container\">\n",
              "      <div>\n",
              "<style scoped>\n",
              "    .dataframe tbody tr th:only-of-type {\n",
              "        vertical-align: middle;\n",
              "    }\n",
              "\n",
              "    .dataframe tbody tr th {\n",
              "        vertical-align: top;\n",
              "    }\n",
              "\n",
              "    .dataframe thead th {\n",
              "        text-align: right;\n",
              "    }\n",
              "</style>\n",
              "<table border=\"1\" class=\"dataframe\">\n",
              "  <thead>\n",
              "    <tr style=\"text-align: right;\">\n",
              "      <th></th>\n",
              "      <th>feature1</th>\n",
              "      <th>feature2</th>\n",
              "      <th>target</th>\n",
              "    </tr>\n",
              "  </thead>\n",
              "  <tbody>\n",
              "    <tr>\n",
              "      <th>0</th>\n",
              "      <td>0.929818</td>\n",
              "      <td>-1.336478</td>\n",
              "      <td>-35.353034</td>\n",
              "    </tr>\n",
              "    <tr>\n",
              "      <th>1</th>\n",
              "      <td>-0.569080</td>\n",
              "      <td>0.398485</td>\n",
              "      <td>-89.151601</td>\n",
              "    </tr>\n",
              "    <tr>\n",
              "      <th>2</th>\n",
              "      <td>-1.448157</td>\n",
              "      <td>0.873173</td>\n",
              "      <td>-106.797501</td>\n",
              "    </tr>\n",
              "    <tr>\n",
              "      <th>3</th>\n",
              "      <td>-1.440075</td>\n",
              "      <td>0.235759</td>\n",
              "      <td>-59.389158</td>\n",
              "    </tr>\n",
              "    <tr>\n",
              "      <th>4</th>\n",
              "      <td>-0.281229</td>\n",
              "      <td>1.046056</td>\n",
              "      <td>50.771469</td>\n",
              "    </tr>\n",
              "  </tbody>\n",
              "</table>\n",
              "</div>\n",
              "      <button class=\"colab-df-convert\" onclick=\"convertToInteractive('df-d3f7038f-da5a-4caf-8d01-26cf13e0033c')\"\n",
              "              title=\"Convert this dataframe to an interactive table.\"\n",
              "              style=\"display:none;\">\n",
              "        \n",
              "  <svg xmlns=\"http://www.w3.org/2000/svg\" height=\"24px\"viewBox=\"0 0 24 24\"\n",
              "       width=\"24px\">\n",
              "    <path d=\"M0 0h24v24H0V0z\" fill=\"none\"/>\n",
              "    <path d=\"M18.56 5.44l.94 2.06.94-2.06 2.06-.94-2.06-.94-.94-2.06-.94 2.06-2.06.94zm-11 1L8.5 8.5l.94-2.06 2.06-.94-2.06-.94L8.5 2.5l-.94 2.06-2.06.94zm10 10l.94 2.06.94-2.06 2.06-.94-2.06-.94-.94-2.06-.94 2.06-2.06.94z\"/><path d=\"M17.41 7.96l-1.37-1.37c-.4-.4-.92-.59-1.43-.59-.52 0-1.04.2-1.43.59L10.3 9.45l-7.72 7.72c-.78.78-.78 2.05 0 2.83L4 21.41c.39.39.9.59 1.41.59.51 0 1.02-.2 1.41-.59l7.78-7.78 2.81-2.81c.8-.78.8-2.07 0-2.86zM5.41 20L4 18.59l7.72-7.72 1.47 1.35L5.41 20z\"/>\n",
              "  </svg>\n",
              "      </button>\n",
              "      \n",
              "  <style>\n",
              "    .colab-df-container {\n",
              "      display:flex;\n",
              "      flex-wrap:wrap;\n",
              "      gap: 12px;\n",
              "    }\n",
              "\n",
              "    .colab-df-convert {\n",
              "      background-color: #E8F0FE;\n",
              "      border: none;\n",
              "      border-radius: 50%;\n",
              "      cursor: pointer;\n",
              "      display: none;\n",
              "      fill: #1967D2;\n",
              "      height: 32px;\n",
              "      padding: 0 0 0 0;\n",
              "      width: 32px;\n",
              "    }\n",
              "\n",
              "    .colab-df-convert:hover {\n",
              "      background-color: #E2EBFA;\n",
              "      box-shadow: 0px 1px 2px rgba(60, 64, 67, 0.3), 0px 1px 3px 1px rgba(60, 64, 67, 0.15);\n",
              "      fill: #174EA6;\n",
              "    }\n",
              "\n",
              "    [theme=dark] .colab-df-convert {\n",
              "      background-color: #3B4455;\n",
              "      fill: #D2E3FC;\n",
              "    }\n",
              "\n",
              "    [theme=dark] .colab-df-convert:hover {\n",
              "      background-color: #434B5C;\n",
              "      box-shadow: 0px 1px 3px 1px rgba(0, 0, 0, 0.15);\n",
              "      filter: drop-shadow(0px 1px 2px rgba(0, 0, 0, 0.3));\n",
              "      fill: #FFFFFF;\n",
              "    }\n",
              "  </style>\n",
              "\n",
              "      <script>\n",
              "        const buttonEl =\n",
              "          document.querySelector('#df-d3f7038f-da5a-4caf-8d01-26cf13e0033c button.colab-df-convert');\n",
              "        buttonEl.style.display =\n",
              "          google.colab.kernel.accessAllowed ? 'block' : 'none';\n",
              "\n",
              "        async function convertToInteractive(key) {\n",
              "          const element = document.querySelector('#df-d3f7038f-da5a-4caf-8d01-26cf13e0033c');\n",
              "          const dataTable =\n",
              "            await google.colab.kernel.invokeFunction('convertToInteractive',\n",
              "                                                     [key], {});\n",
              "          if (!dataTable) return;\n",
              "\n",
              "          const docLinkHtml = 'Like what you see? Visit the ' +\n",
              "            '<a target=\"_blank\" href=https://colab.research.google.com/notebooks/data_table.ipynb>data table notebook</a>'\n",
              "            + ' to learn more about interactive tables.';\n",
              "          element.innerHTML = '';\n",
              "          dataTable['output_type'] = 'display_data';\n",
              "          await google.colab.output.renderOutput(dataTable, element);\n",
              "          const docLink = document.createElement('div');\n",
              "          docLink.innerHTML = docLinkHtml;\n",
              "          element.appendChild(docLink);\n",
              "        }\n",
              "      </script>\n",
              "    </div>\n",
              "  </div>\n",
              "  "
            ]
          },
          "metadata": {},
          "execution_count": 6
        }
      ]
    },
    {
      "cell_type": "code",
      "source": [
        "df.shape"
      ],
      "metadata": {
        "colab": {
          "base_uri": "https://localhost:8080/"
        },
        "id": "ZX98snP8C229",
        "outputId": "9c8c3b66-3390-49f3-c713-6c987ae4dfc1"
      },
      "execution_count": 7,
      "outputs": [
        {
          "output_type": "execute_result",
          "data": {
            "text/plain": [
              "(100, 3)"
            ]
          },
          "metadata": {},
          "execution_count": 7
        }
      ]
    },
    {
      "cell_type": "code",
      "source": [
        "px.scatter_3d(df,x='feature1',y='feature2',z='target')"
      ],
      "metadata": {
        "colab": {
          "base_uri": "https://localhost:8080/",
          "height": 542
        },
        "id": "zZtszVXZC26r",
        "outputId": "f55971db-e726-4be3-ae51-5b29be18c769"
      },
      "execution_count": 12,
      "outputs": [
        {
          "output_type": "display_data",
          "data": {
            "text/html": [
              "<html>\n",
              "<head><meta charset=\"utf-8\" /></head>\n",
              "<body>\n",
              "    <div>            <script src=\"https://cdnjs.cloudflare.com/ajax/libs/mathjax/2.7.5/MathJax.js?config=TeX-AMS-MML_SVG\"></script><script type=\"text/javascript\">if (window.MathJax && window.MathJax.Hub && window.MathJax.Hub.Config) {window.MathJax.Hub.Config({SVG: {font: \"STIX-Web\"}});}</script>                <script type=\"text/javascript\">window.PlotlyConfig = {MathJaxConfig: 'local'};</script>\n",
              "        <script src=\"https://cdn.plot.ly/plotly-2.18.2.min.js\"></script>                <div id=\"1af5bbe4-eaf8-4b41-87b3-8b1fa7d22fca\" class=\"plotly-graph-div\" style=\"height:525px; width:100%;\"></div>            <script type=\"text/javascript\">                                    window.PLOTLYENV=window.PLOTLYENV || {};                                    if (document.getElementById(\"1af5bbe4-eaf8-4b41-87b3-8b1fa7d22fca\")) {                    Plotly.newPlot(                        \"1af5bbe4-eaf8-4b41-87b3-8b1fa7d22fca\",                        [{\"hovertemplate\":\"feature1=%{x}<br>feature2=%{y}<br>target=%{z}<extra></extra>\",\"legendgroup\":\"\",\"marker\":{\"color\":\"#636efa\",\"symbol\":\"circle\"},\"mode\":\"markers\",\"name\":\"\",\"scene\":\"scene\",\"showlegend\":false,\"x\":[0.9298184200665405,-0.569079987215185,-1.4481571199439418,-1.4400748209076784,-0.2812287545355487,0.015462360179734565,1.4897870079121187,-0.0904849545158825,0.7251465325492773,-0.9988350543083899,-0.5865537557096366,0.5935685786000582,0.5287654988793777,1.062615346941034,0.0525284210892793,-2.1164850196570755,0.9525731800049752,0.7729426862215848,-0.8911123670749725,-0.8068643010116283,0.25233110053845503,1.6773943669453888,0.0009518992527154744,0.2969868891483463,-1.1222164934839451,-0.5541268665759553,-1.0216684015373985,-1.5714291945640233,-0.8191864596006252,-0.2702746911634577,0.41333957753970085,0.21659834365576713,-0.11631718874645637,-0.7580795300327194,-0.21963277606256554,0.6411080042999072,0.09588600119725241,0.5618721872973692,1.2572828931815339,1.040967661230689,0.6862496912243536,-0.7361296714700309,0.01736591729343115,-0.48217107565149026,-0.851866394268204,0.4357445558442592,-0.17543999475432098,0.9366442307656369,0.7012728631976696,-1.243383155725168,0.1330143277613687,-0.14480508132095674,0.7603305886987485,-0.07177428988044776,0.42476968583269287,0.3045635681879074,-0.710228472518725,-0.8856650273143308,-1.6910805765999675,-0.2917216690493026,0.005766882221263409,-1.8329791873445611,0.1653622175179959,-0.7624787411272491,-0.6082720421499183,0.6897379569416,2.4873726141999555,-0.040639590161565695,1.8065311239347204,1.7089854997669267,-1.0952814716152959,-0.3873309290895667,0.9970889244341364,-0.18398359270625173,1.1966538187129176,0.9286678465786257,-0.052763266089562375,0.38860780366933184,-0.6804495799452532,1.2929409119855688,1.3066287695770442,0.6239445943153579,-0.6787398101361246,-1.3201410290938753,-0.6996403442029789,-0.5725861134846257,0.38594967710014305,0.4712740712252207,-0.4051202999825727,1.714475149543342,-0.03546407362379182,-0.6069808598059295,1.138002154257399,0.6987542883850303,-0.7205414756845768,-2.5422838402857484,1.2582562486402393,-1.3392239610349195,0.6519774991648486,0.4656982185908824],\"y\":[-1.3364780698774799,0.39848527845977,0.8731725385406703,0.23575888324404026,1.0460559606275888,-1.928894670936942,1.277574635677081,-0.04221900055869796,-0.45304531441669316,-0.7394382516849403,-1.2024460869883942,0.35085885147966983,-0.625404613968691,1.4151489169851936,-0.08014060197397405,-0.2847541111902439,1.3443249839980482,-1.2109898508886936,-0.24063929040926432,-0.04731595223548361,-1.8838638280251765,0.7556783973381702,-1.011295138490119,1.1719860044362902,0.14284599485895738,-0.7825335782589136,-1.6956447468072167,-0.6601028055606312,0.2479105240242726,0.5119364444868214,-0.6490582521501411,-0.4624998279209422,-1.750733256428266,1.4417438168084191,-1.4503874265114571,0.4705026449054483,1.2148325133435232,-0.18921909988033678,1.0709107114309095,-0.36860373082072484,0.9988857905876712,0.4792301641804325,-0.402909384513432,-0.36365916146939614,0.42085937946915986,0.8183893042886343,1.087511429931925,-1.2549013275708067,1.3280355036886682,0.5953792810852642,-0.8882993941871202,-2.3712813270688913,-0.28599580335405506,-1.0732494494221465,-0.04064265778690418,-0.8644729493397622,0.3223633259169602,0.8400100061614072,1.538611035961812,-0.4274872993399974,0.8229431058626524,0.5622810886253278,-0.07078653301315652,0.059616019401214825,-0.03864098329747458,-0.19126430824616114,-0.7683395983713268,-1.16565731292336,0.5656649512404617,0.014261172031260674,0.22772688917230047,-1.1221877267304237,0.20243187199113788,-1.379624261537347,-0.2612871721150728,1.1031378369996694,0.6748061649868592,-0.2165358826643669,-1.3778972729696997,0.15689202184904338,0.17336646254633928,-1.0833386295832326,-0.5358473504517406,1.0731248846335217,-1.9369727466051105,-0.7007792556628326,0.9105936460722384,0.9929836932406174,-0.1519743799355652,-0.25912123377954943,0.430146213196487,-0.7801421966388107,0.2971456753803972,2.523494605535455,-0.2650062967756445,0.47002346221346625,-0.7871003073711206,-0.7799934846289328,0.6232514829126321,0.6004023997949834],\"z\":[-35.35303420496635,-89.15160075970361,-106.79750112170657,-59.389157619492295,50.77146859006494,-17.47055670982494,63.86065599995402,21.242763834115493,-33.59084826657944,-114.23298670402235,-0.9174985899676926,51.396499313769596,27.367344727017517,34.98137655888793,-70.65662192355892,-121.14204930714419,40.19338193595956,1.0753426390398841,-147.606862514385,-106.44716112067873,-4.938726021470885,-1.0950230029887678,47.113986261863936,49.61246581513666,-8.853240075626669,-75.13839539747495,-55.52302912791781,-11.644166807663836,-26.158147529553005,10.755708335537683,-0.25385749435940363,-24.33028321218336,0.9367566420938971,56.47957134070887,27.817712232390452,10.160407161653605,30.402807089501206,-75.7230362363718,41.80877525500882,42.20322220214851,6.56979571887701,-51.344312431132785,-14.677537242789743,-54.456905422212344,-27.18928505139341,54.966848501422675,-41.00344613863621,70.85581609076067,10.36536926623667,24.291112752560302,-12.813706832732741,-132.25603740275747,84.36150877115062,14.76967942401724,3.0236423464909947,76.62121908551516,-11.163117784871456,-41.393258297472826,-92.45392819362121,42.33042721705043,55.19769316736006,15.745110179430718,14.166510706589984,-14.348872425784903,8.058909633108133,107.45855505165544,75.78016883824006,-19.318992488120728,59.943374672446105,53.315177664954284,30.7687943056024,-31.20375176854447,37.6334786529001,-85.47267509840647,72.9344708181566,-79.64507564841088,70.58618120098141,-27.140795033033307,-31.87421700053387,81.68073838466964,91.66334909151689,1.6286849612316792,-64.3835738950022,32.21295322807214,-139.42108701438525,46.390969703782034,-3.7478473015135414,41.45223097177616,-48.771887026094724,39.51358616685794,-27.170029175059675,-48.818158045049756,49.86570456056166,57.96810391528975,-38.77946941762825,-84.44127023424166,9.081366742608829,-127.81055593133797,33.73018502869012,55.53926354114337],\"type\":\"scatter3d\"}],                        {\"template\":{\"data\":{\"histogram2dcontour\":[{\"type\":\"histogram2dcontour\",\"colorbar\":{\"outlinewidth\":0,\"ticks\":\"\"},\"colorscale\":[[0.0,\"#0d0887\"],[0.1111111111111111,\"#46039f\"],[0.2222222222222222,\"#7201a8\"],[0.3333333333333333,\"#9c179e\"],[0.4444444444444444,\"#bd3786\"],[0.5555555555555556,\"#d8576b\"],[0.6666666666666666,\"#ed7953\"],[0.7777777777777778,\"#fb9f3a\"],[0.8888888888888888,\"#fdca26\"],[1.0,\"#f0f921\"]]}],\"choropleth\":[{\"type\":\"choropleth\",\"colorbar\":{\"outlinewidth\":0,\"ticks\":\"\"}}],\"histogram2d\":[{\"type\":\"histogram2d\",\"colorbar\":{\"outlinewidth\":0,\"ticks\":\"\"},\"colorscale\":[[0.0,\"#0d0887\"],[0.1111111111111111,\"#46039f\"],[0.2222222222222222,\"#7201a8\"],[0.3333333333333333,\"#9c179e\"],[0.4444444444444444,\"#bd3786\"],[0.5555555555555556,\"#d8576b\"],[0.6666666666666666,\"#ed7953\"],[0.7777777777777778,\"#fb9f3a\"],[0.8888888888888888,\"#fdca26\"],[1.0,\"#f0f921\"]]}],\"heatmap\":[{\"type\":\"heatmap\",\"colorbar\":{\"outlinewidth\":0,\"ticks\":\"\"},\"colorscale\":[[0.0,\"#0d0887\"],[0.1111111111111111,\"#46039f\"],[0.2222222222222222,\"#7201a8\"],[0.3333333333333333,\"#9c179e\"],[0.4444444444444444,\"#bd3786\"],[0.5555555555555556,\"#d8576b\"],[0.6666666666666666,\"#ed7953\"],[0.7777777777777778,\"#fb9f3a\"],[0.8888888888888888,\"#fdca26\"],[1.0,\"#f0f921\"]]}],\"heatmapgl\":[{\"type\":\"heatmapgl\",\"colorbar\":{\"outlinewidth\":0,\"ticks\":\"\"},\"colorscale\":[[0.0,\"#0d0887\"],[0.1111111111111111,\"#46039f\"],[0.2222222222222222,\"#7201a8\"],[0.3333333333333333,\"#9c179e\"],[0.4444444444444444,\"#bd3786\"],[0.5555555555555556,\"#d8576b\"],[0.6666666666666666,\"#ed7953\"],[0.7777777777777778,\"#fb9f3a\"],[0.8888888888888888,\"#fdca26\"],[1.0,\"#f0f921\"]]}],\"contourcarpet\":[{\"type\":\"contourcarpet\",\"colorbar\":{\"outlinewidth\":0,\"ticks\":\"\"}}],\"contour\":[{\"type\":\"contour\",\"colorbar\":{\"outlinewidth\":0,\"ticks\":\"\"},\"colorscale\":[[0.0,\"#0d0887\"],[0.1111111111111111,\"#46039f\"],[0.2222222222222222,\"#7201a8\"],[0.3333333333333333,\"#9c179e\"],[0.4444444444444444,\"#bd3786\"],[0.5555555555555556,\"#d8576b\"],[0.6666666666666666,\"#ed7953\"],[0.7777777777777778,\"#fb9f3a\"],[0.8888888888888888,\"#fdca26\"],[1.0,\"#f0f921\"]]}],\"surface\":[{\"type\":\"surface\",\"colorbar\":{\"outlinewidth\":0,\"ticks\":\"\"},\"colorscale\":[[0.0,\"#0d0887\"],[0.1111111111111111,\"#46039f\"],[0.2222222222222222,\"#7201a8\"],[0.3333333333333333,\"#9c179e\"],[0.4444444444444444,\"#bd3786\"],[0.5555555555555556,\"#d8576b\"],[0.6666666666666666,\"#ed7953\"],[0.7777777777777778,\"#fb9f3a\"],[0.8888888888888888,\"#fdca26\"],[1.0,\"#f0f921\"]]}],\"mesh3d\":[{\"type\":\"mesh3d\",\"colorbar\":{\"outlinewidth\":0,\"ticks\":\"\"}}],\"scatter\":[{\"fillpattern\":{\"fillmode\":\"overlay\",\"size\":10,\"solidity\":0.2},\"type\":\"scatter\"}],\"parcoords\":[{\"type\":\"parcoords\",\"line\":{\"colorbar\":{\"outlinewidth\":0,\"ticks\":\"\"}}}],\"scatterpolargl\":[{\"type\":\"scatterpolargl\",\"marker\":{\"colorbar\":{\"outlinewidth\":0,\"ticks\":\"\"}}}],\"bar\":[{\"error_x\":{\"color\":\"#2a3f5f\"},\"error_y\":{\"color\":\"#2a3f5f\"},\"marker\":{\"line\":{\"color\":\"#E5ECF6\",\"width\":0.5},\"pattern\":{\"fillmode\":\"overlay\",\"size\":10,\"solidity\":0.2}},\"type\":\"bar\"}],\"scattergeo\":[{\"type\":\"scattergeo\",\"marker\":{\"colorbar\":{\"outlinewidth\":0,\"ticks\":\"\"}}}],\"scatterpolar\":[{\"type\":\"scatterpolar\",\"marker\":{\"colorbar\":{\"outlinewidth\":0,\"ticks\":\"\"}}}],\"histogram\":[{\"marker\":{\"pattern\":{\"fillmode\":\"overlay\",\"size\":10,\"solidity\":0.2}},\"type\":\"histogram\"}],\"scattergl\":[{\"type\":\"scattergl\",\"marker\":{\"colorbar\":{\"outlinewidth\":0,\"ticks\":\"\"}}}],\"scatter3d\":[{\"type\":\"scatter3d\",\"line\":{\"colorbar\":{\"outlinewidth\":0,\"ticks\":\"\"}},\"marker\":{\"colorbar\":{\"outlinewidth\":0,\"ticks\":\"\"}}}],\"scattermapbox\":[{\"type\":\"scattermapbox\",\"marker\":{\"colorbar\":{\"outlinewidth\":0,\"ticks\":\"\"}}}],\"scatterternary\":[{\"type\":\"scatterternary\",\"marker\":{\"colorbar\":{\"outlinewidth\":0,\"ticks\":\"\"}}}],\"scattercarpet\":[{\"type\":\"scattercarpet\",\"marker\":{\"colorbar\":{\"outlinewidth\":0,\"ticks\":\"\"}}}],\"carpet\":[{\"aaxis\":{\"endlinecolor\":\"#2a3f5f\",\"gridcolor\":\"white\",\"linecolor\":\"white\",\"minorgridcolor\":\"white\",\"startlinecolor\":\"#2a3f5f\"},\"baxis\":{\"endlinecolor\":\"#2a3f5f\",\"gridcolor\":\"white\",\"linecolor\":\"white\",\"minorgridcolor\":\"white\",\"startlinecolor\":\"#2a3f5f\"},\"type\":\"carpet\"}],\"table\":[{\"cells\":{\"fill\":{\"color\":\"#EBF0F8\"},\"line\":{\"color\":\"white\"}},\"header\":{\"fill\":{\"color\":\"#C8D4E3\"},\"line\":{\"color\":\"white\"}},\"type\":\"table\"}],\"barpolar\":[{\"marker\":{\"line\":{\"color\":\"#E5ECF6\",\"width\":0.5},\"pattern\":{\"fillmode\":\"overlay\",\"size\":10,\"solidity\":0.2}},\"type\":\"barpolar\"}],\"pie\":[{\"automargin\":true,\"type\":\"pie\"}]},\"layout\":{\"autotypenumbers\":\"strict\",\"colorway\":[\"#636efa\",\"#EF553B\",\"#00cc96\",\"#ab63fa\",\"#FFA15A\",\"#19d3f3\",\"#FF6692\",\"#B6E880\",\"#FF97FF\",\"#FECB52\"],\"font\":{\"color\":\"#2a3f5f\"},\"hovermode\":\"closest\",\"hoverlabel\":{\"align\":\"left\"},\"paper_bgcolor\":\"white\",\"plot_bgcolor\":\"#E5ECF6\",\"polar\":{\"bgcolor\":\"#E5ECF6\",\"angularaxis\":{\"gridcolor\":\"white\",\"linecolor\":\"white\",\"ticks\":\"\"},\"radialaxis\":{\"gridcolor\":\"white\",\"linecolor\":\"white\",\"ticks\":\"\"}},\"ternary\":{\"bgcolor\":\"#E5ECF6\",\"aaxis\":{\"gridcolor\":\"white\",\"linecolor\":\"white\",\"ticks\":\"\"},\"baxis\":{\"gridcolor\":\"white\",\"linecolor\":\"white\",\"ticks\":\"\"},\"caxis\":{\"gridcolor\":\"white\",\"linecolor\":\"white\",\"ticks\":\"\"}},\"coloraxis\":{\"colorbar\":{\"outlinewidth\":0,\"ticks\":\"\"}},\"colorscale\":{\"sequential\":[[0.0,\"#0d0887\"],[0.1111111111111111,\"#46039f\"],[0.2222222222222222,\"#7201a8\"],[0.3333333333333333,\"#9c179e\"],[0.4444444444444444,\"#bd3786\"],[0.5555555555555556,\"#d8576b\"],[0.6666666666666666,\"#ed7953\"],[0.7777777777777778,\"#fb9f3a\"],[0.8888888888888888,\"#fdca26\"],[1.0,\"#f0f921\"]],\"sequentialminus\":[[0.0,\"#0d0887\"],[0.1111111111111111,\"#46039f\"],[0.2222222222222222,\"#7201a8\"],[0.3333333333333333,\"#9c179e\"],[0.4444444444444444,\"#bd3786\"],[0.5555555555555556,\"#d8576b\"],[0.6666666666666666,\"#ed7953\"],[0.7777777777777778,\"#fb9f3a\"],[0.8888888888888888,\"#fdca26\"],[1.0,\"#f0f921\"]],\"diverging\":[[0,\"#8e0152\"],[0.1,\"#c51b7d\"],[0.2,\"#de77ae\"],[0.3,\"#f1b6da\"],[0.4,\"#fde0ef\"],[0.5,\"#f7f7f7\"],[0.6,\"#e6f5d0\"],[0.7,\"#b8e186\"],[0.8,\"#7fbc41\"],[0.9,\"#4d9221\"],[1,\"#276419\"]]},\"xaxis\":{\"gridcolor\":\"white\",\"linecolor\":\"white\",\"ticks\":\"\",\"title\":{\"standoff\":15},\"zerolinecolor\":\"white\",\"automargin\":true,\"zerolinewidth\":2},\"yaxis\":{\"gridcolor\":\"white\",\"linecolor\":\"white\",\"ticks\":\"\",\"title\":{\"standoff\":15},\"zerolinecolor\":\"white\",\"automargin\":true,\"zerolinewidth\":2},\"scene\":{\"xaxis\":{\"backgroundcolor\":\"#E5ECF6\",\"gridcolor\":\"white\",\"linecolor\":\"white\",\"showbackground\":true,\"ticks\":\"\",\"zerolinecolor\":\"white\",\"gridwidth\":2},\"yaxis\":{\"backgroundcolor\":\"#E5ECF6\",\"gridcolor\":\"white\",\"linecolor\":\"white\",\"showbackground\":true,\"ticks\":\"\",\"zerolinecolor\":\"white\",\"gridwidth\":2},\"zaxis\":{\"backgroundcolor\":\"#E5ECF6\",\"gridcolor\":\"white\",\"linecolor\":\"white\",\"showbackground\":true,\"ticks\":\"\",\"zerolinecolor\":\"white\",\"gridwidth\":2}},\"shapedefaults\":{\"line\":{\"color\":\"#2a3f5f\"}},\"annotationdefaults\":{\"arrowcolor\":\"#2a3f5f\",\"arrowhead\":0,\"arrowwidth\":1},\"geo\":{\"bgcolor\":\"white\",\"landcolor\":\"#E5ECF6\",\"subunitcolor\":\"white\",\"showland\":true,\"showlakes\":true,\"lakecolor\":\"white\"},\"title\":{\"x\":0.05},\"mapbox\":{\"style\":\"light\"}}},\"scene\":{\"domain\":{\"x\":[0.0,1.0],\"y\":[0.0,1.0]},\"xaxis\":{\"title\":{\"text\":\"feature1\"}},\"yaxis\":{\"title\":{\"text\":\"feature2\"}},\"zaxis\":{\"title\":{\"text\":\"target\"}}},\"legend\":{\"tracegroupgap\":0},\"margin\":{\"t\":60}},                        {\"responsive\": true}                    ).then(function(){\n",
              "                            \n",
              "var gd = document.getElementById('1af5bbe4-eaf8-4b41-87b3-8b1fa7d22fca');\n",
              "var x = new MutationObserver(function (mutations, observer) {{\n",
              "        var display = window.getComputedStyle(gd).display;\n",
              "        if (!display || display === 'none') {{\n",
              "            console.log([gd, 'removed!']);\n",
              "            Plotly.purge(gd);\n",
              "            observer.disconnect();\n",
              "        }}\n",
              "}});\n",
              "\n",
              "// Listen for the removal of the full notebook cells\n",
              "var notebookContainer = gd.closest('#notebook-container');\n",
              "if (notebookContainer) {{\n",
              "    x.observe(notebookContainer, {childList: true});\n",
              "}}\n",
              "\n",
              "// Listen for the clearing of the current output cell\n",
              "var outputEl = gd.closest('.output');\n",
              "if (outputEl) {{\n",
              "    x.observe(outputEl, {childList: true});\n",
              "}}\n",
              "\n",
              "                        })                };                            </script>        </div>\n",
              "</body>\n",
              "</html>"
            ]
          },
          "metadata": {}
        }
      ]
    },
    {
      "cell_type": "code",
      "source": [
        "x_train,x_test,y_train, y_test=train_test_split(x,y,test_size=0.2,random_state=3)"
      ],
      "metadata": {
        "id": "LxA5MX9nC8rr"
      },
      "execution_count": 22,
      "outputs": []
    },
    {
      "cell_type": "code",
      "source": [
        "lr=LinearRegression()\n",
        "lr.fit(x_train, y_train)"
      ],
      "metadata": {
        "colab": {
          "base_uri": "https://localhost:8080/",
          "height": 75
        },
        "id": "UrV01eCmC800",
        "outputId": "4cb79406-dd59-4de8-8b55-433c2ebb1783"
      },
      "execution_count": 23,
      "outputs": [
        {
          "output_type": "execute_result",
          "data": {
            "text/plain": [
              "LinearRegression()"
            ],
            "text/html": [
              "<style>#sk-container-id-2 {color: black;background-color: white;}#sk-container-id-2 pre{padding: 0;}#sk-container-id-2 div.sk-toggleable {background-color: white;}#sk-container-id-2 label.sk-toggleable__label {cursor: pointer;display: block;width: 100%;margin-bottom: 0;padding: 0.3em;box-sizing: border-box;text-align: center;}#sk-container-id-2 label.sk-toggleable__label-arrow:before {content: \"▸\";float: left;margin-right: 0.25em;color: #696969;}#sk-container-id-2 label.sk-toggleable__label-arrow:hover:before {color: black;}#sk-container-id-2 div.sk-estimator:hover label.sk-toggleable__label-arrow:before {color: black;}#sk-container-id-2 div.sk-toggleable__content {max-height: 0;max-width: 0;overflow: hidden;text-align: left;background-color: #f0f8ff;}#sk-container-id-2 div.sk-toggleable__content pre {margin: 0.2em;color: black;border-radius: 0.25em;background-color: #f0f8ff;}#sk-container-id-2 input.sk-toggleable__control:checked~div.sk-toggleable__content {max-height: 200px;max-width: 100%;overflow: auto;}#sk-container-id-2 input.sk-toggleable__control:checked~label.sk-toggleable__label-arrow:before {content: \"▾\";}#sk-container-id-2 div.sk-estimator input.sk-toggleable__control:checked~label.sk-toggleable__label {background-color: #d4ebff;}#sk-container-id-2 div.sk-label input.sk-toggleable__control:checked~label.sk-toggleable__label {background-color: #d4ebff;}#sk-container-id-2 input.sk-hidden--visually {border: 0;clip: rect(1px 1px 1px 1px);clip: rect(1px, 1px, 1px, 1px);height: 1px;margin: -1px;overflow: hidden;padding: 0;position: absolute;width: 1px;}#sk-container-id-2 div.sk-estimator {font-family: monospace;background-color: #f0f8ff;border: 1px dotted black;border-radius: 0.25em;box-sizing: border-box;margin-bottom: 0.5em;}#sk-container-id-2 div.sk-estimator:hover {background-color: #d4ebff;}#sk-container-id-2 div.sk-parallel-item::after {content: \"\";width: 100%;border-bottom: 1px solid gray;flex-grow: 1;}#sk-container-id-2 div.sk-label:hover label.sk-toggleable__label {background-color: #d4ebff;}#sk-container-id-2 div.sk-serial::before {content: \"\";position: absolute;border-left: 1px solid gray;box-sizing: border-box;top: 0;bottom: 0;left: 50%;z-index: 0;}#sk-container-id-2 div.sk-serial {display: flex;flex-direction: column;align-items: center;background-color: white;padding-right: 0.2em;padding-left: 0.2em;position: relative;}#sk-container-id-2 div.sk-item {position: relative;z-index: 1;}#sk-container-id-2 div.sk-parallel {display: flex;align-items: stretch;justify-content: center;background-color: white;position: relative;}#sk-container-id-2 div.sk-item::before, #sk-container-id-2 div.sk-parallel-item::before {content: \"\";position: absolute;border-left: 1px solid gray;box-sizing: border-box;top: 0;bottom: 0;left: 50%;z-index: -1;}#sk-container-id-2 div.sk-parallel-item {display: flex;flex-direction: column;z-index: 1;position: relative;background-color: white;}#sk-container-id-2 div.sk-parallel-item:first-child::after {align-self: flex-end;width: 50%;}#sk-container-id-2 div.sk-parallel-item:last-child::after {align-self: flex-start;width: 50%;}#sk-container-id-2 div.sk-parallel-item:only-child::after {width: 0;}#sk-container-id-2 div.sk-dashed-wrapped {border: 1px dashed gray;margin: 0 0.4em 0.5em 0.4em;box-sizing: border-box;padding-bottom: 0.4em;background-color: white;}#sk-container-id-2 div.sk-label label {font-family: monospace;font-weight: bold;display: inline-block;line-height: 1.2em;}#sk-container-id-2 div.sk-label-container {text-align: center;}#sk-container-id-2 div.sk-container {/* jupyter's `normalize.less` sets `[hidden] { display: none; }` but bootstrap.min.css set `[hidden] { display: none !important; }` so we also need the `!important` here to be able to override the default hidden behavior on the sphinx rendered scikit-learn.org. See: https://github.com/scikit-learn/scikit-learn/issues/21755 */display: inline-block !important;position: relative;}#sk-container-id-2 div.sk-text-repr-fallback {display: none;}</style><div id=\"sk-container-id-2\" class=\"sk-top-container\"><div class=\"sk-text-repr-fallback\"><pre>LinearRegression()</pre><b>In a Jupyter environment, please rerun this cell to show the HTML representation or trust the notebook. <br />On GitHub, the HTML representation is unable to render, please try loading this page with nbviewer.org.</b></div><div class=\"sk-container\" hidden><div class=\"sk-item\"><div class=\"sk-estimator sk-toggleable\"><input class=\"sk-toggleable__control sk-hidden--visually\" id=\"sk-estimator-id-2\" type=\"checkbox\" checked><label for=\"sk-estimator-id-2\" class=\"sk-toggleable__label sk-toggleable__label-arrow\">LinearRegression</label><div class=\"sk-toggleable__content\"><pre>LinearRegression()</pre></div></div></div></div></div>"
            ]
          },
          "metadata": {},
          "execution_count": 23
        }
      ]
    },
    {
      "cell_type": "code",
      "source": [
        "y_pred=lr.predict(x_test)"
      ],
      "metadata": {
        "id": "oLyJc5TBC9AG"
      },
      "execution_count": 24,
      "outputs": []
    },
    {
      "cell_type": "code",
      "source": [
        "mean_absolute_error(y_test,y_pred)"
      ],
      "metadata": {
        "colab": {
          "base_uri": "https://localhost:8080/"
        },
        "id": "bdTuR5lYC9FH",
        "outputId": "de85a3eb-167e-49d3-8a9f-6842ae26382c"
      },
      "execution_count": 25,
      "outputs": [
        {
          "output_type": "execute_result",
          "data": {
            "text/plain": [
              "36.06348747823666"
            ]
          },
          "metadata": {},
          "execution_count": 25
        }
      ]
    },
    {
      "cell_type": "code",
      "source": [
        "mean_squared_error(y_test,y_pred)"
      ],
      "metadata": {
        "colab": {
          "base_uri": "https://localhost:8080/"
        },
        "id": "j4EiPheaC9KE",
        "outputId": "122c82c1-5b36-41f4-e456-fc17c92e391f"
      },
      "execution_count": 26,
      "outputs": [
        {
          "output_type": "execute_result",
          "data": {
            "text/plain": [
              "2257.699045939009"
            ]
          },
          "metadata": {},
          "execution_count": 26
        }
      ]
    },
    {
      "cell_type": "code",
      "source": [
        "r2_score(y_test,y_pred)"
      ],
      "metadata": {
        "colab": {
          "base_uri": "https://localhost:8080/"
        },
        "id": "fHWJC0igFNUZ",
        "outputId": "68deec4e-d82a-4dc5-803a-01baeb4e4353"
      },
      "execution_count": 27,
      "outputs": [
        {
          "output_type": "execute_result",
          "data": {
            "text/plain": [
              "0.4054800305732428"
            ]
          },
          "metadata": {},
          "execution_count": 27
        }
      ]
    },
    {
      "cell_type": "code",
      "source": [
        "lr.coef_"
      ],
      "metadata": {
        "colab": {
          "base_uri": "https://localhost:8080/"
        },
        "id": "e3fuO9YIMn6w",
        "outputId": "33d2729b-8d94-4ba5-8fd7-3cd6e3d036b7"
      },
      "execution_count": 53,
      "outputs": [
        {
          "output_type": "execute_result",
          "data": {
            "text/plain": [
              "array([34.72157795, 14.17367806])"
            ]
          },
          "metadata": {},
          "execution_count": 53
        }
      ]
    },
    {
      "cell_type": "code",
      "source": [
        "lr.intercept_"
      ],
      "metadata": {
        "colab": {
          "base_uri": "https://localhost:8080/"
        },
        "id": "xQ95jc2yMoF0",
        "outputId": "104eb60b-2ba2-4f1c-ca9d-2ab9ee21b2e7"
      },
      "execution_count": 54,
      "outputs": [
        {
          "output_type": "execute_result",
          "data": {
            "text/plain": [
              "-1.6465149027062147"
            ]
          },
          "metadata": {},
          "execution_count": 54
        }
      ]
    }
  ]
}