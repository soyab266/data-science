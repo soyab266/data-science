{
  "cells": [
    {
      "cell_type": "markdown",
      "metadata": {
        "id": "view-in-github",
        "colab_type": "text"
      },
      "source": [
        "<a href=\"https://colab.research.google.com/github/soyab266/data-science/blob/master/feature_importance_by_random_forest.ipynb\" target=\"_parent\"><img src=\"https://colab.research.google.com/assets/colab-badge.svg\" alt=\"Open In Colab\"/></a>"
      ]
    },
    {
      "cell_type": "code",
      "execution_count": 1,
      "metadata": {
        "id": "89ONI-gcC8Ym"
      },
      "outputs": [],
      "source": [
        "import pandas as pd\n",
        "import pandas as pd\n",
        "import numpy as np\n",
        "import seaborn as sns\n",
        "import matplotlib.pyplot as plt\n",
        "import plotly.express as px\n",
        "from sklearn.model_selection import train_test_split\n",
        "#! pip install https://github.com/pandas-profiling/pandas-profiling/archive/master.zip"
      ]
    },
    {
      "cell_type": "code",
      "execution_count": 2,
      "metadata": {
        "id": "cHACXAKFC8fe"
      },
      "outputs": [],
      "source": [
        "df=pd.read_csv('/content/heart.csv')"
      ]
    },
    {
      "cell_type": "code",
      "source": [
        "df.head()"
      ],
      "metadata": {
        "id": "7HjpiUbQx7tB",
        "colab": {
          "base_uri": "https://localhost:8080/",
          "height": 206
        },
        "outputId": "7fa0ecbf-a946-4378-c90e-fa4e91c790ab"
      },
      "execution_count": 3,
      "outputs": [
        {
          "output_type": "execute_result",
          "data": {
            "text/plain": [
              "   age  sex  cp  trestbps  chol  fbs  restecg  thalach  exang  oldpeak  slope  \\\n",
              "0   52    1   0       125   212    0        1      168      0      1.0      2   \n",
              "1   53    1   0       140   203    1        0      155      1      3.1      0   \n",
              "2   70    1   0       145   174    0        1      125      1      2.6      0   \n",
              "3   61    1   0       148   203    0        1      161      0      0.0      2   \n",
              "4   62    0   0       138   294    1        1      106      0      1.9      1   \n",
              "\n",
              "   ca  thal  target  \n",
              "0   2     3       0  \n",
              "1   0     3       0  \n",
              "2   0     3       0  \n",
              "3   1     3       0  \n",
              "4   3     2       0  "
            ],
            "text/html": [
              "\n",
              "  <div id=\"df-c600a810-fe6d-474b-b623-8808f11f643e\">\n",
              "    <div class=\"colab-df-container\">\n",
              "      <div>\n",
              "<style scoped>\n",
              "    .dataframe tbody tr th:only-of-type {\n",
              "        vertical-align: middle;\n",
              "    }\n",
              "\n",
              "    .dataframe tbody tr th {\n",
              "        vertical-align: top;\n",
              "    }\n",
              "\n",
              "    .dataframe thead th {\n",
              "        text-align: right;\n",
              "    }\n",
              "</style>\n",
              "<table border=\"1\" class=\"dataframe\">\n",
              "  <thead>\n",
              "    <tr style=\"text-align: right;\">\n",
              "      <th></th>\n",
              "      <th>age</th>\n",
              "      <th>sex</th>\n",
              "      <th>cp</th>\n",
              "      <th>trestbps</th>\n",
              "      <th>chol</th>\n",
              "      <th>fbs</th>\n",
              "      <th>restecg</th>\n",
              "      <th>thalach</th>\n",
              "      <th>exang</th>\n",
              "      <th>oldpeak</th>\n",
              "      <th>slope</th>\n",
              "      <th>ca</th>\n",
              "      <th>thal</th>\n",
              "      <th>target</th>\n",
              "    </tr>\n",
              "  </thead>\n",
              "  <tbody>\n",
              "    <tr>\n",
              "      <th>0</th>\n",
              "      <td>52</td>\n",
              "      <td>1</td>\n",
              "      <td>0</td>\n",
              "      <td>125</td>\n",
              "      <td>212</td>\n",
              "      <td>0</td>\n",
              "      <td>1</td>\n",
              "      <td>168</td>\n",
              "      <td>0</td>\n",
              "      <td>1.0</td>\n",
              "      <td>2</td>\n",
              "      <td>2</td>\n",
              "      <td>3</td>\n",
              "      <td>0</td>\n",
              "    </tr>\n",
              "    <tr>\n",
              "      <th>1</th>\n",
              "      <td>53</td>\n",
              "      <td>1</td>\n",
              "      <td>0</td>\n",
              "      <td>140</td>\n",
              "      <td>203</td>\n",
              "      <td>1</td>\n",
              "      <td>0</td>\n",
              "      <td>155</td>\n",
              "      <td>1</td>\n",
              "      <td>3.1</td>\n",
              "      <td>0</td>\n",
              "      <td>0</td>\n",
              "      <td>3</td>\n",
              "      <td>0</td>\n",
              "    </tr>\n",
              "    <tr>\n",
              "      <th>2</th>\n",
              "      <td>70</td>\n",
              "      <td>1</td>\n",
              "      <td>0</td>\n",
              "      <td>145</td>\n",
              "      <td>174</td>\n",
              "      <td>0</td>\n",
              "      <td>1</td>\n",
              "      <td>125</td>\n",
              "      <td>1</td>\n",
              "      <td>2.6</td>\n",
              "      <td>0</td>\n",
              "      <td>0</td>\n",
              "      <td>3</td>\n",
              "      <td>0</td>\n",
              "    </tr>\n",
              "    <tr>\n",
              "      <th>3</th>\n",
              "      <td>61</td>\n",
              "      <td>1</td>\n",
              "      <td>0</td>\n",
              "      <td>148</td>\n",
              "      <td>203</td>\n",
              "      <td>0</td>\n",
              "      <td>1</td>\n",
              "      <td>161</td>\n",
              "      <td>0</td>\n",
              "      <td>0.0</td>\n",
              "      <td>2</td>\n",
              "      <td>1</td>\n",
              "      <td>3</td>\n",
              "      <td>0</td>\n",
              "    </tr>\n",
              "    <tr>\n",
              "      <th>4</th>\n",
              "      <td>62</td>\n",
              "      <td>0</td>\n",
              "      <td>0</td>\n",
              "      <td>138</td>\n",
              "      <td>294</td>\n",
              "      <td>1</td>\n",
              "      <td>1</td>\n",
              "      <td>106</td>\n",
              "      <td>0</td>\n",
              "      <td>1.9</td>\n",
              "      <td>1</td>\n",
              "      <td>3</td>\n",
              "      <td>2</td>\n",
              "      <td>0</td>\n",
              "    </tr>\n",
              "  </tbody>\n",
              "</table>\n",
              "</div>\n",
              "      <button class=\"colab-df-convert\" onclick=\"convertToInteractive('df-c600a810-fe6d-474b-b623-8808f11f643e')\"\n",
              "              title=\"Convert this dataframe to an interactive table.\"\n",
              "              style=\"display:none;\">\n",
              "        \n",
              "  <svg xmlns=\"http://www.w3.org/2000/svg\" height=\"24px\"viewBox=\"0 0 24 24\"\n",
              "       width=\"24px\">\n",
              "    <path d=\"M0 0h24v24H0V0z\" fill=\"none\"/>\n",
              "    <path d=\"M18.56 5.44l.94 2.06.94-2.06 2.06-.94-2.06-.94-.94-2.06-.94 2.06-2.06.94zm-11 1L8.5 8.5l.94-2.06 2.06-.94-2.06-.94L8.5 2.5l-.94 2.06-2.06.94zm10 10l.94 2.06.94-2.06 2.06-.94-2.06-.94-.94-2.06-.94 2.06-2.06.94z\"/><path d=\"M17.41 7.96l-1.37-1.37c-.4-.4-.92-.59-1.43-.59-.52 0-1.04.2-1.43.59L10.3 9.45l-7.72 7.72c-.78.78-.78 2.05 0 2.83L4 21.41c.39.39.9.59 1.41.59.51 0 1.02-.2 1.41-.59l7.78-7.78 2.81-2.81c.8-.78.8-2.07 0-2.86zM5.41 20L4 18.59l7.72-7.72 1.47 1.35L5.41 20z\"/>\n",
              "  </svg>\n",
              "      </button>\n",
              "      \n",
              "  <style>\n",
              "    .colab-df-container {\n",
              "      display:flex;\n",
              "      flex-wrap:wrap;\n",
              "      gap: 12px;\n",
              "    }\n",
              "\n",
              "    .colab-df-convert {\n",
              "      background-color: #E8F0FE;\n",
              "      border: none;\n",
              "      border-radius: 50%;\n",
              "      cursor: pointer;\n",
              "      display: none;\n",
              "      fill: #1967D2;\n",
              "      height: 32px;\n",
              "      padding: 0 0 0 0;\n",
              "      width: 32px;\n",
              "    }\n",
              "\n",
              "    .colab-df-convert:hover {\n",
              "      background-color: #E2EBFA;\n",
              "      box-shadow: 0px 1px 2px rgba(60, 64, 67, 0.3), 0px 1px 3px 1px rgba(60, 64, 67, 0.15);\n",
              "      fill: #174EA6;\n",
              "    }\n",
              "\n",
              "    [theme=dark] .colab-df-convert {\n",
              "      background-color: #3B4455;\n",
              "      fill: #D2E3FC;\n",
              "    }\n",
              "\n",
              "    [theme=dark] .colab-df-convert:hover {\n",
              "      background-color: #434B5C;\n",
              "      box-shadow: 0px 1px 3px 1px rgba(0, 0, 0, 0.15);\n",
              "      filter: drop-shadow(0px 1px 2px rgba(0, 0, 0, 0.3));\n",
              "      fill: #FFFFFF;\n",
              "    }\n",
              "  </style>\n",
              "\n",
              "      <script>\n",
              "        const buttonEl =\n",
              "          document.querySelector('#df-c600a810-fe6d-474b-b623-8808f11f643e button.colab-df-convert');\n",
              "        buttonEl.style.display =\n",
              "          google.colab.kernel.accessAllowed ? 'block' : 'none';\n",
              "\n",
              "        async function convertToInteractive(key) {\n",
              "          const element = document.querySelector('#df-c600a810-fe6d-474b-b623-8808f11f643e');\n",
              "          const dataTable =\n",
              "            await google.colab.kernel.invokeFunction('convertToInteractive',\n",
              "                                                     [key], {});\n",
              "          if (!dataTable) return;\n",
              "\n",
              "          const docLinkHtml = 'Like what you see? Visit the ' +\n",
              "            '<a target=\"_blank\" href=https://colab.research.google.com/notebooks/data_table.ipynb>data table notebook</a>'\n",
              "            + ' to learn more about interactive tables.';\n",
              "          element.innerHTML = '';\n",
              "          dataTable['output_type'] = 'display_data';\n",
              "          await google.colab.output.renderOutput(dataTable, element);\n",
              "          const docLink = document.createElement('div');\n",
              "          docLink.innerHTML = docLinkHtml;\n",
              "          element.appendChild(docLink);\n",
              "        }\n",
              "      </script>\n",
              "    </div>\n",
              "  </div>\n",
              "  "
            ]
          },
          "metadata": {},
          "execution_count": 3
        }
      ]
    },
    {
      "cell_type": "code",
      "source": [
        "df1=df.head(30)"
      ],
      "metadata": {
        "id": "gqAd0QTem4zD"
      },
      "execution_count": 36,
      "outputs": []
    },
    {
      "cell_type": "code",
      "source": [
        "df1.shape"
      ],
      "metadata": {
        "colab": {
          "base_uri": "https://localhost:8080/"
        },
        "id": "XPGMpAOKmTBX",
        "outputId": "fe3d9e5f-97cc-4761-8e47-edb005382271"
      },
      "execution_count": 37,
      "outputs": [
        {
          "output_type": "execute_result",
          "data": {
            "text/plain": [
              "(30, 14)"
            ]
          },
          "metadata": {},
          "execution_count": 37
        }
      ]
    },
    {
      "cell_type": "code",
      "source": [
        "df1.corr()"
      ],
      "metadata": {
        "colab": {
          "base_uri": "https://localhost:8080/",
          "height": 488
        },
        "id": "uuqJXaoCm3fr",
        "outputId": "f1cef011-635a-4c25-f38e-b62385ae44e1"
      },
      "execution_count": 38,
      "outputs": [
        {
          "output_type": "execute_result",
          "data": {
            "text/plain": [
              "               age       sex        cp  trestbps      chol       fbs  \\\n",
              "age       1.000000  0.045170 -0.206796  0.192352 -0.086146  0.039228   \n",
              "sex       0.045170  1.000000 -0.127171  0.099393 -0.228590  0.042126   \n",
              "cp       -0.206796 -0.127171  1.000000  0.038261 -0.135449  0.075001   \n",
              "trestbps  0.192352  0.099393  0.038261  1.000000  0.333529  0.150508   \n",
              "chol     -0.086146 -0.228590 -0.135449  0.333529  1.000000  0.146650   \n",
              "fbs       0.039228  0.042126  0.075001  0.150508  0.146650  1.000000   \n",
              "restecg  -0.005230 -0.115784 -0.206142  0.066405 -0.065853 -0.251804   \n",
              "thalach  -0.521625 -0.063597  0.542582 -0.139287 -0.393750 -0.058591   \n",
              "exang    -0.060967  0.413493 -0.304075  0.347524  0.228610  0.153741   \n",
              "oldpeak   0.045389  0.280653 -0.436079  0.116218  0.284120 -0.075236   \n",
              "slope    -0.280774 -0.292174  0.408718 -0.113021 -0.053993 -0.135390   \n",
              "ca        0.235948  0.146945 -0.277011 -0.022105  0.439666  0.066272   \n",
              "thal      0.023269  0.076102 -0.316147  0.277619  0.069177 -0.269295   \n",
              "target   -0.228984 -0.463713  0.469455 -0.496509 -0.367024 -0.289570   \n",
              "\n",
              "           restecg   thalach     exang   oldpeak     slope        ca  \\\n",
              "age      -0.005230 -0.521625 -0.060967  0.045389 -0.280774  0.235948   \n",
              "sex      -0.115784 -0.063597  0.413493  0.280653 -0.292174  0.146945   \n",
              "cp       -0.206142  0.542582 -0.304075 -0.436079  0.408718 -0.277011   \n",
              "trestbps  0.066405 -0.139287  0.347524  0.116218 -0.113021 -0.022105   \n",
              "chol     -0.065853 -0.393750  0.228610  0.284120 -0.053993  0.439666   \n",
              "fbs      -0.251804 -0.058591  0.153741 -0.075236 -0.135390  0.066272   \n",
              "restecg   1.000000  0.044582 -0.149352  0.196448 -0.093030  0.238195   \n",
              "thalach   0.044582  1.000000 -0.341712 -0.553383  0.526976 -0.393316   \n",
              "exang    -0.149352 -0.341712  1.000000  0.428965 -0.514764 -0.100077   \n",
              "oldpeak   0.196448 -0.553383  0.428965  1.000000 -0.697743  0.284054   \n",
              "slope    -0.093030  0.526976 -0.514764 -0.697743  1.000000 -0.080816   \n",
              "ca        0.238195 -0.393316 -0.100077  0.284054 -0.080816  1.000000   \n",
              "thal     -0.262139 -0.136358  0.134079  0.086986  0.014823 -0.018419   \n",
              "target    0.022108  0.453752 -0.439388 -0.431303  0.467556 -0.382907   \n",
              "\n",
              "              thal    target  \n",
              "age       0.023269 -0.228984  \n",
              "sex       0.076102 -0.463713  \n",
              "cp       -0.316147  0.469455  \n",
              "trestbps  0.277619 -0.496509  \n",
              "chol      0.069177 -0.367024  \n",
              "fbs      -0.269295 -0.289570  \n",
              "restecg  -0.262139  0.022108  \n",
              "thalach  -0.136358  0.453752  \n",
              "exang     0.134079 -0.439388  \n",
              "oldpeak   0.086986 -0.431303  \n",
              "slope     0.014823  0.467556  \n",
              "ca       -0.018419 -0.382907  \n",
              "thal      1.000000 -0.232495  \n",
              "target   -0.232495  1.000000  "
            ],
            "text/html": [
              "\n",
              "  <div id=\"df-7ec8c716-71c5-4d42-8bb8-f7070854d159\">\n",
              "    <div class=\"colab-df-container\">\n",
              "      <div>\n",
              "<style scoped>\n",
              "    .dataframe tbody tr th:only-of-type {\n",
              "        vertical-align: middle;\n",
              "    }\n",
              "\n",
              "    .dataframe tbody tr th {\n",
              "        vertical-align: top;\n",
              "    }\n",
              "\n",
              "    .dataframe thead th {\n",
              "        text-align: right;\n",
              "    }\n",
              "</style>\n",
              "<table border=\"1\" class=\"dataframe\">\n",
              "  <thead>\n",
              "    <tr style=\"text-align: right;\">\n",
              "      <th></th>\n",
              "      <th>age</th>\n",
              "      <th>sex</th>\n",
              "      <th>cp</th>\n",
              "      <th>trestbps</th>\n",
              "      <th>chol</th>\n",
              "      <th>fbs</th>\n",
              "      <th>restecg</th>\n",
              "      <th>thalach</th>\n",
              "      <th>exang</th>\n",
              "      <th>oldpeak</th>\n",
              "      <th>slope</th>\n",
              "      <th>ca</th>\n",
              "      <th>thal</th>\n",
              "      <th>target</th>\n",
              "    </tr>\n",
              "  </thead>\n",
              "  <tbody>\n",
              "    <tr>\n",
              "      <th>age</th>\n",
              "      <td>1.000000</td>\n",
              "      <td>0.045170</td>\n",
              "      <td>-0.206796</td>\n",
              "      <td>0.192352</td>\n",
              "      <td>-0.086146</td>\n",
              "      <td>0.039228</td>\n",
              "      <td>-0.005230</td>\n",
              "      <td>-0.521625</td>\n",
              "      <td>-0.060967</td>\n",
              "      <td>0.045389</td>\n",
              "      <td>-0.280774</td>\n",
              "      <td>0.235948</td>\n",
              "      <td>0.023269</td>\n",
              "      <td>-0.228984</td>\n",
              "    </tr>\n",
              "    <tr>\n",
              "      <th>sex</th>\n",
              "      <td>0.045170</td>\n",
              "      <td>1.000000</td>\n",
              "      <td>-0.127171</td>\n",
              "      <td>0.099393</td>\n",
              "      <td>-0.228590</td>\n",
              "      <td>0.042126</td>\n",
              "      <td>-0.115784</td>\n",
              "      <td>-0.063597</td>\n",
              "      <td>0.413493</td>\n",
              "      <td>0.280653</td>\n",
              "      <td>-0.292174</td>\n",
              "      <td>0.146945</td>\n",
              "      <td>0.076102</td>\n",
              "      <td>-0.463713</td>\n",
              "    </tr>\n",
              "    <tr>\n",
              "      <th>cp</th>\n",
              "      <td>-0.206796</td>\n",
              "      <td>-0.127171</td>\n",
              "      <td>1.000000</td>\n",
              "      <td>0.038261</td>\n",
              "      <td>-0.135449</td>\n",
              "      <td>0.075001</td>\n",
              "      <td>-0.206142</td>\n",
              "      <td>0.542582</td>\n",
              "      <td>-0.304075</td>\n",
              "      <td>-0.436079</td>\n",
              "      <td>0.408718</td>\n",
              "      <td>-0.277011</td>\n",
              "      <td>-0.316147</td>\n",
              "      <td>0.469455</td>\n",
              "    </tr>\n",
              "    <tr>\n",
              "      <th>trestbps</th>\n",
              "      <td>0.192352</td>\n",
              "      <td>0.099393</td>\n",
              "      <td>0.038261</td>\n",
              "      <td>1.000000</td>\n",
              "      <td>0.333529</td>\n",
              "      <td>0.150508</td>\n",
              "      <td>0.066405</td>\n",
              "      <td>-0.139287</td>\n",
              "      <td>0.347524</td>\n",
              "      <td>0.116218</td>\n",
              "      <td>-0.113021</td>\n",
              "      <td>-0.022105</td>\n",
              "      <td>0.277619</td>\n",
              "      <td>-0.496509</td>\n",
              "    </tr>\n",
              "    <tr>\n",
              "      <th>chol</th>\n",
              "      <td>-0.086146</td>\n",
              "      <td>-0.228590</td>\n",
              "      <td>-0.135449</td>\n",
              "      <td>0.333529</td>\n",
              "      <td>1.000000</td>\n",
              "      <td>0.146650</td>\n",
              "      <td>-0.065853</td>\n",
              "      <td>-0.393750</td>\n",
              "      <td>0.228610</td>\n",
              "      <td>0.284120</td>\n",
              "      <td>-0.053993</td>\n",
              "      <td>0.439666</td>\n",
              "      <td>0.069177</td>\n",
              "      <td>-0.367024</td>\n",
              "    </tr>\n",
              "    <tr>\n",
              "      <th>fbs</th>\n",
              "      <td>0.039228</td>\n",
              "      <td>0.042126</td>\n",
              "      <td>0.075001</td>\n",
              "      <td>0.150508</td>\n",
              "      <td>0.146650</td>\n",
              "      <td>1.000000</td>\n",
              "      <td>-0.251804</td>\n",
              "      <td>-0.058591</td>\n",
              "      <td>0.153741</td>\n",
              "      <td>-0.075236</td>\n",
              "      <td>-0.135390</td>\n",
              "      <td>0.066272</td>\n",
              "      <td>-0.269295</td>\n",
              "      <td>-0.289570</td>\n",
              "    </tr>\n",
              "    <tr>\n",
              "      <th>restecg</th>\n",
              "      <td>-0.005230</td>\n",
              "      <td>-0.115784</td>\n",
              "      <td>-0.206142</td>\n",
              "      <td>0.066405</td>\n",
              "      <td>-0.065853</td>\n",
              "      <td>-0.251804</td>\n",
              "      <td>1.000000</td>\n",
              "      <td>0.044582</td>\n",
              "      <td>-0.149352</td>\n",
              "      <td>0.196448</td>\n",
              "      <td>-0.093030</td>\n",
              "      <td>0.238195</td>\n",
              "      <td>-0.262139</td>\n",
              "      <td>0.022108</td>\n",
              "    </tr>\n",
              "    <tr>\n",
              "      <th>thalach</th>\n",
              "      <td>-0.521625</td>\n",
              "      <td>-0.063597</td>\n",
              "      <td>0.542582</td>\n",
              "      <td>-0.139287</td>\n",
              "      <td>-0.393750</td>\n",
              "      <td>-0.058591</td>\n",
              "      <td>0.044582</td>\n",
              "      <td>1.000000</td>\n",
              "      <td>-0.341712</td>\n",
              "      <td>-0.553383</td>\n",
              "      <td>0.526976</td>\n",
              "      <td>-0.393316</td>\n",
              "      <td>-0.136358</td>\n",
              "      <td>0.453752</td>\n",
              "    </tr>\n",
              "    <tr>\n",
              "      <th>exang</th>\n",
              "      <td>-0.060967</td>\n",
              "      <td>0.413493</td>\n",
              "      <td>-0.304075</td>\n",
              "      <td>0.347524</td>\n",
              "      <td>0.228610</td>\n",
              "      <td>0.153741</td>\n",
              "      <td>-0.149352</td>\n",
              "      <td>-0.341712</td>\n",
              "      <td>1.000000</td>\n",
              "      <td>0.428965</td>\n",
              "      <td>-0.514764</td>\n",
              "      <td>-0.100077</td>\n",
              "      <td>0.134079</td>\n",
              "      <td>-0.439388</td>\n",
              "    </tr>\n",
              "    <tr>\n",
              "      <th>oldpeak</th>\n",
              "      <td>0.045389</td>\n",
              "      <td>0.280653</td>\n",
              "      <td>-0.436079</td>\n",
              "      <td>0.116218</td>\n",
              "      <td>0.284120</td>\n",
              "      <td>-0.075236</td>\n",
              "      <td>0.196448</td>\n",
              "      <td>-0.553383</td>\n",
              "      <td>0.428965</td>\n",
              "      <td>1.000000</td>\n",
              "      <td>-0.697743</td>\n",
              "      <td>0.284054</td>\n",
              "      <td>0.086986</td>\n",
              "      <td>-0.431303</td>\n",
              "    </tr>\n",
              "    <tr>\n",
              "      <th>slope</th>\n",
              "      <td>-0.280774</td>\n",
              "      <td>-0.292174</td>\n",
              "      <td>0.408718</td>\n",
              "      <td>-0.113021</td>\n",
              "      <td>-0.053993</td>\n",
              "      <td>-0.135390</td>\n",
              "      <td>-0.093030</td>\n",
              "      <td>0.526976</td>\n",
              "      <td>-0.514764</td>\n",
              "      <td>-0.697743</td>\n",
              "      <td>1.000000</td>\n",
              "      <td>-0.080816</td>\n",
              "      <td>0.014823</td>\n",
              "      <td>0.467556</td>\n",
              "    </tr>\n",
              "    <tr>\n",
              "      <th>ca</th>\n",
              "      <td>0.235948</td>\n",
              "      <td>0.146945</td>\n",
              "      <td>-0.277011</td>\n",
              "      <td>-0.022105</td>\n",
              "      <td>0.439666</td>\n",
              "      <td>0.066272</td>\n",
              "      <td>0.238195</td>\n",
              "      <td>-0.393316</td>\n",
              "      <td>-0.100077</td>\n",
              "      <td>0.284054</td>\n",
              "      <td>-0.080816</td>\n",
              "      <td>1.000000</td>\n",
              "      <td>-0.018419</td>\n",
              "      <td>-0.382907</td>\n",
              "    </tr>\n",
              "    <tr>\n",
              "      <th>thal</th>\n",
              "      <td>0.023269</td>\n",
              "      <td>0.076102</td>\n",
              "      <td>-0.316147</td>\n",
              "      <td>0.277619</td>\n",
              "      <td>0.069177</td>\n",
              "      <td>-0.269295</td>\n",
              "      <td>-0.262139</td>\n",
              "      <td>-0.136358</td>\n",
              "      <td>0.134079</td>\n",
              "      <td>0.086986</td>\n",
              "      <td>0.014823</td>\n",
              "      <td>-0.018419</td>\n",
              "      <td>1.000000</td>\n",
              "      <td>-0.232495</td>\n",
              "    </tr>\n",
              "    <tr>\n",
              "      <th>target</th>\n",
              "      <td>-0.228984</td>\n",
              "      <td>-0.463713</td>\n",
              "      <td>0.469455</td>\n",
              "      <td>-0.496509</td>\n",
              "      <td>-0.367024</td>\n",
              "      <td>-0.289570</td>\n",
              "      <td>0.022108</td>\n",
              "      <td>0.453752</td>\n",
              "      <td>-0.439388</td>\n",
              "      <td>-0.431303</td>\n",
              "      <td>0.467556</td>\n",
              "      <td>-0.382907</td>\n",
              "      <td>-0.232495</td>\n",
              "      <td>1.000000</td>\n",
              "    </tr>\n",
              "  </tbody>\n",
              "</table>\n",
              "</div>\n",
              "      <button class=\"colab-df-convert\" onclick=\"convertToInteractive('df-7ec8c716-71c5-4d42-8bb8-f7070854d159')\"\n",
              "              title=\"Convert this dataframe to an interactive table.\"\n",
              "              style=\"display:none;\">\n",
              "        \n",
              "  <svg xmlns=\"http://www.w3.org/2000/svg\" height=\"24px\"viewBox=\"0 0 24 24\"\n",
              "       width=\"24px\">\n",
              "    <path d=\"M0 0h24v24H0V0z\" fill=\"none\"/>\n",
              "    <path d=\"M18.56 5.44l.94 2.06.94-2.06 2.06-.94-2.06-.94-.94-2.06-.94 2.06-2.06.94zm-11 1L8.5 8.5l.94-2.06 2.06-.94-2.06-.94L8.5 2.5l-.94 2.06-2.06.94zm10 10l.94 2.06.94-2.06 2.06-.94-2.06-.94-.94-2.06-.94 2.06-2.06.94z\"/><path d=\"M17.41 7.96l-1.37-1.37c-.4-.4-.92-.59-1.43-.59-.52 0-1.04.2-1.43.59L10.3 9.45l-7.72 7.72c-.78.78-.78 2.05 0 2.83L4 21.41c.39.39.9.59 1.41.59.51 0 1.02-.2 1.41-.59l7.78-7.78 2.81-2.81c.8-.78.8-2.07 0-2.86zM5.41 20L4 18.59l7.72-7.72 1.47 1.35L5.41 20z\"/>\n",
              "  </svg>\n",
              "      </button>\n",
              "      \n",
              "  <style>\n",
              "    .colab-df-container {\n",
              "      display:flex;\n",
              "      flex-wrap:wrap;\n",
              "      gap: 12px;\n",
              "    }\n",
              "\n",
              "    .colab-df-convert {\n",
              "      background-color: #E8F0FE;\n",
              "      border: none;\n",
              "      border-radius: 50%;\n",
              "      cursor: pointer;\n",
              "      display: none;\n",
              "      fill: #1967D2;\n",
              "      height: 32px;\n",
              "      padding: 0 0 0 0;\n",
              "      width: 32px;\n",
              "    }\n",
              "\n",
              "    .colab-df-convert:hover {\n",
              "      background-color: #E2EBFA;\n",
              "      box-shadow: 0px 1px 2px rgba(60, 64, 67, 0.3), 0px 1px 3px 1px rgba(60, 64, 67, 0.15);\n",
              "      fill: #174EA6;\n",
              "    }\n",
              "\n",
              "    [theme=dark] .colab-df-convert {\n",
              "      background-color: #3B4455;\n",
              "      fill: #D2E3FC;\n",
              "    }\n",
              "\n",
              "    [theme=dark] .colab-df-convert:hover {\n",
              "      background-color: #434B5C;\n",
              "      box-shadow: 0px 1px 3px 1px rgba(0, 0, 0, 0.15);\n",
              "      filter: drop-shadow(0px 1px 2px rgba(0, 0, 0, 0.3));\n",
              "      fill: #FFFFFF;\n",
              "    }\n",
              "  </style>\n",
              "\n",
              "      <script>\n",
              "        const buttonEl =\n",
              "          document.querySelector('#df-7ec8c716-71c5-4d42-8bb8-f7070854d159 button.colab-df-convert');\n",
              "        buttonEl.style.display =\n",
              "          google.colab.kernel.accessAllowed ? 'block' : 'none';\n",
              "\n",
              "        async function convertToInteractive(key) {\n",
              "          const element = document.querySelector('#df-7ec8c716-71c5-4d42-8bb8-f7070854d159');\n",
              "          const dataTable =\n",
              "            await google.colab.kernel.invokeFunction('convertToInteractive',\n",
              "                                                     [key], {});\n",
              "          if (!dataTable) return;\n",
              "\n",
              "          const docLinkHtml = 'Like what you see? Visit the ' +\n",
              "            '<a target=\"_blank\" href=https://colab.research.google.com/notebooks/data_table.ipynb>data table notebook</a>'\n",
              "            + ' to learn more about interactive tables.';\n",
              "          element.innerHTML = '';\n",
              "          dataTable['output_type'] = 'display_data';\n",
              "          await google.colab.output.renderOutput(dataTable, element);\n",
              "          const docLink = document.createElement('div');\n",
              "          docLink.innerHTML = docLinkHtml;\n",
              "          element.appendChild(docLink);\n",
              "        }\n",
              "      </script>\n",
              "    </div>\n",
              "  </div>\n",
              "  "
            ]
          },
          "metadata": {},
          "execution_count": 38
        }
      ]
    },
    {
      "cell_type": "code",
      "source": [
        "plt.subplots(figsize=(15,10))\n",
        "sns.heatmap(df1.corr(),annot=False)"
      ],
      "metadata": {
        "colab": {
          "base_uri": "https://localhost:8080/",
          "height": 614
        },
        "id": "DPtr4iN0m_-w",
        "outputId": "20d88a36-bffb-40c4-e555-dcfa36f761a3"
      },
      "execution_count": 50,
      "outputs": [
        {
          "output_type": "execute_result",
          "data": {
            "text/plain": [
              "<matplotlib.axes._subplots.AxesSubplot at 0x7f8c1364ddd0>"
            ]
          },
          "metadata": {},
          "execution_count": 50
        },
        {
          "output_type": "display_data",
          "data": {
            "text/plain": [
              "<Figure size 1080x720 with 2 Axes>"
            ],
            "image/png": "[encoded data removed]"
          },
          "metadata": {
            "needs_background": "light"
          }
        }
      ]
    },
    {
      "cell_type": "code",
      "source": [
        "x=df1.iloc[:,0:-1]"
      ],
      "metadata": {
        "id": "nmVYWwC4u8pc"
      },
      "execution_count": 51,
      "outputs": []
    },
    {
      "cell_type": "code",
      "source": [
        "y=df1.iloc[:,-1]"
      ],
      "metadata": {
        "id": "e3xgHqsVu8sS"
      },
      "execution_count": 52,
      "outputs": []
    },
    {
      "cell_type": "code",
      "source": [
        "rand=RandomForestClassifier()\n",
        "rand.fit(x,y)"
      ],
      "metadata": {
        "colab": {
          "base_uri": "https://localhost:8080/"
        },
        "id": "FBiMAb3opsE5",
        "outputId": "7c8a471b-84d2-45e1-efb5-1ddb98ad9e09"
      },
      "execution_count": 69,
      "outputs": [
        {
          "output_type": "execute_result",
          "data": {
            "text/plain": [
              "RandomForestClassifier()"
            ]
          },
          "metadata": {},
          "execution_count": 69
        }
      ]
    },
    {
      "cell_type": "code",
      "source": [
        "x.shape"
      ],
      "metadata": {
        "colab": {
          "base_uri": "https://localhost:8080/"
        },
        "id": "_XxCSSknrADh",
        "outputId": "1c1123bc-c720-423e-9f3e-d26d46f19a0f"
      },
      "execution_count": 60,
      "outputs": [
        {
          "output_type": "execute_result",
          "data": {
            "text/plain": [
              "(30, 13)"
            ]
          },
          "metadata": {},
          "execution_count": 60
        }
      ]
    },
    {
      "cell_type": "code",
      "source": [
        "y.shape"
      ],
      "metadata": {
        "colab": {
          "base_uri": "https://localhost:8080/"
        },
        "id": "yilmyen7rEPl",
        "outputId": "ac76ae45-dca6-4fad-9f5c-378e47e4e443"
      },
      "execution_count": 61,
      "outputs": [
        {
          "output_type": "execute_result",
          "data": {
            "text/plain": [
              "(30,)"
            ]
          },
          "metadata": {},
          "execution_count": 61
        }
      ]
    },
    {
      "cell_type": "code",
      "source": [
        "rand.feature_importances_"
      ],
      "metadata": {
        "colab": {
          "base_uri": "https://localhost:8080/"
        },
        "id": "09vT_kwdpzsc",
        "outputId": "33f7261d-70fc-41f1-baeb-a86c1ef91833"
      },
      "execution_count": 54,
      "outputs": [
        {
          "output_type": "execute_result",
          "data": {
            "text/plain": [
              "array([0.09447003, 0.07183082, 0.0599384 , 0.17280216, 0.1022299 ,\n",
              "       0.0237965 , 0.01575584, 0.1373275 , 0.04495398, 0.10006173,\n",
              "       0.02581206, 0.0531502 , 0.09787088])"
            ]
          },
          "metadata": {},
          "execution_count": 54
        }
      ]
    },
    {
      "cell_type": "code",
      "source": [
        "rand.feature_importances_.shape"
      ],
      "metadata": {
        "colab": {
          "base_uri": "https://localhost:8080/"
        },
        "id": "dcpKOKRXqOYT",
        "outputId": "2c43f2d0-0633-49ce-a703-5ed9fdc70af1"
      },
      "execution_count": 56,
      "outputs": [
        {
          "output_type": "execute_result",
          "data": {
            "text/plain": [
              "(13,)"
            ]
          },
          "metadata": {},
          "execution_count": 56
        }
      ]
    },
    {
      "cell_type": "code",
      "source": [
        "plt.subplots(figsize=(15,10))\n",
        "sns.heatmap(rand.feature_importances_.reshape(1,13), annot=True)"
      ],
      "metadata": {
        "colab": {
          "base_uri": "https://localhost:8080/",
          "height": 610
        },
        "id": "CV3Dw1UIpz6L",
        "outputId": "2817e9d1-5163-460b-b34f-8b2c2d647d36"
      },
      "execution_count": 68,
      "outputs": [
        {
          "output_type": "execute_result",
          "data": {
            "text/plain": [
              "<matplotlib.axes._subplots.AxesSubplot at 0x7f8c12eaa450>"
            ]
          },
          "metadata": {},
          "execution_count": 68
        },
        {
          "output_type": "display_data",
          "data": {
            "text/plain": [
              "<Figure size 1080x720 with 2 Axes>"
            ],
            "image/png": "[encoded data removed]"
          },
          "metadata": {
            "needs_background": "light"
          }
        }
      ]
    }
  ],
  "metadata": {
    "colab": {
      "collapsed_sections": [],
      "provenance": [],
      "mount_file_id": "15wGNYkS024uN3QhofFOdguQR3xEP-d4q",
      "authorship_tag": "ABX9TyOybMX2e5/IDqMtcgY7pccI",
      "include_colab_link": true
    },
    "kernelspec": {
      "display_name": "Python 3",
      "name": "python3"
    },
    "language_info": {
      "name": "python"
    }
  },
  "nbformat": 4,
  "nbformat_minor": 0
}