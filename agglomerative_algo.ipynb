{
  "cells": [
    {
      "cell_type": "markdown",
      "metadata": {
        "id": "view-in-github",
        "colab_type": "text"
      },
      "source": [
        "<a href=\"https://colab.research.google.com/github/soyab266/data-science/blob/master/agglomerative_algo.ipynb\" target=\"_parent\"><img src=\"https://colab.research.google.com/assets/colab-badge.svg\" alt=\"Open In Colab\"/></a>"
      ]
    },
    {
      "cell_type": "code",
      "execution_count": 48,
      "metadata": {
        "id": "89ONI-gcC8Ym"
      },
      "outputs": [],
      "source": [
        "import pandas as pd\n",
        "import numpy as np\n",
        "import seaborn as sns\n",
        "import matplotlib.pyplot as plt\n",
        "import plotly.express as px\n",
        "from sklearn.cluster import KMeans \n",
        "from sklearn.datasets import make_blobs \n",
        "%matplotlib inline\n",
        "from sklearn.model_selection import train_test_split\n",
        "import numpy as np \n",
        "import pandas as pd\n",
        "from scipy import ndimage \n",
        "from scipy.cluster import hierarchy \n",
        "from scipy.spatial import distance_matrix \n",
        "from matplotlib import pyplot as plt \n",
        "from sklearn import manifold, datasets \n",
        "from sklearn.cluster import AgglomerativeClustering \n",
        "from sklearn.datasets import make_blobs \n",
        "from sklearn.preprocessing import MinMaxScaler\n",
        "%matplotlib inline\n",
        "#! pip install https://github.com/pandas-profiling/pandas-profiling/archive/master.zip"
      ]
    },
    {
      "cell_type": "code",
      "source": [
        "x, y=make_blobs(  n_samples=500,centers=[[4,4], [2,2,],[1,5],[4,5], [2,7], [6,2]],cluster_std=0.5)"
      ],
      "metadata": {
        "id": "ELUsunf9jxn4"
      },
      "execution_count": 13,
      "outputs": []
    },
    {
      "cell_type": "code",
      "source": [
        "plt.scatter(x[:,0], x[:,1])"
      ],
      "metadata": {
        "colab": {
          "base_uri": "https://localhost:8080/",
          "height": 283
        },
        "id": "ip84uUmfAaDn",
        "outputId": "e4669751-4f86-4b5f-842c-785a35bca27e"
      },
      "execution_count": 14,
      "outputs": [
        {
          "output_type": "execute_result",
          "data": {
            "text/plain": [
              "<matplotlib.collections.PathCollection at 0x7fd3ac119810>"
            ]
          },
          "metadata": {},
          "execution_count": 14
        },
        {
          "output_type": "display_data",
          "data": {
            "text/plain": [
              "<Figure size 432x288 with 1 Axes>"
            ],
            "image/png": "[encoded data removed]"
          },
          "metadata": {
            "needs_background": "light"
          }
        }
      ]
    },
    {
      "cell_type": "code",
      "source": [
        "alg=AgglomerativeClustering( n_clusters=6,linkage='ward')"
      ],
      "metadata": {
        "id": "bv0R30K2AaIW"
      },
      "execution_count": 26,
      "outputs": []
    },
    {
      "cell_type": "code",
      "source": [
        "alg.fit(x,y)"
      ],
      "metadata": {
        "colab": {
          "base_uri": "https://localhost:8080/"
        },
        "id": "TIucKoPxAaMu",
        "outputId": "cca75743-2074-42d0-9d23-400feb443af8"
      },
      "execution_count": 27,
      "outputs": [
        {
          "output_type": "execute_result",
          "data": {
            "text/plain": [
              "AgglomerativeClustering(n_clusters=6)"
            ]
          },
          "metadata": {},
          "execution_count": 27
        }
      ]
    },
    {
      "cell_type": "code",
      "source": [
        "plt.figure(figsize=(6,9))\n",
        "x_min,x_max=np.min(x, axis=0),np.max(x,axis=0)\n"
      ],
      "metadata": {
        "colab": {
          "base_uri": "https://localhost:8080/",
          "height": 35
        },
        "id": "B6UwA5ZpAaQr",
        "outputId": "c5b35d1c-29ff-4456-bd5d-d73050ec2688"
      },
      "execution_count": 20,
      "outputs": [
        {
          "output_type": "display_data",
          "data": {
            "text/plain": [
              "<Figure size 432x648 with 0 Axes>"
            ]
          },
          "metadata": {}
        }
      ]
    },
    {
      "cell_type": "code",
      "source": [
        "dism=distance_matrix(x,x)\n",
        "print(dism)"
      ],
      "metadata": {
        "colab": {
          "base_uri": "https://localhost:8080/"
        },
        "id": "4QKnXf_tAaWa",
        "outputId": "c42c74ea-c43c-43b7-faa9-d94845164c72"
      },
      "execution_count": 28,
      "outputs": [
        {
          "output_type": "stream",
          "name": "stdout",
          "text": [
            "[[0.         3.96516021 2.35144751 ... 3.48042828 2.99754396 1.02048225]\n",
            " [3.96516021 0.         3.84388528 ... 1.41950708 1.09884094 3.24594322]\n",
            " [2.35144751 3.84388528 0.         ... 2.62710904 2.77190044 2.85692502]\n",
            " ...\n",
            " [3.48042828 1.41950708 2.62710904 ... 0.         0.83137937 3.10540855]\n",
            " [2.99754396 1.09884094 2.77190044 ... 0.83137937 0.         2.44147557]\n",
            " [1.02048225 3.24594322 2.85692502 ... 3.10540855 2.44147557 0.        ]]\n"
          ]
        }
      ]
    },
    {
      "cell_type": "code",
      "source": [
        "Z = hierarchy.linkage(dism, 'ward')"
      ],
      "metadata": {
        "colab": {
          "base_uri": "https://localhost:8080/"
        },
        "id": "iG8QGYW4F7tE",
        "outputId": "cdf79b67-63b2-49bd-9b6c-19d50dd47959"
      },
      "execution_count": 45,
      "outputs": [
        {
          "output_type": "stream",
          "name": "stderr",
          "text": [
            "/usr/local/lib/python3.7/dist-packages/ipykernel_launcher.py:1: ClusterWarning: scipy.cluster: The symmetric non-negative hollow observation matrix looks suspiciously like an uncondensed distance matrix\n",
            "  \"\"\"Entry point for launching an IPython kernel.\n"
          ]
        }
      ]
    },
    {
      "cell_type": "code",
      "source": [
        "dendro = hierarchy.dendrogram(Z)"
      ],
      "metadata": {
        "colab": {
          "base_uri": "https://localhost:8080/",
          "height": 265
        },
        "id": "YDbEw_nBGEyV",
        "outputId": "692ab05d-876c-4f96-f353-15d182112000"
      },
      "execution_count": 46,
      "outputs": [
        {
          "output_type": "display_data",
          "data": {
            "text/plain": [
              "<Figure size 432x288 with 1 Axes>"
            ],
            "image/png": "[encoded data removed]"
          },
          "metadata": {
            "needs_background": "light"
          }
        }
      ]
    },
    {
      "cell_type": "code",
      "source": [
        "!wget -O cars_clus.csv https://cf-courses-data.s3.us.cloud-object-storage.appdomain.cloud/IBMDeveloperSkillsNetwork-ML0101EN-SkillsNetwork/labs/Module%204/data/cars_clus.csv"
      ],
      "metadata": {
        "colab": {
          "base_uri": "https://localhost:8080/"
        },
        "id": "vBCbwcIIGE21",
        "outputId": "2d9d5001-362f-4513-932a-4a4a56547d5c"
      },
      "execution_count": 31,
      "outputs": [
        {
          "output_type": "stream",
          "name": "stdout",
          "text": [
            "--2022-10-29 14:16:58--  https://cf-courses-data.s3.us.cloud-object-storage.appdomain.cloud/IBMDeveloperSkillsNetwork-ML0101EN-SkillsNetwork/labs/Module%204/data/cars_clus.csv\n",
            "Resolving cf-courses-data.s3.us.cloud-object-storage.appdomain.cloud (cf-courses-data.s3.us.cloud-object-storage.appdomain.cloud)... 169.63.118.104\n",
            "Connecting to cf-courses-data.s3.us.cloud-object-storage.appdomain.cloud (cf-courses-data.s3.us.cloud-object-storage.appdomain.cloud)|169.63.118.104|:443... connected.\n",
            "HTTP request sent, awaiting response... 200 OK\n",
            "Length: 17774 (17K) [text/csv]\n",
            "Saving to: ‘cars_clus.csv’\n",
            "\n",
            "cars_clus.csv       100%[===================>]  17.36K  --.-KB/s    in 0s      \n",
            "\n",
            "2022-10-29 14:16:59 (208 MB/s) - ‘cars_clus.csv’ saved [17774/17774]\n",
            "\n"
          ]
        }
      ]
    },
    {
      "cell_type": "code",
      "source": [
        "df=pd.read_csv('cars_clus.csv')"
      ],
      "metadata": {
        "id": "lVrgVw54GE7l"
      },
      "execution_count": 32,
      "outputs": []
    },
    {
      "cell_type": "code",
      "source": [
        "df.shape"
      ],
      "metadata": {
        "colab": {
          "base_uri": "https://localhost:8080/"
        },
        "id": "7xx4HJCRG4EH",
        "outputId": "45e08a34-fd11-49c3-9f59-ef0d8cbaf6d1"
      },
      "execution_count": 59,
      "outputs": [
        {
          "output_type": "execute_result",
          "data": {
            "text/plain": [
              "(157, 16)"
            ]
          },
          "metadata": {},
          "execution_count": 59
        }
      ]
    },
    {
      "cell_type": "code",
      "source": [
        "df.columns"
      ],
      "metadata": {
        "colab": {
          "base_uri": "https://localhost:8080/"
        },
        "id": "hsYm2Yg2G4KW",
        "outputId": "98e461f7-8533-4e33-9aeb-65090a783812"
      },
      "execution_count": 64,
      "outputs": [
        {
          "output_type": "execute_result",
          "data": {
            "text/plain": [
              "Index(['manufact', 'model', 'sales', 'resale', 'type', 'price', 'engine_s',\n",
              "       'horsepow', 'wheelbas', 'width', 'length', 'curb_wgt', 'fuel_cap',\n",
              "       'mpg', 'lnsales', 'partition'],\n",
              "      dtype='object')"
            ]
          },
          "metadata": {},
          "execution_count": 64
        }
      ]
    },
    {
      "cell_type": "code",
      "source": [
        "df.isnull().sum()"
      ],
      "metadata": {
        "colab": {
          "base_uri": "https://localhost:8080/"
        },
        "id": "tpyMf_UQG4SG",
        "outputId": "22a42c00-c144-45f2-e5e1-f11d20c428cc"
      },
      "execution_count": 61,
      "outputs": [
        {
          "output_type": "execute_result",
          "data": {
            "text/plain": [
              "manufact     0\n",
              "model        0\n",
              "sales        0\n",
              "resale       0\n",
              "type         0\n",
              "price        0\n",
              "engine_s     0\n",
              "horsepow     0\n",
              "wheelbas     0\n",
              "width        0\n",
              "length       0\n",
              "curb_wgt     0\n",
              "fuel_cap     0\n",
              "mpg          0\n",
              "lnsales      0\n",
              "partition    0\n",
              "dtype: int64"
            ]
          },
          "metadata": {},
          "execution_count": 61
        }
      ]
    },
    {
      "cell_type": "code",
      "source": [
        "df.shape"
      ],
      "metadata": {
        "colab": {
          "base_uri": "https://localhost:8080/"
        },
        "id": "qzDgnUgiHSPl",
        "outputId": "35bb60ec-ce63-4f86-bfba-531c2ec273b2"
      },
      "execution_count": 66,
      "outputs": [
        {
          "output_type": "execute_result",
          "data": {
            "text/plain": [
              "(157, 16)"
            ]
          },
          "metadata": {},
          "execution_count": 66
        }
      ]
    },
    {
      "cell_type": "code",
      "source": [
        "df=df.dropna()"
      ],
      "metadata": {
        "id": "JUGpNb9KHSWB"
      },
      "execution_count": 84,
      "outputs": []
    },
    {
      "cell_type": "code",
      "source": [
        "df=df.reset_index(drop=True)"
      ],
      "metadata": {
        "id": "84aJEZjFHSb0"
      },
      "execution_count": 67,
      "outputs": []
    },
    {
      "cell_type": "code",
      "source": [
        "col=df [['engine_s',  'horsepow', 'wheelbas', 'width', 'length', 'curb_wgt', 'fuel_cap', 'mpg']].apply(pd.to_numeric, errors='coerce')"
      ],
      "metadata": {
        "id": "edh6gXJGKK2z"
      },
      "execution_count": 79,
      "outputs": []
    },
    {
      "cell_type": "code",
      "source": [
        "col.shape"
      ],
      "metadata": {
        "colab": {
          "base_uri": "https://localhost:8080/"
        },
        "id": "mv8Bw5h1W7PE",
        "outputId": "6eaf1d1f-9920-4bca-abfe-9536fe1c5032"
      },
      "execution_count": 83,
      "outputs": [
        {
          "output_type": "execute_result",
          "data": {
            "text/plain": [
              "(157, 8)"
            ]
          },
          "metadata": {},
          "execution_count": 83
        }
      ]
    },
    {
      "cell_type": "code",
      "source": [
        "x1=col.values\n",
        "scale=MinMaxScaler()\n",
        "trans=scale.fit_transform(x1)\n",
        "trans[0:5]"
      ],
      "metadata": {
        "colab": {
          "base_uri": "https://localhost:8080/"
        },
        "id": "-kl_x3HyKK8e",
        "outputId": "196d4f55-7e68-443d-d514-eeb7fbad80e1"
      },
      "execution_count": 86,
      "outputs": [
        {
          "output_type": "execute_result",
          "data": {
            "text/plain": [
              "array([[0.11428571, 0.21518987, 0.18655098, 0.2716763 , 0.30625832,\n",
              "        0.20233886, 0.13364055, 0.43333333],\n",
              "       [0.31428571, 0.43037975, 0.3362256 , 0.44508671, 0.5792277 ,\n",
              "        0.44112048, 0.31797235, 0.33333333],\n",
              "       [0.31428571, 0.43037975, 0.31019523, 0.46242775, 0.56724368,\n",
              "        0.42833832, 0.31797235, 0.36666667],\n",
              "       [0.35714286, 0.39240506, 0.47722343, 0.50867052, 0.62849534,\n",
              "        0.53168344, 0.35483871, 0.23333333],\n",
              "       [0.11428571, 0.24050633, 0.21691974, 0.32369942, 0.38082557,\n",
              "        0.2999728 , 0.28110599, 0.4       ]])"
            ]
          },
          "metadata": {},
          "execution_count": 86
        }
      ]
    },
    {
      "cell_type": "code",
      "source": [
        "trans.shape"
      ],
      "metadata": {
        "colab": {
          "base_uri": "https://localhost:8080/"
        },
        "id": "UsYKV9mfctLJ",
        "outputId": "aee4212b-9a80-4949-cbb2-c9ea08e6f792"
      },
      "execution_count": 91,
      "outputs": [
        {
          "output_type": "execute_result",
          "data": {
            "text/plain": [
              "(157, 8)"
            ]
          },
          "metadata": {},
          "execution_count": 91
        }
      ]
    },
    {
      "cell_type": "code",
      "source": [
        "from sklearn.metrics.pairwise import euclidean_distances\n",
        "dis=euclidean_distances( trans[0:5],trans[0:10])\n",
        "print(dis)"
      ],
      "metadata": {
        "colab": {
          "base_uri": "https://localhost:8080/"
        },
        "id": "0l25foAcKLHV",
        "outputId": "710a8229-df2f-42d7-9f58-c57d7107c885"
      },
      "execution_count": 99,
      "outputs": [
        {
          "output_type": "stream",
          "name": "stdout",
          "text": [
            "[[0.00000000e+00 5.60613497e-01 5.43684155e-01 7.29571599e-01\n",
            "  2.05473640e-01 7.47887637e-01 1.02120709e+00 2.99576076e-01\n",
            "  3.58310143e-01 5.44215830e-01]\n",
            " [5.60613497e-01 2.10734243e-08 4.89530720e-02 2.21788592e-01\n",
            "  4.12444322e-01 3.65671399e-01 4.97191353e-01 3.20857717e-01\n",
            "  2.84683169e-01 1.55549527e-01]\n",
            " [5.43684155e-01 4.89530720e-02 2.10734243e-08 2.58620400e-01\n",
            "  3.97111364e-01 3.63107945e-01 5.10851001e-01 3.13151174e-01\n",
            "  2.84165140e-01 1.66384066e-01]\n",
            " [7.29571599e-01 2.21788592e-01 2.58620400e-01 0.00000000e+00\n",
            "  5.76428279e-01 3.33599472e-01 4.10664925e-01 4.66037999e-01\n",
            "  4.24750997e-01 2.24565099e-01]\n",
            " [2.05473640e-01 4.12444322e-01 3.97111364e-01 5.76428279e-01\n",
            "  0.00000000e+00 5.98168502e-01 8.54915200e-01 1.64951097e-01\n",
            "  2.38069250e-01 3.77023019e-01]]\n"
          ]
        }
      ]
    },
    {
      "cell_type": "code",
      "source": [
        "z=hierarchy.linkage( dis, 'average')"
      ],
      "metadata": {
        "id": "7FsFZY26KLOk"
      },
      "execution_count": 104,
      "outputs": []
    },
    {
      "cell_type": "code",
      "source": [
        "dendro=hierarchy.dendrogram(z)"
      ],
      "metadata": {
        "colab": {
          "base_uri": "https://localhost:8080/",
          "height": 268
        },
        "id": "TJYOsTWKeS6Y",
        "outputId": "93064f4a-5a61-4fa9-8590-f5119f017c2b"
      },
      "execution_count": 105,
      "outputs": [
        {
          "output_type": "display_data",
          "data": {
            "text/plain": [
              "<Figure size 432x288 with 1 Axes>"
            ],
            "image/png": "[encoded data removed]"
          },
          "metadata": {
            "needs_background": "light"
          }
        }
      ]
    },
    {
      "cell_type": "code",
      "source": [
        "algo=AgglomerativeClustering(n_clusters=5, linkage='complete'  )"
      ],
      "metadata": {
        "id": "qP7ebg1qmL3f"
      },
      "execution_count": 111,
      "outputs": []
    },
    {
      "cell_type": "code",
      "source": [
        "algo.fit(dis)\n"
      ],
      "metadata": {
        "colab": {
          "base_uri": "https://localhost:8080/"
        },
        "id": "bMmNYpQwmL-Q",
        "outputId": "6f8dea16-e01b-44d7-8abf-5909c3ffc303"
      },
      "execution_count": 112,
      "outputs": [
        {
          "output_type": "execute_result",
          "data": {
            "text/plain": [
              "AgglomerativeClustering(linkage='complete', n_clusters=5)"
            ]
          },
          "metadata": {},
          "execution_count": 112
        }
      ]
    },
    {
      "cell_type": "code",
      "source": [
        "algo.labels_"
      ],
      "metadata": {
        "colab": {
          "base_uri": "https://localhost:8080/"
        },
        "id": "LY1iFr15m2u8",
        "outputId": "d2774472-7730-49f8-fed2-07cbebb910d2"
      },
      "execution_count": 113,
      "outputs": [
        {
          "output_type": "execute_result",
          "data": {
            "text/plain": [
              "array([3, 4, 1, 2, 0])"
            ]
          },
          "metadata": {},
          "execution_count": 113
        }
      ]
    }
  ],
  "metadata": {
    "colab": {
      "collapsed_sections": [],
      "provenance": [],
      "mount_file_id": "15wGNYkS024uN3QhofFOdguQR3xEP-d4q",
      "authorship_tag": "ABX9TyPO6gxh1Pg03sGL1HDLGI9K",
      "include_colab_link": true
    },
    "kernelspec": {
      "display_name": "Python 3",
      "name": "python3"
    },
    "language_info": {
      "name": "python"
    }
  },
  "nbformat": 4,
  "nbformat_minor": 0
}