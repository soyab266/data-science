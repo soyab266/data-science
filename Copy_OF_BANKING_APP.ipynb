{
  "nbformat": 4,
  "nbformat_minor": 0,
  "metadata": {
    "colab": {
      "provenance": [],
      "include_colab_link": true
    },
    "kernelspec": {
      "name": "python3",
      "display_name": "Python 3"
    },
    "language_info": {
      "name": "python"
    }
  },
  "cells": [
    {
      "cell_type": "markdown",
      "metadata": {
        "id": "view-in-github",
        "colab_type": "text"
      },
      "source": [
        "<a href=\"https://colab.research.google.com/github/soyab266/data-science/blob/master/Copy_OF_BANKING_APP.ipynb\" target=\"_parent\"><img src=\"https://colab.research.google.com/assets/colab-badge.svg\" alt=\"Open In Colab\"/></a>"
      ]
    },
    {
      "cell_type": "code",
      "execution_count": 2,
      "metadata": {
        "id": "3rwuRliDnX7y"
      },
      "outputs": [],
      "source": [
        "class Atm:\n",
        "  def __init__(self):\n",
        "    self.pin=''\n",
        "    self.balance=0\n",
        "    self.menu()\n",
        "\n",
        "  def menu(self):\n",
        "    user_input=input(\"\"\"\n",
        "    hello how can i help you\n",
        "    1.press 1 to enter your pin\n",
        "    2.press 2 to change your pin\n",
        "    3.press 3 to check you balance\n",
        "    4.press 4 to withdraw\n",
        "    5.anything else or exit \n",
        "    \"\"\")\n",
        "\n",
        "    if user_input == '1' :\n",
        "      self.create_pin()\n",
        "    elif user_input =='2':\n",
        "      self.change_pin()\n",
        "    elif user_input =='3':\n",
        "      self.check_balance()\n",
        "    elif user_input =='4':\n",
        "      self.widthdraw()\n",
        "    else:\n",
        "      exit()\n",
        "\n",
        "  def create_pin (self):\n",
        "    user_pin= input('enter your pin')\n",
        "    self.pin= user_pin\n",
        "\n",
        "    user_bal= input('enter your balance')\n",
        "    self.balance= user_bal\n",
        "    print('pin created successfully')\n",
        "    self.menu()\n",
        "\n",
        "  def change_pin(self):\n",
        "\n",
        "    old_pin = input('enter old pin')\n",
        "    if old_pin == self.pin:\n",
        "      new_pin= input('enter your new pin')\n",
        "      self.pin=new_pin\n",
        "      print('pin change successfull')\n",
        "      self.menu()\n",
        "    else:\n",
        "\n",
        "     print('incorrect credentials you cant change the pin')\n",
        "     self.menu()\n",
        "\n",
        "  def check_balance (self):\n",
        "    user_pin=input('enter your pin')\n",
        "    if user_pin == self.pin:\n",
        "      print('your balance is', self.balance)\n",
        "      self.menu()\n",
        "    else:\n",
        "      print('you cant check balance')\n",
        "      \n",
        "\n",
        "  def widthdraw (self):\n",
        "    user_pin=input('enter your pin')\n",
        "    if user_pin== self.pin:\n",
        "      amount=int(input('enter the amount to widthdraw'))\n",
        "      if amount <= int(self.balance):\n",
        "        self.balance = int(self.balance) - amount\n",
        "        print('pls collect your money', self.balance)\n",
        "      else:\n",
        "        print('low balance')\n",
        "    else:\n",
        "      print('not allow to take money')\n",
        "    self.menu()\n",
        "\n",
        "\n",
        "  \n",
        "    "
      ]
    },
    {
      "cell_type": "markdown",
      "source": [],
      "metadata": {
        "id": "Q2fpguvQsLRe"
      }
    },
    {
      "cell_type": "code",
      "source": [
        "obj=Atm()"
      ],
      "metadata": {
        "id": "Nd14oaTk9fJC",
        "outputId": "9a69730b-1bc6-44ce-b0fe-25869f654640",
        "colab": {
          "base_uri": "https://localhost:8080/"
        }
      },
      "execution_count": 3,
      "outputs": [
        {
          "name": "stdout",
          "output_type": "stream",
          "text": [
            "\n",
            "    hello how can i help you\n",
            "    1.press 1 to enter your pin\n",
            "    2.press 2 to change your pin\n",
            "    3.press 3 to check you balance\n",
            "    4.press 4 to withdraw\n",
            "    5.anything else or exit \n",
            "    1\n",
            "enter your pin12\n",
            "enter your balance2000\n",
            "pin created successfully\n",
            "\n",
            "    hello how can i help you\n",
            "    1.press 1 to enter your pin\n",
            "    2.press 2 to change your pin\n",
            "    3.press 3 to check you balance\n",
            "    4.press 4 to withdraw\n",
            "    5.anything else or exit \n",
            "    2\n",
            "enter old pin12\n",
            "enter your new pin123\n",
            "pin change successfull\n",
            "\n",
            "    hello how can i help you\n",
            "    1.press 1 to enter your pin\n",
            "    2.press 2 to change your pin\n",
            "    3.press 3 to check you balance\n",
            "    4.press 4 to withdraw\n",
            "    5.anything else or exit \n",
            "    3\n",
            "enter your pin123\n",
            "your balance is 2000\n",
            "\n",
            "    hello how can i help you\n",
            "    1.press 1 to enter your pin\n",
            "    2.press 2 to change your pin\n",
            "    3.press 3 to check you balance\n",
            "    4.press 4 to withdraw\n",
            "    5.anything else or exit \n",
            "    4\n",
            "enter your pin123\n",
            "enter the amount to widthdraw1000\n",
            "pls collect your money 1000\n",
            "\n",
            "    hello how can i help you\n",
            "    1.press 1 to enter your pin\n",
            "    2.press 2 to change your pin\n",
            "    3.press 3 to check you balance\n",
            "    4.press 4 to withdraw\n",
            "    5.anything else or exit \n",
            "    5\n"
          ]
        }
      ]
    }
  ]
}