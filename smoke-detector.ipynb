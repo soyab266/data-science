{
 "cells": [
  {
   "cell_type": "code",
   "execution_count": 1,
   "id": "cd565e32",
   "metadata": {
    "execution": {
     "iopub.execute_input": "2022-09-13T20:45:45.758938Z",
     "iopub.status.busy": "2022-09-13T20:45:45.758307Z",
     "iopub.status.idle": "2022-09-13T20:45:47.276173Z",
     "shell.execute_reply": "2022-09-13T20:45:47.274937Z"
    },
    "id": "kBf6441qGjgy",
    "papermill": {
     "duration": 1.531634,
     "end_time": "2022-09-13T20:45:47.279131",
     "exception": false,
     "start_time": "2022-09-13T20:45:45.747497",
     "status": "completed"
    },
    "tags": []
   },
   "outputs": [],
   "source": [
    "import numpy as np\n",
    "import pandas as pd\n",
    "import matplotlib.pyplot as plt\n",
    "import seaborn as sns\n",
    "from sklearn.preprocessing import StandardScaler\n",
    "from sklearn.model_selection import train_test_split\n",
    "from sklearn.metrics import r2_score\n",
    "from sklearn.neighbors import KNeighborsClassifier\n",
    "from sklearn.linear_model import LogisticRegression\n",
    "from sklearn.ensemble import RandomForestClassifier\n",
    "from sklearn.neighbors import KernelDensity"
   ]
  },
  {
   "cell_type": "code",
   "execution_count": 2,
   "id": "f9ce789a",
   "metadata": {
    "execution": {
     "iopub.execute_input": "2022-09-13T20:45:47.296481Z",
     "iopub.status.busy": "2022-09-13T20:45:47.295314Z",
     "iopub.status.idle": "2022-09-13T20:45:47.482552Z",
     "shell.execute_reply": "2022-09-13T20:45:47.481297Z"
    },
    "id": "2xlPSGzIHBoQ",
    "papermill": {
     "duration": 0.198462,
     "end_time": "2022-09-13T20:45:47.485210",
     "exception": false,
     "start_time": "2022-09-13T20:45:47.286748",
     "status": "completed"
    },
    "tags": []
   },
   "outputs": [],
   "source": [
    "df=pd.read_csv('../input/smoke-detect/smoke_detection_iot.csv')"
   ]
  },
  {
   "cell_type": "code",
   "execution_count": 3,
   "id": "40adeac9",
   "metadata": {
    "execution": {
     "iopub.execute_input": "2022-09-13T20:45:47.502195Z",
     "iopub.status.busy": "2022-09-13T20:45:47.501402Z",
     "iopub.status.idle": "2022-09-13T20:45:47.532729Z",
     "shell.execute_reply": "2022-09-13T20:45:47.531395Z"
    },
    "id": "RLc9uDvSHBrY",
    "outputId": "141d4dd7-7463-496c-f26e-67e4e84d6b38",
    "papermill": {
     "duration": 0.04302,
     "end_time": "2022-09-13T20:45:47.535771",
     "exception": false,
     "start_time": "2022-09-13T20:45:47.492751",
     "status": "completed"
    },
    "tags": []
   },
   "outputs": [
    {
     "data": {
      "text/html": [
       "<div>\n",
       "<style scoped>\n",
       "    .dataframe tbody tr th:only-of-type {\n",
       "        vertical-align: middle;\n",
       "    }\n",
       "\n",
       "    .dataframe tbody tr th {\n",
       "        vertical-align: top;\n",
       "    }\n",
       "\n",
       "    .dataframe thead th {\n",
       "        text-align: right;\n",
       "    }\n",
       "</style>\n",
       "<table border=\"1\" class=\"dataframe\">\n",
       "  <thead>\n",
       "    <tr style=\"text-align: right;\">\n",
       "      <th></th>\n",
       "      <th>Unnamed: 0</th>\n",
       "      <th>UTC</th>\n",
       "      <th>Temperature[C]</th>\n",
       "      <th>Humidity[%]</th>\n",
       "      <th>TVOC[ppb]</th>\n",
       "      <th>eCO2[ppm]</th>\n",
       "      <th>Raw H2</th>\n",
       "      <th>Raw Ethanol</th>\n",
       "      <th>Pressure[hPa]</th>\n",
       "      <th>PM1.0</th>\n",
       "      <th>PM2.5</th>\n",
       "      <th>NC0.5</th>\n",
       "      <th>NC1.0</th>\n",
       "      <th>NC2.5</th>\n",
       "      <th>CNT</th>\n",
       "      <th>Fire Alarm</th>\n",
       "    </tr>\n",
       "  </thead>\n",
       "  <tbody>\n",
       "    <tr>\n",
       "      <th>0</th>\n",
       "      <td>0</td>\n",
       "      <td>1654733331</td>\n",
       "      <td>20.000</td>\n",
       "      <td>57.36</td>\n",
       "      <td>0</td>\n",
       "      <td>400</td>\n",
       "      <td>12306</td>\n",
       "      <td>18520</td>\n",
       "      <td>939.735</td>\n",
       "      <td>0.0</td>\n",
       "      <td>0.0</td>\n",
       "      <td>0.0</td>\n",
       "      <td>0.0</td>\n",
       "      <td>0.0</td>\n",
       "      <td>0</td>\n",
       "      <td>0</td>\n",
       "    </tr>\n",
       "    <tr>\n",
       "      <th>1</th>\n",
       "      <td>1</td>\n",
       "      <td>1654733332</td>\n",
       "      <td>20.015</td>\n",
       "      <td>56.67</td>\n",
       "      <td>0</td>\n",
       "      <td>400</td>\n",
       "      <td>12345</td>\n",
       "      <td>18651</td>\n",
       "      <td>939.744</td>\n",
       "      <td>0.0</td>\n",
       "      <td>0.0</td>\n",
       "      <td>0.0</td>\n",
       "      <td>0.0</td>\n",
       "      <td>0.0</td>\n",
       "      <td>1</td>\n",
       "      <td>0</td>\n",
       "    </tr>\n",
       "    <tr>\n",
       "      <th>2</th>\n",
       "      <td>2</td>\n",
       "      <td>1654733333</td>\n",
       "      <td>20.029</td>\n",
       "      <td>55.96</td>\n",
       "      <td>0</td>\n",
       "      <td>400</td>\n",
       "      <td>12374</td>\n",
       "      <td>18764</td>\n",
       "      <td>939.738</td>\n",
       "      <td>0.0</td>\n",
       "      <td>0.0</td>\n",
       "      <td>0.0</td>\n",
       "      <td>0.0</td>\n",
       "      <td>0.0</td>\n",
       "      <td>2</td>\n",
       "      <td>0</td>\n",
       "    </tr>\n",
       "    <tr>\n",
       "      <th>3</th>\n",
       "      <td>3</td>\n",
       "      <td>1654733334</td>\n",
       "      <td>20.044</td>\n",
       "      <td>55.28</td>\n",
       "      <td>0</td>\n",
       "      <td>400</td>\n",
       "      <td>12390</td>\n",
       "      <td>18849</td>\n",
       "      <td>939.736</td>\n",
       "      <td>0.0</td>\n",
       "      <td>0.0</td>\n",
       "      <td>0.0</td>\n",
       "      <td>0.0</td>\n",
       "      <td>0.0</td>\n",
       "      <td>3</td>\n",
       "      <td>0</td>\n",
       "    </tr>\n",
       "    <tr>\n",
       "      <th>4</th>\n",
       "      <td>4</td>\n",
       "      <td>1654733335</td>\n",
       "      <td>20.059</td>\n",
       "      <td>54.69</td>\n",
       "      <td>0</td>\n",
       "      <td>400</td>\n",
       "      <td>12403</td>\n",
       "      <td>18921</td>\n",
       "      <td>939.744</td>\n",
       "      <td>0.0</td>\n",
       "      <td>0.0</td>\n",
       "      <td>0.0</td>\n",
       "      <td>0.0</td>\n",
       "      <td>0.0</td>\n",
       "      <td>4</td>\n",
       "      <td>0</td>\n",
       "    </tr>\n",
       "  </tbody>\n",
       "</table>\n",
       "</div>"
      ],
      "text/plain": [
       "   Unnamed: 0         UTC  Temperature[C]  Humidity[%]  TVOC[ppb]  eCO2[ppm]  \\\n",
       "0           0  1654733331          20.000        57.36          0        400   \n",
       "1           1  1654733332          20.015        56.67          0        400   \n",
       "2           2  1654733333          20.029        55.96          0        400   \n",
       "3           3  1654733334          20.044        55.28          0        400   \n",
       "4           4  1654733335          20.059        54.69          0        400   \n",
       "\n",
       "   Raw H2  Raw Ethanol  Pressure[hPa]  PM1.0  PM2.5  NC0.5  NC1.0  NC2.5  CNT  \\\n",
       "0   12306        18520        939.735    0.0    0.0    0.0    0.0    0.0    0   \n",
       "1   12345        18651        939.744    0.0    0.0    0.0    0.0    0.0    1   \n",
       "2   12374        18764        939.738    0.0    0.0    0.0    0.0    0.0    2   \n",
       "3   12390        18849        939.736    0.0    0.0    0.0    0.0    0.0    3   \n",
       "4   12403        18921        939.744    0.0    0.0    0.0    0.0    0.0    4   \n",
       "\n",
       "   Fire Alarm  \n",
       "0           0  \n",
       "1           0  \n",
       "2           0  \n",
       "3           0  \n",
       "4           0  "
      ]
     },
     "execution_count": 3,
     "metadata": {},
     "output_type": "execute_result"
    }
   ],
   "source": [
    "df.head()"
   ]
  },
  {
   "cell_type": "code",
   "execution_count": 4,
   "id": "18c2b12a",
   "metadata": {
    "execution": {
     "iopub.execute_input": "2022-09-13T20:45:47.553534Z",
     "iopub.status.busy": "2022-09-13T20:45:47.553072Z",
     "iopub.status.idle": "2022-09-13T20:45:47.560430Z",
     "shell.execute_reply": "2022-09-13T20:45:47.559509Z"
    },
    "id": "-Sdch06-IMNC",
    "outputId": "9c20af2f-2f3f-4c7c-e769-3277bb9b354d",
    "papermill": {
     "duration": 0.018713,
     "end_time": "2022-09-13T20:45:47.562525",
     "exception": false,
     "start_time": "2022-09-13T20:45:47.543812",
     "status": "completed"
    },
    "tags": []
   },
   "outputs": [
    {
     "data": {
      "text/plain": [
       "(62630, 16)"
      ]
     },
     "execution_count": 4,
     "metadata": {},
     "output_type": "execute_result"
    }
   ],
   "source": [
    "df.shape # row=62630, and columns=16"
   ]
  },
  {
   "cell_type": "markdown",
   "id": "1c81d79a",
   "metadata": {
    "id": "y9YpgBA8PFvE",
    "papermill": {
     "duration": 0.007374,
     "end_time": "2022-09-13T20:45:47.577564",
     "exception": false,
     "start_time": "2022-09-13T20:45:47.570190",
     "status": "completed"
    },
    "tags": []
   },
   "source": [
    "Feature Description\n",
    "1- UTC : The time when experiment was performed.\n",
    "\n",
    "2- Temperature : Temperature of Surroundings. Measured in Celsius\n",
    "\n",
    "3- Humidity : The air humidity during the experiment.\n",
    "\n",
    "4- TVOC : Total Volatile Organic Compounds. Measured in ppb (parts per billion)\n",
    "\n",
    "5- eCo2 : CO2 equivalent concentration. Measured in ppm (parts per million)\n",
    "\n",
    "6- Raw H2 : The amount of Raw Hydrogen present in the surroundings.\n",
    "\n",
    " Raw Ethanol : The amount of Raw Ethanol present in the surroundings.\n",
    "8- Pressure : Air pressure. Measured in hPa\n",
    "\n",
    "9- PM1.0 : Paticulate matter of diameter less than 1.0 micrometer .\n",
    "\n",
    "10- PM2.5 : Paticulate matter of diameter less than 2.5 micrometer.\n",
    "\n",
    "11- NC0.5 : Concentration of particulate matter of diameter less than 0.5 micrometers.\n",
    "\n",
    "12- NC1.0 : Concentration of particulate matter of diameter less than 1.0\n",
    "\n",
    "13- NC2.5 : Concentration of particulate matter of diameter less than 2.5 micrometers.\n",
    "14- CNT : Simple Count.\n",
    "\n",
    "15- Fire Alarm : (Reality) If fire was present then value is 1 else it is 0.¶"
   ]
  },
  {
   "cell_type": "code",
   "execution_count": 5,
   "id": "0a386990",
   "metadata": {
    "execution": {
     "iopub.execute_input": "2022-09-13T20:45:47.595098Z",
     "iopub.status.busy": "2022-09-13T20:45:47.594341Z",
     "iopub.status.idle": "2022-09-13T20:45:47.605648Z",
     "shell.execute_reply": "2022-09-13T20:45:47.604692Z"
    },
    "id": "4zpZEaT5IMbY",
    "outputId": "6bfc0f85-d68d-4cd3-c097-3970985e5fe6",
    "papermill": {
     "duration": 0.02294,
     "end_time": "2022-09-13T20:45:47.608144",
     "exception": false,
     "start_time": "2022-09-13T20:45:47.585204",
     "status": "completed"
    },
    "tags": []
   },
   "outputs": [
    {
     "data": {
      "text/plain": [
       "Unnamed: 0        0\n",
       "UTC               0\n",
       "Temperature[C]    0\n",
       "Humidity[%]       0\n",
       "TVOC[ppb]         0\n",
       "eCO2[ppm]         0\n",
       "Raw H2            0\n",
       "Raw Ethanol       0\n",
       "Pressure[hPa]     0\n",
       "PM1.0             0\n",
       "PM2.5             0\n",
       "NC0.5             0\n",
       "NC1.0             0\n",
       "NC2.5             0\n",
       "CNT               0\n",
       "Fire Alarm        0\n",
       "dtype: int64"
      ]
     },
     "execution_count": 5,
     "metadata": {},
     "output_type": "execute_result"
    }
   ],
   "source": [
    "df.isnull().sum() # just to see is there any missing value = no missing value is there."
   ]
  },
  {
   "cell_type": "code",
   "execution_count": 6,
   "id": "9af03dc8",
   "metadata": {
    "execution": {
     "iopub.execute_input": "2022-09-13T20:45:47.626518Z",
     "iopub.status.busy": "2022-09-13T20:45:47.626052Z",
     "iopub.status.idle": "2022-09-13T20:45:47.633249Z",
     "shell.execute_reply": "2022-09-13T20:45:47.632367Z"
    },
    "id": "7jZOw5WwIYbf",
    "outputId": "f18446e1-002b-4804-8c19-4fb47e0d3f39",
    "papermill": {
     "duration": 0.019118,
     "end_time": "2022-09-13T20:45:47.635682",
     "exception": false,
     "start_time": "2022-09-13T20:45:47.616564",
     "status": "completed"
    },
    "tags": []
   },
   "outputs": [
    {
     "data": {
      "text/plain": [
       "Index(['Unnamed: 0', 'UTC', 'Temperature[C]', 'Humidity[%]', 'TVOC[ppb]',\n",
       "       'eCO2[ppm]', 'Raw H2', 'Raw Ethanol', 'Pressure[hPa]', 'PM1.0', 'PM2.5',\n",
       "       'NC0.5', 'NC1.0', 'NC2.5', 'CNT', 'Fire Alarm'],\n",
       "      dtype='object')"
      ]
     },
     "execution_count": 6,
     "metadata": {},
     "output_type": "execute_result"
    }
   ],
   "source": [
    "df.columns # total numbers of columns =16"
   ]
  },
  {
   "cell_type": "code",
   "execution_count": 7,
   "id": "6882c498",
   "metadata": {
    "execution": {
     "iopub.execute_input": "2022-09-13T20:45:47.654145Z",
     "iopub.status.busy": "2022-09-13T20:45:47.653392Z",
     "iopub.status.idle": "2022-09-13T20:45:47.680935Z",
     "shell.execute_reply": "2022-09-13T20:45:47.679956Z"
    },
    "id": "NKvkLMiNIYvS",
    "outputId": "aef4ae42-352b-4842-9048-02a10ca51d07",
    "papermill": {
     "duration": 0.039955,
     "end_time": "2022-09-13T20:45:47.683625",
     "exception": false,
     "start_time": "2022-09-13T20:45:47.643670",
     "status": "completed"
    },
    "tags": []
   },
   "outputs": [
    {
     "name": "stdout",
     "output_type": "stream",
     "text": [
      "<class 'pandas.core.frame.DataFrame'>\n",
      "RangeIndex: 62630 entries, 0 to 62629\n",
      "Data columns (total 16 columns):\n",
      " #   Column          Non-Null Count  Dtype  \n",
      "---  ------          --------------  -----  \n",
      " 0   Unnamed: 0      62630 non-null  int64  \n",
      " 1   UTC             62630 non-null  int64  \n",
      " 2   Temperature[C]  62630 non-null  float64\n",
      " 3   Humidity[%]     62630 non-null  float64\n",
      " 4   TVOC[ppb]       62630 non-null  int64  \n",
      " 5   eCO2[ppm]       62630 non-null  int64  \n",
      " 6   Raw H2          62630 non-null  int64  \n",
      " 7   Raw Ethanol     62630 non-null  int64  \n",
      " 8   Pressure[hPa]   62630 non-null  float64\n",
      " 9   PM1.0           62630 non-null  float64\n",
      " 10  PM2.5           62630 non-null  float64\n",
      " 11  NC0.5           62630 non-null  float64\n",
      " 12  NC1.0           62630 non-null  float64\n",
      " 13  NC2.5           62630 non-null  float64\n",
      " 14  CNT             62630 non-null  int64  \n",
      " 15  Fire Alarm      62630 non-null  int64  \n",
      "dtypes: float64(8), int64(8)\n",
      "memory usage: 7.6 MB\n"
     ]
    }
   ],
   "source": [
    "df.info()"
   ]
  },
  {
   "cell_type": "markdown",
   "id": "ed521d3a",
   "metadata": {
    "id": "34A_NAXaUYoF",
    "papermill": {
     "duration": 0.007609,
     "end_time": "2022-09-13T20:45:47.699335",
     "exception": false,
     "start_time": "2022-09-13T20:45:47.691726",
     "status": "completed"
    },
    "tags": []
   },
   "source": [
    "Exploratory Data Analysis"
   ]
  },
  {
   "cell_type": "code",
   "execution_count": 8,
   "id": "0db0818a",
   "metadata": {
    "execution": {
     "iopub.execute_input": "2022-09-13T20:45:47.718373Z",
     "iopub.status.busy": "2022-09-13T20:45:47.717308Z",
     "iopub.status.idle": "2022-09-13T20:45:47.807814Z",
     "shell.execute_reply": "2022-09-13T20:45:47.806884Z"
    },
    "id": "8vsMnqKHRH_m",
    "outputId": "87fadcfe-d3db-490e-9f45-23d409db6952",
    "papermill": {
     "duration": 0.1021,
     "end_time": "2022-09-13T20:45:47.810183",
     "exception": false,
     "start_time": "2022-09-13T20:45:47.708083",
     "status": "completed"
    },
    "tags": []
   },
   "outputs": [
    {
     "data": {
      "text/html": [
       "<div>\n",
       "<style scoped>\n",
       "    .dataframe tbody tr th:only-of-type {\n",
       "        vertical-align: middle;\n",
       "    }\n",
       "\n",
       "    .dataframe tbody tr th {\n",
       "        vertical-align: top;\n",
       "    }\n",
       "\n",
       "    .dataframe thead th {\n",
       "        text-align: right;\n",
       "    }\n",
       "</style>\n",
       "<table border=\"1\" class=\"dataframe\">\n",
       "  <thead>\n",
       "    <tr style=\"text-align: right;\">\n",
       "      <th></th>\n",
       "      <th>Unnamed: 0</th>\n",
       "      <th>UTC</th>\n",
       "      <th>Temperature[C]</th>\n",
       "      <th>Humidity[%]</th>\n",
       "      <th>TVOC[ppb]</th>\n",
       "      <th>eCO2[ppm]</th>\n",
       "      <th>Raw H2</th>\n",
       "      <th>Raw Ethanol</th>\n",
       "      <th>Pressure[hPa]</th>\n",
       "      <th>PM1.0</th>\n",
       "      <th>PM2.5</th>\n",
       "      <th>NC0.5</th>\n",
       "      <th>NC1.0</th>\n",
       "      <th>NC2.5</th>\n",
       "      <th>CNT</th>\n",
       "      <th>Fire Alarm</th>\n",
       "    </tr>\n",
       "  </thead>\n",
       "  <tbody>\n",
       "    <tr>\n",
       "      <th>count</th>\n",
       "      <td>62630.000000</td>\n",
       "      <td>6.263000e+04</td>\n",
       "      <td>62630.000000</td>\n",
       "      <td>62630.000000</td>\n",
       "      <td>62630.000000</td>\n",
       "      <td>62630.000000</td>\n",
       "      <td>62630.000000</td>\n",
       "      <td>62630.000000</td>\n",
       "      <td>62630.000000</td>\n",
       "      <td>62630.000000</td>\n",
       "      <td>62630.000000</td>\n",
       "      <td>62630.000000</td>\n",
       "      <td>62630.000000</td>\n",
       "      <td>62630.000000</td>\n",
       "      <td>62630.000000</td>\n",
       "      <td>62630.000000</td>\n",
       "    </tr>\n",
       "    <tr>\n",
       "      <th>mean</th>\n",
       "      <td>31314.500000</td>\n",
       "      <td>1.654792e+09</td>\n",
       "      <td>15.970424</td>\n",
       "      <td>48.539499</td>\n",
       "      <td>1942.057528</td>\n",
       "      <td>670.021044</td>\n",
       "      <td>12942.453936</td>\n",
       "      <td>19754.257912</td>\n",
       "      <td>938.627649</td>\n",
       "      <td>100.594309</td>\n",
       "      <td>184.467770</td>\n",
       "      <td>491.463608</td>\n",
       "      <td>203.586487</td>\n",
       "      <td>80.049042</td>\n",
       "      <td>10511.386157</td>\n",
       "      <td>0.714626</td>\n",
       "    </tr>\n",
       "    <tr>\n",
       "      <th>std</th>\n",
       "      <td>18079.868017</td>\n",
       "      <td>1.100025e+05</td>\n",
       "      <td>14.359576</td>\n",
       "      <td>8.865367</td>\n",
       "      <td>7811.589055</td>\n",
       "      <td>1905.885439</td>\n",
       "      <td>272.464305</td>\n",
       "      <td>609.513156</td>\n",
       "      <td>1.331344</td>\n",
       "      <td>922.524245</td>\n",
       "      <td>1976.305615</td>\n",
       "      <td>4265.661251</td>\n",
       "      <td>2214.738556</td>\n",
       "      <td>1083.383189</td>\n",
       "      <td>7597.870997</td>\n",
       "      <td>0.451596</td>\n",
       "    </tr>\n",
       "    <tr>\n",
       "      <th>min</th>\n",
       "      <td>0.000000</td>\n",
       "      <td>1.654712e+09</td>\n",
       "      <td>-22.010000</td>\n",
       "      <td>10.740000</td>\n",
       "      <td>0.000000</td>\n",
       "      <td>400.000000</td>\n",
       "      <td>10668.000000</td>\n",
       "      <td>15317.000000</td>\n",
       "      <td>930.852000</td>\n",
       "      <td>0.000000</td>\n",
       "      <td>0.000000</td>\n",
       "      <td>0.000000</td>\n",
       "      <td>0.000000</td>\n",
       "      <td>0.000000</td>\n",
       "      <td>0.000000</td>\n",
       "      <td>0.000000</td>\n",
       "    </tr>\n",
       "    <tr>\n",
       "      <th>25%</th>\n",
       "      <td>15657.250000</td>\n",
       "      <td>1.654743e+09</td>\n",
       "      <td>10.994250</td>\n",
       "      <td>47.530000</td>\n",
       "      <td>130.000000</td>\n",
       "      <td>400.000000</td>\n",
       "      <td>12830.000000</td>\n",
       "      <td>19435.000000</td>\n",
       "      <td>938.700000</td>\n",
       "      <td>1.280000</td>\n",
       "      <td>1.340000</td>\n",
       "      <td>8.820000</td>\n",
       "      <td>1.384000</td>\n",
       "      <td>0.033000</td>\n",
       "      <td>3625.250000</td>\n",
       "      <td>0.000000</td>\n",
       "    </tr>\n",
       "    <tr>\n",
       "      <th>50%</th>\n",
       "      <td>31314.500000</td>\n",
       "      <td>1.654762e+09</td>\n",
       "      <td>20.130000</td>\n",
       "      <td>50.150000</td>\n",
       "      <td>981.000000</td>\n",
       "      <td>400.000000</td>\n",
       "      <td>12924.000000</td>\n",
       "      <td>19501.000000</td>\n",
       "      <td>938.816000</td>\n",
       "      <td>1.810000</td>\n",
       "      <td>1.880000</td>\n",
       "      <td>12.450000</td>\n",
       "      <td>1.943000</td>\n",
       "      <td>0.044000</td>\n",
       "      <td>9336.000000</td>\n",
       "      <td>1.000000</td>\n",
       "    </tr>\n",
       "    <tr>\n",
       "      <th>75%</th>\n",
       "      <td>46971.750000</td>\n",
       "      <td>1.654778e+09</td>\n",
       "      <td>25.409500</td>\n",
       "      <td>53.240000</td>\n",
       "      <td>1189.000000</td>\n",
       "      <td>438.000000</td>\n",
       "      <td>13109.000000</td>\n",
       "      <td>20078.000000</td>\n",
       "      <td>939.418000</td>\n",
       "      <td>2.090000</td>\n",
       "      <td>2.180000</td>\n",
       "      <td>14.420000</td>\n",
       "      <td>2.249000</td>\n",
       "      <td>0.051000</td>\n",
       "      <td>17164.750000</td>\n",
       "      <td>1.000000</td>\n",
       "    </tr>\n",
       "    <tr>\n",
       "      <th>max</th>\n",
       "      <td>62629.000000</td>\n",
       "      <td>1.655130e+09</td>\n",
       "      <td>59.930000</td>\n",
       "      <td>75.200000</td>\n",
       "      <td>60000.000000</td>\n",
       "      <td>60000.000000</td>\n",
       "      <td>13803.000000</td>\n",
       "      <td>21410.000000</td>\n",
       "      <td>939.861000</td>\n",
       "      <td>14333.690000</td>\n",
       "      <td>45432.260000</td>\n",
       "      <td>61482.030000</td>\n",
       "      <td>51914.680000</td>\n",
       "      <td>30026.438000</td>\n",
       "      <td>24993.000000</td>\n",
       "      <td>1.000000</td>\n",
       "    </tr>\n",
       "  </tbody>\n",
       "</table>\n",
       "</div>"
      ],
      "text/plain": [
       "         Unnamed: 0           UTC  Temperature[C]   Humidity[%]     TVOC[ppb]  \\\n",
       "count  62630.000000  6.263000e+04    62630.000000  62630.000000  62630.000000   \n",
       "mean   31314.500000  1.654792e+09       15.970424     48.539499   1942.057528   \n",
       "std    18079.868017  1.100025e+05       14.359576      8.865367   7811.589055   \n",
       "min        0.000000  1.654712e+09      -22.010000     10.740000      0.000000   \n",
       "25%    15657.250000  1.654743e+09       10.994250     47.530000    130.000000   \n",
       "50%    31314.500000  1.654762e+09       20.130000     50.150000    981.000000   \n",
       "75%    46971.750000  1.654778e+09       25.409500     53.240000   1189.000000   \n",
       "max    62629.000000  1.655130e+09       59.930000     75.200000  60000.000000   \n",
       "\n",
       "          eCO2[ppm]        Raw H2   Raw Ethanol  Pressure[hPa]         PM1.0  \\\n",
       "count  62630.000000  62630.000000  62630.000000   62630.000000  62630.000000   \n",
       "mean     670.021044  12942.453936  19754.257912     938.627649    100.594309   \n",
       "std     1905.885439    272.464305    609.513156       1.331344    922.524245   \n",
       "min      400.000000  10668.000000  15317.000000     930.852000      0.000000   \n",
       "25%      400.000000  12830.000000  19435.000000     938.700000      1.280000   \n",
       "50%      400.000000  12924.000000  19501.000000     938.816000      1.810000   \n",
       "75%      438.000000  13109.000000  20078.000000     939.418000      2.090000   \n",
       "max    60000.000000  13803.000000  21410.000000     939.861000  14333.690000   \n",
       "\n",
       "              PM2.5         NC0.5         NC1.0         NC2.5           CNT  \\\n",
       "count  62630.000000  62630.000000  62630.000000  62630.000000  62630.000000   \n",
       "mean     184.467770    491.463608    203.586487     80.049042  10511.386157   \n",
       "std     1976.305615   4265.661251   2214.738556   1083.383189   7597.870997   \n",
       "min        0.000000      0.000000      0.000000      0.000000      0.000000   \n",
       "25%        1.340000      8.820000      1.384000      0.033000   3625.250000   \n",
       "50%        1.880000     12.450000      1.943000      0.044000   9336.000000   \n",
       "75%        2.180000     14.420000      2.249000      0.051000  17164.750000   \n",
       "max    45432.260000  61482.030000  51914.680000  30026.438000  24993.000000   \n",
       "\n",
       "         Fire Alarm  \n",
       "count  62630.000000  \n",
       "mean       0.714626  \n",
       "std        0.451596  \n",
       "min        0.000000  \n",
       "25%        0.000000  \n",
       "50%        1.000000  \n",
       "75%        1.000000  \n",
       "max        1.000000  "
      ]
     },
     "execution_count": 8,
     "metadata": {},
     "output_type": "execute_result"
    }
   ],
   "source": [
    "df.describe()"
   ]
  },
  {
   "cell_type": "markdown",
   "id": "7b378265",
   "metadata": {
    "id": "qai1wvccUbYY",
    "papermill": {
     "duration": 0.008161,
     "end_time": "2022-09-13T20:45:47.826931",
     "exception": false,
     "start_time": "2022-09-13T20:45:47.818770",
     "status": "completed"
    },
    "tags": []
   },
   "source": [
    "observations from df.describe -\n",
    "\n",
    "1 Temperature[C] - here mean is 15 and std is 14 it means that  the values of this column may have high variations.\n",
    "\n",
    "2Humidity[%]\t- here mean is 48 and std is 8 it means max values are near with mean, with few variations.\n",
    "\n",
    "3Pressure[hPa]\t- here maen value is 938 and std is 1 it means allthe values of this column is near to average.min =930 and max=936"
   ]
  },
  {
   "cell_type": "code",
   "execution_count": 9,
   "id": "6ee97001",
   "metadata": {
    "execution": {
     "iopub.execute_input": "2022-09-13T20:45:47.845521Z",
     "iopub.status.busy": "2022-09-13T20:45:47.845074Z",
     "iopub.status.idle": "2022-09-13T20:45:47.853045Z",
     "shell.execute_reply": "2022-09-13T20:45:47.851782Z"
    },
    "id": "kSKROYBJjFp1",
    "papermill": {
     "duration": 0.020018,
     "end_time": "2022-09-13T20:45:47.855390",
     "exception": false,
     "start_time": "2022-09-13T20:45:47.835372",
     "status": "completed"
    },
    "tags": []
   },
   "outputs": [],
   "source": [
    "df1=df.drop(columns=['UTC','CNT', 'Unnamed: 0'] ,axis=1)"
   ]
  },
  {
   "cell_type": "code",
   "execution_count": 10,
   "id": "b653aa4f",
   "metadata": {
    "execution": {
     "iopub.execute_input": "2022-09-13T20:45:47.875056Z",
     "iopub.status.busy": "2022-09-13T20:45:47.874625Z",
     "iopub.status.idle": "2022-09-13T20:45:47.882297Z",
     "shell.execute_reply": "2022-09-13T20:45:47.881164Z"
    },
    "id": "jrI394VLjGOj",
    "outputId": "52de9bed-0e15-4c0c-e77d-91f982052c39",
    "papermill": {
     "duration": 0.020553,
     "end_time": "2022-09-13T20:45:47.884637",
     "exception": false,
     "start_time": "2022-09-13T20:45:47.864084",
     "status": "completed"
    },
    "tags": []
   },
   "outputs": [
    {
     "data": {
      "text/plain": [
       "(62630, 13)"
      ]
     },
     "execution_count": 10,
     "metadata": {},
     "output_type": "execute_result"
    }
   ],
   "source": [
    "df1.shape"
   ]
  },
  {
   "cell_type": "markdown",
   "id": "150a0f04",
   "metadata": {
    "id": "jHdY2ewqnUBX",
    "papermill": {
     "duration": 0.008876,
     "end_time": "2022-09-13T20:45:47.902410",
     "exception": false,
     "start_time": "2022-09-13T20:45:47.893534",
     "status": "completed"
    },
    "tags": []
   },
   "source": [
    "now we have removed 'UTC','CNT', 'Unnamed: 0' because this columns were not important.now we have rows=62630 and columns=13\n",
    "and our data frame=df1"
   ]
  },
  {
   "cell_type": "code",
   "execution_count": 11,
   "id": "744d1586",
   "metadata": {
    "execution": {
     "iopub.execute_input": "2022-09-13T20:45:47.922255Z",
     "iopub.status.busy": "2022-09-13T20:45:47.921620Z",
     "iopub.status.idle": "2022-09-13T20:45:47.979709Z",
     "shell.execute_reply": "2022-09-13T20:45:47.978530Z"
    },
    "id": "pnGPNnx9Xtfm",
    "outputId": "9500080b-940c-4649-d5b6-276b0859db0e",
    "papermill": {
     "duration": 0.071122,
     "end_time": "2022-09-13T20:45:47.982543",
     "exception": false,
     "start_time": "2022-09-13T20:45:47.911421",
     "status": "completed"
    },
    "tags": []
   },
   "outputs": [
    {
     "data": {
      "text/html": [
       "<div>\n",
       "<style scoped>\n",
       "    .dataframe tbody tr th:only-of-type {\n",
       "        vertical-align: middle;\n",
       "    }\n",
       "\n",
       "    .dataframe tbody tr th {\n",
       "        vertical-align: top;\n",
       "    }\n",
       "\n",
       "    .dataframe thead th {\n",
       "        text-align: right;\n",
       "    }\n",
       "</style>\n",
       "<table border=\"1\" class=\"dataframe\">\n",
       "  <thead>\n",
       "    <tr style=\"text-align: right;\">\n",
       "      <th></th>\n",
       "      <th>Temperature[C]</th>\n",
       "      <th>Humidity[%]</th>\n",
       "      <th>TVOC[ppb]</th>\n",
       "      <th>eCO2[ppm]</th>\n",
       "      <th>Raw H2</th>\n",
       "      <th>Raw Ethanol</th>\n",
       "      <th>Pressure[hPa]</th>\n",
       "      <th>PM1.0</th>\n",
       "      <th>PM2.5</th>\n",
       "      <th>NC0.5</th>\n",
       "      <th>NC1.0</th>\n",
       "      <th>NC2.5</th>\n",
       "      <th>Fire Alarm</th>\n",
       "    </tr>\n",
       "  </thead>\n",
       "  <tbody>\n",
       "    <tr>\n",
       "      <th>Temperature[C]</th>\n",
       "      <td>1.000000</td>\n",
       "      <td>-0.243986</td>\n",
       "      <td>0.082442</td>\n",
       "      <td>0.079265</td>\n",
       "      <td>-0.135540</td>\n",
       "      <td>-0.037343</td>\n",
       "      <td>-0.251203</td>\n",
       "      <td>0.037330</td>\n",
       "      <td>0.032084</td>\n",
       "      <td>0.039291</td>\n",
       "      <td>0.031608</td>\n",
       "      <td>0.025526</td>\n",
       "      <td>-0.163902</td>\n",
       "    </tr>\n",
       "    <tr>\n",
       "      <th>Humidity[%]</th>\n",
       "      <td>-0.243986</td>\n",
       "      <td>1.000000</td>\n",
       "      <td>-0.488878</td>\n",
       "      <td>-0.369095</td>\n",
       "      <td>0.247199</td>\n",
       "      <td>0.068782</td>\n",
       "      <td>0.694614</td>\n",
       "      <td>-0.236538</td>\n",
       "      <td>-0.178882</td>\n",
       "      <td>-0.277389</td>\n",
       "      <td>-0.174224</td>\n",
       "      <td>-0.118502</td>\n",
       "      <td>0.399846</td>\n",
       "    </tr>\n",
       "    <tr>\n",
       "      <th>TVOC[ppb]</th>\n",
       "      <td>0.082442</td>\n",
       "      <td>-0.488878</td>\n",
       "      <td>1.000000</td>\n",
       "      <td>0.606118</td>\n",
       "      <td>-0.653053</td>\n",
       "      <td>-0.673715</td>\n",
       "      <td>-0.220004</td>\n",
       "      <td>0.597366</td>\n",
       "      <td>0.477424</td>\n",
       "      <td>0.670657</td>\n",
       "      <td>0.467386</td>\n",
       "      <td>0.344721</td>\n",
       "      <td>-0.214743</td>\n",
       "    </tr>\n",
       "    <tr>\n",
       "      <th>eCO2[ppm]</th>\n",
       "      <td>0.079265</td>\n",
       "      <td>-0.369095</td>\n",
       "      <td>0.606118</td>\n",
       "      <td>1.000000</td>\n",
       "      <td>-0.682785</td>\n",
       "      <td>-0.506695</td>\n",
       "      <td>-0.326043</td>\n",
       "      <td>0.665482</td>\n",
       "      <td>0.572691</td>\n",
       "      <td>0.699604</td>\n",
       "      <td>0.564252</td>\n",
       "      <td>0.456323</td>\n",
       "      <td>-0.097006</td>\n",
       "    </tr>\n",
       "    <tr>\n",
       "      <th>Raw H2</th>\n",
       "      <td>-0.135540</td>\n",
       "      <td>0.247199</td>\n",
       "      <td>-0.653053</td>\n",
       "      <td>-0.682785</td>\n",
       "      <td>1.000000</td>\n",
       "      <td>0.631495</td>\n",
       "      <td>0.303090</td>\n",
       "      <td>-0.530714</td>\n",
       "      <td>-0.431079</td>\n",
       "      <td>-0.587769</td>\n",
       "      <td>-0.422626</td>\n",
       "      <td>-0.318518</td>\n",
       "      <td>0.107007</td>\n",
       "    </tr>\n",
       "    <tr>\n",
       "      <th>Raw Ethanol</th>\n",
       "      <td>-0.037343</td>\n",
       "      <td>0.068782</td>\n",
       "      <td>-0.673715</td>\n",
       "      <td>-0.506695</td>\n",
       "      <td>0.631495</td>\n",
       "      <td>1.000000</td>\n",
       "      <td>-0.075926</td>\n",
       "      <td>-0.480698</td>\n",
       "      <td>-0.393192</td>\n",
       "      <td>-0.529186</td>\n",
       "      <td>-0.385720</td>\n",
       "      <td>-0.293351</td>\n",
       "      <td>-0.340652</td>\n",
       "    </tr>\n",
       "    <tr>\n",
       "      <th>Pressure[hPa]</th>\n",
       "      <td>-0.251203</td>\n",
       "      <td>0.694614</td>\n",
       "      <td>-0.220004</td>\n",
       "      <td>-0.326043</td>\n",
       "      <td>0.303090</td>\n",
       "      <td>-0.075926</td>\n",
       "      <td>1.000000</td>\n",
       "      <td>-0.258938</td>\n",
       "      <td>-0.243071</td>\n",
       "      <td>-0.248657</td>\n",
       "      <td>-0.241148</td>\n",
       "      <td>-0.213390</td>\n",
       "      <td>0.249797</td>\n",
       "    </tr>\n",
       "    <tr>\n",
       "      <th>PM1.0</th>\n",
       "      <td>0.037330</td>\n",
       "      <td>-0.236538</td>\n",
       "      <td>0.597366</td>\n",
       "      <td>0.665482</td>\n",
       "      <td>-0.530714</td>\n",
       "      <td>-0.480698</td>\n",
       "      <td>-0.258938</td>\n",
       "      <td>1.000000</td>\n",
       "      <td>0.956118</td>\n",
       "      <td>0.940045</td>\n",
       "      <td>0.949860</td>\n",
       "      <td>0.854901</td>\n",
       "      <td>-0.110552</td>\n",
       "    </tr>\n",
       "    <tr>\n",
       "      <th>PM2.5</th>\n",
       "      <td>0.032084</td>\n",
       "      <td>-0.178882</td>\n",
       "      <td>0.477424</td>\n",
       "      <td>0.572691</td>\n",
       "      <td>-0.431079</td>\n",
       "      <td>-0.393192</td>\n",
       "      <td>-0.243071</td>\n",
       "      <td>0.956118</td>\n",
       "      <td>1.000000</td>\n",
       "      <td>0.798873</td>\n",
       "      <td>0.999787</td>\n",
       "      <td>0.969382</td>\n",
       "      <td>-0.084916</td>\n",
       "    </tr>\n",
       "    <tr>\n",
       "      <th>NC0.5</th>\n",
       "      <td>0.039291</td>\n",
       "      <td>-0.277389</td>\n",
       "      <td>0.670657</td>\n",
       "      <td>0.699604</td>\n",
       "      <td>-0.587769</td>\n",
       "      <td>-0.529186</td>\n",
       "      <td>-0.248657</td>\n",
       "      <td>0.940045</td>\n",
       "      <td>0.798873</td>\n",
       "      <td>1.000000</td>\n",
       "      <td>0.786274</td>\n",
       "      <td>0.626711</td>\n",
       "      <td>-0.128118</td>\n",
       "    </tr>\n",
       "    <tr>\n",
       "      <th>NC1.0</th>\n",
       "      <td>0.031608</td>\n",
       "      <td>-0.174224</td>\n",
       "      <td>0.467386</td>\n",
       "      <td>0.564252</td>\n",
       "      <td>-0.422626</td>\n",
       "      <td>-0.385720</td>\n",
       "      <td>-0.241148</td>\n",
       "      <td>0.949860</td>\n",
       "      <td>0.999787</td>\n",
       "      <td>0.786274</td>\n",
       "      <td>1.000000</td>\n",
       "      <td>0.974249</td>\n",
       "      <td>-0.082828</td>\n",
       "    </tr>\n",
       "    <tr>\n",
       "      <th>NC2.5</th>\n",
       "      <td>0.025526</td>\n",
       "      <td>-0.118502</td>\n",
       "      <td>0.344721</td>\n",
       "      <td>0.456323</td>\n",
       "      <td>-0.318518</td>\n",
       "      <td>-0.293351</td>\n",
       "      <td>-0.213390</td>\n",
       "      <td>0.854901</td>\n",
       "      <td>0.969382</td>\n",
       "      <td>0.626711</td>\n",
       "      <td>0.974249</td>\n",
       "      <td>1.000000</td>\n",
       "      <td>-0.057707</td>\n",
       "    </tr>\n",
       "    <tr>\n",
       "      <th>Fire Alarm</th>\n",
       "      <td>-0.163902</td>\n",
       "      <td>0.399846</td>\n",
       "      <td>-0.214743</td>\n",
       "      <td>-0.097006</td>\n",
       "      <td>0.107007</td>\n",
       "      <td>-0.340652</td>\n",
       "      <td>0.249797</td>\n",
       "      <td>-0.110552</td>\n",
       "      <td>-0.084916</td>\n",
       "      <td>-0.128118</td>\n",
       "      <td>-0.082828</td>\n",
       "      <td>-0.057707</td>\n",
       "      <td>1.000000</td>\n",
       "    </tr>\n",
       "  </tbody>\n",
       "</table>\n",
       "</div>"
      ],
      "text/plain": [
       "                Temperature[C]  Humidity[%]  TVOC[ppb]  eCO2[ppm]    Raw H2  \\\n",
       "Temperature[C]        1.000000    -0.243986   0.082442   0.079265 -0.135540   \n",
       "Humidity[%]          -0.243986     1.000000  -0.488878  -0.369095  0.247199   \n",
       "TVOC[ppb]             0.082442    -0.488878   1.000000   0.606118 -0.653053   \n",
       "eCO2[ppm]             0.079265    -0.369095   0.606118   1.000000 -0.682785   \n",
       "Raw H2               -0.135540     0.247199  -0.653053  -0.682785  1.000000   \n",
       "Raw Ethanol          -0.037343     0.068782  -0.673715  -0.506695  0.631495   \n",
       "Pressure[hPa]        -0.251203     0.694614  -0.220004  -0.326043  0.303090   \n",
       "PM1.0                 0.037330    -0.236538   0.597366   0.665482 -0.530714   \n",
       "PM2.5                 0.032084    -0.178882   0.477424   0.572691 -0.431079   \n",
       "NC0.5                 0.039291    -0.277389   0.670657   0.699604 -0.587769   \n",
       "NC1.0                 0.031608    -0.174224   0.467386   0.564252 -0.422626   \n",
       "NC2.5                 0.025526    -0.118502   0.344721   0.456323 -0.318518   \n",
       "Fire Alarm           -0.163902     0.399846  -0.214743  -0.097006  0.107007   \n",
       "\n",
       "                Raw Ethanol  Pressure[hPa]     PM1.0     PM2.5     NC0.5  \\\n",
       "Temperature[C]    -0.037343      -0.251203  0.037330  0.032084  0.039291   \n",
       "Humidity[%]        0.068782       0.694614 -0.236538 -0.178882 -0.277389   \n",
       "TVOC[ppb]         -0.673715      -0.220004  0.597366  0.477424  0.670657   \n",
       "eCO2[ppm]         -0.506695      -0.326043  0.665482  0.572691  0.699604   \n",
       "Raw H2             0.631495       0.303090 -0.530714 -0.431079 -0.587769   \n",
       "Raw Ethanol        1.000000      -0.075926 -0.480698 -0.393192 -0.529186   \n",
       "Pressure[hPa]     -0.075926       1.000000 -0.258938 -0.243071 -0.248657   \n",
       "PM1.0             -0.480698      -0.258938  1.000000  0.956118  0.940045   \n",
       "PM2.5             -0.393192      -0.243071  0.956118  1.000000  0.798873   \n",
       "NC0.5             -0.529186      -0.248657  0.940045  0.798873  1.000000   \n",
       "NC1.0             -0.385720      -0.241148  0.949860  0.999787  0.786274   \n",
       "NC2.5             -0.293351      -0.213390  0.854901  0.969382  0.626711   \n",
       "Fire Alarm        -0.340652       0.249797 -0.110552 -0.084916 -0.128118   \n",
       "\n",
       "                   NC1.0     NC2.5  Fire Alarm  \n",
       "Temperature[C]  0.031608  0.025526   -0.163902  \n",
       "Humidity[%]    -0.174224 -0.118502    0.399846  \n",
       "TVOC[ppb]       0.467386  0.344721   -0.214743  \n",
       "eCO2[ppm]       0.564252  0.456323   -0.097006  \n",
       "Raw H2         -0.422626 -0.318518    0.107007  \n",
       "Raw Ethanol    -0.385720 -0.293351   -0.340652  \n",
       "Pressure[hPa]  -0.241148 -0.213390    0.249797  \n",
       "PM1.0           0.949860  0.854901   -0.110552  \n",
       "PM2.5           0.999787  0.969382   -0.084916  \n",
       "NC0.5           0.786274  0.626711   -0.128118  \n",
       "NC1.0           1.000000  0.974249   -0.082828  \n",
       "NC2.5           0.974249  1.000000   -0.057707  \n",
       "Fire Alarm     -0.082828 -0.057707    1.000000  "
      ]
     },
     "execution_count": 11,
     "metadata": {},
     "output_type": "execute_result"
    }
   ],
   "source": [
    "df1.corr() # to find co relation between columns"
   ]
  },
  {
   "cell_type": "markdown",
   "id": "b2eb3da1",
   "metadata": {
    "id": "_riJPccfhsqs",
    "papermill": {
     "duration": 0.008685,
     "end_time": "2022-09-13T20:45:48.000328",
     "exception": false,
     "start_time": "2022-09-13T20:45:47.991643",
     "status": "completed"
    },
    "tags": []
   },
   "source": [
    "heat map plot for EDA"
   ]
  },
  {
   "cell_type": "code",
   "execution_count": 12,
   "id": "7c8171c8",
   "metadata": {
    "execution": {
     "iopub.execute_input": "2022-09-13T20:45:48.021092Z",
     "iopub.status.busy": "2022-09-13T20:45:48.020116Z",
     "iopub.status.idle": "2022-09-13T20:45:49.319887Z",
     "shell.execute_reply": "2022-09-13T20:45:49.318984Z"
    },
    "id": "wgigwB7MaVC4",
    "outputId": "c486b0ec-767e-4dac-b9a3-62191b282352",
    "papermill": {
     "duration": 1.313981,
     "end_time": "2022-09-13T20:45:49.323272",
     "exception": false,
     "start_time": "2022-09-13T20:45:48.009291",
     "status": "completed"
    },
    "tags": []
   },
   "outputs": [
    {
     "data": {
      "text/plain": [
       "<AxesSubplot:>"
      ]
     },
     "execution_count": 12,
     "metadata": {},
     "output_type": "execute_result"
    },
    {
     "data": {
      "image/png": "[encoded data removed]",
      "text/plain": [
       "<Figure size 1080x1080 with 2 Axes>"
      ]
     },
     "metadata": {
      "needs_background": "light"
     },
     "output_type": "display_data"
    }
   ],
   "source": [
    "plt.figure(figsize=(15,15))\n",
    "sns.heatmap( df1.corr(),cmap='coolwarm', annot=True )"
   ]
  },
  {
   "cell_type": "markdown",
   "id": "4bdae498",
   "metadata": {
    "id": "-Qrtks6geKZS",
    "papermill": {
     "duration": 0.010553,
     "end_time": "2022-09-13T20:45:49.344820",
     "exception": false,
     "start_time": "2022-09-13T20:45:49.334267",
     "status": "completed"
    },
    "tags": []
   },
   "source": [
    "observations from df.corr()\n",
    "\n",
    "unnamed and utc are not much importnat columns.\n",
    "\n",
    "1-I found strong and postive  correlation between humidity and pressure which is 0.69 \n",
    "\n",
    "2- TVOC (ppb) is postively and strong co related with NCO.5\n",
    "\n",
    "3-eCO2 is positive and strong  co-related with pm1.0 \n",
    "\n",
    "4-All the PM's and NC's have high correlation with each other."
   ]
  },
  {
   "cell_type": "code",
   "execution_count": 13,
   "id": "b617f86e",
   "metadata": {
    "execution": {
     "iopub.execute_input": "2022-09-13T20:45:49.369084Z",
     "iopub.status.busy": "2022-09-13T20:45:49.367830Z",
     "iopub.status.idle": "2022-09-13T20:45:49.909934Z",
     "shell.execute_reply": "2022-09-13T20:45:49.908728Z"
    },
    "id": "tlZsyAPQC1jY",
    "outputId": "ff28cdaa-4ce5-42d3-9f3f-296bf09eabf2",
    "papermill": {
     "duration": 0.556789,
     "end_time": "2022-09-13T20:45:49.912533",
     "exception": false,
     "start_time": "2022-09-13T20:45:49.355744",
     "status": "completed"
    },
    "tags": []
   },
   "outputs": [
    {
     "data": {
      "text/plain": [
       "<AxesSubplot:xlabel='Pressure[hPa]', ylabel='Density'>"
      ]
     },
     "execution_count": 13,
     "metadata": {},
     "output_type": "execute_result"
    },
    {
     "data": {
      "image/png": "[encoded data removed]",
      "text/plain": [
       "<Figure size 648x648 with 1 Axes>"
      ]
     },
     "metadata": {
      "needs_background": "light"
     },
     "output_type": "display_data"
    }
   ],
   "source": [
    "plt.figure(figsize=(9,9))\n",
    "sns.kdeplot(data=df1,x='Pressure[hPa]',shade='fill' )"
   ]
  },
  {
   "cell_type": "code",
   "execution_count": 14,
   "id": "7bb4755e",
   "metadata": {
    "execution": {
     "iopub.execute_input": "2022-09-13T20:45:49.937874Z",
     "iopub.status.busy": "2022-09-13T20:45:49.937441Z",
     "iopub.status.idle": "2022-09-13T20:45:50.455931Z",
     "shell.execute_reply": "2022-09-13T20:45:50.454778Z"
    },
    "id": "4Vyf_V97JpeK",
    "outputId": "5d5be7ce-f216-480e-9109-92ec62e15ed5",
    "papermill": {
     "duration": 0.534167,
     "end_time": "2022-09-13T20:45:50.458619",
     "exception": false,
     "start_time": "2022-09-13T20:45:49.924452",
     "status": "completed"
    },
    "tags": []
   },
   "outputs": [
    {
     "data": {
      "text/plain": [
       "<AxesSubplot:xlabel='Humidity[%]', ylabel='Density'>"
      ]
     },
     "execution_count": 14,
     "metadata": {},
     "output_type": "execute_result"
    },
    {
     "data": {
      "image/png": "[encoded data removed]",
      "text/plain": [
       "<Figure size 648x648 with 1 Axes>"
      ]
     },
     "metadata": {
      "needs_background": "light"
     },
     "output_type": "display_data"
    }
   ],
   "source": [
    "plt.figure(figsize=(9,9))\n",
    "sns.kdeplot(data=df1, x='Humidity[%]', shade='fill')\n"
   ]
  },
  {
   "cell_type": "markdown",
   "id": "07025670",
   "metadata": {
    "id": "rW342EwWKwb3",
    "papermill": {
     "duration": 0.011692,
     "end_time": "2022-09-13T20:45:50.482239",
     "exception": false,
     "start_time": "2022-09-13T20:45:50.470547",
     "status": "completed"
    },
    "tags": []
   },
   "source": [
    "now will check for outliers\n"
   ]
  },
  {
   "cell_type": "code",
   "execution_count": 15,
   "id": "50754f51",
   "metadata": {
    "execution": {
     "iopub.execute_input": "2022-09-13T20:45:50.508278Z",
     "iopub.status.busy": "2022-09-13T20:45:50.507889Z",
     "iopub.status.idle": "2022-09-13T20:45:50.827273Z",
     "shell.execute_reply": "2022-09-13T20:45:50.826379Z"
    },
    "id": "ROe-BgpxKfbx",
    "outputId": "266e854b-0c00-4ca5-f3e4-4bee03aed75d",
    "papermill": {
     "duration": 0.335408,
     "end_time": "2022-09-13T20:45:50.829742",
     "exception": false,
     "start_time": "2022-09-13T20:45:50.494334",
     "status": "completed"
    },
    "tags": []
   },
   "outputs": [
    {
     "data": {
      "image/png": "[encoded data removed]",
      "text/plain": [
       "<Figure size 432x432 with 1 Axes>"
      ]
     },
     "metadata": {
      "needs_background": "light"
     },
     "output_type": "display_data"
    },
    {
     "data": {
      "image/png": "[encoded data removed]",
      "text/plain": [
       "<Figure size 432x432 with 1 Axes>"
      ]
     },
     "metadata": {
      "needs_background": "light"
     },
     "output_type": "display_data"
    }
   ],
   "source": [
    "df2 = df1[['Temperature[C]','Humidity[%]']]\n",
    "for i in df2.columns:\n",
    "  plt.figure(figsize=(6,6))\n",
    "  sns.boxplot(x=df1[i][1:], data=df1.iloc[:1],\n",
    "                order=df2[i][1:].value_counts().index,\n",
    "                palette='YlGn')\n",
    "  plt.xticks(rotation=90)\n",
    "  plt.show()"
   ]
  },
  {
   "cell_type": "markdown",
   "id": "de5f7b0d",
   "metadata": {
    "id": "r8s5c9oFOk9z",
    "papermill": {
     "duration": 0.013378,
     "end_time": "2022-09-13T20:45:50.856338",
     "exception": false,
     "start_time": "2022-09-13T20:45:50.842960",
     "status": "completed"
    },
    "tags": []
   },
   "source": [
    "by boxplot we can see that max outlier are there with this columns.\n",
    "\n",
    "earlier by df.describe we found that tempreature having mean is 14 and and std is 15 this relationship is showing highier variations with the values. same with the humidity outliers are visible by boxplot."
   ]
  },
  {
   "cell_type": "markdown",
   "id": "8b8e0c15",
   "metadata": {
    "id": "p11YA4ZBQ2Gx",
    "papermill": {
     "duration": 0.012168,
     "end_time": "2022-09-13T20:45:50.881369",
     "exception": false,
     "start_time": "2022-09-13T20:45:50.869201",
     "status": "completed"
    },
    "tags": []
   },
   "source": [
    "DATA SPLITTING AND SCALING (DATA PREPROCESSING)\n"
   ]
  },
  {
   "cell_type": "code",
   "execution_count": 16,
   "id": "054b955c",
   "metadata": {
    "execution": {
     "iopub.execute_input": "2022-09-13T20:45:50.907900Z",
     "iopub.status.busy": "2022-09-13T20:45:50.907491Z",
     "iopub.status.idle": "2022-09-13T20:45:50.916844Z",
     "shell.execute_reply": "2022-09-13T20:45:50.915634Z"
    },
    "id": "olurA4CLSb-f",
    "papermill": {
     "duration": 0.025275,
     "end_time": "2022-09-13T20:45:50.918992",
     "exception": false,
     "start_time": "2022-09-13T20:45:50.893717",
     "status": "completed"
    },
    "tags": []
   },
   "outputs": [],
   "source": [
    "x = df1.iloc[:,:-1]\n",
    "y = df1['Fire Alarm']  "
   ]
  },
  {
   "cell_type": "code",
   "execution_count": 17,
   "id": "a13f6289",
   "metadata": {
    "execution": {
     "iopub.execute_input": "2022-09-13T20:45:50.945327Z",
     "iopub.status.busy": "2022-09-13T20:45:50.944924Z",
     "iopub.status.idle": "2022-09-13T20:45:50.966570Z",
     "shell.execute_reply": "2022-09-13T20:45:50.965387Z"
    },
    "id": "GKSUhCgiTv_z",
    "papermill": {
     "duration": 0.03809,
     "end_time": "2022-09-13T20:45:50.969237",
     "exception": false,
     "start_time": "2022-09-13T20:45:50.931147",
     "status": "completed"
    },
    "tags": []
   },
   "outputs": [],
   "source": [
    "x_train, x_test, y_train, y_test=train_test_split(x,y, test_size=0.2)"
   ]
  },
  {
   "cell_type": "code",
   "execution_count": 18,
   "id": "b1ea7327",
   "metadata": {
    "execution": {
     "iopub.execute_input": "2022-09-13T20:45:50.995455Z",
     "iopub.status.busy": "2022-09-13T20:45:50.995001Z",
     "iopub.status.idle": "2022-09-13T20:45:51.021556Z",
     "shell.execute_reply": "2022-09-13T20:45:51.020304Z"
    },
    "id": "deI2haYRTwHn",
    "papermill": {
     "duration": 0.04303,
     "end_time": "2022-09-13T20:45:51.024665",
     "exception": false,
     "start_time": "2022-09-13T20:45:50.981635",
     "status": "completed"
    },
    "tags": []
   },
   "outputs": [],
   "source": [
    "sc=StandardScaler() # i am using standard scaler any other transformation may be applied.\n",
    "x_traintrans=sc.fit_transform(x_train)\n",
    "x_testtrans=sc.transform(x_test)"
   ]
  },
  {
   "cell_type": "markdown",
   "id": "76175bce",
   "metadata": {
    "id": "rm-IZy8_WwL_",
    "papermill": {
     "duration": 0.012087,
     "end_time": "2022-09-13T20:45:51.049290",
     "exception": false,
     "start_time": "2022-09-13T20:45:51.037203",
     "status": "completed"
    },
    "tags": []
   },
   "source": [
    "DATA MODELLING"
   ]
  },
  {
   "cell_type": "code",
   "execution_count": 19,
   "id": "1fe5ed6c",
   "metadata": {
    "execution": {
     "iopub.execute_input": "2022-09-13T20:45:51.076883Z",
     "iopub.status.busy": "2022-09-13T20:45:51.075609Z",
     "iopub.status.idle": "2022-09-13T20:45:52.245294Z",
     "shell.execute_reply": "2022-09-13T20:45:52.244190Z"
    },
    "id": "UkRYwp6vTwQ_",
    "outputId": "f6dcd979-e847-4ec8-942e-a278dbe1e27b",
    "papermill": {
     "duration": 1.186589,
     "end_time": "2022-09-13T20:45:52.248140",
     "exception": false,
     "start_time": "2022-09-13T20:45:51.061551",
     "status": "completed"
    },
    "tags": []
   },
   "outputs": [
    {
     "data": {
      "text/plain": [
       "0.9952510555131934"
      ]
     },
     "execution_count": 19,
     "metadata": {},
     "output_type": "execute_result"
    }
   ],
   "source": [
    "knn=KNeighborsClassifier() # i am using k nearest neighbour and getting r2score 0.99 which is best.it menas our model is performing well on this data set.\n",
    "knn.fit(x_traintrans, y_train)\n",
    "y_pred=knn.predict(x_testtrans)\n",
    "r2_score(y_test,y_pred)\n"
   ]
  },
  {
   "cell_type": "code",
   "execution_count": 20,
   "id": "d284bfd4",
   "metadata": {
    "execution": {
     "iopub.execute_input": "2022-09-13T20:45:52.275257Z",
     "iopub.status.busy": "2022-09-13T20:45:52.274826Z",
     "iopub.status.idle": "2022-09-13T20:45:58.691389Z",
     "shell.execute_reply": "2022-09-13T20:45:58.690427Z"
    },
    "id": "S2LpVZXgYXZ2",
    "outputId": "c214ddda-6fd0-423d-dfa1-b6ea04a66e87",
    "papermill": {
     "duration": 6.432895,
     "end_time": "2022-09-13T20:45:58.693817",
     "exception": false,
     "start_time": "2022-09-13T20:45:52.260922",
     "status": "completed"
    },
    "tags": []
   },
   "outputs": [
    {
     "data": {
      "text/plain": [
       "1.0"
      ]
     },
     "execution_count": 20,
     "metadata": {},
     "output_type": "execute_result"
    }
   ],
   "source": [
    "ramf=RandomForestClassifier() \n",
    "ramf.fit(x_traintrans, y_train)\n",
    "y_pred=ramf.predict(x_testtrans)\n",
    "r2_score(y_test,y_pred)\n"
   ]
  },
  {
   "cell_type": "markdown",
   "id": "bd09728d",
   "metadata": {
    "id": "0Vkx3muAZjC7",
    "papermill": {
     "duration": 0.011763,
     "end_time": "2022-09-13T20:45:58.717806",
     "exception": false,
     "start_time": "2022-09-13T20:45:58.706043",
     "status": "completed"
    },
    "tags": []
   },
   "source": [
    "we used two models first is kNN and second is random forest, both the model perform well after transformation.\n",
    "\n",
    "knn giving r2 score around= 0.99\n",
    "\n",
    "random forest giving r2 score= 1.0\n",
    "\n",
    "it means for highier accuracy randomforest is best model over this data set."
   ]
  }
 ],
 "metadata": {
  "kernelspec": {
   "display_name": "Python 3",
   "language": "python",
   "name": "python3"
  },
  "language_info": {
   "codemirror_mode": {
    "name": "ipython",
    "version": 3
   },
   "file_extension": ".py",
   "mimetype": "text/x-python",
   "name": "python",
   "nbconvert_exporter": "python",
   "pygments_lexer": "ipython3",
   "version": "3.7.12"
  },
  "papermill": {
   "default_parameters": {},
   "duration": 24.14205,
   "end_time": "2022-09-13T20:45:59.551905",
   "environment_variables": {},
   "exception": null,
   "input_path": "__notebook__.ipynb",
   "output_path": "__notebook__.ipynb",
   "parameters": {},
   "start_time": "2022-09-13T20:45:35.409855",
   "version": "2.3.4"
  }
 },
 "nbformat": 4,
 "nbformat_minor": 5
}
