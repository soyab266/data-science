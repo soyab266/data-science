{
  "cells": [
    {
      "cell_type": "markdown",
      "metadata": {
        "id": "view-in-github",
        "colab_type": "text"
      },
      "source": [
        "<a href=\"https://colab.research.google.com/github/soyab266/test/blob/master/multiple_linear_regression_coef%2C_intercept%202.23.ipynb\" target=\"_parent\"><img src=\"https://colab.research.google.com/assets/colab-badge.svg\" alt=\"Open In Colab\"/></a>"
      ]
    },
    {
      "cell_type": "code",
      "source": [
        "import pandas as pd\n",
        "import numpy as np\n",
        "import matplotlib.pyplot as plt\n",
        "from pandas_datareader import data\n",
        "%matplotlib inline\n",
        "from sklearn.model_selection import train_test_split\n",
        "from sklearn.datasets import load_boston\n",
        "from sklearn.model_selection import GridSearchCV\n",
        "from sklearn import tree\n",
        "from sklearn.tree import DecisionTreeRegressor\n",
        "dtd=DecisionTreeRegressor()\n",
        "from sklearn.tree import DecisionTreeClassifier\n",
        "from sklearn import metrics\n",
        "from sklearn.metrics import r2_score\n",
        "from sklearn.model_selection import train_test_split\n",
        "from sklearn.linear_model import LinearRegression\n",
        "from sklearn.metrics import accuracy_score\n",
        "import plotly.express as px\n",
        "import plotly.graph_objects as go\n",
        "from sklearn.model_selection import cross_val_score\n",
        "\n"
      ],
      "metadata": {
        "id": "kBf6441qGjgy"
      },
      "execution_count": 2,
      "outputs": []
    },
    {
      "cell_type": "code",
      "source": [
        "from sklearn.datasets import make_regression\n",
        "X,y = make_regression(n_samples=4, n_features=1, n_informative=1, n_targets=1,noise=80,random_state=13)\n"
      ],
      "metadata": {
        "id": "ofBIe_iLeIgd"
      },
      "execution_count": 29,
      "outputs": []
    },
    {
      "cell_type": "code",
      "source": [
        "plt.scatter(X,y)"
      ],
      "metadata": {
        "colab": {
          "base_uri": "https://localhost:8080/",
          "height": 283
        },
        "id": "AXi4lxa1oOxi",
        "outputId": "508b4c25-52f5-4eda-aa8e-87caacabb70a"
      },
      "execution_count": 30,
      "outputs": [
        {
          "output_type": "execute_result",
          "data": {
            "text/plain": [
              "<matplotlib.collections.PathCollection at 0x7fea0b9af410>"
            ]
          },
          "metadata": {},
          "execution_count": 30
        },
        {
          "output_type": "display_data",
          "data": {
            "text/plain": [
              "<Figure size 432x288 with 1 Axes>"
            ],
            "image/png": "[encoded data removed]"
          },
          "metadata": {
            "needs_background": "light"
          }
        }
      ]
    },
    {
      "cell_type": "code",
      "source": [
        "X_train,X_test,y_train,y_test= train_test_split(X,y , test_size=0.2, random_state=2)"
      ],
      "metadata": {
        "id": "ieS6kiXDoO2i"
      },
      "execution_count": 31,
      "outputs": []
    },
    {
      "cell_type": "code",
      "source": [
        "X_train.shape"
      ],
      "metadata": {
        "colab": {
          "base_uri": "https://localhost:8080/"
        },
        "id": "lrqSUKjVoO6J",
        "outputId": "2f78462a-4240-4644-e6f1-6d0b82246977"
      },
      "execution_count": 32,
      "outputs": [
        {
          "output_type": "execute_result",
          "data": {
            "text/plain": [
              "(3, 1)"
            ]
          },
          "metadata": {},
          "execution_count": 32
        }
      ]
    },
    {
      "cell_type": "code",
      "source": [
        "X_test.shape"
      ],
      "metadata": {
        "colab": {
          "base_uri": "https://localhost:8080/"
        },
        "id": "wt_FhZTboO9T",
        "outputId": "7f16706b-8ab6-4ef0-fa57-743a34b96fd0"
      },
      "execution_count": 33,
      "outputs": [
        {
          "output_type": "execute_result",
          "data": {
            "text/plain": [
              "(1, 1)"
            ]
          },
          "metadata": {},
          "execution_count": 33
        }
      ]
    },
    {
      "cell_type": "code",
      "source": [
        "lr=LinearRegression()\n",
        "lr.fit(X, y)"
      ],
      "metadata": {
        "colab": {
          "base_uri": "https://localhost:8080/"
        },
        "id": "ik9pYOR_oPAU",
        "outputId": "93b71231-b0e6-40ed-86f7-09d388db6343"
      },
      "execution_count": 37,
      "outputs": [
        {
          "output_type": "execute_result",
          "data": {
            "text/plain": [
              "LinearRegression()"
            ]
          },
          "metadata": {},
          "execution_count": 37
        }
      ]
    },
    {
      "cell_type": "code",
      "source": [
        "lr.coef_"
      ],
      "metadata": {
        "colab": {
          "base_uri": "https://localhost:8080/"
        },
        "id": "xKjZ3HkxoPDQ",
        "outputId": "9727af42-18b3-4722-d8f4-675a555f4b03"
      },
      "execution_count": 38,
      "outputs": [
        {
          "output_type": "execute_result",
          "data": {
            "text/plain": [
              "array([78.35063668])"
            ]
          },
          "metadata": {},
          "execution_count": 38
        }
      ]
    },
    {
      "cell_type": "code",
      "source": [
        "lr.intercept_"
      ],
      "metadata": {
        "colab": {
          "base_uri": "https://localhost:8080/"
        },
        "id": "2GMNwTHIoPGu",
        "outputId": "b2e71440-dcbd-4223-f26d-a1e0884934dc"
      },
      "execution_count": 39,
      "outputs": [
        {
          "output_type": "execute_result",
          "data": {
            "text/plain": [
              "26.15963284313262"
            ]
          },
          "metadata": {},
          "execution_count": 39
        }
      ]
    },
    {
      "cell_type": "code",
      "source": [
        "y_pred=lr.predict(X_test)"
      ],
      "metadata": {
        "id": "zyzW3tN0pWl0"
      },
      "execution_count": 40,
      "outputs": []
    },
    {
      "cell_type": "code",
      "source": [
        "r2_score(y_pred, y_test)"
      ],
      "metadata": {
        "colab": {
          "base_uri": "https://localhost:8080/"
        },
        "id": "e4i1OxLZpWsi",
        "outputId": "1a8caf76-c605-4e4b-c9c2-698445bf50ca"
      },
      "execution_count": 41,
      "outputs": [
        {
          "output_type": "stream",
          "name": "stderr",
          "text": [
            "/usr/local/lib/python3.7/dist-packages/sklearn/metrics/_regression.py:796: UndefinedMetricWarning: R^2 score is not well-defined with less than two samples.\n",
            "  warnings.warn(msg, UndefinedMetricWarning)\n"
          ]
        },
        {
          "output_type": "execute_result",
          "data": {
            "text/plain": [
              "nan"
            ]
          },
          "metadata": {},
          "execution_count": 41
        }
      ]
    },
    {
      "cell_type": "code",
      "source": [
        "plt.plot(X,lr.predict(X), color='r')"
      ],
      "metadata": {
        "colab": {
          "base_uri": "https://localhost:8080/",
          "height": 282
        },
        "id": "nOnkTuH0pWvf",
        "outputId": "ae68d83d-a1ee-47eb-9cd0-8437b9a159c9"
      },
      "execution_count": 42,
      "outputs": [
        {
          "output_type": "execute_result",
          "data": {
            "text/plain": [
              "[<matplotlib.lines.Line2D at 0x7fea0b8d3ad0>]"
            ]
          },
          "metadata": {},
          "execution_count": 42
        },
        {
          "output_type": "display_data",
          "data": {
            "text/plain": [
              "<Figure size 432x288 with 1 Axes>"
            ],
            "image/png": "[encoded data removed]"
          },
          "metadata": {
            "needs_background": "light"
          }
        }
      ]
    },
    {
      "cell_type": "code",
      "source": [],
      "metadata": {
        "id": "BuJNVf1ZpWy2"
      },
      "execution_count": null,
      "outputs": []
    },
    {
      "cell_type": "markdown",
      "source": [
        "consider m=78.35\n",
        " and b=0"
      ],
      "metadata": {
        "id": "oYXjl2Si9bZi"
      }
    },
    {
      "cell_type": "code",
      "source": [
        "y_pred= ((78.35* X)+ 0).reshape(4)\n",
        "y_pred"
      ],
      "metadata": {
        "colab": {
          "base_uri": "https://localhost:8080/"
        },
        "id": "Z0DZ9hj4tcV7",
        "outputId": "170b9523-5663-4e36-e859-2ad35f097095"
      },
      "execution_count": 46,
      "outputs": [
        {
          "output_type": "execute_result",
          "data": {
            "text/plain": [
              "array([-55.81580837,  35.39949674,  -3.48681619,  59.05759577])"
            ]
          },
          "metadata": {},
          "execution_count": 46
        }
      ]
    },
    {
      "cell_type": "code",
      "source": [
        "plt.plot(X,lr.predict(X), color='r', label='ols')\n",
        "plt.plot(X,y_pred, color= 'green', label=('b=0'))\n",
        "plt.legend()\n",
        "plt.show()"
      ],
      "metadata": {
        "colab": {
          "base_uri": "https://localhost:8080/",
          "height": 265
        },
        "id": "DFNrxolCtcZA",
        "outputId": "ab166456-3304-49f0-cc61-5d9acb5ab644"
      },
      "execution_count": 51,
      "outputs": [
        {
          "output_type": "display_data",
          "data": {
            "text/plain": [
              "<Figure size 432x288 with 1 Axes>"
            ],
            "image/png": "[encoded data removed]"
          },
          "metadata": {
            "needs_background": "light"
          }
        }
      ]
    },
    {
      "cell_type": "code",
      "source": [
        "loss_slope= -2*np.sum(y-78.35*X.ravel()-0) # m=78.35 , b=0\n",
        "loss_slope"
      ],
      "metadata": {
        "colab": {
          "base_uri": "https://localhost:8080/"
        },
        "id": "FuZOKwCPtcb5",
        "outputId": "97d67d02-7664-4495-ab82-1ff57150a8d1"
      },
      "execution_count": 58,
      "outputs": [
        {
          "output_type": "execute_result",
          "data": {
            "text/plain": [
              "-209.27763408209216"
            ]
          },
          "metadata": {},
          "execution_count": 58
        }
      ]
    },
    {
      "cell_type": "code",
      "source": [
        "learning_rate=0.1 # consider learning_rate=0.1\n",
        "step_size= loss_slope * learning_rate\n",
        "step_size"
      ],
      "metadata": {
        "colab": {
          "base_uri": "https://localhost:8080/"
        },
        "id": "ZLz98IP8tcev",
        "outputId": "1ebfa50a-23f2-462d-8214-155020f14735"
      },
      "execution_count": 56,
      "outputs": [
        {
          "output_type": "execute_result",
          "data": {
            "text/plain": [
              "-20.927763408209216"
            ]
          },
          "metadata": {},
          "execution_count": 56
        }
      ]
    },
    {
      "cell_type": "code",
      "source": [
        "#bnew= bold - step_size\n",
        "b_new= 0-(-20)\n",
        "b_new"
      ],
      "metadata": {
        "colab": {
          "base_uri": "https://localhost:8080/"
        },
        "id": "-reu_oe0tchb",
        "outputId": "0042a5d8-788f-4295-87f8-cf813ac95062"
      },
      "execution_count": 59,
      "outputs": [
        {
          "output_type": "execute_result",
          "data": {
            "text/plain": [
              "20"
            ]
          },
          "metadata": {},
          "execution_count": 59
        }
      ]
    },
    {
      "cell_type": "code",
      "source": [
        "# now b=20, m=78.35\n",
        "y_pred1 = ((78.35 * X)+ 20 ).reshape(4)"
      ],
      "metadata": {
        "id": "IVFnc_j1BVUv"
      },
      "execution_count": 90,
      "outputs": []
    },
    {
      "cell_type": "code",
      "source": [
        "plt.plot(X,lr.predict(X), color='r', label='ols')\n",
        "plt.plot(X,y_pred1, color= 'green', label=('b=20'))\n",
        "plt.legend()\n",
        "plt.show()"
      ],
      "metadata": {
        "colab": {
          "base_uri": "https://localhost:8080/",
          "height": 265
        },
        "id": "oJDwpyChBVa2",
        "outputId": "f6a1b7be-ddc5-4b88-c32d-333ea88f9832"
      },
      "execution_count": 91,
      "outputs": [
        {
          "output_type": "display_data",
          "data": {
            "text/plain": [
              "<Figure size 432x288 with 1 Axes>"
            ],
            "image/png": "[encoded data removed]"
          },
          "metadata": {
            "needs_background": "light"
          }
        }
      ]
    },
    {
      "cell_type": "code",
      "source": [
        " # now b=20, m=78.35\n",
        " loss_slope=  -2*np.sum(y-78.35* X.ravel()-20)\n",
        " loss_slope"
      ],
      "metadata": {
        "colab": {
          "base_uri": "https://localhost:8080/"
        },
        "id": "QcZUdb31BVdy",
        "outputId": "ade4ec95-462b-43f3-e9f5-9a70aeceabe4"
      },
      "execution_count": 92,
      "outputs": [
        {
          "output_type": "execute_result",
          "data": {
            "text/plain": [
              "-49.27763408209216"
            ]
          },
          "metadata": {},
          "execution_count": 92
        }
      ]
    },
    {
      "cell_type": "code",
      "source": [
        "step_size= loss_slope * learning_rate\n",
        "step_size"
      ],
      "metadata": {
        "colab": {
          "base_uri": "https://localhost:8080/"
        },
        "id": "rEnWQoJFBVg6",
        "outputId": "67ed48d1-9b63-45cd-a735-6284e9cc40c0"
      },
      "execution_count": 93,
      "outputs": [
        {
          "output_type": "execute_result",
          "data": {
            "text/plain": [
              "-4.927763408209216"
            ]
          },
          "metadata": {},
          "execution_count": 93
        }
      ]
    },
    {
      "cell_type": "code",
      "source": [
        "b_new= 20 - step_size\n",
        "b_new\n"
      ],
      "metadata": {
        "colab": {
          "base_uri": "https://localhost:8080/"
        },
        "id": "BajxnTzoBVkS",
        "outputId": "01a6af65-cc43-4101-a485-f299a4f3740e"
      },
      "execution_count": 94,
      "outputs": [
        {
          "output_type": "execute_result",
          "data": {
            "text/plain": [
              "24.927763408209216"
            ]
          },
          "metadata": {},
          "execution_count": 94
        }
      ]
    },
    {
      "cell_type": "code",
      "source": [
        "y_pred2= ((78.35* X) + 24.92).reshape(4)"
      ],
      "metadata": {
        "id": "mC2Jf9WfDXxV"
      },
      "execution_count": 95,
      "outputs": []
    },
    {
      "cell_type": "code",
      "source": [
        "plt.plot(X,lr.predict(X), color='r', label='ols')\n",
        "plt.plot(X,y_pred1, color= 'green', label=('b=20'))\n",
        "plt.plot(X,y_pred2, color= 'yellow', label=('b=24'))\n",
        "plt.legend()\n",
        "plt.show()"
      ],
      "metadata": {
        "colab": {
          "base_uri": "https://localhost:8080/",
          "height": 265
        },
        "id": "EQmkKl6YDX0u",
        "outputId": "89693153-69ca-45f6-dda6-e46e2a1e6425"
      },
      "execution_count": 97,
      "outputs": [
        {
          "output_type": "display_data",
          "data": {
            "text/plain": [
              "<Figure size 432x288 with 1 Axes>"
            ],
            "image/png": "[encoded data removed]"
          },
          "metadata": {
            "needs_background": "light"
          }
        }
      ]
    },
    {
      "cell_type": "code",
      "source": [
        "#NOW B=24.92 AND M=78.35"
      ],
      "metadata": {
        "id": "bJJbrTPmDX5X"
      },
      "execution_count": null,
      "outputs": []
    },
    {
      "cell_type": "code",
      "source": [
        "loss_slope= -2*np.sum(y- 78.35 * X.ravel()- 24.92)\n",
        "loss_slope"
      ],
      "metadata": {
        "colab": {
          "base_uri": "https://localhost:8080/"
        },
        "id": "9wCZuPtbDyGG",
        "outputId": "cdd3848d-d56e-42f4-c6c8-949f25c487c7"
      },
      "execution_count": 76,
      "outputs": [
        {
          "output_type": "execute_result",
          "data": {
            "text/plain": [
              "-9.91763408209215"
            ]
          },
          "metadata": {},
          "execution_count": 76
        }
      ]
    },
    {
      "cell_type": "code",
      "source": [
        "step_size= loss_slope * learning_rate # learning _rate= 0.1 \n",
        "step_size"
      ],
      "metadata": {
        "colab": {
          "base_uri": "https://localhost:8080/"
        },
        "id": "_Emn_uixDyJL",
        "outputId": "adb14a58-e694-41ec-8d57-084d9b192e2b"
      },
      "execution_count": 78,
      "outputs": [
        {
          "output_type": "execute_result",
          "data": {
            "text/plain": [
              "-0.991763408209215"
            ]
          },
          "metadata": {},
          "execution_count": 78
        }
      ]
    },
    {
      "cell_type": "code",
      "source": [
        "b_new= 24.92 - step_size\n",
        "b_new"
      ],
      "metadata": {
        "colab": {
          "base_uri": "https://localhost:8080/"
        },
        "id": "IN-rg3u5DyL-",
        "outputId": "6ca4fcb1-acba-446d-f0c3-b4664ccfe0f3"
      },
      "execution_count": 79,
      "outputs": [
        {
          "output_type": "execute_result",
          "data": {
            "text/plain": [
              "25.911763408209218"
            ]
          },
          "metadata": {},
          "execution_count": 79
        }
      ]
    },
    {
      "cell_type": "code",
      "source": [
        "y_pred3= ((78.35 * X) + b_new).reshape(4)"
      ],
      "metadata": {
        "id": "xZojcEIsDyOw"
      },
      "execution_count": 100,
      "outputs": []
    },
    {
      "cell_type": "code",
      "source": [
        "plt.plot(X,lr.predict(X), color='r', label='ols')\n",
        "plt.plot(X,y_pred1, color= 'black', label=('b=20'))\n",
        "plt.plot(X,y_pred2, color= 'yellow', label=('b=24'))\n",
        "plt.plot(X,y_pred3, color= 'green', label=('b=25.91'))\n",
        "plt.legend()\n",
        "plt.show()"
      ],
      "metadata": {
        "colab": {
          "base_uri": "https://localhost:8080/",
          "height": 265
        },
        "id": "M4GV4jH8DyRc",
        "outputId": "dc4149d7-f6fd-449d-dc83-76f47cbd7ccf"
      },
      "execution_count": 104,
      "outputs": [
        {
          "output_type": "display_data",
          "data": {
            "text/plain": [
              "<Figure size 432x288 with 1 Axes>"
            ],
            "image/png": "[encoded data removed]"
          },
          "metadata": {
            "needs_background": "light"
          }
        }
      ]
    },
    {
      "cell_type": "code",
      "source": [
        "loss_slope= -2 * np.sum(y-78.35 *X.ravel() - 25.911763408209218)\n",
        "loss_slope"
      ],
      "metadata": {
        "colab": {
          "base_uri": "https://localhost:8080/"
        },
        "id": "T8oBF8RIDyUV",
        "outputId": "891f9332-80fb-4d7d-a54b-91eb2e939a95"
      },
      "execution_count": 85,
      "outputs": [
        {
          "output_type": "execute_result",
          "data": {
            "text/plain": [
              "-1.9835268164184185"
            ]
          },
          "metadata": {},
          "execution_count": 85
        }
      ]
    },
    {
      "cell_type": "code",
      "source": [
        "step_size= loss_slope * learning_rate\n",
        "step_size"
      ],
      "metadata": {
        "colab": {
          "base_uri": "https://localhost:8080/"
        },
        "id": "482sS6bJDyXc",
        "outputId": "cb751334-1daf-47cc-e0da-5f791863f2e0"
      },
      "execution_count": 86,
      "outputs": [
        {
          "output_type": "execute_result",
          "data": {
            "text/plain": [
              "-0.19835268164184186"
            ]
          },
          "metadata": {},
          "execution_count": 86
        }
      ]
    },
    {
      "cell_type": "code",
      "source": [
        "b_new = 25.911763408209218- 0.19835268164184186\n",
        "b_new"
      ],
      "metadata": {
        "colab": {
          "base_uri": "https://localhost:8080/"
        },
        "id": "2-31AdEFF9wQ",
        "outputId": "2e61788e-8f34-4238-ec63-91b3103e2149"
      },
      "execution_count": 87,
      "outputs": [
        {
          "output_type": "execute_result",
          "data": {
            "text/plain": [
              "25.713410726567375"
            ]
          },
          "metadata": {},
          "execution_count": 87
        }
      ]
    },
    {
      "cell_type": "code",
      "source": [
        "y_pred4= ((78.35 * X ) + 25.713410726567375).reshape(4)"
      ],
      "metadata": {
        "id": "CEfWNuWbF92-"
      },
      "execution_count": 103,
      "outputs": []
    },
    {
      "cell_type": "code",
      "source": [
        "plt.plot(X,lr.predict(X), color='r', label='ols')\n",
        "plt.plot(X,y_pred1, color= 'black', label=('b=20'))\n",
        "plt.plot(X,y_pred2, color= 'yellow', label=('b=24'))\n",
        "plt.plot(X,y_pred3, color= 'green', label=('b=25.91'))\n",
        "plt.plot(X,y_pred4, color= 'blue', label=('b=25.91'))\n",
        "plt.legend()\n",
        "plt.show()"
      ],
      "metadata": {
        "colab": {
          "base_uri": "https://localhost:8080/",
          "height": 265
        },
        "id": "-y_mF1AIF96J",
        "outputId": "fa4dd457-3806-43bd-ed0e-fcbd0cd7fbcd"
      },
      "execution_count": 105,
      "outputs": [
        {
          "output_type": "display_data",
          "data": {
            "text/plain": [
              "<Figure size 432x288 with 1 Axes>"
            ],
            "image/png": "[encoded data removed]"
          },
          "metadata": {
            "needs_background": "light"
          }
        }
      ]
    },
    {
      "cell_type": "code",
      "source": [
        "m=78.35\n",
        "b=-100\n",
        "learning_rate=0.1\n",
        "epochs=100\n",
        "for i in range(epochs):\n",
        "  loss_slope= -2*np.sum(y-m*X.ravel() - b)\n",
        "\n",
        "  b= b-( learning_rate * loss_slope)\n",
        "  y_pred= m * X + b\n",
        "  plt.plot(X,y_pred)\n",
        "  plt.scatter(X,y)"
      ],
      "metadata": {
        "colab": {
          "base_uri": "https://localhost:8080/",
          "height": 265
        },
        "id": "yobZCd7WP0Gc",
        "outputId": "eab0c695-6220-450e-9b28-be2af16da865"
      },
      "execution_count": 112,
      "outputs": [
        {
          "output_type": "display_data",
          "data": {
            "text/plain": [
              "<Figure size 432x288 with 1 Axes>"
            ],
            "image/png": "[encoded data removed]"
          },
          "metadata": {
            "needs_background": "light"
          }
        }
      ]
    },
    {
      "cell_type": "code",
      "source": [],
      "metadata": {
        "id": "78t9WFPpR5QH"
      },
      "execution_count": null,
      "outputs": []
    }
  ],
  "metadata": {
    "colab": {
      "name": "multiple linear regression coef, intercept.ipynb",
      "provenance": [],
      "collapsed_sections": [],
      "mount_file_id": "15wGNYkS024uN3QhofFOdguQR3xEP-d4q",
      "authorship_tag": "ABX9TyPe1axLPS1Bqza34YZbGHZ3",
      "include_colab_link": true
    },
    "kernelspec": {
      "display_name": "Python 3",
      "name": "python3"
    },
    "language_info": {
      "name": "python"
    }
  },
  "nbformat": 4,
  "nbformat_minor": 0
}