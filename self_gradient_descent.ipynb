{
  "cells": [
    {
      "cell_type": "markdown",
      "metadata": {
        "id": "view-in-github",
        "colab_type": "text"
      },
      "source": [
        "<a href=\"https://colab.research.google.com/github/soyab266/test/blob/master/self_gradient_descent.ipynb\" target=\"_parent\"><img src=\"https://colab.research.google.com/assets/colab-badge.svg\" alt=\"Open In Colab\"/></a>"
      ]
    },
    {
      "cell_type": "code",
      "source": [
        "from sklearn.datasets import make_regression\n",
        "X,y = make_regression(n_samples=100, n_features=1, n_informative=1, n_targets=1,noise=20,random_state=13)"
      ],
      "metadata": {
        "id": "ofBIe_iLeIgd"
      },
      "execution_count": 84,
      "outputs": []
    },
    {
      "cell_type": "code",
      "source": [
        "plt.scatter(X,y)"
      ],
      "metadata": {
        "colab": {
          "base_uri": "https://localhost:8080/",
          "height": 282
        },
        "id": "AXi4lxa1oOxi",
        "outputId": "14f6d3df-98f6-42fa-a512-3e7b92739e86"
      },
      "execution_count": 4,
      "outputs": [
        {
          "output_type": "execute_result",
          "data": {
            "text/plain": [
              "<matplotlib.collections.PathCollection at 0x7f0a66bc23d0>"
            ]
          },
          "metadata": {},
          "execution_count": 4
        },
        {
          "output_type": "display_data",
          "data": {
            "text/plain": [
              "<Figure size 432x288 with 1 Axes>"
            ],
            "image/png": "[encoded data removed]"
          },
          "metadata": {
            "needs_background": "light"
          }
        }
      ]
    },
    {
      "cell_type": "code",
      "source": [
        "X_train,X_test,y_train,y_test= train_test_split(X,y , test_size=0.2, random_state=2)"
      ],
      "metadata": {
        "id": "ieS6kiXDoO2i"
      },
      "execution_count": 85,
      "outputs": []
    },
    {
      "cell_type": "code",
      "source": [
        "X_train.shape"
      ],
      "metadata": {
        "colab": {
          "base_uri": "https://localhost:8080/"
        },
        "id": "lrqSUKjVoO6J",
        "outputId": "d6939027-10a9-4c96-ce61-2af7b14f16c1"
      },
      "execution_count": 6,
      "outputs": [
        {
          "output_type": "execute_result",
          "data": {
            "text/plain": [
              "(80, 1)"
            ]
          },
          "metadata": {},
          "execution_count": 6
        }
      ]
    },
    {
      "cell_type": "code",
      "source": [
        "X_test.shape"
      ],
      "metadata": {
        "colab": {
          "base_uri": "https://localhost:8080/"
        },
        "id": "wt_FhZTboO9T",
        "outputId": "ebf2f61d-2a6f-4c8d-9b96-fb407ad3ba09"
      },
      "execution_count": 7,
      "outputs": [
        {
          "output_type": "execute_result",
          "data": {
            "text/plain": [
              "(20, 1)"
            ]
          },
          "metadata": {},
          "execution_count": 7
        }
      ]
    },
    {
      "cell_type": "code",
      "source": [
        "lr=LinearRegression()\n",
        "lr.fit(X_train, y_train)"
      ],
      "metadata": {
        "colab": {
          "base_uri": "https://localhost:8080/"
        },
        "id": "ik9pYOR_oPAU",
        "outputId": "e72070fc-828b-42e7-d457-6eba29e82914"
      },
      "execution_count": 86,
      "outputs": [
        {
          "output_type": "execute_result",
          "data": {
            "text/plain": [
              "LinearRegression()"
            ]
          },
          "metadata": {},
          "execution_count": 86
        }
      ]
    },
    {
      "cell_type": "code",
      "source": [
        "lr.coef_"
      ],
      "metadata": {
        "colab": {
          "base_uri": "https://localhost:8080/"
        },
        "id": "xKjZ3HkxoPDQ",
        "outputId": "a7bd233a-79a5-4e79-a443-738461c02310"
      },
      "execution_count": 87,
      "outputs": [
        {
          "output_type": "execute_result",
          "data": {
            "text/plain": [
              "array([28.12597332])"
            ]
          },
          "metadata": {},
          "execution_count": 87
        }
      ]
    },
    {
      "cell_type": "code",
      "source": [
        "lr.intercept_"
      ],
      "metadata": {
        "colab": {
          "base_uri": "https://localhost:8080/"
        },
        "id": "2GMNwTHIoPGu",
        "outputId": "03955f92-519d-4259-ed68-c54329d6a31f"
      },
      "execution_count": 88,
      "outputs": [
        {
          "output_type": "execute_result",
          "data": {
            "text/plain": [
              "-2.2710144261783825"
            ]
          },
          "metadata": {},
          "execution_count": 88
        }
      ]
    },
    {
      "cell_type": "code",
      "source": [
        "y_pred=lr.predict(X_test)"
      ],
      "metadata": {
        "id": "zyzW3tN0pWl0"
      },
      "execution_count": 14,
      "outputs": []
    },
    {
      "cell_type": "code",
      "source": [
        "r2_score( y_test, y_pred)"
      ],
      "metadata": {
        "colab": {
          "base_uri": "https://localhost:8080/"
        },
        "id": "e4i1OxLZpWsi",
        "outputId": "f8f0fa3e-936a-4a28-fee6-5764eacdfb17"
      },
      "execution_count": 16,
      "outputs": [
        {
          "output_type": "execute_result",
          "data": {
            "text/plain": [
              "0.6345158782661012"
            ]
          },
          "metadata": {},
          "execution_count": 16
        }
      ]
    },
    {
      "cell_type": "code",
      "source": [
        "class GDregressor:\n",
        "  def __init__(self,learning_rate,epochs):\n",
        "    self.m= 500\n",
        "    self.b= 10\n",
        "    self.lr= learning_rate\n",
        "    self.epochs= epochs\n",
        "\n",
        "  def fit(self, X, y):\n",
        "    for i in range(self.epochs):\n",
        "        loss_slope_b= -2* np.sum( y- self.m* X.ravel()- self.b)\n",
        "        loss_slope_m= -2* np.sum(( y- self.m* X.ravel() - self.b)*X.ravel())\n",
        "        self.b= self.b - (self.lr * loss_slope_b )\n",
        "        self.m= self.m - (self.lr * loss_slope_m )\n",
        "        print(self.b,self.m)\n",
        "\n",
        "      \n",
        "\n"
      ],
      "metadata": {
        "id": "BuJNVf1ZpWy2"
      },
      "execution_count": 106,
      "outputs": []
    },
    {
      "cell_type": "code",
      "source": [
        "gd=GDregressor( 0.01, 100) # CHOOSE VALUE FOR LERANING RATE AND EPOCHS/ITERATIONS BEAUTY OF THIS ALGO IS AAP KITNI BI GALAT B AMD M KI VALUE LO ALGO APKO SAHI VALUE NIKAL KEDETA HAI.\n"
      ],
      "metadata": {
        "id": "t2t53vQpyGfL"
      },
      "execution_count": 107,
      "outputs": []
    },
    {
      "cell_type": "code",
      "source": [
        "gd.fit(X_train, y_train)"
      ],
      "metadata": {
        "id": "vrtq-J7O9BXH",
        "outputId": "584fee1a-e688-4be3-9471-cb6caf7d4da1",
        "colab": {
          "base_uri": "https://localhost:8080/"
        }
      },
      "execution_count": 108,
      "outputs": [
        {
          "output_type": "stream",
          "name": "stdout",
          "text": [
            "-47.87185224828792 -217.11785810246624\n",
            "44.96277922415803 158.7633112679311\n",
            "-41.19746443362202 -43.321559105685765\n",
            "26.874593863471887 68.26274304427761\n",
            "-23.01085551035007 4.988737867983673\n",
            "12.04781204937364 41.782821347720045\n",
            "-11.968990601648663 19.89664939527311\n",
            "4.214633102677755 33.171475203003276\n",
            "-6.571264305926507 24.988778505686554\n",
            "0.5633575339915806 30.098304913167794\n",
            "-4.1314651481352165 26.87538048105187\n",
            "-1.0534024215693867 28.924061224304502\n",
            "-3.0662545429842787 27.614201427718832\n",
            "-1.752399010766837 28.45531667384021\n",
            "-2.6088719568572287 27.913474079561247\n",
            "-2.051080069407297 28.26334450286486\n",
            "-2.41410689039637 28.03704547576745\n",
            "-2.177952695748279 28.183599242663586\n",
            "-2.331521171388152 28.088603983508534\n",
            "-2.231682161804389 28.150219425136676\n",
            "-2.2965785640832306 28.110235862346194\n",
            "-2.2544006617030043 28.136190854795114\n",
            "-2.281810661401671 28.11933826167222\n",
            "-2.2639990146482494 28.130282594675162\n",
            "-2.2755728748097512 28.12317427131298\n",
            "-2.2680525369732734 28.127791537530666\n",
            "-2.272938899035011 28.124792158322318\n",
            "-2.269764027628761 28.126740649885797\n",
            "-2.271826846145339 28.125474804717257\n",
            "-2.270486577493704 28.12629718631455\n",
            "-2.2713573802334905 28.12576290017039\n",
            "-2.2707916028054367 28.12611002046804\n",
            "-2.271159198094835 28.12588449784255\n",
            "-2.2709203657347112 28.126031019936743\n",
            "-2.2710755385430454 28.125935824047207\n",
            "-2.2709747206757966 28.12599767334511\n",
            "-2.271040223343177 28.125957489413057\n",
            "-2.2709976654448463 28.12598359724839\n",
            "-2.2710253158277127 28.125966634748472\n",
            "-2.27100735104478 28.125977655450374\n",
            "-2.271019022975189 28.1259704951879\n",
            "-2.2710114395863275 28.12597514728573\n",
            "-2.271016366601578 28.1259721247678\n",
            "-2.2710131654632155 28.125974088530654\n",
            "-2.2710152452794135 28.125972812652286\n",
            "-2.271013893999114 28.12597364160463\n",
            "-2.2710147719413025 28.125973103025036\n",
            "-2.2710142015322856 28.125973452946237\n",
            "-2.271014572133499 28.1259732255985\n",
            "-2.2710143313496878 28.125973373308884\n",
            "-2.27101448778966 28.12597327733978\n",
            "-2.271014386148836 28.125973339691992\n",
            "-2.2710144521860314 28.125973299181055\n",
            "-2.2710144092809177 28.12597332550147\n",
            "-2.2710144371568557 28.1259733084008\n",
            "-2.271014419045543 28.1259733195113\n",
            "-2.271014430812668 28.12597331229268\n",
            "-2.2710144231674336 28.125973316982698\n",
            "-2.271014428134629 28.12597331393554\n",
            "-2.271014424907386 28.125973315915314\n",
            "-2.2710144270041623 28.125973314629032\n",
            "-2.271014425641863 28.125973315464744\n",
            "-2.2710144265269645 28.125973314921772\n",
            "-2.2710144259519045 28.125973315274546\n",
            "-2.271014426325527 28.125973315045346\n",
            "-2.27101442608278 28.12597331519426\n",
            "-2.2710144262404963 28.125973315097507\n",
            "-2.271014426138024 28.12597331516037\n",
            "-2.2710144262046024 28.125973315119527\n",
            "-2.2710144261613467 28.125973315146062\n",
            "-2.271014426189449 28.12597331512882\n",
            "-2.271014426171191 28.125973315140023\n",
            "-2.2710144261830534 28.125973315132747\n",
            "-2.271014426175347 28.125973315137475\n",
            "-2.271014426180352 28.125973315134402\n",
            "-2.271014426177102 28.1259733151364\n",
            "-2.2710144261792125 28.125973315135102\n",
            "-2.271014426177841 28.125973315135944\n",
            "-2.2710144261787324 28.125973315135397\n",
            "-2.2710144261781546 28.125973315135752\n",
            "-2.271014426178528 28.12597331513552\n",
            "-2.271014426178287 28.12597331513567\n",
            "-2.2710144261784433 28.125973315135575\n",
            "-2.271014426178342 28.125973315135635\n",
            "-2.271014426178407 28.125973315135596\n",
            "-2.2710144261783647 28.125973315135624\n",
            "-2.2710144261783927 28.125973315135603\n",
            "-2.271014426178373 28.125973315135617\n",
            "-2.271014426178389 28.12597331513561\n",
            "-2.2710144261783767 28.125973315135614\n",
            "-2.2710144261783856 28.12597331513561\n",
            "-2.27101442617838 28.125973315135614\n",
            "-2.271014426178383 28.12597331513561\n",
            "-2.2710144261783816 28.125973315135614\n",
            "-2.271014426178381 28.12597331513561\n",
            "-2.271014426178381 28.125973315135614\n",
            "-2.271014426178381 28.12597331513561\n",
            "-2.271014426178381 28.125973315135614\n",
            "-2.271014426178381 28.12597331513561\n",
            "-2.271014426178381 28.125973315135614\n"
          ]
        }
      ]
    },
    {
      "cell_type": "code",
      "source": [
        "plt.plot( X,lr.predict(X), color='r' )\n",
        "plt.scatter(X,y)"
      ],
      "metadata": {
        "id": "ZgN_zbvD-SpN",
        "outputId": "e8412cd0-3e30-4fa8-d3bd-67fd8e7181dd",
        "colab": {
          "base_uri": "https://localhost:8080/",
          "height": 282
        }
      },
      "execution_count": 116,
      "outputs": [
        {
          "output_type": "execute_result",
          "data": {
            "text/plain": [
              "<matplotlib.collections.PathCollection at 0x7f0a63e94310>"
            ]
          },
          "metadata": {},
          "execution_count": 116
        },
        {
          "output_type": "display_data",
          "data": {
            "text/plain": [
              "<Figure size 432x288 with 1 Axes>"
            ],
            "image/png": "[encoded data removed]"
          },
          "metadata": {
            "needs_background": "light"
          }
        }
      ]
    }
  ],
  "metadata": {
    "colab": {
      "name": "self gradient descent.ipynb",
      "provenance": [],
      "collapsed_sections": [],
      "mount_file_id": "15wGNYkS024uN3QhofFOdguQR3xEP-d4q",
      "authorship_tag": "ABX9TyPaj4fNm3FpHklVhkVBiKz0",
      "include_colab_link": true
    },
    "kernelspec": {
      "display_name": "Python 3",
      "name": "python3"
    },
    "language_info": {
      "name": "python"
    }
  },
  "nbformat": 4,
  "nbformat_minor": 0
}