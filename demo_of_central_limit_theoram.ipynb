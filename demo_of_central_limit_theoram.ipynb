{
  "metadata": {
    "kernelspec": {
      "language": "python",
      "display_name": "Python 3",
      "name": "python3"
    },
    "language_info": {
      "name": "python",
      "version": "3.7.12",
      "mimetype": "text/x-python",
      "codemirror_mode": {
        "name": "ipython",
        "version": 3
      },
      "pygments_lexer": "ipython3",
      "nbconvert_exporter": "python",
      "file_extension": ".py"
    },
    "colab": {
      "provenance": [],
      "include_colab_link": true
    }
  },
  "nbformat_minor": 0,
  "nbformat": 4,
  "cells": [
    {
      "cell_type": "markdown",
      "metadata": {
        "id": "view-in-github",
        "colab_type": "text"
      },
      "source": [
        "<a href=\"https://colab.research.google.com/github/soyab266/data-science/blob/master/demo_of_central_limit_theoram.ipynb\" target=\"_parent\"><img src=\"https://colab.research.google.com/assets/colab-badge.svg\" alt=\"Open In Colab\"/></a>"
      ]
    },
    {
      "cell_type": "code",
      "source": [
        "# This Python 3 environment comes with many helpful analytics libraries installed\n",
        "# It is defined by the kaggle/python Docker image: https://github.com/kaggle/docker-python\n",
        "# For example, here's several helpful packages to load\n",
        "\n",
        "import numpy as np # linear algebra\n",
        "import pandas as pd # data processing, CSV file I/O (e.g. pd.read_csv)\n",
        "\n",
        "# Input data files are available in the read-only \"../input/\" directory\n",
        "# For example, running this (by clicking run or pressing Shift+Enter) will list all files under the input directory\n",
        "\n",
        "import os\n",
        "for dirname, _, filenames in os.walk('/kaggle/input'):\n",
        "    for filename in filenames:\n",
        "        print(os.path.join(dirname, filename))\n",
        "\n",
        "# You can write up to 20GB to the current directory (/kaggle/working/) that gets preserved as output when you create a version using \"Save & Run All\" \n",
        "# You can also write temporary files to /kaggle/temp/, but they won't be saved outside of the current session"
      ],
      "metadata": {
        "_uuid": "8f2839f25d086af736a60e9eeb907d3b93b6e0e5",
        "_cell_guid": "b1076dfc-b9ad-4769-8c92-a6c4dae69d19",
        "execution": {
          "iopub.status.busy": "2023-03-30T06:58:40.375689Z",
          "iopub.execute_input": "2023-03-30T06:58:40.376134Z",
          "iopub.status.idle": "2023-03-30T06:58:40.417479Z",
          "shell.execute_reply.started": "2023-03-30T06:58:40.376093Z",
          "shell.execute_reply": "2023-03-30T06:58:40.416041Z"
        },
        "trusted": true,
        "id": "k4IEhwV9hfkD",
        "outputId": "e780f404-cba2-4bb6-c80a-fbd46c5d80e7"
      },
      "execution_count": null,
      "outputs": [
        {
          "name": "stdout",
          "text": "/kaggle/input/titanic/train.csv\n/kaggle/input/titanic/test.csv\n/kaggle/input/titanic/gender_submission.csv\n",
          "output_type": "stream"
        }
      ]
    },
    {
      "cell_type": "code",
      "source": [
        "train_df=pd.read_csv('/kaggle/input/titanic/train.csv')\n",
        "test_df=pd.read_csv('/kaggle/input/titanic/test.csv')"
      ],
      "metadata": {
        "execution": {
          "iopub.status.busy": "2023-03-30T06:59:40.505118Z",
          "iopub.execute_input": "2023-03-30T06:59:40.506449Z",
          "iopub.status.idle": "2023-03-30T06:59:40.534554Z",
          "shell.execute_reply.started": "2023-03-30T06:59:40.506391Z",
          "shell.execute_reply": "2023-03-30T06:59:40.533158Z"
        },
        "trusted": true,
        "id": "zXAgWYzihfkR"
      },
      "execution_count": null,
      "outputs": []
    },
    {
      "cell_type": "code",
      "source": [
        "test_df"
      ],
      "metadata": {
        "execution": {
          "iopub.status.busy": "2023-03-30T06:59:58.995787Z",
          "iopub.execute_input": "2023-03-30T06:59:58.996236Z",
          "iopub.status.idle": "2023-03-30T06:59:59.025517Z",
          "shell.execute_reply.started": "2023-03-30T06:59:58.996195Z",
          "shell.execute_reply": "2023-03-30T06:59:59.023923Z"
        },
        "trusted": true,
        "id": "yb2hqaH9hfkU",
        "outputId": "3a391163-1e74-4d02-c94e-5f48cd11ebd8"
      },
      "execution_count": null,
      "outputs": [
        {
          "execution_count": 5,
          "output_type": "execute_result",
          "data": {
            "text/plain": "     PassengerId  Pclass                                          Name  \\\n0            892       3                              Kelly, Mr. James   \n1            893       3              Wilkes, Mrs. James (Ellen Needs)   \n2            894       2                     Myles, Mr. Thomas Francis   \n3            895       3                              Wirz, Mr. Albert   \n4            896       3  Hirvonen, Mrs. Alexander (Helga E Lindqvist)   \n..           ...     ...                                           ...   \n413         1305       3                            Spector, Mr. Woolf   \n414         1306       1                  Oliva y Ocana, Dona. Fermina   \n415         1307       3                  Saether, Mr. Simon Sivertsen   \n416         1308       3                           Ware, Mr. Frederick   \n417         1309       3                      Peter, Master. Michael J   \n\n        Sex   Age  SibSp  Parch              Ticket      Fare Cabin Embarked  \n0      male  34.5      0      0              330911    7.8292   NaN        Q  \n1    female  47.0      1      0              363272    7.0000   NaN        S  \n2      male  62.0      0      0              240276    9.6875   NaN        Q  \n3      male  27.0      0      0              315154    8.6625   NaN        S  \n4    female  22.0      1      1             3101298   12.2875   NaN        S  \n..      ...   ...    ...    ...                 ...       ...   ...      ...  \n413    male   NaN      0      0           A.5. 3236    8.0500   NaN        S  \n414  female  39.0      0      0            PC 17758  108.9000  C105        C  \n415    male  38.5      0      0  SOTON/O.Q. 3101262    7.2500   NaN        S  \n416    male   NaN      0      0              359309    8.0500   NaN        S  \n417    male   NaN      1      1                2668   22.3583   NaN        C  \n\n[418 rows x 11 columns]",
            "text/html": "<div>\n<style scoped>\n    .dataframe tbody tr th:only-of-type {\n        vertical-align: middle;\n    }\n\n    .dataframe tbody tr th {\n        vertical-align: top;\n    }\n\n    .dataframe thead th {\n        text-align: right;\n    }\n</style>\n<table border=\"1\" class=\"dataframe\">\n  <thead>\n    <tr style=\"text-align: right;\">\n      <th></th>\n      <th>PassengerId</th>\n      <th>Pclass</th>\n      <th>Name</th>\n      <th>Sex</th>\n      <th>Age</th>\n      <th>SibSp</th>\n      <th>Parch</th>\n      <th>Ticket</th>\n      <th>Fare</th>\n      <th>Cabin</th>\n      <th>Embarked</th>\n    </tr>\n  </thead>\n  <tbody>\n    <tr>\n      <th>0</th>\n      <td>892</td>\n      <td>3</td>\n      <td>Kelly, Mr. James</td>\n      <td>male</td>\n      <td>34.5</td>\n      <td>0</td>\n      <td>0</td>\n      <td>330911</td>\n      <td>7.8292</td>\n      <td>NaN</td>\n      <td>Q</td>\n    </tr>\n    <tr>\n      <th>1</th>\n      <td>893</td>\n      <td>3</td>\n      <td>Wilkes, Mrs. James (Ellen Needs)</td>\n      <td>female</td>\n      <td>47.0</td>\n      <td>1</td>\n      <td>0</td>\n      <td>363272</td>\n      <td>7.0000</td>\n      <td>NaN</td>\n      <td>S</td>\n    </tr>\n    <tr>\n      <th>2</th>\n      <td>894</td>\n      <td>2</td>\n      <td>Myles, Mr. Thomas Francis</td>\n      <td>male</td>\n      <td>62.0</td>\n      <td>0</td>\n      <td>0</td>\n      <td>240276</td>\n      <td>9.6875</td>\n      <td>NaN</td>\n      <td>Q</td>\n    </tr>\n    <tr>\n      <th>3</th>\n      <td>895</td>\n      <td>3</td>\n      <td>Wirz, Mr. Albert</td>\n      <td>male</td>\n      <td>27.0</td>\n      <td>0</td>\n      <td>0</td>\n      <td>315154</td>\n      <td>8.6625</td>\n      <td>NaN</td>\n      <td>S</td>\n    </tr>\n    <tr>\n      <th>4</th>\n      <td>896</td>\n      <td>3</td>\n      <td>Hirvonen, Mrs. Alexander (Helga E Lindqvist)</td>\n      <td>female</td>\n      <td>22.0</td>\n      <td>1</td>\n      <td>1</td>\n      <td>3101298</td>\n      <td>12.2875</td>\n      <td>NaN</td>\n      <td>S</td>\n    </tr>\n    <tr>\n      <th>...</th>\n      <td>...</td>\n      <td>...</td>\n      <td>...</td>\n      <td>...</td>\n      <td>...</td>\n      <td>...</td>\n      <td>...</td>\n      <td>...</td>\n      <td>...</td>\n      <td>...</td>\n      <td>...</td>\n    </tr>\n    <tr>\n      <th>413</th>\n      <td>1305</td>\n      <td>3</td>\n      <td>Spector, Mr. Woolf</td>\n      <td>male</td>\n      <td>NaN</td>\n      <td>0</td>\n      <td>0</td>\n      <td>A.5. 3236</td>\n      <td>8.0500</td>\n      <td>NaN</td>\n      <td>S</td>\n    </tr>\n    <tr>\n      <th>414</th>\n      <td>1306</td>\n      <td>1</td>\n      <td>Oliva y Ocana, Dona. Fermina</td>\n      <td>female</td>\n      <td>39.0</td>\n      <td>0</td>\n      <td>0</td>\n      <td>PC 17758</td>\n      <td>108.9000</td>\n      <td>C105</td>\n      <td>C</td>\n    </tr>\n    <tr>\n      <th>415</th>\n      <td>1307</td>\n      <td>3</td>\n      <td>Saether, Mr. Simon Sivertsen</td>\n      <td>male</td>\n      <td>38.5</td>\n      <td>0</td>\n      <td>0</td>\n      <td>SOTON/O.Q. 3101262</td>\n      <td>7.2500</td>\n      <td>NaN</td>\n      <td>S</td>\n    </tr>\n    <tr>\n      <th>416</th>\n      <td>1308</td>\n      <td>3</td>\n      <td>Ware, Mr. Frederick</td>\n      <td>male</td>\n      <td>NaN</td>\n      <td>0</td>\n      <td>0</td>\n      <td>359309</td>\n      <td>8.0500</td>\n      <td>NaN</td>\n      <td>S</td>\n    </tr>\n    <tr>\n      <th>417</th>\n      <td>1309</td>\n      <td>3</td>\n      <td>Peter, Master. Michael J</td>\n      <td>male</td>\n      <td>NaN</td>\n      <td>1</td>\n      <td>1</td>\n      <td>2668</td>\n      <td>22.3583</td>\n      <td>NaN</td>\n      <td>C</td>\n    </tr>\n  </tbody>\n</table>\n<p>418 rows × 11 columns</p>\n</div>"
          },
          "metadata": {}
        }
      ]
    },
    {
      "cell_type": "code",
      "source": [
        "train_df"
      ],
      "metadata": {
        "execution": {
          "iopub.status.busy": "2023-03-30T07:00:12.894215Z",
          "iopub.execute_input": "2023-03-30T07:00:12.894649Z",
          "iopub.status.idle": "2023-03-30T07:00:12.922266Z",
          "shell.execute_reply.started": "2023-03-30T07:00:12.894611Z",
          "shell.execute_reply": "2023-03-30T07:00:12.920933Z"
        },
        "trusted": true,
        "id": "RzDr6T6BhfkV",
        "outputId": "d25b3595-8f33-4dff-e094-4f94ac30ec90"
      },
      "execution_count": null,
      "outputs": [
        {
          "execution_count": 6,
          "output_type": "execute_result",
          "data": {
            "text/plain": "     PassengerId  Survived  Pclass  \\\n0              1         0       3   \n1              2         1       1   \n2              3         1       3   \n3              4         1       1   \n4              5         0       3   \n..           ...       ...     ...   \n886          887         0       2   \n887          888         1       1   \n888          889         0       3   \n889          890         1       1   \n890          891         0       3   \n\n                                                  Name     Sex   Age  SibSp  \\\n0                              Braund, Mr. Owen Harris    male  22.0      1   \n1    Cumings, Mrs. John Bradley (Florence Briggs Th...  female  38.0      1   \n2                               Heikkinen, Miss. Laina  female  26.0      0   \n3         Futrelle, Mrs. Jacques Heath (Lily May Peel)  female  35.0      1   \n4                             Allen, Mr. William Henry    male  35.0      0   \n..                                                 ...     ...   ...    ...   \n886                              Montvila, Rev. Juozas    male  27.0      0   \n887                       Graham, Miss. Margaret Edith  female  19.0      0   \n888           Johnston, Miss. Catherine Helen \"Carrie\"  female   NaN      1   \n889                              Behr, Mr. Karl Howell    male  26.0      0   \n890                                Dooley, Mr. Patrick    male  32.0      0   \n\n     Parch            Ticket     Fare Cabin Embarked  \n0        0         A/5 21171   7.2500   NaN        S  \n1        0          PC 17599  71.2833   C85        C  \n2        0  STON/O2. 3101282   7.9250   NaN        S  \n3        0            113803  53.1000  C123        S  \n4        0            373450   8.0500   NaN        S  \n..     ...               ...      ...   ...      ...  \n886      0            211536  13.0000   NaN        S  \n887      0            112053  30.0000   B42        S  \n888      2        W./C. 6607  23.4500   NaN        S  \n889      0            111369  30.0000  C148        C  \n890      0            370376   7.7500   NaN        Q  \n\n[891 rows x 12 columns]",
            "text/html": "<div>\n<style scoped>\n    .dataframe tbody tr th:only-of-type {\n        vertical-align: middle;\n    }\n\n    .dataframe tbody tr th {\n        vertical-align: top;\n    }\n\n    .dataframe thead th {\n        text-align: right;\n    }\n</style>\n<table border=\"1\" class=\"dataframe\">\n  <thead>\n    <tr style=\"text-align: right;\">\n      <th></th>\n      <th>PassengerId</th>\n      <th>Survived</th>\n      <th>Pclass</th>\n      <th>Name</th>\n      <th>Sex</th>\n      <th>Age</th>\n      <th>SibSp</th>\n      <th>Parch</th>\n      <th>Ticket</th>\n      <th>Fare</th>\n      <th>Cabin</th>\n      <th>Embarked</th>\n    </tr>\n  </thead>\n  <tbody>\n    <tr>\n      <th>0</th>\n      <td>1</td>\n      <td>0</td>\n      <td>3</td>\n      <td>Braund, Mr. Owen Harris</td>\n      <td>male</td>\n      <td>22.0</td>\n      <td>1</td>\n      <td>0</td>\n      <td>A/5 21171</td>\n      <td>7.2500</td>\n      <td>NaN</td>\n      <td>S</td>\n    </tr>\n    <tr>\n      <th>1</th>\n      <td>2</td>\n      <td>1</td>\n      <td>1</td>\n      <td>Cumings, Mrs. John Bradley (Florence Briggs Th...</td>\n      <td>female</td>\n      <td>38.0</td>\n      <td>1</td>\n      <td>0</td>\n      <td>PC 17599</td>\n      <td>71.2833</td>\n      <td>C85</td>\n      <td>C</td>\n    </tr>\n    <tr>\n      <th>2</th>\n      <td>3</td>\n      <td>1</td>\n      <td>3</td>\n      <td>Heikkinen, Miss. Laina</td>\n      <td>female</td>\n      <td>26.0</td>\n      <td>0</td>\n      <td>0</td>\n      <td>STON/O2. 3101282</td>\n      <td>7.9250</td>\n      <td>NaN</td>\n      <td>S</td>\n    </tr>\n    <tr>\n      <th>3</th>\n      <td>4</td>\n      <td>1</td>\n      <td>1</td>\n      <td>Futrelle, Mrs. Jacques Heath (Lily May Peel)</td>\n      <td>female</td>\n      <td>35.0</td>\n      <td>1</td>\n      <td>0</td>\n      <td>113803</td>\n      <td>53.1000</td>\n      <td>C123</td>\n      <td>S</td>\n    </tr>\n    <tr>\n      <th>4</th>\n      <td>5</td>\n      <td>0</td>\n      <td>3</td>\n      <td>Allen, Mr. William Henry</td>\n      <td>male</td>\n      <td>35.0</td>\n      <td>0</td>\n      <td>0</td>\n      <td>373450</td>\n      <td>8.0500</td>\n      <td>NaN</td>\n      <td>S</td>\n    </tr>\n    <tr>\n      <th>...</th>\n      <td>...</td>\n      <td>...</td>\n      <td>...</td>\n      <td>...</td>\n      <td>...</td>\n      <td>...</td>\n      <td>...</td>\n      <td>...</td>\n      <td>...</td>\n      <td>...</td>\n      <td>...</td>\n      <td>...</td>\n    </tr>\n    <tr>\n      <th>886</th>\n      <td>887</td>\n      <td>0</td>\n      <td>2</td>\n      <td>Montvila, Rev. Juozas</td>\n      <td>male</td>\n      <td>27.0</td>\n      <td>0</td>\n      <td>0</td>\n      <td>211536</td>\n      <td>13.0000</td>\n      <td>NaN</td>\n      <td>S</td>\n    </tr>\n    <tr>\n      <th>887</th>\n      <td>888</td>\n      <td>1</td>\n      <td>1</td>\n      <td>Graham, Miss. Margaret Edith</td>\n      <td>female</td>\n      <td>19.0</td>\n      <td>0</td>\n      <td>0</td>\n      <td>112053</td>\n      <td>30.0000</td>\n      <td>B42</td>\n      <td>S</td>\n    </tr>\n    <tr>\n      <th>888</th>\n      <td>889</td>\n      <td>0</td>\n      <td>3</td>\n      <td>Johnston, Miss. Catherine Helen \"Carrie\"</td>\n      <td>female</td>\n      <td>NaN</td>\n      <td>1</td>\n      <td>2</td>\n      <td>W./C. 6607</td>\n      <td>23.4500</td>\n      <td>NaN</td>\n      <td>S</td>\n    </tr>\n    <tr>\n      <th>889</th>\n      <td>890</td>\n      <td>1</td>\n      <td>1</td>\n      <td>Behr, Mr. Karl Howell</td>\n      <td>male</td>\n      <td>26.0</td>\n      <td>0</td>\n      <td>0</td>\n      <td>111369</td>\n      <td>30.0000</td>\n      <td>C148</td>\n      <td>C</td>\n    </tr>\n    <tr>\n      <th>890</th>\n      <td>891</td>\n      <td>0</td>\n      <td>3</td>\n      <td>Dooley, Mr. Patrick</td>\n      <td>male</td>\n      <td>32.0</td>\n      <td>0</td>\n      <td>0</td>\n      <td>370376</td>\n      <td>7.7500</td>\n      <td>NaN</td>\n      <td>Q</td>\n    </tr>\n  </tbody>\n</table>\n<p>891 rows × 12 columns</p>\n</div>"
          },
          "metadata": {}
        }
      ]
    },
    {
      "cell_type": "code",
      "source": [
        "df=pd.concat([train_df.drop(columns=['Survived']),test_df]).sample(1309)"
      ],
      "metadata": {
        "execution": {
          "iopub.status.busy": "2023-03-30T07:09:43.492358Z",
          "iopub.execute_input": "2023-03-30T07:09:43.494557Z",
          "iopub.status.idle": "2023-03-30T07:09:43.508429Z",
          "shell.execute_reply.started": "2023-03-30T07:09:43.494467Z",
          "shell.execute_reply": "2023-03-30T07:09:43.506576Z"
        },
        "trusted": true,
        "id": "JUvs10X4hfkY"
      },
      "execution_count": null,
      "outputs": []
    },
    {
      "cell_type": "code",
      "source": [
        "df"
      ],
      "metadata": {
        "execution": {
          "iopub.status.busy": "2023-03-30T07:09:47.126338Z",
          "iopub.execute_input": "2023-03-30T07:09:47.126808Z",
          "iopub.status.idle": "2023-03-30T07:09:47.164253Z",
          "shell.execute_reply.started": "2023-03-30T07:09:47.126765Z",
          "shell.execute_reply": "2023-03-30T07:09:47.161457Z"
        },
        "trusted": true,
        "id": "LEqo7ji8hfkZ",
        "outputId": "36af01a2-4697-4151-e693-588233090778"
      },
      "execution_count": null,
      "outputs": [
        {
          "execution_count": 19,
          "output_type": "execute_result",
          "data": {
            "text/plain": "     PassengerId  Pclass                         Name     Sex   Age  SibSp  \\\n356          357       1  Bowerman, Miss. Elsie Edith  female  22.0      0   \n694          695       1              Weir, Col. John    male  60.0      0   \n113         1005       3     Buckley, Miss. Katherine  female  18.5      0   \n796          797       1  Leader, Dr. Alice (Farnham)  female  49.0      0   \n171          172       3         Rice, Master. Arthur    male   4.0      4   \n..           ...     ...                          ...     ...   ...    ...   \n714          715       2        Greenberg, Mr. Samuel    male  52.0      0   \n467          468       1   Smart, Mr. John Montgomery    male  56.0      0   \n757          758       2     Bailey, Mr. Percy Andrew    male  18.0      0   \n884          885       3       Sutehall, Mr. Henry Jr    male  25.0      0   \n438          439       1            Fortune, Mr. Mark    male  64.0      1   \n\n     Parch           Ticket      Fare        Cabin Embarked  \n356      1           113505   55.0000          E33        S  \n694      0           113800   26.5500          NaN        S  \n113      0           329944    7.2833          NaN        Q  \n796      0            17465   25.9292          D17        S  \n171      1           382652   29.1250          NaN        Q  \n..     ...              ...       ...          ...      ...  \n714      0           250647   13.0000          NaN        S  \n467      0           113792   26.5500          NaN        S  \n757      0            29108   11.5000          NaN        S  \n884      0  SOTON/OQ 392076    7.0500          NaN        S  \n438      4            19950  263.0000  C23 C25 C27        S  \n\n[1309 rows x 11 columns]",
            "text/html": "<div>\n<style scoped>\n    .dataframe tbody tr th:only-of-type {\n        vertical-align: middle;\n    }\n\n    .dataframe tbody tr th {\n        vertical-align: top;\n    }\n\n    .dataframe thead th {\n        text-align: right;\n    }\n</style>\n<table border=\"1\" class=\"dataframe\">\n  <thead>\n    <tr style=\"text-align: right;\">\n      <th></th>\n      <th>PassengerId</th>\n      <th>Pclass</th>\n      <th>Name</th>\n      <th>Sex</th>\n      <th>Age</th>\n      <th>SibSp</th>\n      <th>Parch</th>\n      <th>Ticket</th>\n      <th>Fare</th>\n      <th>Cabin</th>\n      <th>Embarked</th>\n    </tr>\n  </thead>\n  <tbody>\n    <tr>\n      <th>356</th>\n      <td>357</td>\n      <td>1</td>\n      <td>Bowerman, Miss. Elsie Edith</td>\n      <td>female</td>\n      <td>22.0</td>\n      <td>0</td>\n      <td>1</td>\n      <td>113505</td>\n      <td>55.0000</td>\n      <td>E33</td>\n      <td>S</td>\n    </tr>\n    <tr>\n      <th>694</th>\n      <td>695</td>\n      <td>1</td>\n      <td>Weir, Col. John</td>\n      <td>male</td>\n      <td>60.0</td>\n      <td>0</td>\n      <td>0</td>\n      <td>113800</td>\n      <td>26.5500</td>\n      <td>NaN</td>\n      <td>S</td>\n    </tr>\n    <tr>\n      <th>113</th>\n      <td>1005</td>\n      <td>3</td>\n      <td>Buckley, Miss. Katherine</td>\n      <td>female</td>\n      <td>18.5</td>\n      <td>0</td>\n      <td>0</td>\n      <td>329944</td>\n      <td>7.2833</td>\n      <td>NaN</td>\n      <td>Q</td>\n    </tr>\n    <tr>\n      <th>796</th>\n      <td>797</td>\n      <td>1</td>\n      <td>Leader, Dr. Alice (Farnham)</td>\n      <td>female</td>\n      <td>49.0</td>\n      <td>0</td>\n      <td>0</td>\n      <td>17465</td>\n      <td>25.9292</td>\n      <td>D17</td>\n      <td>S</td>\n    </tr>\n    <tr>\n      <th>171</th>\n      <td>172</td>\n      <td>3</td>\n      <td>Rice, Master. Arthur</td>\n      <td>male</td>\n      <td>4.0</td>\n      <td>4</td>\n      <td>1</td>\n      <td>382652</td>\n      <td>29.1250</td>\n      <td>NaN</td>\n      <td>Q</td>\n    </tr>\n    <tr>\n      <th>...</th>\n      <td>...</td>\n      <td>...</td>\n      <td>...</td>\n      <td>...</td>\n      <td>...</td>\n      <td>...</td>\n      <td>...</td>\n      <td>...</td>\n      <td>...</td>\n      <td>...</td>\n      <td>...</td>\n    </tr>\n    <tr>\n      <th>714</th>\n      <td>715</td>\n      <td>2</td>\n      <td>Greenberg, Mr. Samuel</td>\n      <td>male</td>\n      <td>52.0</td>\n      <td>0</td>\n      <td>0</td>\n      <td>250647</td>\n      <td>13.0000</td>\n      <td>NaN</td>\n      <td>S</td>\n    </tr>\n    <tr>\n      <th>467</th>\n      <td>468</td>\n      <td>1</td>\n      <td>Smart, Mr. John Montgomery</td>\n      <td>male</td>\n      <td>56.0</td>\n      <td>0</td>\n      <td>0</td>\n      <td>113792</td>\n      <td>26.5500</td>\n      <td>NaN</td>\n      <td>S</td>\n    </tr>\n    <tr>\n      <th>757</th>\n      <td>758</td>\n      <td>2</td>\n      <td>Bailey, Mr. Percy Andrew</td>\n      <td>male</td>\n      <td>18.0</td>\n      <td>0</td>\n      <td>0</td>\n      <td>29108</td>\n      <td>11.5000</td>\n      <td>NaN</td>\n      <td>S</td>\n    </tr>\n    <tr>\n      <th>884</th>\n      <td>885</td>\n      <td>3</td>\n      <td>Sutehall, Mr. Henry Jr</td>\n      <td>male</td>\n      <td>25.0</td>\n      <td>0</td>\n      <td>0</td>\n      <td>SOTON/OQ 392076</td>\n      <td>7.0500</td>\n      <td>NaN</td>\n      <td>S</td>\n    </tr>\n    <tr>\n      <th>438</th>\n      <td>439</td>\n      <td>1</td>\n      <td>Fortune, Mr. Mark</td>\n      <td>male</td>\n      <td>64.0</td>\n      <td>1</td>\n      <td>4</td>\n      <td>19950</td>\n      <td>263.0000</td>\n      <td>C23 C25 C27</td>\n      <td>S</td>\n    </tr>\n  </tbody>\n</table>\n<p>1309 rows × 11 columns</p>\n</div>"
          },
          "metadata": {}
        }
      ]
    },
    {
      "cell_type": "code",
      "source": [
        "sample=[]\n",
        "for i in range(100):\n",
        "    sample.append(df['Fare'].dropna().sample(50).values.tolist())"
      ],
      "metadata": {
        "execution": {
          "iopub.status.busy": "2023-03-30T07:40:41.185359Z",
          "iopub.execute_input": "2023-03-30T07:40:41.185811Z",
          "iopub.status.idle": "2023-03-30T07:40:41.222504Z",
          "shell.execute_reply.started": "2023-03-30T07:40:41.185771Z",
          "shell.execute_reply": "2023-03-30T07:40:41.221326Z"
        },
        "trusted": true,
        "id": "Od_s_qvzhfka"
      },
      "execution_count": null,
      "outputs": []
    },
    {
      "cell_type": "code",
      "source": [
        "samples=np.array(sample)\n",
        "samples.shape"
      ],
      "metadata": {
        "execution": {
          "iopub.status.busy": "2023-03-30T07:40:44.329981Z",
          "iopub.execute_input": "2023-03-30T07:40:44.330513Z",
          "iopub.status.idle": "2023-03-30T07:40:44.340836Z",
          "shell.execute_reply.started": "2023-03-30T07:40:44.330460Z",
          "shell.execute_reply": "2023-03-30T07:40:44.338613Z"
        },
        "trusted": true,
        "id": "JBDY_STuhfkb",
        "outputId": "92edde76-d655-400a-d3ec-98dbb14752c3"
      },
      "execution_count": null,
      "outputs": [
        {
          "execution_count": 51,
          "output_type": "execute_result",
          "data": {
            "text/plain": "(100, 50)"
          },
          "metadata": {}
        }
      ]
    },
    {
      "cell_type": "code",
      "source": [
        "sample_mean=samples.mean(axis=1)"
      ],
      "metadata": {
        "execution": {
          "iopub.status.busy": "2023-03-30T07:40:48.330703Z",
          "iopub.execute_input": "2023-03-30T07:40:48.331331Z",
          "iopub.status.idle": "2023-03-30T07:40:48.337162Z",
          "shell.execute_reply.started": "2023-03-30T07:40:48.331278Z",
          "shell.execute_reply": "2023-03-30T07:40:48.336144Z"
        },
        "trusted": true,
        "id": "9IuyJkFkhfkc"
      },
      "execution_count": null,
      "outputs": []
    },
    {
      "cell_type": "code",
      "source": [
        "len(sample_mean)"
      ],
      "metadata": {
        "execution": {
          "iopub.status.busy": "2023-03-30T07:40:49.981523Z",
          "iopub.execute_input": "2023-03-30T07:40:49.981921Z",
          "iopub.status.idle": "2023-03-30T07:40:49.989295Z",
          "shell.execute_reply.started": "2023-03-30T07:40:49.981884Z",
          "shell.execute_reply": "2023-03-30T07:40:49.987967Z"
        },
        "trusted": true,
        "id": "Ui8xF7n2hfke",
        "outputId": "88b48c89-914a-428a-e33b-5fde19f3917a"
      },
      "execution_count": null,
      "outputs": [
        {
          "execution_count": 53,
          "output_type": "execute_result",
          "data": {
            "text/plain": "100"
          },
          "metadata": {}
        }
      ]
    },
    {
      "cell_type": "code",
      "source": [
        "import seaborn as sns\n",
        "sns.kdeplot(sample_mean)"
      ],
      "metadata": {
        "execution": {
          "iopub.status.busy": "2023-03-30T07:40:52.681759Z",
          "iopub.execute_input": "2023-03-30T07:40:52.682168Z",
          "iopub.status.idle": "2023-03-30T07:40:52.935840Z",
          "shell.execute_reply.started": "2023-03-30T07:40:52.682133Z",
          "shell.execute_reply": "2023-03-30T07:40:52.934535Z"
        },
        "trusted": true,
        "id": "iSYRNkZxhfkf",
        "outputId": "8e484f44-945f-4a70-cab7-dff8aec7955a"
      },
      "execution_count": null,
      "outputs": [
        {
          "execution_count": 54,
          "output_type": "execute_result",
          "data": {
            "text/plain": "<AxesSubplot:ylabel='Density'>"
          },
          "metadata": {}
        },
        {
          "output_type": "display_data",
          "data": {
            "text/plain": "<Figure size 640x480 with 1 Axes>",
            "image/png": "[encoded data removed]"
          },
          "metadata": {}
        }
      ]
    },
    {
      "cell_type": "code",
      "source": [
        "sample_mean.mean()"
      ],
      "metadata": {
        "execution": {
          "iopub.status.busy": "2023-03-30T07:40:56.370662Z",
          "iopub.execute_input": "2023-03-30T07:40:56.371111Z",
          "iopub.status.idle": "2023-03-30T07:40:56.379762Z",
          "shell.execute_reply.started": "2023-03-30T07:40:56.371069Z",
          "shell.execute_reply": "2023-03-30T07:40:56.378566Z"
        },
        "trusted": true,
        "id": "um27wztIhfkg",
        "outputId": "1468379e-9911-4d1f-ced5-e1d24ad96c52"
      },
      "execution_count": null,
      "outputs": [
        {
          "execution_count": 55,
          "output_type": "execute_result",
          "data": {
            "text/plain": "32.69376552"
          },
          "metadata": {}
        }
      ]
    },
    {
      "cell_type": "code",
      "source": [
        "sample_mean.std()/np.sqrt(50)"
      ],
      "metadata": {
        "execution": {
          "iopub.status.busy": "2023-03-30T07:47:23.712402Z",
          "iopub.execute_input": "2023-03-30T07:47:23.712864Z",
          "iopub.status.idle": "2023-03-30T07:47:23.720731Z",
          "shell.execute_reply.started": "2023-03-30T07:47:23.712823Z",
          "shell.execute_reply": "2023-03-30T07:47:23.719643Z"
        },
        "trusted": true,
        "id": "yTN4cAZShfkj",
        "outputId": "8db8cad8-1d34-454c-9878-a6bfe809cea1"
      },
      "execution_count": null,
      "outputs": [
        {
          "execution_count": 57,
          "output_type": "execute_result",
          "data": {
            "text/plain": "0.9242970907303594"
          },
          "metadata": {}
        }
      ]
    },
    {
      "cell_type": "code",
      "source": [
        "upper=sample_mean.mean() + sample_mean.std()/np.sqrt(50)\n",
        "lower=sample_mean.mean()- sample_mean.std()/np.sqrt(50)"
      ],
      "metadata": {
        "execution": {
          "iopub.status.busy": "2023-03-30T07:48:59.446081Z",
          "iopub.execute_input": "2023-03-30T07:48:59.446522Z",
          "iopub.status.idle": "2023-03-30T07:48:59.453341Z",
          "shell.execute_reply.started": "2023-03-30T07:48:59.446481Z",
          "shell.execute_reply": "2023-03-30T07:48:59.451990Z"
        },
        "trusted": true,
        "id": "EK5D7y6ahfkl"
      },
      "execution_count": null,
      "outputs": []
    },
    {
      "cell_type": "code",
      "source": [
        "range =print(lower,'-',upper)"
      ],
      "metadata": {
        "execution": {
          "iopub.status.busy": "2023-03-30T07:52:57.332243Z",
          "iopub.execute_input": "2023-03-30T07:52:57.332650Z",
          "iopub.status.idle": "2023-03-30T07:52:57.338986Z",
          "shell.execute_reply.started": "2023-03-30T07:52:57.332616Z",
          "shell.execute_reply": "2023-03-30T07:52:57.337655Z"
        },
        "trusted": true,
        "id": "PdkZ7jYdhfkn",
        "outputId": "ece6c63e-3eaf-43a5-90a6-2b7cd7628622"
      },
      "execution_count": null,
      "outputs": [
        {
          "name": "stdout",
          "text": "31.76946842926964 - 33.61806261073036\n",
          "output_type": "stream"
        }
      ]
    },
    {
      "cell_type": "code",
      "source": [
        "df['Fare'].mean()"
      ],
      "metadata": {
        "execution": {
          "iopub.status.busy": "2023-03-30T07:54:15.132302Z",
          "iopub.execute_input": "2023-03-30T07:54:15.132759Z",
          "iopub.status.idle": "2023-03-30T07:54:15.140983Z",
          "shell.execute_reply.started": "2023-03-30T07:54:15.132711Z",
          "shell.execute_reply": "2023-03-30T07:54:15.139733Z"
        },
        "trusted": true,
        "id": "iOr9MXfRhfkq",
        "outputId": "49791a31-a204-4cfb-9731-5dfd7b0f0013"
      },
      "execution_count": null,
      "outputs": [
        {
          "execution_count": 73,
          "output_type": "execute_result",
          "data": {
            "text/plain": "33.29547928134557"
          },
          "metadata": {}
        }
      ]
    }
  ]
}