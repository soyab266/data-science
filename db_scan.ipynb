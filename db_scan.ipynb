{
  "cells": [
    {
      "cell_type": "markdown",
      "metadata": {
        "id": "view-in-github",
        "colab_type": "text"
      },
      "source": [
        "<a href=\"https://colab.research.google.com/github/soyab266/data-science/blob/master/db_scan.ipynb\" target=\"_parent\"><img src=\"https://colab.research.google.com/assets/colab-badge.svg\" alt=\"Open In Colab\"/></a>"
      ]
    },
    {
      "cell_type": "code",
      "execution_count": null,
      "id": "d5948681-481d-4da5-acae-7e5324e0750b",
      "metadata": {
        "id": "d5948681-481d-4da5-acae-7e5324e0750b"
      },
      "outputs": [],
      "source": [
        "import numpy as np \n",
        "from sklearn.cluster import DBSCAN \n",
        "from sklearn.datasets import make_blobs \n",
        "from sklearn.preprocessing import StandardScaler \n",
        "import matplotlib.pyplot as plt \n",
        "%matplotlib inline\n",
        "import warnings\n",
        "from sklearn.metrics import silhouette_score\n",
        "warnings.filterwarnings(\"ignore\", category=DeprecationWarning)"
      ]
    },
    {
      "cell_type": "code",
      "execution_count": null,
      "id": "fbe9d189-655a-4d34-8664-cd6007945bd3",
      "metadata": {
        "id": "fbe9d189-655a-4d34-8664-cd6007945bd3"
      },
      "outputs": [],
      "source": [
        "x, y= make_blobs( n_samples=200,cluster_std=0.60,random_state=0)"
      ]
    },
    {
      "cell_type": "code",
      "execution_count": null,
      "id": "dda0b9d2-831b-4bc1-8292-e98d8d4cd368",
      "metadata": {
        "id": "dda0b9d2-831b-4bc1-8292-e98d8d4cd368",
        "outputId": "2fe8e941-a7c4-4406-ddec-bad26a8b6d9e"
      },
      "outputs": [
        {
          "data": {
            "text/plain": [
              "<matplotlib.collections.PathCollection at 0x7f734b212290>"
            ]
          },
          "execution_count": 8,
          "metadata": {},
          "output_type": "execute_result"
        },
        {
          "data": {
            "image/png": "[encoded data removed]",
            "text/plain": [
              "<Figure size 640x480 with 1 Axes>"
            ]
          },
          "metadata": {},
          "output_type": "display_data"
        }
      ],
      "source": [
        "plt.scatter(x[:,0], x[:,1])"
      ]
    },
    {
      "cell_type": "code",
      "execution_count": null,
      "id": "dcb2d411-3b29-40ab-9663-a1e02e98d1af",
      "metadata": {
        "id": "dcb2d411-3b29-40ab-9663-a1e02e98d1af",
        "outputId": "ac2d626b-863d-4c1e-eeb8-3bdccdef85b1"
      },
      "outputs": [
        {
          "data": {
            "text/plain": [
              "array([0, 1, 1, 0, 1, 0, 2, 2, 1, 0, 1, 0, 1, 1, 1, 0, 2, 2, 1, 0, 0, 2,\n",
              "       1, 1, 0, 1, 2, 0, 0, 0, 1, 1, 0, 1, 2, 2, 1, 2, 2, 0, 2, 0, 0, 0,\n",
              "       1, 1, 1, 0, 1, 1, 1, 2, 0, 0, 0, 0, 2, 2, 1, 1, 0, 0, 1, 2, 2, 0,\n",
              "       2, 2, 0, 2, 2, 1, 1, 0, 1, 0, 2, 2, 2, 0, 0, 1, 1, 2, 2, 1, 1, 0,\n",
              "       1, 2, 0, 0, 2, 1, 2, 1, 1, 0, 0, 2, 2, 1, 0, 1, 0, 1, 2, 1, 1, 2,\n",
              "       1, 0, 2, 0, 1, 1, 1, 2, 0, 0, 2, 2, 0, 1, 2, 1, 0, 2, 0, 1, 0, 2,\n",
              "       2, 2, 1, 2, 2, 1, 2, 0, 0, 0, 1, 2, 2, 1, 0, 0, 2, 1, 2, 0, 0, 0,\n",
              "       1, 2, 2, 2, 1, 1, 0, 0, 0, 0, 1, 1, 2, 0, 2, 2, 1, 2, 1, 2, 0, 0,\n",
              "       1, 0, 1, 2, 1, 0, 2, 2, 2, 1, 0, 2, 1, 1, 0, 0, 2, 2, 2, 2, 0, 2,\n",
              "       1, 2])"
            ]
          },
          "execution_count": 38,
          "metadata": {},
          "output_type": "execute_result"
        }
      ],
      "source": [
        "scan=DBSCAN( eps=0.9,min_samples=15)\n",
        "scan.fit(x)\n",
        "scan.labels_"
      ]
    },
    {
      "cell_type": "code",
      "execution_count": null,
      "id": "5ad51a26-37dc-4aee-ae25-fc83a346d8a2",
      "metadata": {
        "id": "5ad51a26-37dc-4aee-ae25-fc83a346d8a2"
      },
      "outputs": [],
      "source": [
        "cluster=scan.labels_"
      ]
    },
    {
      "cell_type": "code",
      "execution_count": null,
      "id": "040fc9b7-a9bb-4043-8f02-da11b631d30b",
      "metadata": {
        "id": "040fc9b7-a9bb-4043-8f02-da11b631d30b",
        "outputId": "98ff1cde-ddfa-487d-b563-a4d68a3e8c6b"
      },
      "outputs": [
        {
          "data": {
            "text/plain": [
              "0.6771591392061186"
            ]
          },
          "execution_count": 40,
          "metadata": {},
          "output_type": "execute_result"
        }
      ],
      "source": [
        "silhouette_score(x, cluster)"
      ]
    }
  ],
  "metadata": {
    "kernelspec": {
      "display_name": "Python 3 (ipykernel)",
      "language": "python",
      "name": "python3"
    },
    "language_info": {
      "codemirror_mode": {
        "name": "ipython",
        "version": 3
      },
      "file_extension": ".py",
      "mimetype": "text/x-python",
      "name": "python",
      "nbconvert_exporter": "python",
      "pygments_lexer": "ipython3",
      "version": "3.10.6"
    },
    "colab": {
      "provenance": [],
      "include_colab_link": true
    }
  },
  "nbformat": 4,
  "nbformat_minor": 5
}