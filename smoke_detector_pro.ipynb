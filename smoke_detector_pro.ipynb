{
  "cells": [
    {
      "cell_type": "markdown",
      "metadata": {
        "id": "view-in-github",
        "colab_type": "text"
      },
      "source": [
        "<a href=\"https://colab.research.google.com/github/soyab266/data-science/blob/master/smoke_detector_pro.ipynb\" target=\"_parent\"><img src=\"https://colab.research.google.com/assets/colab-badge.svg\" alt=\"Open In Colab\"/></a>"
      ]
    },
    {
      "cell_type": "code",
      "execution_count": 60,
      "metadata": {
        "id": "kBf6441qGjgy"
      },
      "outputs": [],
      "source": [
        "import numpy as np\n",
        "import pandas as pd\n",
        "import matplotlib.pyplot as plt\n",
        "import seaborn as sns\n",
        "from sklearn.preprocessing import StandardScaler\n",
        "from sklearn.model_selection import train_test_split\n",
        "from sklearn.metrics import r2_score\n",
        "from sklearn.neighbors import KNeighborsClassifier\n",
        "from sklearn.linear_model import LogisticRegression\n",
        "from sklearn.ensemble import RandomForestClassifier\n",
        "from sklearn.neighbors import KernelDensity"
      ]
    },
    {
      "cell_type": "code",
      "execution_count": 4,
      "metadata": {
        "id": "2xlPSGzIHBoQ"
      },
      "outputs": [],
      "source": [
        "df=pd.read_csv('/content/smoke_detection_iot.csv')"
      ]
    },
    {
      "cell_type": "code",
      "execution_count": 5,
      "metadata": {
        "colab": {
          "base_uri": "https://localhost:8080/",
          "height": 268
        },
        "id": "RLc9uDvSHBrY",
        "outputId": "141d4dd7-7463-496c-f26e-67e4e84d6b38"
      },
      "outputs": [
        {
          "output_type": "execute_result",
          "data": {
            "text/plain": [
              "   Unnamed: 0         UTC  Temperature[C]  Humidity[%]  TVOC[ppb]  eCO2[ppm]  \\\n",
              "0           0  1654733331          20.000        57.36          0        400   \n",
              "1           1  1654733332          20.015        56.67          0        400   \n",
              "2           2  1654733333          20.029        55.96          0        400   \n",
              "3           3  1654733334          20.044        55.28          0        400   \n",
              "4           4  1654733335          20.059        54.69          0        400   \n",
              "\n",
              "   Raw H2  Raw Ethanol  Pressure[hPa]  PM1.0  PM2.5  NC0.5  NC1.0  NC2.5  CNT  \\\n",
              "0   12306        18520        939.735    0.0    0.0    0.0    0.0    0.0    0   \n",
              "1   12345        18651        939.744    0.0    0.0    0.0    0.0    0.0    1   \n",
              "2   12374        18764        939.738    0.0    0.0    0.0    0.0    0.0    2   \n",
              "3   12390        18849        939.736    0.0    0.0    0.0    0.0    0.0    3   \n",
              "4   12403        18921        939.744    0.0    0.0    0.0    0.0    0.0    4   \n",
              "\n",
              "   Fire Alarm  \n",
              "0           0  \n",
              "1           0  \n",
              "2           0  \n",
              "3           0  \n",
              "4           0  "
            ],
            "text/html": [
              "\n",
              "  <div id=\"df-17d8e58e-8a76-4704-8762-1ee8053bffb4\">\n",
              "    <div class=\"colab-df-container\">\n",
              "      <div>\n",
              "<style scoped>\n",
              "    .dataframe tbody tr th:only-of-type {\n",
              "        vertical-align: middle;\n",
              "    }\n",
              "\n",
              "    .dataframe tbody tr th {\n",
              "        vertical-align: top;\n",
              "    }\n",
              "\n",
              "    .dataframe thead th {\n",
              "        text-align: right;\n",
              "    }\n",
              "</style>\n",
              "<table border=\"1\" class=\"dataframe\">\n",
              "  <thead>\n",
              "    <tr style=\"text-align: right;\">\n",
              "      <th></th>\n",
              "      <th>Unnamed: 0</th>\n",
              "      <th>UTC</th>\n",
              "      <th>Temperature[C]</th>\n",
              "      <th>Humidity[%]</th>\n",
              "      <th>TVOC[ppb]</th>\n",
              "      <th>eCO2[ppm]</th>\n",
              "      <th>Raw H2</th>\n",
              "      <th>Raw Ethanol</th>\n",
              "      <th>Pressure[hPa]</th>\n",
              "      <th>PM1.0</th>\n",
              "      <th>PM2.5</th>\n",
              "      <th>NC0.5</th>\n",
              "      <th>NC1.0</th>\n",
              "      <th>NC2.5</th>\n",
              "      <th>CNT</th>\n",
              "      <th>Fire Alarm</th>\n",
              "    </tr>\n",
              "  </thead>\n",
              "  <tbody>\n",
              "    <tr>\n",
              "      <th>0</th>\n",
              "      <td>0</td>\n",
              "      <td>1654733331</td>\n",
              "      <td>20.000</td>\n",
              "      <td>57.36</td>\n",
              "      <td>0</td>\n",
              "      <td>400</td>\n",
              "      <td>12306</td>\n",
              "      <td>18520</td>\n",
              "      <td>939.735</td>\n",
              "      <td>0.0</td>\n",
              "      <td>0.0</td>\n",
              "      <td>0.0</td>\n",
              "      <td>0.0</td>\n",
              "      <td>0.0</td>\n",
              "      <td>0</td>\n",
              "      <td>0</td>\n",
              "    </tr>\n",
              "    <tr>\n",
              "      <th>1</th>\n",
              "      <td>1</td>\n",
              "      <td>1654733332</td>\n",
              "      <td>20.015</td>\n",
              "      <td>56.67</td>\n",
              "      <td>0</td>\n",
              "      <td>400</td>\n",
              "      <td>12345</td>\n",
              "      <td>18651</td>\n",
              "      <td>939.744</td>\n",
              "      <td>0.0</td>\n",
              "      <td>0.0</td>\n",
              "      <td>0.0</td>\n",
              "      <td>0.0</td>\n",
              "      <td>0.0</td>\n",
              "      <td>1</td>\n",
              "      <td>0</td>\n",
              "    </tr>\n",
              "    <tr>\n",
              "      <th>2</th>\n",
              "      <td>2</td>\n",
              "      <td>1654733333</td>\n",
              "      <td>20.029</td>\n",
              "      <td>55.96</td>\n",
              "      <td>0</td>\n",
              "      <td>400</td>\n",
              "      <td>12374</td>\n",
              "      <td>18764</td>\n",
              "      <td>939.738</td>\n",
              "      <td>0.0</td>\n",
              "      <td>0.0</td>\n",
              "      <td>0.0</td>\n",
              "      <td>0.0</td>\n",
              "      <td>0.0</td>\n",
              "      <td>2</td>\n",
              "      <td>0</td>\n",
              "    </tr>\n",
              "    <tr>\n",
              "      <th>3</th>\n",
              "      <td>3</td>\n",
              "      <td>1654733334</td>\n",
              "      <td>20.044</td>\n",
              "      <td>55.28</td>\n",
              "      <td>0</td>\n",
              "      <td>400</td>\n",
              "      <td>12390</td>\n",
              "      <td>18849</td>\n",
              "      <td>939.736</td>\n",
              "      <td>0.0</td>\n",
              "      <td>0.0</td>\n",
              "      <td>0.0</td>\n",
              "      <td>0.0</td>\n",
              "      <td>0.0</td>\n",
              "      <td>3</td>\n",
              "      <td>0</td>\n",
              "    </tr>\n",
              "    <tr>\n",
              "      <th>4</th>\n",
              "      <td>4</td>\n",
              "      <td>1654733335</td>\n",
              "      <td>20.059</td>\n",
              "      <td>54.69</td>\n",
              "      <td>0</td>\n",
              "      <td>400</td>\n",
              "      <td>12403</td>\n",
              "      <td>18921</td>\n",
              "      <td>939.744</td>\n",
              "      <td>0.0</td>\n",
              "      <td>0.0</td>\n",
              "      <td>0.0</td>\n",
              "      <td>0.0</td>\n",
              "      <td>0.0</td>\n",
              "      <td>4</td>\n",
              "      <td>0</td>\n",
              "    </tr>\n",
              "  </tbody>\n",
              "</table>\n",
              "</div>\n",
              "      <button class=\"colab-df-convert\" onclick=\"convertToInteractive('df-17d8e58e-8a76-4704-8762-1ee8053bffb4')\"\n",
              "              title=\"Convert this dataframe to an interactive table.\"\n",
              "              style=\"display:none;\">\n",
              "        \n",
              "  <svg xmlns=\"http://www.w3.org/2000/svg\" height=\"24px\"viewBox=\"0 0 24 24\"\n",
              "       width=\"24px\">\n",
              "    <path d=\"M0 0h24v24H0V0z\" fill=\"none\"/>\n",
              "    <path d=\"M18.56 5.44l.94 2.06.94-2.06 2.06-.94-2.06-.94-.94-2.06-.94 2.06-2.06.94zm-11 1L8.5 8.5l.94-2.06 2.06-.94-2.06-.94L8.5 2.5l-.94 2.06-2.06.94zm10 10l.94 2.06.94-2.06 2.06-.94-2.06-.94-.94-2.06-.94 2.06-2.06.94z\"/><path d=\"M17.41 7.96l-1.37-1.37c-.4-.4-.92-.59-1.43-.59-.52 0-1.04.2-1.43.59L10.3 9.45l-7.72 7.72c-.78.78-.78 2.05 0 2.83L4 21.41c.39.39.9.59 1.41.59.51 0 1.02-.2 1.41-.59l7.78-7.78 2.81-2.81c.8-.78.8-2.07 0-2.86zM5.41 20L4 18.59l7.72-7.72 1.47 1.35L5.41 20z\"/>\n",
              "  </svg>\n",
              "      </button>\n",
              "      \n",
              "  <style>\n",
              "    .colab-df-container {\n",
              "      display:flex;\n",
              "      flex-wrap:wrap;\n",
              "      gap: 12px;\n",
              "    }\n",
              "\n",
              "    .colab-df-convert {\n",
              "      background-color: #E8F0FE;\n",
              "      border: none;\n",
              "      border-radius: 50%;\n",
              "      cursor: pointer;\n",
              "      display: none;\n",
              "      fill: #1967D2;\n",
              "      height: 32px;\n",
              "      padding: 0 0 0 0;\n",
              "      width: 32px;\n",
              "    }\n",
              "\n",
              "    .colab-df-convert:hover {\n",
              "      background-color: #E2EBFA;\n",
              "      box-shadow: 0px 1px 2px rgba(60, 64, 67, 0.3), 0px 1px 3px 1px rgba(60, 64, 67, 0.15);\n",
              "      fill: #174EA6;\n",
              "    }\n",
              "\n",
              "    [theme=dark] .colab-df-convert {\n",
              "      background-color: #3B4455;\n",
              "      fill: #D2E3FC;\n",
              "    }\n",
              "\n",
              "    [theme=dark] .colab-df-convert:hover {\n",
              "      background-color: #434B5C;\n",
              "      box-shadow: 0px 1px 3px 1px rgba(0, 0, 0, 0.15);\n",
              "      filter: drop-shadow(0px 1px 2px rgba(0, 0, 0, 0.3));\n",
              "      fill: #FFFFFF;\n",
              "    }\n",
              "  </style>\n",
              "\n",
              "      <script>\n",
              "        const buttonEl =\n",
              "          document.querySelector('#df-17d8e58e-8a76-4704-8762-1ee8053bffb4 button.colab-df-convert');\n",
              "        buttonEl.style.display =\n",
              "          google.colab.kernel.accessAllowed ? 'block' : 'none';\n",
              "\n",
              "        async function convertToInteractive(key) {\n",
              "          const element = document.querySelector('#df-17d8e58e-8a76-4704-8762-1ee8053bffb4');\n",
              "          const dataTable =\n",
              "            await google.colab.kernel.invokeFunction('convertToInteractive',\n",
              "                                                     [key], {});\n",
              "          if (!dataTable) return;\n",
              "\n",
              "          const docLinkHtml = 'Like what you see? Visit the ' +\n",
              "            '<a target=\"_blank\" href=https://colab.research.google.com/notebooks/data_table.ipynb>data table notebook</a>'\n",
              "            + ' to learn more about interactive tables.';\n",
              "          element.innerHTML = '';\n",
              "          dataTable['output_type'] = 'display_data';\n",
              "          await google.colab.output.renderOutput(dataTable, element);\n",
              "          const docLink = document.createElement('div');\n",
              "          docLink.innerHTML = docLinkHtml;\n",
              "          element.appendChild(docLink);\n",
              "        }\n",
              "      </script>\n",
              "    </div>\n",
              "  </div>\n",
              "  "
            ]
          },
          "metadata": {},
          "execution_count": 5
        }
      ],
      "source": [
        "df.head()"
      ]
    },
    {
      "cell_type": "code",
      "execution_count": 6,
      "metadata": {
        "colab": {
          "base_uri": "https://localhost:8080/"
        },
        "id": "-Sdch06-IMNC",
        "outputId": "9c20af2f-2f3f-4c7c-e769-3277bb9b354d"
      },
      "outputs": [
        {
          "output_type": "execute_result",
          "data": {
            "text/plain": [
              "(62630, 16)"
            ]
          },
          "metadata": {},
          "execution_count": 6
        }
      ],
      "source": [
        "df.shape # row=62630, and columns=16"
      ]
    },
    {
      "cell_type": "markdown",
      "metadata": {
        "id": "y9YpgBA8PFvE"
      },
      "source": [
        "Feature Description\n",
        "1- UTC : The time when experiment was performed.\n",
        "\n",
        "2- Temperature : Temperature of Surroundings. Measured in Celsius\n",
        "\n",
        "3- Humidity : The air humidity during the experiment.\n",
        "\n",
        "4- TVOC : Total Volatile Organic Compounds. Measured in ppb (parts per billion)\n",
        "\n",
        "5- eCo2 : CO2 equivalent concentration. Measured in ppm (parts per million)\n",
        "\n",
        "6- Raw H2 : The amount of Raw Hydrogen present in the surroundings.\n",
        "\n",
        " Raw Ethanol : The amount of Raw Ethanol present in the surroundings.\n",
        "8- Pressure : Air pressure. Measured in hPa\n",
        "\n",
        "9- PM1.0 : Paticulate matter of diameter less than 1.0 micrometer .\n",
        "\n",
        "10- PM2.5 : Paticulate matter of diameter less than 2.5 micrometer.\n",
        "\n",
        "11- NC0.5 : Concentration of particulate matter of diameter less than 0.5 micrometers.\n",
        "\n",
        "12- NC1.0 : Concentration of particulate matter of diameter less than 1.0\n",
        "\n",
        "13- NC2.5 : Concentration of particulate matter of diameter less than 2.5 micrometers.\n",
        "14- CNT : Simple Count.\n",
        "\n",
        "15- Fire Alarm : (Reality) If fire was present then value is 1 else it is 0.¶"
      ]
    },
    {
      "cell_type": "code",
      "execution_count": 7,
      "metadata": {
        "colab": {
          "base_uri": "https://localhost:8080/"
        },
        "id": "4zpZEaT5IMbY",
        "outputId": "6bfc0f85-d68d-4cd3-c097-3970985e5fe6"
      },
      "outputs": [
        {
          "output_type": "execute_result",
          "data": {
            "text/plain": [
              "Unnamed: 0        0\n",
              "UTC               0\n",
              "Temperature[C]    0\n",
              "Humidity[%]       0\n",
              "TVOC[ppb]         0\n",
              "eCO2[ppm]         0\n",
              "Raw H2            0\n",
              "Raw Ethanol       0\n",
              "Pressure[hPa]     0\n",
              "PM1.0             0\n",
              "PM2.5             0\n",
              "NC0.5             0\n",
              "NC1.0             0\n",
              "NC2.5             0\n",
              "CNT               0\n",
              "Fire Alarm        0\n",
              "dtype: int64"
            ]
          },
          "metadata": {},
          "execution_count": 7
        }
      ],
      "source": [
        "df.isnull().sum() # just to see is there any missing value = no missing value is there."
      ]
    },
    {
      "cell_type": "code",
      "execution_count": 8,
      "metadata": {
        "colab": {
          "base_uri": "https://localhost:8080/"
        },
        "id": "7jZOw5WwIYbf",
        "outputId": "f18446e1-002b-4804-8c19-4fb47e0d3f39"
      },
      "outputs": [
        {
          "output_type": "execute_result",
          "data": {
            "text/plain": [
              "Index(['Unnamed: 0', 'UTC', 'Temperature[C]', 'Humidity[%]', 'TVOC[ppb]',\n",
              "       'eCO2[ppm]', 'Raw H2', 'Raw Ethanol', 'Pressure[hPa]', 'PM1.0', 'PM2.5',\n",
              "       'NC0.5', 'NC1.0', 'NC2.5', 'CNT', 'Fire Alarm'],\n",
              "      dtype='object')"
            ]
          },
          "metadata": {},
          "execution_count": 8
        }
      ],
      "source": [
        "df.columns # total numbers of columns =16"
      ]
    },
    {
      "cell_type": "code",
      "execution_count": 9,
      "metadata": {
        "colab": {
          "base_uri": "https://localhost:8080/"
        },
        "id": "NKvkLMiNIYvS",
        "outputId": "aef4ae42-352b-4842-9048-02a10ca51d07"
      },
      "outputs": [
        {
          "output_type": "stream",
          "name": "stdout",
          "text": [
            "<class 'pandas.core.frame.DataFrame'>\n",
            "RangeIndex: 62630 entries, 0 to 62629\n",
            "Data columns (total 16 columns):\n",
            " #   Column          Non-Null Count  Dtype  \n",
            "---  ------          --------------  -----  \n",
            " 0   Unnamed: 0      62630 non-null  int64  \n",
            " 1   UTC             62630 non-null  int64  \n",
            " 2   Temperature[C]  62630 non-null  float64\n",
            " 3   Humidity[%]     62630 non-null  float64\n",
            " 4   TVOC[ppb]       62630 non-null  int64  \n",
            " 5   eCO2[ppm]       62630 non-null  int64  \n",
            " 6   Raw H2          62630 non-null  int64  \n",
            " 7   Raw Ethanol     62630 non-null  int64  \n",
            " 8   Pressure[hPa]   62630 non-null  float64\n",
            " 9   PM1.0           62630 non-null  float64\n",
            " 10  PM2.5           62630 non-null  float64\n",
            " 11  NC0.5           62630 non-null  float64\n",
            " 12  NC1.0           62630 non-null  float64\n",
            " 13  NC2.5           62630 non-null  float64\n",
            " 14  CNT             62630 non-null  int64  \n",
            " 15  Fire Alarm      62630 non-null  int64  \n",
            "dtypes: float64(8), int64(8)\n",
            "memory usage: 7.6 MB\n"
          ]
        }
      ],
      "source": [
        "df.info()"
      ]
    },
    {
      "cell_type": "markdown",
      "metadata": {
        "id": "34A_NAXaUYoF"
      },
      "source": [
        "Exploratory Data Analysis"
      ]
    },
    {
      "cell_type": "code",
      "execution_count": 10,
      "metadata": {
        "colab": {
          "base_uri": "https://localhost:8080/",
          "height": 364
        },
        "id": "8vsMnqKHRH_m",
        "outputId": "87fadcfe-d3db-490e-9f45-23d409db6952"
      },
      "outputs": [
        {
          "output_type": "execute_result",
          "data": {
            "text/plain": [
              "         Unnamed: 0           UTC  Temperature[C]   Humidity[%]     TVOC[ppb]  \\\n",
              "count  62630.000000  6.263000e+04    62630.000000  62630.000000  62630.000000   \n",
              "mean   31314.500000  1.654792e+09       15.970424     48.539499   1942.057528   \n",
              "std    18079.868017  1.100025e+05       14.359576      8.865367   7811.589055   \n",
              "min        0.000000  1.654712e+09      -22.010000     10.740000      0.000000   \n",
              "25%    15657.250000  1.654743e+09       10.994250     47.530000    130.000000   \n",
              "50%    31314.500000  1.654762e+09       20.130000     50.150000    981.000000   \n",
              "75%    46971.750000  1.654778e+09       25.409500     53.240000   1189.000000   \n",
              "max    62629.000000  1.655130e+09       59.930000     75.200000  60000.000000   \n",
              "\n",
              "          eCO2[ppm]        Raw H2   Raw Ethanol  Pressure[hPa]         PM1.0  \\\n",
              "count  62630.000000  62630.000000  62630.000000   62630.000000  62630.000000   \n",
              "mean     670.021044  12942.453936  19754.257912     938.627649    100.594309   \n",
              "std     1905.885439    272.464305    609.513156       1.331344    922.524245   \n",
              "min      400.000000  10668.000000  15317.000000     930.852000      0.000000   \n",
              "25%      400.000000  12830.000000  19435.000000     938.700000      1.280000   \n",
              "50%      400.000000  12924.000000  19501.000000     938.816000      1.810000   \n",
              "75%      438.000000  13109.000000  20078.000000     939.418000      2.090000   \n",
              "max    60000.000000  13803.000000  21410.000000     939.861000  14333.690000   \n",
              "\n",
              "              PM2.5         NC0.5         NC1.0         NC2.5           CNT  \\\n",
              "count  62630.000000  62630.000000  62630.000000  62630.000000  62630.000000   \n",
              "mean     184.467770    491.463608    203.586487     80.049042  10511.386157   \n",
              "std     1976.305615   4265.661251   2214.738556   1083.383189   7597.870997   \n",
              "min        0.000000      0.000000      0.000000      0.000000      0.000000   \n",
              "25%        1.340000      8.820000      1.384000      0.033000   3625.250000   \n",
              "50%        1.880000     12.450000      1.943000      0.044000   9336.000000   \n",
              "75%        2.180000     14.420000      2.249000      0.051000  17164.750000   \n",
              "max    45432.260000  61482.030000  51914.680000  30026.438000  24993.000000   \n",
              "\n",
              "         Fire Alarm  \n",
              "count  62630.000000  \n",
              "mean       0.714626  \n",
              "std        0.451596  \n",
              "min        0.000000  \n",
              "25%        0.000000  \n",
              "50%        1.000000  \n",
              "75%        1.000000  \n",
              "max        1.000000  "
            ],
            "text/html": [
              "\n",
              "  <div id=\"df-64b7c273-94f0-4470-af7e-cb3738404fd2\">\n",
              "    <div class=\"colab-df-container\">\n",
              "      <div>\n",
              "<style scoped>\n",
              "    .dataframe tbody tr th:only-of-type {\n",
              "        vertical-align: middle;\n",
              "    }\n",
              "\n",
              "    .dataframe tbody tr th {\n",
              "        vertical-align: top;\n",
              "    }\n",
              "\n",
              "    .dataframe thead th {\n",
              "        text-align: right;\n",
              "    }\n",
              "</style>\n",
              "<table border=\"1\" class=\"dataframe\">\n",
              "  <thead>\n",
              "    <tr style=\"text-align: right;\">\n",
              "      <th></th>\n",
              "      <th>Unnamed: 0</th>\n",
              "      <th>UTC</th>\n",
              "      <th>Temperature[C]</th>\n",
              "      <th>Humidity[%]</th>\n",
              "      <th>TVOC[ppb]</th>\n",
              "      <th>eCO2[ppm]</th>\n",
              "      <th>Raw H2</th>\n",
              "      <th>Raw Ethanol</th>\n",
              "      <th>Pressure[hPa]</th>\n",
              "      <th>PM1.0</th>\n",
              "      <th>PM2.5</th>\n",
              "      <th>NC0.5</th>\n",
              "      <th>NC1.0</th>\n",
              "      <th>NC2.5</th>\n",
              "      <th>CNT</th>\n",
              "      <th>Fire Alarm</th>\n",
              "    </tr>\n",
              "  </thead>\n",
              "  <tbody>\n",
              "    <tr>\n",
              "      <th>count</th>\n",
              "      <td>62630.000000</td>\n",
              "      <td>6.263000e+04</td>\n",
              "      <td>62630.000000</td>\n",
              "      <td>62630.000000</td>\n",
              "      <td>62630.000000</td>\n",
              "      <td>62630.000000</td>\n",
              "      <td>62630.000000</td>\n",
              "      <td>62630.000000</td>\n",
              "      <td>62630.000000</td>\n",
              "      <td>62630.000000</td>\n",
              "      <td>62630.000000</td>\n",
              "      <td>62630.000000</td>\n",
              "      <td>62630.000000</td>\n",
              "      <td>62630.000000</td>\n",
              "      <td>62630.000000</td>\n",
              "      <td>62630.000000</td>\n",
              "    </tr>\n",
              "    <tr>\n",
              "      <th>mean</th>\n",
              "      <td>31314.500000</td>\n",
              "      <td>1.654792e+09</td>\n",
              "      <td>15.970424</td>\n",
              "      <td>48.539499</td>\n",
              "      <td>1942.057528</td>\n",
              "      <td>670.021044</td>\n",
              "      <td>12942.453936</td>\n",
              "      <td>19754.257912</td>\n",
              "      <td>938.627649</td>\n",
              "      <td>100.594309</td>\n",
              "      <td>184.467770</td>\n",
              "      <td>491.463608</td>\n",
              "      <td>203.586487</td>\n",
              "      <td>80.049042</td>\n",
              "      <td>10511.386157</td>\n",
              "      <td>0.714626</td>\n",
              "    </tr>\n",
              "    <tr>\n",
              "      <th>std</th>\n",
              "      <td>18079.868017</td>\n",
              "      <td>1.100025e+05</td>\n",
              "      <td>14.359576</td>\n",
              "      <td>8.865367</td>\n",
              "      <td>7811.589055</td>\n",
              "      <td>1905.885439</td>\n",
              "      <td>272.464305</td>\n",
              "      <td>609.513156</td>\n",
              "      <td>1.331344</td>\n",
              "      <td>922.524245</td>\n",
              "      <td>1976.305615</td>\n",
              "      <td>4265.661251</td>\n",
              "      <td>2214.738556</td>\n",
              "      <td>1083.383189</td>\n",
              "      <td>7597.870997</td>\n",
              "      <td>0.451596</td>\n",
              "    </tr>\n",
              "    <tr>\n",
              "      <th>min</th>\n",
              "      <td>0.000000</td>\n",
              "      <td>1.654712e+09</td>\n",
              "      <td>-22.010000</td>\n",
              "      <td>10.740000</td>\n",
              "      <td>0.000000</td>\n",
              "      <td>400.000000</td>\n",
              "      <td>10668.000000</td>\n",
              "      <td>15317.000000</td>\n",
              "      <td>930.852000</td>\n",
              "      <td>0.000000</td>\n",
              "      <td>0.000000</td>\n",
              "      <td>0.000000</td>\n",
              "      <td>0.000000</td>\n",
              "      <td>0.000000</td>\n",
              "      <td>0.000000</td>\n",
              "      <td>0.000000</td>\n",
              "    </tr>\n",
              "    <tr>\n",
              "      <th>25%</th>\n",
              "      <td>15657.250000</td>\n",
              "      <td>1.654743e+09</td>\n",
              "      <td>10.994250</td>\n",
              "      <td>47.530000</td>\n",
              "      <td>130.000000</td>\n",
              "      <td>400.000000</td>\n",
              "      <td>12830.000000</td>\n",
              "      <td>19435.000000</td>\n",
              "      <td>938.700000</td>\n",
              "      <td>1.280000</td>\n",
              "      <td>1.340000</td>\n",
              "      <td>8.820000</td>\n",
              "      <td>1.384000</td>\n",
              "      <td>0.033000</td>\n",
              "      <td>3625.250000</td>\n",
              "      <td>0.000000</td>\n",
              "    </tr>\n",
              "    <tr>\n",
              "      <th>50%</th>\n",
              "      <td>31314.500000</td>\n",
              "      <td>1.654762e+09</td>\n",
              "      <td>20.130000</td>\n",
              "      <td>50.150000</td>\n",
              "      <td>981.000000</td>\n",
              "      <td>400.000000</td>\n",
              "      <td>12924.000000</td>\n",
              "      <td>19501.000000</td>\n",
              "      <td>938.816000</td>\n",
              "      <td>1.810000</td>\n",
              "      <td>1.880000</td>\n",
              "      <td>12.450000</td>\n",
              "      <td>1.943000</td>\n",
              "      <td>0.044000</td>\n",
              "      <td>9336.000000</td>\n",
              "      <td>1.000000</td>\n",
              "    </tr>\n",
              "    <tr>\n",
              "      <th>75%</th>\n",
              "      <td>46971.750000</td>\n",
              "      <td>1.654778e+09</td>\n",
              "      <td>25.409500</td>\n",
              "      <td>53.240000</td>\n",
              "      <td>1189.000000</td>\n",
              "      <td>438.000000</td>\n",
              "      <td>13109.000000</td>\n",
              "      <td>20078.000000</td>\n",
              "      <td>939.418000</td>\n",
              "      <td>2.090000</td>\n",
              "      <td>2.180000</td>\n",
              "      <td>14.420000</td>\n",
              "      <td>2.249000</td>\n",
              "      <td>0.051000</td>\n",
              "      <td>17164.750000</td>\n",
              "      <td>1.000000</td>\n",
              "    </tr>\n",
              "    <tr>\n",
              "      <th>max</th>\n",
              "      <td>62629.000000</td>\n",
              "      <td>1.655130e+09</td>\n",
              "      <td>59.930000</td>\n",
              "      <td>75.200000</td>\n",
              "      <td>60000.000000</td>\n",
              "      <td>60000.000000</td>\n",
              "      <td>13803.000000</td>\n",
              "      <td>21410.000000</td>\n",
              "      <td>939.861000</td>\n",
              "      <td>14333.690000</td>\n",
              "      <td>45432.260000</td>\n",
              "      <td>61482.030000</td>\n",
              "      <td>51914.680000</td>\n",
              "      <td>30026.438000</td>\n",
              "      <td>24993.000000</td>\n",
              "      <td>1.000000</td>\n",
              "    </tr>\n",
              "  </tbody>\n",
              "</table>\n",
              "</div>\n",
              "      <button class=\"colab-df-convert\" onclick=\"convertToInteractive('df-64b7c273-94f0-4470-af7e-cb3738404fd2')\"\n",
              "              title=\"Convert this dataframe to an interactive table.\"\n",
              "              style=\"display:none;\">\n",
              "        \n",
              "  <svg xmlns=\"http://www.w3.org/2000/svg\" height=\"24px\"viewBox=\"0 0 24 24\"\n",
              "       width=\"24px\">\n",
              "    <path d=\"M0 0h24v24H0V0z\" fill=\"none\"/>\n",
              "    <path d=\"M18.56 5.44l.94 2.06.94-2.06 2.06-.94-2.06-.94-.94-2.06-.94 2.06-2.06.94zm-11 1L8.5 8.5l.94-2.06 2.06-.94-2.06-.94L8.5 2.5l-.94 2.06-2.06.94zm10 10l.94 2.06.94-2.06 2.06-.94-2.06-.94-.94-2.06-.94 2.06-2.06.94z\"/><path d=\"M17.41 7.96l-1.37-1.37c-.4-.4-.92-.59-1.43-.59-.52 0-1.04.2-1.43.59L10.3 9.45l-7.72 7.72c-.78.78-.78 2.05 0 2.83L4 21.41c.39.39.9.59 1.41.59.51 0 1.02-.2 1.41-.59l7.78-7.78 2.81-2.81c.8-.78.8-2.07 0-2.86zM5.41 20L4 18.59l7.72-7.72 1.47 1.35L5.41 20z\"/>\n",
              "  </svg>\n",
              "      </button>\n",
              "      \n",
              "  <style>\n",
              "    .colab-df-container {\n",
              "      display:flex;\n",
              "      flex-wrap:wrap;\n",
              "      gap: 12px;\n",
              "    }\n",
              "\n",
              "    .colab-df-convert {\n",
              "      background-color: #E8F0FE;\n",
              "      border: none;\n",
              "      border-radius: 50%;\n",
              "      cursor: pointer;\n",
              "      display: none;\n",
              "      fill: #1967D2;\n",
              "      height: 32px;\n",
              "      padding: 0 0 0 0;\n",
              "      width: 32px;\n",
              "    }\n",
              "\n",
              "    .colab-df-convert:hover {\n",
              "      background-color: #E2EBFA;\n",
              "      box-shadow: 0px 1px 2px rgba(60, 64, 67, 0.3), 0px 1px 3px 1px rgba(60, 64, 67, 0.15);\n",
              "      fill: #174EA6;\n",
              "    }\n",
              "\n",
              "    [theme=dark] .colab-df-convert {\n",
              "      background-color: #3B4455;\n",
              "      fill: #D2E3FC;\n",
              "    }\n",
              "\n",
              "    [theme=dark] .colab-df-convert:hover {\n",
              "      background-color: #434B5C;\n",
              "      box-shadow: 0px 1px 3px 1px rgba(0, 0, 0, 0.15);\n",
              "      filter: drop-shadow(0px 1px 2px rgba(0, 0, 0, 0.3));\n",
              "      fill: #FFFFFF;\n",
              "    }\n",
              "  </style>\n",
              "\n",
              "      <script>\n",
              "        const buttonEl =\n",
              "          document.querySelector('#df-64b7c273-94f0-4470-af7e-cb3738404fd2 button.colab-df-convert');\n",
              "        buttonEl.style.display =\n",
              "          google.colab.kernel.accessAllowed ? 'block' : 'none';\n",
              "\n",
              "        async function convertToInteractive(key) {\n",
              "          const element = document.querySelector('#df-64b7c273-94f0-4470-af7e-cb3738404fd2');\n",
              "          const dataTable =\n",
              "            await google.colab.kernel.invokeFunction('convertToInteractive',\n",
              "                                                     [key], {});\n",
              "          if (!dataTable) return;\n",
              "\n",
              "          const docLinkHtml = 'Like what you see? Visit the ' +\n",
              "            '<a target=\"_blank\" href=https://colab.research.google.com/notebooks/data_table.ipynb>data table notebook</a>'\n",
              "            + ' to learn more about interactive tables.';\n",
              "          element.innerHTML = '';\n",
              "          dataTable['output_type'] = 'display_data';\n",
              "          await google.colab.output.renderOutput(dataTable, element);\n",
              "          const docLink = document.createElement('div');\n",
              "          docLink.innerHTML = docLinkHtml;\n",
              "          element.appendChild(docLink);\n",
              "        }\n",
              "      </script>\n",
              "    </div>\n",
              "  </div>\n",
              "  "
            ]
          },
          "metadata": {},
          "execution_count": 10
        }
      ],
      "source": [
        "df.describe()"
      ]
    },
    {
      "cell_type": "markdown",
      "metadata": {
        "id": "qai1wvccUbYY"
      },
      "source": [
        "observations from df.describe -\n",
        "\n",
        "1 Temperature[C] - here mean is 15 and std is 14 it means that  the values of this column may have high variations.\n",
        "\n",
        "2Humidity[%]\t- here mean is 48 and std is 8 it means max values are near with mean, with few variations.\n",
        "\n",
        "3Pressure[hPa]\t- here maen value is 938 and std is 1 it means allthe values of this column is near to average.min =930 and max=936"
      ]
    },
    {
      "cell_type": "code",
      "execution_count": 52,
      "metadata": {
        "id": "kSKROYBJjFp1"
      },
      "outputs": [],
      "source": [
        "df1=df.drop(columns=['UTC','CNT', 'Unnamed: 0'] ,axis=1)"
      ]
    },
    {
      "cell_type": "code",
      "execution_count": 44,
      "metadata": {
        "colab": {
          "base_uri": "https://localhost:8080/"
        },
        "id": "jrI394VLjGOj",
        "outputId": "52de9bed-0e15-4c0c-e77d-91f982052c39"
      },
      "outputs": [
        {
          "output_type": "execute_result",
          "data": {
            "text/plain": [
              "(62630, 13)"
            ]
          },
          "metadata": {},
          "execution_count": 44
        }
      ],
      "source": [
        "df1.shape"
      ]
    },
    {
      "cell_type": "markdown",
      "metadata": {
        "id": "jHdY2ewqnUBX"
      },
      "source": [
        "now we have removed 'UTC','CNT', 'Unnamed: 0' because this columns were not important.now we have rows=62630 and columns=13\n",
        "and our data frame=df1"
      ]
    },
    {
      "cell_type": "code",
      "execution_count": 13,
      "metadata": {
        "colab": {
          "base_uri": "https://localhost:8080/",
          "height": 518
        },
        "id": "pnGPNnx9Xtfm",
        "outputId": "9500080b-940c-4649-d5b6-276b0859db0e"
      },
      "outputs": [
        {
          "output_type": "execute_result",
          "data": {
            "text/plain": [
              "                Temperature[C]  Humidity[%]  TVOC[ppb]  eCO2[ppm]    Raw H2  \\\n",
              "Temperature[C]        1.000000    -0.243986   0.082442   0.079265 -0.135540   \n",
              "Humidity[%]          -0.243986     1.000000  -0.488878  -0.369095  0.247199   \n",
              "TVOC[ppb]             0.082442    -0.488878   1.000000   0.606118 -0.653053   \n",
              "eCO2[ppm]             0.079265    -0.369095   0.606118   1.000000 -0.682785   \n",
              "Raw H2               -0.135540     0.247199  -0.653053  -0.682785  1.000000   \n",
              "Raw Ethanol          -0.037343     0.068782  -0.673715  -0.506695  0.631495   \n",
              "Pressure[hPa]        -0.251203     0.694614  -0.220004  -0.326043  0.303090   \n",
              "PM1.0                 0.037330    -0.236538   0.597366   0.665482 -0.530714   \n",
              "PM2.5                 0.032084    -0.178882   0.477424   0.572691 -0.431079   \n",
              "NC0.5                 0.039291    -0.277389   0.670657   0.699604 -0.587769   \n",
              "NC1.0                 0.031608    -0.174224   0.467386   0.564252 -0.422626   \n",
              "NC2.5                 0.025526    -0.118502   0.344721   0.456323 -0.318518   \n",
              "Fire Alarm           -0.163902     0.399846  -0.214743  -0.097006  0.107007   \n",
              "\n",
              "                Raw Ethanol  Pressure[hPa]     PM1.0     PM2.5     NC0.5  \\\n",
              "Temperature[C]    -0.037343      -0.251203  0.037330  0.032084  0.039291   \n",
              "Humidity[%]        0.068782       0.694614 -0.236538 -0.178882 -0.277389   \n",
              "TVOC[ppb]         -0.673715      -0.220004  0.597366  0.477424  0.670657   \n",
              "eCO2[ppm]         -0.506695      -0.326043  0.665482  0.572691  0.699604   \n",
              "Raw H2             0.631495       0.303090 -0.530714 -0.431079 -0.587769   \n",
              "Raw Ethanol        1.000000      -0.075926 -0.480698 -0.393192 -0.529186   \n",
              "Pressure[hPa]     -0.075926       1.000000 -0.258938 -0.243071 -0.248657   \n",
              "PM1.0             -0.480698      -0.258938  1.000000  0.956118  0.940045   \n",
              "PM2.5             -0.393192      -0.243071  0.956118  1.000000  0.798873   \n",
              "NC0.5             -0.529186      -0.248657  0.940045  0.798873  1.000000   \n",
              "NC1.0             -0.385720      -0.241148  0.949860  0.999787  0.786274   \n",
              "NC2.5             -0.293351      -0.213390  0.854901  0.969382  0.626711   \n",
              "Fire Alarm        -0.340652       0.249797 -0.110552 -0.084916 -0.128118   \n",
              "\n",
              "                   NC1.0     NC2.5  Fire Alarm  \n",
              "Temperature[C]  0.031608  0.025526   -0.163902  \n",
              "Humidity[%]    -0.174224 -0.118502    0.399846  \n",
              "TVOC[ppb]       0.467386  0.344721   -0.214743  \n",
              "eCO2[ppm]       0.564252  0.456323   -0.097006  \n",
              "Raw H2         -0.422626 -0.318518    0.107007  \n",
              "Raw Ethanol    -0.385720 -0.293351   -0.340652  \n",
              "Pressure[hPa]  -0.241148 -0.213390    0.249797  \n",
              "PM1.0           0.949860  0.854901   -0.110552  \n",
              "PM2.5           0.999787  0.969382   -0.084916  \n",
              "NC0.5           0.786274  0.626711   -0.128118  \n",
              "NC1.0           1.000000  0.974249   -0.082828  \n",
              "NC2.5           0.974249  1.000000   -0.057707  \n",
              "Fire Alarm     -0.082828 -0.057707    1.000000  "
            ],
            "text/html": [
              "\n",
              "  <div id=\"df-32b7a748-94e6-41b2-b885-9debd35e6534\">\n",
              "    <div class=\"colab-df-container\">\n",
              "      <div>\n",
              "<style scoped>\n",
              "    .dataframe tbody tr th:only-of-type {\n",
              "        vertical-align: middle;\n",
              "    }\n",
              "\n",
              "    .dataframe tbody tr th {\n",
              "        vertical-align: top;\n",
              "    }\n",
              "\n",
              "    .dataframe thead th {\n",
              "        text-align: right;\n",
              "    }\n",
              "</style>\n",
              "<table border=\"1\" class=\"dataframe\">\n",
              "  <thead>\n",
              "    <tr style=\"text-align: right;\">\n",
              "      <th></th>\n",
              "      <th>Temperature[C]</th>\n",
              "      <th>Humidity[%]</th>\n",
              "      <th>TVOC[ppb]</th>\n",
              "      <th>eCO2[ppm]</th>\n",
              "      <th>Raw H2</th>\n",
              "      <th>Raw Ethanol</th>\n",
              "      <th>Pressure[hPa]</th>\n",
              "      <th>PM1.0</th>\n",
              "      <th>PM2.5</th>\n",
              "      <th>NC0.5</th>\n",
              "      <th>NC1.0</th>\n",
              "      <th>NC2.5</th>\n",
              "      <th>Fire Alarm</th>\n",
              "    </tr>\n",
              "  </thead>\n",
              "  <tbody>\n",
              "    <tr>\n",
              "      <th>Temperature[C]</th>\n",
              "      <td>1.000000</td>\n",
              "      <td>-0.243986</td>\n",
              "      <td>0.082442</td>\n",
              "      <td>0.079265</td>\n",
              "      <td>-0.135540</td>\n",
              "      <td>-0.037343</td>\n",
              "      <td>-0.251203</td>\n",
              "      <td>0.037330</td>\n",
              "      <td>0.032084</td>\n",
              "      <td>0.039291</td>\n",
              "      <td>0.031608</td>\n",
              "      <td>0.025526</td>\n",
              "      <td>-0.163902</td>\n",
              "    </tr>\n",
              "    <tr>\n",
              "      <th>Humidity[%]</th>\n",
              "      <td>-0.243986</td>\n",
              "      <td>1.000000</td>\n",
              "      <td>-0.488878</td>\n",
              "      <td>-0.369095</td>\n",
              "      <td>0.247199</td>\n",
              "      <td>0.068782</td>\n",
              "      <td>0.694614</td>\n",
              "      <td>-0.236538</td>\n",
              "      <td>-0.178882</td>\n",
              "      <td>-0.277389</td>\n",
              "      <td>-0.174224</td>\n",
              "      <td>-0.118502</td>\n",
              "      <td>0.399846</td>\n",
              "    </tr>\n",
              "    <tr>\n",
              "      <th>TVOC[ppb]</th>\n",
              "      <td>0.082442</td>\n",
              "      <td>-0.488878</td>\n",
              "      <td>1.000000</td>\n",
              "      <td>0.606118</td>\n",
              "      <td>-0.653053</td>\n",
              "      <td>-0.673715</td>\n",
              "      <td>-0.220004</td>\n",
              "      <td>0.597366</td>\n",
              "      <td>0.477424</td>\n",
              "      <td>0.670657</td>\n",
              "      <td>0.467386</td>\n",
              "      <td>0.344721</td>\n",
              "      <td>-0.214743</td>\n",
              "    </tr>\n",
              "    <tr>\n",
              "      <th>eCO2[ppm]</th>\n",
              "      <td>0.079265</td>\n",
              "      <td>-0.369095</td>\n",
              "      <td>0.606118</td>\n",
              "      <td>1.000000</td>\n",
              "      <td>-0.682785</td>\n",
              "      <td>-0.506695</td>\n",
              "      <td>-0.326043</td>\n",
              "      <td>0.665482</td>\n",
              "      <td>0.572691</td>\n",
              "      <td>0.699604</td>\n",
              "      <td>0.564252</td>\n",
              "      <td>0.456323</td>\n",
              "      <td>-0.097006</td>\n",
              "    </tr>\n",
              "    <tr>\n",
              "      <th>Raw H2</th>\n",
              "      <td>-0.135540</td>\n",
              "      <td>0.247199</td>\n",
              "      <td>-0.653053</td>\n",
              "      <td>-0.682785</td>\n",
              "      <td>1.000000</td>\n",
              "      <td>0.631495</td>\n",
              "      <td>0.303090</td>\n",
              "      <td>-0.530714</td>\n",
              "      <td>-0.431079</td>\n",
              "      <td>-0.587769</td>\n",
              "      <td>-0.422626</td>\n",
              "      <td>-0.318518</td>\n",
              "      <td>0.107007</td>\n",
              "    </tr>\n",
              "    <tr>\n",
              "      <th>Raw Ethanol</th>\n",
              "      <td>-0.037343</td>\n",
              "      <td>0.068782</td>\n",
              "      <td>-0.673715</td>\n",
              "      <td>-0.506695</td>\n",
              "      <td>0.631495</td>\n",
              "      <td>1.000000</td>\n",
              "      <td>-0.075926</td>\n",
              "      <td>-0.480698</td>\n",
              "      <td>-0.393192</td>\n",
              "      <td>-0.529186</td>\n",
              "      <td>-0.385720</td>\n",
              "      <td>-0.293351</td>\n",
              "      <td>-0.340652</td>\n",
              "    </tr>\n",
              "    <tr>\n",
              "      <th>Pressure[hPa]</th>\n",
              "      <td>-0.251203</td>\n",
              "      <td>0.694614</td>\n",
              "      <td>-0.220004</td>\n",
              "      <td>-0.326043</td>\n",
              "      <td>0.303090</td>\n",
              "      <td>-0.075926</td>\n",
              "      <td>1.000000</td>\n",
              "      <td>-0.258938</td>\n",
              "      <td>-0.243071</td>\n",
              "      <td>-0.248657</td>\n",
              "      <td>-0.241148</td>\n",
              "      <td>-0.213390</td>\n",
              "      <td>0.249797</td>\n",
              "    </tr>\n",
              "    <tr>\n",
              "      <th>PM1.0</th>\n",
              "      <td>0.037330</td>\n",
              "      <td>-0.236538</td>\n",
              "      <td>0.597366</td>\n",
              "      <td>0.665482</td>\n",
              "      <td>-0.530714</td>\n",
              "      <td>-0.480698</td>\n",
              "      <td>-0.258938</td>\n",
              "      <td>1.000000</td>\n",
              "      <td>0.956118</td>\n",
              "      <td>0.940045</td>\n",
              "      <td>0.949860</td>\n",
              "      <td>0.854901</td>\n",
              "      <td>-0.110552</td>\n",
              "    </tr>\n",
              "    <tr>\n",
              "      <th>PM2.5</th>\n",
              "      <td>0.032084</td>\n",
              "      <td>-0.178882</td>\n",
              "      <td>0.477424</td>\n",
              "      <td>0.572691</td>\n",
              "      <td>-0.431079</td>\n",
              "      <td>-0.393192</td>\n",
              "      <td>-0.243071</td>\n",
              "      <td>0.956118</td>\n",
              "      <td>1.000000</td>\n",
              "      <td>0.798873</td>\n",
              "      <td>0.999787</td>\n",
              "      <td>0.969382</td>\n",
              "      <td>-0.084916</td>\n",
              "    </tr>\n",
              "    <tr>\n",
              "      <th>NC0.5</th>\n",
              "      <td>0.039291</td>\n",
              "      <td>-0.277389</td>\n",
              "      <td>0.670657</td>\n",
              "      <td>0.699604</td>\n",
              "      <td>-0.587769</td>\n",
              "      <td>-0.529186</td>\n",
              "      <td>-0.248657</td>\n",
              "      <td>0.940045</td>\n",
              "      <td>0.798873</td>\n",
              "      <td>1.000000</td>\n",
              "      <td>0.786274</td>\n",
              "      <td>0.626711</td>\n",
              "      <td>-0.128118</td>\n",
              "    </tr>\n",
              "    <tr>\n",
              "      <th>NC1.0</th>\n",
              "      <td>0.031608</td>\n",
              "      <td>-0.174224</td>\n",
              "      <td>0.467386</td>\n",
              "      <td>0.564252</td>\n",
              "      <td>-0.422626</td>\n",
              "      <td>-0.385720</td>\n",
              "      <td>-0.241148</td>\n",
              "      <td>0.949860</td>\n",
              "      <td>0.999787</td>\n",
              "      <td>0.786274</td>\n",
              "      <td>1.000000</td>\n",
              "      <td>0.974249</td>\n",
              "      <td>-0.082828</td>\n",
              "    </tr>\n",
              "    <tr>\n",
              "      <th>NC2.5</th>\n",
              "      <td>0.025526</td>\n",
              "      <td>-0.118502</td>\n",
              "      <td>0.344721</td>\n",
              "      <td>0.456323</td>\n",
              "      <td>-0.318518</td>\n",
              "      <td>-0.293351</td>\n",
              "      <td>-0.213390</td>\n",
              "      <td>0.854901</td>\n",
              "      <td>0.969382</td>\n",
              "      <td>0.626711</td>\n",
              "      <td>0.974249</td>\n",
              "      <td>1.000000</td>\n",
              "      <td>-0.057707</td>\n",
              "    </tr>\n",
              "    <tr>\n",
              "      <th>Fire Alarm</th>\n",
              "      <td>-0.163902</td>\n",
              "      <td>0.399846</td>\n",
              "      <td>-0.214743</td>\n",
              "      <td>-0.097006</td>\n",
              "      <td>0.107007</td>\n",
              "      <td>-0.340652</td>\n",
              "      <td>0.249797</td>\n",
              "      <td>-0.110552</td>\n",
              "      <td>-0.084916</td>\n",
              "      <td>-0.128118</td>\n",
              "      <td>-0.082828</td>\n",
              "      <td>-0.057707</td>\n",
              "      <td>1.000000</td>\n",
              "    </tr>\n",
              "  </tbody>\n",
              "</table>\n",
              "</div>\n",
              "      <button class=\"colab-df-convert\" onclick=\"convertToInteractive('df-32b7a748-94e6-41b2-b885-9debd35e6534')\"\n",
              "              title=\"Convert this dataframe to an interactive table.\"\n",
              "              style=\"display:none;\">\n",
              "        \n",
              "  <svg xmlns=\"http://www.w3.org/2000/svg\" height=\"24px\"viewBox=\"0 0 24 24\"\n",
              "       width=\"24px\">\n",
              "    <path d=\"M0 0h24v24H0V0z\" fill=\"none\"/>\n",
              "    <path d=\"M18.56 5.44l.94 2.06.94-2.06 2.06-.94-2.06-.94-.94-2.06-.94 2.06-2.06.94zm-11 1L8.5 8.5l.94-2.06 2.06-.94-2.06-.94L8.5 2.5l-.94 2.06-2.06.94zm10 10l.94 2.06.94-2.06 2.06-.94-2.06-.94-.94-2.06-.94 2.06-2.06.94z\"/><path d=\"M17.41 7.96l-1.37-1.37c-.4-.4-.92-.59-1.43-.59-.52 0-1.04.2-1.43.59L10.3 9.45l-7.72 7.72c-.78.78-.78 2.05 0 2.83L4 21.41c.39.39.9.59 1.41.59.51 0 1.02-.2 1.41-.59l7.78-7.78 2.81-2.81c.8-.78.8-2.07 0-2.86zM5.41 20L4 18.59l7.72-7.72 1.47 1.35L5.41 20z\"/>\n",
              "  </svg>\n",
              "      </button>\n",
              "      \n",
              "  <style>\n",
              "    .colab-df-container {\n",
              "      display:flex;\n",
              "      flex-wrap:wrap;\n",
              "      gap: 12px;\n",
              "    }\n",
              "\n",
              "    .colab-df-convert {\n",
              "      background-color: #E8F0FE;\n",
              "      border: none;\n",
              "      border-radius: 50%;\n",
              "      cursor: pointer;\n",
              "      display: none;\n",
              "      fill: #1967D2;\n",
              "      height: 32px;\n",
              "      padding: 0 0 0 0;\n",
              "      width: 32px;\n",
              "    }\n",
              "\n",
              "    .colab-df-convert:hover {\n",
              "      background-color: #E2EBFA;\n",
              "      box-shadow: 0px 1px 2px rgba(60, 64, 67, 0.3), 0px 1px 3px 1px rgba(60, 64, 67, 0.15);\n",
              "      fill: #174EA6;\n",
              "    }\n",
              "\n",
              "    [theme=dark] .colab-df-convert {\n",
              "      background-color: #3B4455;\n",
              "      fill: #D2E3FC;\n",
              "    }\n",
              "\n",
              "    [theme=dark] .colab-df-convert:hover {\n",
              "      background-color: #434B5C;\n",
              "      box-shadow: 0px 1px 3px 1px rgba(0, 0, 0, 0.15);\n",
              "      filter: drop-shadow(0px 1px 2px rgba(0, 0, 0, 0.3));\n",
              "      fill: #FFFFFF;\n",
              "    }\n",
              "  </style>\n",
              "\n",
              "      <script>\n",
              "        const buttonEl =\n",
              "          document.querySelector('#df-32b7a748-94e6-41b2-b885-9debd35e6534 button.colab-df-convert');\n",
              "        buttonEl.style.display =\n",
              "          google.colab.kernel.accessAllowed ? 'block' : 'none';\n",
              "\n",
              "        async function convertToInteractive(key) {\n",
              "          const element = document.querySelector('#df-32b7a748-94e6-41b2-b885-9debd35e6534');\n",
              "          const dataTable =\n",
              "            await google.colab.kernel.invokeFunction('convertToInteractive',\n",
              "                                                     [key], {});\n",
              "          if (!dataTable) return;\n",
              "\n",
              "          const docLinkHtml = 'Like what you see? Visit the ' +\n",
              "            '<a target=\"_blank\" href=https://colab.research.google.com/notebooks/data_table.ipynb>data table notebook</a>'\n",
              "            + ' to learn more about interactive tables.';\n",
              "          element.innerHTML = '';\n",
              "          dataTable['output_type'] = 'display_data';\n",
              "          await google.colab.output.renderOutput(dataTable, element);\n",
              "          const docLink = document.createElement('div');\n",
              "          docLink.innerHTML = docLinkHtml;\n",
              "          element.appendChild(docLink);\n",
              "        }\n",
              "      </script>\n",
              "    </div>\n",
              "  </div>\n",
              "  "
            ]
          },
          "metadata": {},
          "execution_count": 13
        }
      ],
      "source": [
        "df1.corr() # to find co relation between columns"
      ]
    },
    {
      "cell_type": "markdown",
      "metadata": {
        "id": "_riJPccfhsqs"
      },
      "source": [
        "heat map plot for EDA"
      ]
    },
    {
      "cell_type": "code",
      "execution_count": 14,
      "metadata": {
        "colab": {
          "base_uri": "https://localhost:8080/",
          "height": 952
        },
        "id": "wgigwB7MaVC4",
        "outputId": "c486b0ec-767e-4dac-b9a3-62191b282352"
      },
      "outputs": [
        {
          "output_type": "execute_result",
          "data": {
            "text/plain": [
              "<matplotlib.axes._subplots.AxesSubplot at 0x7ff359d52e10>"
            ]
          },
          "metadata": {},
          "execution_count": 14
        },
        {
          "output_type": "display_data",
          "data": {
            "text/plain": [
              "<Figure size 1080x1080 with 2 Axes>"
            ],
            "image/png": "[encoded data removed]"
          },
          "metadata": {
            "needs_background": "light"
          }
        }
      ],
      "source": [
        "plt.figure(figsize=(15,15))\n",
        "sns.heatmap( df1.corr(),cmap='coolwarm', annot=True )"
      ]
    },
    {
      "cell_type": "markdown",
      "metadata": {
        "id": "-Qrtks6geKZS"
      },
      "source": [
        "observations from df.corr()\n",
        "\n",
        "unnamed and utc are not much importnat columns.\n",
        "\n",
        "1-I found strong and postive  correlation between humidity and pressure which is 0.69 \n",
        "\n",
        "2- TVOC (ppb) is postively and strong co related with NCO.5\n",
        "\n",
        "3-eCO2 is positive and strong  co-related with pm1.0 \n",
        "\n",
        "4-All the PM's and NC's have high correlation with each other."
      ]
    },
    {
      "cell_type": "code",
      "source": [
        "plt.figure(figsize=(9,9))\n",
        "sns.kdeplot(data=df1,x='Pressure[hPa]',shade='fill' )"
      ],
      "metadata": {
        "colab": {
          "base_uri": "https://localhost:8080/",
          "height": 568
        },
        "id": "tlZsyAPQC1jY",
        "outputId": "ff28cdaa-4ce5-42d3-9f3f-296bf09eabf2"
      },
      "execution_count": 31,
      "outputs": [
        {
          "output_type": "execute_result",
          "data": {
            "text/plain": [
              "<matplotlib.axes._subplots.AxesSubplot at 0x7ff2f5fbc310>"
            ]
          },
          "metadata": {},
          "execution_count": 31
        },
        {
          "output_type": "display_data",
          "data": {
            "text/plain": [
              "<Figure size 648x648 with 1 Axes>"
            ],
            "image/png": "[encoded data removed]"
          },
          "metadata": {
            "needs_background": "light"
          }
        }
      ]
    },
    {
      "cell_type": "code",
      "source": [
        "plt.figure(figsize=(9,9))\n",
        "sns.kdeplot(data=df1, x='Humidity[%]', shade='fill')\n"
      ],
      "metadata": {
        "colab": {
          "base_uri": "https://localhost:8080/",
          "height": 568
        },
        "id": "4Vyf_V97JpeK",
        "outputId": "5d5be7ce-f216-480e-9109-92ec62e15ed5"
      },
      "execution_count": 32,
      "outputs": [
        {
          "output_type": "execute_result",
          "data": {
            "text/plain": [
              "<matplotlib.axes._subplots.AxesSubplot at 0x7ff2f662e390>"
            ]
          },
          "metadata": {},
          "execution_count": 32
        },
        {
          "output_type": "display_data",
          "data": {
            "text/plain": [
              "<Figure size 648x648 with 1 Axes>"
            ],
            "image/png": "[encoded data removed]"
          },
          "metadata": {
            "needs_background": "light"
          }
        }
      ]
    },
    {
      "cell_type": "markdown",
      "source": [
        "now will check for outliers\n"
      ],
      "metadata": {
        "id": "rW342EwWKwb3"
      }
    },
    {
      "cell_type": "code",
      "source": [
        "df2 = df1[['Temperature[C]','Humidity[%]']]\n",
        "for i in df2.columns:\n",
        "  plt.figure(figsize=(6,6))\n",
        "  sns.boxplot(x=df1[i][1:], data=df1.iloc[:1],\n",
        "                order=df2[i][1:].value_counts().index,\n",
        "                palette='YlGn')\n",
        "  plt.xticks(rotation=90)\n",
        "  plt.show()"
      ],
      "metadata": {
        "colab": {
          "base_uri": "https://localhost:8080/",
          "height": 773
        },
        "id": "ROe-BgpxKfbx",
        "outputId": "266e854b-0c00-4ca5-f3e4-4bee03aed75d"
      },
      "execution_count": 38,
      "outputs": [
        {
          "output_type": "display_data",
          "data": {
            "text/plain": [
              "<Figure size 432x432 with 1 Axes>"
            ],
            "image/png": "[encoded data removed]"
          },
          "metadata": {
            "needs_background": "light"
          }
        },
        {
          "output_type": "display_data",
          "data": {
            "text/plain": [
              "<Figure size 432x432 with 1 Axes>"
            ],
            "image/png": "[encoded data removed]"
          },
          "metadata": {
            "needs_background": "light"
          }
        }
      ]
    },
    {
      "cell_type": "markdown",
      "source": [
        "by boxplot we can see that max outlier are there with this columns.\n",
        "\n",
        "earlier by df.describe we found that tempreature having mean is 14 and and std is 15 this relationship is showing highier variations with the values. same with the humidity outliers are visible by boxplot."
      ],
      "metadata": {
        "id": "r8s5c9oFOk9z"
      }
    },
    {
      "cell_type": "markdown",
      "source": [
        "DATA SPLITTING AND SCALING (DATA PREPROCESSING)\n"
      ],
      "metadata": {
        "id": "p11YA4ZBQ2Gx"
      }
    },
    {
      "cell_type": "code",
      "source": [
        "x = df1.iloc[:,:-1]\n",
        "y = df1['Fire Alarm']  "
      ],
      "metadata": {
        "id": "olurA4CLSb-f"
      },
      "execution_count": 55,
      "outputs": []
    },
    {
      "cell_type": "code",
      "source": [
        "x_train, x_test, y_train, y_test=train_test_split(x,y, test_size=0.2)"
      ],
      "metadata": {
        "id": "GKSUhCgiTv_z"
      },
      "execution_count": 56,
      "outputs": []
    },
    {
      "cell_type": "code",
      "source": [
        "sc=StandardScaler() # i am using standard scaler any other transformation may be applied.\n",
        "x_traintrans=sc.fit_transform(x_train)\n",
        "x_testtrans=sc.transform(x_test)"
      ],
      "metadata": {
        "id": "deI2haYRTwHn"
      },
      "execution_count": 59,
      "outputs": []
    },
    {
      "cell_type": "markdown",
      "source": [
        "DATA MODELLING"
      ],
      "metadata": {
        "id": "rm-IZy8_WwL_"
      }
    },
    {
      "cell_type": "code",
      "source": [
        "knn=KNeighborsClassifier() # i am using k nearest neighbour and getting r2score 0.99 which is best.it menas our model is performing well on this data set.\n",
        "knn.fit(x_traintrans, y_train)\n",
        "y_pred=knn.predict(x_testtrans)\n",
        "r2_score(y_test,y_pred)\n"
      ],
      "metadata": {
        "colab": {
          "base_uri": "https://localhost:8080/"
        },
        "id": "UkRYwp6vTwQ_",
        "outputId": "f6dcd979-e847-4ec8-942e-a278dbe1e27b"
      },
      "execution_count": 64,
      "outputs": [
        {
          "output_type": "execute_result",
          "data": {
            "text/plain": [
              "0.9913236671809711"
            ]
          },
          "metadata": {},
          "execution_count": 64
        }
      ]
    },
    {
      "cell_type": "code",
      "source": [
        "ramf=RandomForestClassifier() \n",
        "ramf.fit(x_traintrans, y_train)\n",
        "y_pred=ramf.predict(x_testtrans)\n",
        "r2_score(y_test,y_pred)\n"
      ],
      "metadata": {
        "colab": {
          "base_uri": "https://localhost:8080/"
        },
        "id": "S2LpVZXgYXZ2",
        "outputId": "c214ddda-6fd0-423d-dfa1-b6ea04a66e87"
      },
      "execution_count": 65,
      "outputs": [
        {
          "output_type": "execute_result",
          "data": {
            "text/plain": [
              "1.0"
            ]
          },
          "metadata": {},
          "execution_count": 65
        }
      ]
    },
    {
      "cell_type": "markdown",
      "source": [
        "we used two models first is kNN and second is random forest, both the model perform well after transformation.\n",
        "\n",
        "knn giving r2 score around= 0.99\n",
        "\n",
        "random forest giving r2 score= 1.0\n",
        "\n",
        "it means for highier accuracy randomforest is best model over this data set."
      ],
      "metadata": {
        "id": "0Vkx3muAZjC7"
      }
    }
  ],
  "metadata": {
    "colab": {
      "collapsed_sections": [],
      "provenance": [],
      "mount_file_id": "15wGNYkS024uN3QhofFOdguQR3xEP-d4q",
      "authorship_tag": "ABX9TyPwRhBIgqxFKhrR57JOF23m",
      "include_colab_link": true
    },
    "kernelspec": {
      "display_name": "Python 3",
      "name": "python3"
    },
    "language_info": {
      "name": "python"
    }
  },
  "nbformat": 4,
  "nbformat_minor": 0
}