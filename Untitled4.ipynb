{
  "cells": [
    {
      "cell_type": "markdown",
      "metadata": {
        "id": "view-in-github",
        "colab_type": "text"
      },
      "source": [
        "<a href=\"https://colab.research.google.com/github/soyab266/test/blob/master/Untitled4.ipynb\" target=\"_parent\"><img src=\"https://colab.research.google.com/assets/colab-badge.svg\" alt=\"Open In Colab\"/></a>"
      ]
    },
    {
      "cell_type": "code",
      "source": [
        "name=input ('pls enetr you name ' )\n",
        "std= int(input(\"enetr your standard\"))\n",
        "rnum=int(input('enter you roll num'))\n",
        "sub=str(input(\"pls enter your sub\"))\n",
        "print ('welcome')"
      ],
      "metadata": {
        "colab": {
          "base_uri": "https://localhost:8080/"
        },
        "id": "TabdJvUB5yCh",
        "outputId": "c674deae-cbf4-4eb8-af58-c03e3151f4d0"
      },
      "execution_count": 2,
      "outputs": [
        {
          "output_type": "stream",
          "name": "stdout",
          "text": [
            "pls enetr you name so\n",
            "enetr your standard12\n",
            "enter you roll num123\n",
            "pls enter your subsdd\n",
            "welcome\n"
          ]
        }
      ]
    },
    {
      "cell_type": "markdown",
      "source": [
        "# New Section"
      ],
      "metadata": {
        "id": "79Ktawsm7pim"
      }
    }
  ],
  "metadata": {
    "colab": {
      "name": "Untitled4.ipynb",
      "provenance": [],
      "mount_file_id": "15wGNYkS024uN3QhofFOdguQR3xEP-d4q",
      "authorship_tag": "ABX9TyONsFD7FhzhDCkBWKc0Csnu",
      "include_colab_link": true
    },
    "kernelspec": {
      "display_name": "Python 3",
      "name": "python3"
    },
    "language_info": {
      "name": "python"
    }
  },
  "nbformat": 4,
  "nbformat_minor": 0
}