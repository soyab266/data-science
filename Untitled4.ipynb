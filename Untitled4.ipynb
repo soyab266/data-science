{
  "cells": [
    {
      "cell_type": "markdown",
      "metadata": {
        "id": "view-in-github",
        "colab_type": "text"
      },
      "source": [
        "<a href=\"https://colab.research.google.com/github/soyab266/test/blob/master/Untitled4.ipynb\" target=\"_parent\"><img src=\"https://colab.research.google.com/assets/colab-badge.svg\" alt=\"Open In Colab\"/></a>"
      ]
    },
    {
      "cell_type": "markdown",
      "source": [
        "PROJECT 2.0 (ROCK PAPER AND SCISSOR)"
      ],
      "metadata": {
        "id": "hQVG0Fg-mMWR"
      }
    },
    {
      "cell_type": "code",
      "source": [
        "player1= str(input('pls enter your choice between r/p/s[rock, paper or scissor]\\n'))\n",
        "player2=str(input('pls enter your choice between r/p/s[rock ,paper or scissor]\\n'))\n",
        "if (player1== 'r') and (player2=='r'):\n",
        "  print('player1 choose {option} and player2 choose {option2}'.format (option=player1, option2=player2))\n",
        "  print('tie')\n",
        "elif(player1==\"r\") and (player2==\"p\"):\n",
        "  print(\"player1 choose {option} and player2 choose {option2}\".format (option=player1,option2=player2))\n",
        "  print('player2 won')\n",
        "elif(player1=='r') and (player2==\"s\"):\n",
        "  print(\"player1 choose {option} and player2 choose {option2}\".format(option=player1, option2=player2))\n",
        "  print(\"player 2 won\")\n",
        "\n",
        "elif(player1== 'p') and (player2=='p'):\n",
        "  print('player1 choose {option} and player2 choose {option2}'.format (option=player1, option2=player2))\n",
        "  print('tie')\n",
        "elif(player1==\"p\") and (player2==\"r\"):\n",
        "  print(\"player1 choose {option} and player2 choose{option2}\".format (option=player1,option2=player2))\n",
        "  print('player2 won')\n",
        "elif(player1=='p') and (player2==\"s\"):\n",
        "  print(\"player1 choose {option} and player2 choose {option2}\".format(option=player1, option2=player2))\n",
        "  print(\"player 2 won\")\n",
        "\n",
        "elif(player1== 's') and (player2=='s'):\n",
        "  print('player1 choose {option} and player2 choose {option2}'.format (option=player1, option2=player2))\n",
        "  print('tie')\n",
        "elif(player1==\"s\") and (player2==\"r\"):\n",
        "  print(\"player1 choose {option} and player2 choose {option2}\".format (option=player1,option2=player2))\n",
        "  print('player2 won')\n",
        "elif(player1=='s') and (player2==\"p\"):\n",
        "  print(\"player1 choose {option} and player2 choose {option2}\".format(option=player1, option2=player2))\n",
        "  print(\"player 2 won\")\n",
        "else:\n",
        "  print('error pls choose between r/p/s')\n"
      ],
      "metadata": {
        "id": "CWDKJKxZKApc"
      },
      "execution_count": null,
      "outputs": []
    }
  ],
  "metadata": {
    "colab": {
      "name": "Untitled4.ipynb",
      "provenance": [],
      "mount_file_id": "15wGNYkS024uN3QhofFOdguQR3xEP-d4q",
      "authorship_tag": "ABX9TyM8qDv0flptYXUzTM6O5cEV",
      "include_colab_link": true
    },
    "kernelspec": {
      "display_name": "Python 3",
      "name": "python3"
    },
    "language_info": {
      "name": "python"
    }
  },
  "nbformat": 4,
  "nbformat_minor": 0
}