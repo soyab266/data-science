{
  "cells": [
    {
      "cell_type": "markdown",
      "metadata": {
        "id": "view-in-github",
        "colab_type": "text"
      },
      "source": [
        "<a href=\"https://colab.research.google.com/github/soyab266/test/blob/master/polynominal_(simple_and_multiple)regressor.ipynb\" target=\"_parent\"><img src=\"https://colab.research.google.com/assets/colab-badge.svg\" alt=\"Open In Colab\"/></a>"
      ]
    },
    {
      "cell_type": "code",
      "source": [
        "import pandas as pd\n",
        "import numpy as np\n",
        "import matplotlib.pyplot as plt\n",
        "from pandas_datareader import data\n",
        "%matplotlib inline\n",
        "from sklearn.model_selection import train_test_split\n",
        "from sklearn.datasets import load_boston\n",
        "from sklearn.datasets import load_diabetes\n",
        "from sklearn.model_selection import GridSearchCV\n",
        "from sklearn import tree\n",
        "from sklearn.tree import DecisionTreeRegressor\n",
        "dtd=DecisionTreeRegressor()\n",
        "from sklearn.tree import DecisionTreeClassifier\n",
        "from sklearn import metrics\n",
        "from sklearn.metrics import r2_score\n",
        "from sklearn.model_selection import train_test_split\n",
        "from sklearn.linear_model import LinearRegression\n",
        "from sklearn.metrics import accuracy_score\n",
        "import plotly.express as px\n",
        "import plotly.graph_objects as go\n",
        "from sklearn.model_selection import cross_val_score\n",
        "from sklearn.linear_model import SGDRegressor\n",
        "import random\n",
        "from sklearn.preprocessing import PolynomialFeatures,StandardScaler\n",
        "from sklearn.pipeline import Pipeline\n"
      ],
      "metadata": {
        "id": "kBf6441qGjgy"
      },
      "execution_count": 146,
      "outputs": []
    },
    {
      "cell_type": "code",
      "source": [
        "X = 6 * np.random.rand(200, 1) - 3\n",
        "y = 0.8 * X**2 + 0.9 * X + 2 + np.random.randn(200, 1)\n",
        "\n",
        "# y = 0.8x^2 + 0.9x + 2"
      ],
      "metadata": {
        "id": "O_pjinRkWFHt"
      },
      "execution_count": 128,
      "outputs": []
    },
    {
      "cell_type": "code",
      "source": [
        "plt.scatter(X,y)"
      ],
      "metadata": {
        "colab": {
          "base_uri": "https://localhost:8080/",
          "height": 282
        },
        "id": "V2lRQR37WFKz",
        "outputId": "0775ae9e-84da-440f-bb30-476c542fae3a"
      },
      "execution_count": 129,
      "outputs": [
        {
          "output_type": "execute_result",
          "data": {
            "text/plain": [
              "<matplotlib.collections.PathCollection at 0x7fd4182d2550>"
            ]
          },
          "metadata": {},
          "execution_count": 129
        },
        {
          "output_type": "display_data",
          "data": {
            "text/plain": [
              "<Figure size 432x288 with 1 Axes>"
            ],
            "image/png": "[encoded data removed]"
          },
          "metadata": {
            "needs_background": "light"
          }
        }
      ]
    },
    {
      "cell_type": "code",
      "source": [
        "X_train, X_test, y_train, y_test= train_test_split(X,y, test_size=0.2, random_state=2)"
      ],
      "metadata": {
        "id": "urIIlwvqWFNr"
      },
      "execution_count": 130,
      "outputs": []
    },
    {
      "cell_type": "code",
      "source": [
        "lr=LinearRegression()\n",
        "lr.fit(X_train, y_train)"
      ],
      "metadata": {
        "colab": {
          "base_uri": "https://localhost:8080/"
        },
        "id": "0wMKH0YdWFQo",
        "outputId": "8a230120-28e8-482f-c3fb-3dfdaa6601e3"
      },
      "execution_count": 42,
      "outputs": [
        {
          "output_type": "execute_result",
          "data": {
            "text/plain": [
              "LinearRegression()"
            ]
          },
          "metadata": {},
          "execution_count": 42
        }
      ]
    },
    {
      "cell_type": "code",
      "source": [
        "y_pred=lr.predict(X_test)\n",
        "r2_score(y_test,y_pred)"
      ],
      "metadata": {
        "colab": {
          "base_uri": "https://localhost:8080/"
        },
        "id": "E9-a4kWaWFTh",
        "outputId": "63d7a416-8b80-4e38-c731-3f93888a5ed5"
      },
      "execution_count": 43,
      "outputs": [
        {
          "output_type": "execute_result",
          "data": {
            "text/plain": [
              "0.3315410404195457"
            ]
          },
          "metadata": {},
          "execution_count": 43
        }
      ]
    },
    {
      "cell_type": "code",
      "source": [
        "plt.plot(X_train, lr.predict(X_train), color='r')\n",
        "plt.scatter(X,y)"
      ],
      "metadata": {
        "colab": {
          "base_uri": "https://localhost:8080/",
          "height": 282
        },
        "id": "6GG6Zd0RXJtm",
        "outputId": "cda25c80-7c8a-4de5-cad4-6f06b77303a6"
      },
      "execution_count": 44,
      "outputs": [
        {
          "output_type": "execute_result",
          "data": {
            "text/plain": [
              "<matplotlib.collections.PathCollection at 0x7fd4187ba290>"
            ]
          },
          "metadata": {},
          "execution_count": 44
        },
        {
          "output_type": "display_data",
          "data": {
            "text/plain": [
              "<Figure size 432x288 with 1 Axes>"
            ],
            "image/png": "[encoded data removed]"
          },
          "metadata": {
            "needs_background": "light"
          }
        }
      ]
    },
    {
      "cell_type": "code",
      "source": [
        "from numpy.lib import polynomial\n",
        "poly=PolynomialFeatures(degree=2)\n",
        "x_train_trans= poly.fit_transform(X_train)\n",
        "x_test_trans= poly.transform(X_test)"
      ],
      "metadata": {
        "id": "oo-W-TWJXJwo"
      },
      "execution_count": 131,
      "outputs": []
    },
    {
      "cell_type": "code",
      "source": [
        "print(X_train[0])\n",
        "print(x_train_trans[0])"
      ],
      "metadata": {
        "colab": {
          "base_uri": "https://localhost:8080/"
        },
        "id": "vrwKl1koXJz5",
        "outputId": "9b8c856e-9fc2-4fbf-c978-5d2ea5e198c0"
      },
      "execution_count": 132,
      "outputs": [
        {
          "output_type": "stream",
          "name": "stdout",
          "text": [
            "[-2.03184128]\n",
            "[ 1.         -2.03184128  4.12837897]\n"
          ]
        }
      ]
    },
    {
      "cell_type": "code",
      "source": [
        "lr.fit(x_train_trans,y_train)\n",
        "y_pred=lr.predict(x_test_trans)\n",
        "r2_score(y_test, y_pred)"
      ],
      "metadata": {
        "colab": {
          "base_uri": "https://localhost:8080/"
        },
        "id": "FBvqfreLcc72",
        "outputId": "062b022a-360c-46b2-a424-a7fe38a4f6b5"
      },
      "execution_count": 133,
      "outputs": [
        {
          "output_type": "execute_result",
          "data": {
            "text/plain": [
              "0.734221659145123"
            ]
          },
          "metadata": {},
          "execution_count": 133
        }
      ]
    },
    {
      "cell_type": "code",
      "source": [
        "print(lr.coef_)\n",
        "print(lr.intercept_)"
      ],
      "metadata": {
        "colab": {
          "base_uri": "https://localhost:8080/"
        },
        "id": "BIkyyjCSdnrj",
        "outputId": "f754f143-31d5-4a2e-fbd5-ef99865dda3d"
      },
      "execution_count": 134,
      "outputs": [
        {
          "output_type": "stream",
          "name": "stdout",
          "text": [
            "[[0.         0.92906694 0.79347274]]\n",
            "[2.08991515]\n"
          ]
        }
      ]
    },
    {
      "cell_type": "code",
      "source": [
        "x_new=np.linspace(-3,3,200).reshape(200, 1)\n",
        "x_new_poly=poly.transform(x_new)\n",
        "y_new=lr.predict(x_new_poly)\n",
        "\n",
        "plt.plot(x_new, lr.predict(x_new_poly), color='y')\n",
        "plt.plot(X_train, y_train, 'r.',label='Training points')\n",
        "plt.plot(X_test, y_test,'g.',label='testing points')\n",
        "plt.scatter(X,y)\n"
      ],
      "metadata": {
        "colab": {
          "base_uri": "https://localhost:8080/",
          "height": 282
        },
        "id": "YnaUbfIfcc-6",
        "outputId": "2a7e75c0-8570-4dc1-c45c-8d8a2b482107"
      },
      "execution_count": 135,
      "outputs": [
        {
          "output_type": "execute_result",
          "data": {
            "text/plain": [
              "<matplotlib.collections.PathCollection at 0x7fd417d6e850>"
            ]
          },
          "metadata": {},
          "execution_count": 135
        },
        {
          "output_type": "display_data",
          "data": {
            "text/plain": [
              "<Figure size 432x288 with 1 Axes>"
            ],
            "image/png": "[encoded data removed]"
          },
          "metadata": {
            "needs_background": "light"
          }
        }
      ]
    },
    {
      "cell_type": "markdown",
      "source": [
        "now by sgd regressor ' gradient descent'"
      ],
      "metadata": {
        "id": "r4LXb8MBxzYA"
      }
    },
    {
      "cell_type": "code",
      "source": [
        "poly=PolynomialFeatures(degree=2)"
      ],
      "metadata": {
        "id": "sf-VYBrVx5M4"
      },
      "execution_count": 136,
      "outputs": []
    },
    {
      "cell_type": "code",
      "source": [
        "x_train_trans= poly.fit_transform(X_train)\n",
        "x_test_trans= poly.transform(X_test)"
      ],
      "metadata": {
        "id": "gDpvVljdx5T5"
      },
      "execution_count": 101,
      "outputs": []
    },
    {
      "cell_type": "code",
      "source": [
        "sgd= SGDRegressor()\n",
        "sgd.fit(x_train_trans,y_train)"
      ],
      "metadata": {
        "colab": {
          "base_uri": "https://localhost:8080/"
        },
        "id": "wLKJ1lXGz65v",
        "outputId": "64038ead-fc84-4055-ea1a-413ee5cd59cf"
      },
      "execution_count": 102,
      "outputs": [
        {
          "output_type": "stream",
          "name": "stderr",
          "text": [
            "/usr/local/lib/python3.7/dist-packages/sklearn/utils/validation.py:993: DataConversionWarning: A column-vector y was passed when a 1d array was expected. Please change the shape of y to (n_samples, ), for example using ravel().\n",
            "  y = column_or_1d(y, warn=True)\n"
          ]
        },
        {
          "output_type": "execute_result",
          "data": {
            "text/plain": [
              "SGDRegressor()"
            ]
          },
          "metadata": {},
          "execution_count": 102
        }
      ]
    },
    {
      "cell_type": "code",
      "source": [
        "y_pred =sgd.predict(x_test_trans)\n",
        "r2_score(y_test, y_pred)"
      ],
      "metadata": {
        "colab": {
          "base_uri": "https://localhost:8080/"
        },
        "id": "fQfClTuLz684",
        "outputId": "f14b3369-5453-4d0b-d948-f9e49b846b80"
      },
      "execution_count": 103,
      "outputs": [
        {
          "output_type": "execute_result",
          "data": {
            "text/plain": [
              "0.8640874615283164"
            ]
          },
          "metadata": {},
          "execution_count": 103
        }
      ]
    },
    {
      "cell_type": "code",
      "source": [
        "x_new=np.linspace(-3,3, 200).reshape(200,1)\n",
        "x_new_poly= poly.transform(x_new)\n",
        "y_new=sgd.predict(x_new_poly)\n",
        "\n",
        "plt.plot(x_new, y_new, color='r')\n",
        "plt.scatter(X,y)"
      ],
      "metadata": {
        "colab": {
          "base_uri": "https://localhost:8080/",
          "height": 282
        },
        "id": "R30r4AB6z7EZ",
        "outputId": "89032239-1f96-4e1e-9546-c9a9691e20d2"
      },
      "execution_count": 106,
      "outputs": [
        {
          "output_type": "execute_result",
          "data": {
            "text/plain": [
              "<matplotlib.collections.PathCollection at 0x7fd41856ae10>"
            ]
          },
          "metadata": {},
          "execution_count": 106
        },
        {
          "output_type": "display_data",
          "data": {
            "text/plain": [
              "<Figure size 432x288 with 1 Axes>"
            ],
            "image/png": "[encoded data removed]"
          },
          "metadata": {
            "needs_background": "light"
          }
        }
      ]
    },
    {
      "cell_type": "markdown",
      "source": [
        "now polynomial for multiple i/p known as multiple polynomial regression"
      ],
      "metadata": {
        "id": "53NBBw3-2lgH"
      }
    },
    {
      "cell_type": "code",
      "source": [
        "x = 7 * np.random.rand(100, 1) - 2.8\n",
        "y = 7 * np.random.rand(100, 1) - 2.8\n",
        "\n",
        "z = x**2 + y**2 + 0.2*x + 0.2*y + 0.1*x*y +2 + np.random.randn(100, 1)"
      ],
      "metadata": {
        "id": "iqHM_-RY2kIK"
      },
      "execution_count": 153,
      "outputs": []
    },
    {
      "cell_type": "code",
      "source": [
        "X_multi=np.array([x,y]).reshape(100,2)\n",
        "poly=PolynomialFeatures(degree=3)\n",
        "X_multi_trans=poly.fit_transform(X_multi)\n"
      ],
      "metadata": {
        "id": "nNJiqfgY2i5R"
      },
      "execution_count": 154,
      "outputs": []
    },
    {
      "cell_type": "code",
      "source": [
        "poly.n_input_features_"
      ],
      "metadata": {
        "colab": {
          "base_uri": "https://localhost:8080/"
        },
        "id": "43uL3SUWDnN6",
        "outputId": "c758c799-0831-418f-c643-e03accdbb91d"
      },
      "execution_count": 155,
      "outputs": [
        {
          "output_type": "stream",
          "name": "stderr",
          "text": [
            "/usr/local/lib/python3.7/dist-packages/sklearn/utils/deprecation.py:103: FutureWarning:\n",
            "\n",
            "The attribute `n_input_features_` was deprecated in version 1.0 and will be removed in 1.2.\n",
            "\n"
          ]
        },
        {
          "output_type": "execute_result",
          "data": {
            "text/plain": [
              "2"
            ]
          },
          "metadata": {},
          "execution_count": 155
        }
      ]
    },
    {
      "cell_type": "code",
      "source": [
        "poly.n_output_features_"
      ],
      "metadata": {
        "colab": {
          "base_uri": "https://localhost:8080/"
        },
        "id": "uxtVEmEVDnRC",
        "outputId": "48a6ff15-6137-42d8-c0da-0d7d730a8e6c"
      },
      "execution_count": 156,
      "outputs": [
        {
          "output_type": "execute_result",
          "data": {
            "text/plain": [
              "10"
            ]
          },
          "metadata": {},
          "execution_count": 156
        }
      ]
    },
    {
      "cell_type": "code",
      "source": [
        "poly.powers_"
      ],
      "metadata": {
        "colab": {
          "base_uri": "https://localhost:8080/"
        },
        "id": "FYlCs-EcDnT3",
        "outputId": "88f94673-d1d2-4b10-8214-1a1ded2d499f"
      },
      "execution_count": 157,
      "outputs": [
        {
          "output_type": "execute_result",
          "data": {
            "text/plain": [
              "array([[0, 0],\n",
              "       [1, 0],\n",
              "       [0, 1],\n",
              "       [2, 0],\n",
              "       [1, 1],\n",
              "       [0, 2],\n",
              "       [3, 0],\n",
              "       [2, 1],\n",
              "       [1, 2],\n",
              "       [0, 3]])"
            ]
          },
          "metadata": {},
          "execution_count": 157
        }
      ]
    },
    {
      "cell_type": "code",
      "source": [
        "lr.fit(X_multi_trans,z)"
      ],
      "metadata": {
        "colab": {
          "base_uri": "https://localhost:8080/"
        },
        "id": "82FnlB90E-XJ",
        "outputId": "953db424-429c-4e86-c959-51514f741217"
      },
      "execution_count": 158,
      "outputs": [
        {
          "output_type": "execute_result",
          "data": {
            "text/plain": [
              "LinearRegression()"
            ]
          },
          "metadata": {},
          "execution_count": 158
        }
      ]
    },
    {
      "cell_type": "code",
      "source": [
        "lr.predict(X_multi_trans).reshape(10,10)\n"
      ],
      "metadata": {
        "id": "zY-N-Pq8E-af"
      },
      "execution_count": 160,
      "outputs": []
    },
    {
      "cell_type": "code",
      "source": [
        "X_test_multi = poly.transform(final)\n",
        "z_final = lr.predict(X_multi_trans).reshape(10,10)"
      ],
      "metadata": {
        "id": "gU0hlPEoLbYy"
      },
      "execution_count": 162,
      "outputs": []
    },
    {
      "cell_type": "code",
      "source": [
        "lr = LinearRegression()\n",
        "lr.fit(np.array([x,y]).reshape(100,2),z)\n",
        "\n",
        "x_input = np.linspace(x.min(), x.max(), 10)\n",
        "y_input = np.linspace(y.min(), y.max(), 10)\n",
        "xGrid, yGrid = np.meshgrid(x_input,y_input)\n",
        "\n",
        "final = np.vstack((xGrid.ravel().reshape(1,100),yGrid.ravel().reshape(1,100))).T\n",
        "\n",
        "z_final = lr.predict(final).reshape(10,10)"
      ],
      "metadata": {
        "id": "fBCMGb_WKPP3"
      },
      "execution_count": 148,
      "outputs": []
    },
    {
      "cell_type": "code",
      "source": [
        "fig = px.scatter_3d(x=x.ravel(), y=y.ravel(), z=z.ravel())\n",
        "\n",
        "fig.add_trace(go.Surface(x = x_input, y = y_input, z =z_final))\n",
        "\n",
        "fig.update_layout(scene = dict(zaxis = dict(range=[0,35])))\n",
        "\n",
        "fig.show()"
      ],
      "metadata": {
        "colab": {
          "base_uri": "https://localhost:8080/",
          "height": 542
        },
        "id": "mtzuyMWOLGFd",
        "outputId": "7378e11c-b31f-44a9-fa9e-0adc93427f2e"
      },
      "execution_count": 163,
      "outputs": [
        {
          "output_type": "display_data",
          "data": {
            "text/html": [
              "<html>\n",
              "<head><meta charset=\"utf-8\" /></head>\n",
              "<body>\n",
              "    <div>            <script src=\"https://cdnjs.cloudflare.com/ajax/libs/mathjax/2.7.5/MathJax.js?config=TeX-AMS-MML_SVG\"></script><script type=\"text/javascript\">if (window.MathJax) {MathJax.Hub.Config({SVG: {font: \"STIX-Web\"}});}</script>                <script type=\"text/javascript\">window.PlotlyConfig = {MathJaxConfig: 'local'};</script>\n",
              "        <script src=\"https://cdn.plot.ly/plotly-2.8.3.min.js\"></script>                <div id=\"e1f53b8c-c11c-4cb2-9112-8373c90c5119\" class=\"plotly-graph-div\" style=\"height:525px; width:100%;\"></div>            <script type=\"text/javascript\">                                    window.PLOTLYENV=window.PLOTLYENV || {};                                    if (document.getElementById(\"e1f53b8c-c11c-4cb2-9112-8373c90c5119\")) {                    Plotly.newPlot(                        \"e1f53b8c-c11c-4cb2-9112-8373c90c5119\",                        [{\"hovertemplate\":\"x=%{x}<br>y=%{y}<br>z=%{z}<extra></extra>\",\"legendgroup\":\"\",\"marker\":{\"color\":\"#636efa\",\"symbol\":\"circle\"},\"mode\":\"markers\",\"name\":\"\",\"scene\":\"scene\",\"showlegend\":false,\"x\":[2.3620564787497784,0.3091803521457681,2.65498407540396,-0.6803751043205528,0.8853276408765449,1.1111509376762627,-1.7288092643022444,1.3891953162218655,2.0983608965373097,1.421865530666552,2.5914931171856894,-2.0729347406371437,4.189387878569213,-0.8884523980205146,3.182223416744079,3.194198327430903,2.6174662116625322,3.4970969066955275,-0.43566242432707414,2.5938671611763384,-1.7088210971868616,-0.7859204270021563,0.21164467865723235,0.7120733377080617,-1.0977723995705944,-0.5237263434383497,3.263431866492997,-1.0998909739921126,-0.4897036561566379,1.9575014439211325,-2.3942972883064177,4.065499736912972,3.5076569454398676,0.6496767155007537,3.663698360934754,3.401324990287586,-1.0665977049706263,0.9802336635815219,2.3322146847501815,3.132909442160755,-1.4806537908188304,-0.1681274579573846,-0.15873578896354257,2.405956135189192,-1.4538750051637186,0.6245037706097669,1.9206339378147517,1.7115948057611003,-1.563299268771483,1.4763507361068715,0.46118682648735554,2.8018075444942934,2.702635594842044,-2.131276554603082,-0.08898635520456111,-0.1604088353989126,4.156953035963404,-0.3158242659917203,0.7810790982146831,3.0437091151734794,0.1722033376051293,-2.4292853283793807,3.5374794014910895,0.6959005271411485,2.730390241471466,2.3485032446948244,-2.3973426007492176,-2.6864757354845055,4.158243097874345,2.265819942091345,2.300204078465015,0.2528137197211473,-0.09256220716465613,2.148761062164195,3.225091281708174,1.0417554517652148,3.3382693220632147,2.6552758184330916,2.3895785533062543,-1.8100301239096224,-1.4701146058246177,3.50609249315798,-0.5848325080554106,-1.2581000568062684,1.66182900233491,0.18834195684880095,4.155659814123289,3.7420778302641855,3.7525198017782113,-0.7494617520346423,-2.0718724439611775,4.12854767913023,1.864440402497391,3.5250107157340045,2.6308242746630546,2.9004505743818916,-0.4014071291628287,-0.9133875949931447,3.3720105293827043,1.9259032998716314],\"y\":[-1.6382594129735892,-1.039264347218292,3.1423588226745753,3.8474542490336328,-2.7628308201572946,3.736351322373923,-0.6933134560306597,-2.4751305783546718,0.5948354459776768,-0.1598151973154036,-0.5468228150525345,-0.006871183663188063,2.3891183156659563,3.045954581746325,0.13179314775891626,1.385715307213327,2.4237188609414586,2.90103956101908,3.8172115317966764,3.8075342522122853,3.1251434006275582,3.0644405823366982,1.9955010355554466,-1.7755477803493258,1.2754913565744666,3.519044129580947,0.7851227071160198,2.273094227217925,0.8112039159138726,0.554186441990089,-2.160260099728984,3.54240586966076,2.7743348656431808,2.47886434012793,0.012017982769698676,-1.2995873903475967,-1.8946676991883438,2.0932371623983625,-2.711313503615407,1.561050551695411,0.6202552269650714,3.931764717457197,0.44480676701915645,1.8564248882251437,2.300119120157687,-1.5894321205148656,-1.2632844311655118,3.5331522279916063,3.2346001869623473,2.6434210999131658,2.060896961938087,2.2092424454797426,1.8836478883923036,-2.148983750689679,1.8848249333537188,-1.4024382740216845,3.2466925364755124,0.5703906468571334,0.513668504838221,-1.2043908546314483,-0.6056904343128524,-2.564291612853749,-1.3111219445846498,-2.564940018238673,3.729904946566718,2.0878256361576364,1.389465301850926,0.058980185972286936,-1.4870035694411077,1.315982540515713,3.119081578711996,0.5859390851866992,1.5837539872946644,1.06696970967309,0.8367093143839388,1.8970148024912588,-2.625474373510847,3.192663543432902,-0.43126774755916086,-2.5967200840203155,2.1827260157888393,2.5295687049388365,-0.23734044294946877,1.7781538888614703,0.030703370090946702,1.8807990707499513,3.3681408751365334,-0.16698866591173367,0.035998602655581635,1.70139326425502,1.9116666566630407,2.960975233870074,2.3861135759640772,2.3368530783158743,2.4732977330864303,-1.9491706519038527,2.45170895880002,-2.2654722288817677,-1.5149880527804997,2.0333444312675066],\"z\":[8.930032963802939,1.599089620490886,21.070905411424018,19.094589042601097,8.823586012009773,19.55240600256084,3.910034529750508,8.02219974700752,6.184705491678787,4.7575633375015975,9.07002403002023,6.635982030836547,28.812980629652593,10.154850565066381,11.915099139902903,16.207997526534996,16.087202581981114,24.216791921810046,18.028808454905064,24.93521827409683,14.690381967375409,11.204848174891737,6.4989210496199386,4.5096758497835,3.04176017001455,15.454562636153067,12.936976705511798,7.9182518155749655,3.006608214118508,7.0722448407699,9.314510586095011,35.163137615679226,24.41395636136439,9.472159217962156,15.960674262079419,15.855042284950118,6.731224505904612,7.608021745040412,13.337654165154229,16.47847641833817,3.707790506801519,18.094777525200275,2.0438758382823754,14.1814482748095,9.06693742613044,4.889030279738829,8.1401747181798,20.483769358075747,13.945163571748173,13.224080302804708,5.927377744238176,15.843951551956206,14.96180674672985,11.441490497101322,4.525967823528868,5.820493178985494,32.691823517722405,1.6869698758270602,2.6129123012920354,13.870208298492363,1.6433809814883311,11.939880195334737,16.747275702960202,8.979547756997915,26.503930904481688,13.065157566083355,9.651764013064177,9.774744937119145,22.87958648945743,9.142639871038925,18.25963643037891,2.5081900981849135,4.657212033365072,8.837543481288568,12.804407906454674,7.301310950565922,17.960876068810723,22.020908792794113,8.385686228064388,12.983902900666196,8.99808208517996,24.17275174981137,0.4514464120610262,6.961358037588587,5.418932847543327,6.0752094712424265,34.11316939501477,16.45265764244026,15.821748419518403,6.178805150005331,7.302324568356929,31.75906608255691,13.6935810694481,21.587603331315762,17.053326419019605,13.67744835293041,8.98646686152011,6.473279207183535,14.154078501205321,13.38798111338772],\"type\":\"scatter3d\"},{\"x\":[-2.7868222382024945,-2.010836163520729,-1.2348500888389626,-0.4588640141571969,0.31712206052456926,1.0931081352063354,1.8690942098881007,2.645080284569867,3.421066359251633,4.197052433933399],\"y\":[-2.7646728232281546,-1.9997054843560869,-1.2347381454840194,-0.4697708066119519,0.2951965322601158,1.0601638711321835,1.8251312100042507,2.5900985488763184,3.355065887748386,4.120033226620453],\"z\":[[12.62365074063654,12.128555983912973,12.567633499785993,12.427114956455346,13.00629951895363,12.427800738343963,7.799039886610567,14.120015284498859,14.001777175541411,11.369834295898903],[12.186389049273723,12.302954967772635,12.110550403792276,10.88160748350442,11.696410187081238,11.854313449297475,11.315340426007571,14.343284917145635,12.038262681078702,13.61858719001214],[12.213802362482825,11.579501104864338,12.247322223268563,13.036383807779192,12.238743837884238,11.787285870267013,12.257644443251866,12.329275467902303,8.440712040505383,11.978095600116827],[13.126284304184619,11.295831160505978,13.436012541091614,11.46356869958913,12.0832368420074,12.6481428834505,11.736623806076745,12.14298551388798,13.575086149239784,12.619594789515672],[10.878375852451327,12.270111836065498,12.829763369671067,14.6694677496933,9.577641963557475,10.981943827034108,13.154273095063573,13.724720257682472,12.310300620253656,12.789094316957414],[12.09569699033567,14.65918700295785,13.444943953328643,12.412417231091979,12.621252070078418,12.158122080429102,13.636607054256533,12.113566402058408,13.608290816735993,14.875869692970157],[13.99612019350293,13.005193912052883,12.366891314881926,12.273788581104538,12.603318827703763,11.924388515394476,13.519954396011332,12.596319945958067,12.461847825354896,14.33301957803161],[11.209112822413578,12.15237978205858,12.654503844329136,10.682105397572728,13.601044664744387,13.196499245676288,13.268974622880386,12.943826137958636,11.742031218661957,12.826114819995766],[12.51549184449393,11.925294516200804,12.544519844224062,12.820877482562087,12.204686739427126,11.956517105067896,12.860103897216609,12.407933646440085,13.508944594908483,12.687060650447032],[13.341162685297558,11.833619441293596,11.906169734310199,11.003375138674606,11.972429739301175,13.207132930160101,13.367558071529448,12.558907714696415,12.744199858853403,12.015481516048947]],\"type\":\"surface\"}],                        {\"template\":{\"data\":{\"bar\":[{\"error_x\":{\"color\":\"#2a3f5f\"},\"error_y\":{\"color\":\"#2a3f5f\"},\"marker\":{\"line\":{\"color\":\"#E5ECF6\",\"width\":0.5},\"pattern\":{\"fillmode\":\"overlay\",\"size\":10,\"solidity\":0.2}},\"type\":\"bar\"}],\"barpolar\":[{\"marker\":{\"line\":{\"color\":\"#E5ECF6\",\"width\":0.5},\"pattern\":{\"fillmode\":\"overlay\",\"size\":10,\"solidity\":0.2}},\"type\":\"barpolar\"}],\"carpet\":[{\"aaxis\":{\"endlinecolor\":\"#2a3f5f\",\"gridcolor\":\"white\",\"linecolor\":\"white\",\"minorgridcolor\":\"white\",\"startlinecolor\":\"#2a3f5f\"},\"baxis\":{\"endlinecolor\":\"#2a3f5f\",\"gridcolor\":\"white\",\"linecolor\":\"white\",\"minorgridcolor\":\"white\",\"startlinecolor\":\"#2a3f5f\"},\"type\":\"carpet\"}],\"choropleth\":[{\"colorbar\":{\"outlinewidth\":0,\"ticks\":\"\"},\"type\":\"choropleth\"}],\"contour\":[{\"colorbar\":{\"outlinewidth\":0,\"ticks\":\"\"},\"colorscale\":[[0.0,\"#0d0887\"],[0.1111111111111111,\"#46039f\"],[0.2222222222222222,\"#7201a8\"],[0.3333333333333333,\"#9c179e\"],[0.4444444444444444,\"#bd3786\"],[0.5555555555555556,\"#d8576b\"],[0.6666666666666666,\"#ed7953\"],[0.7777777777777778,\"#fb9f3a\"],[0.8888888888888888,\"#fdca26\"],[1.0,\"#f0f921\"]],\"type\":\"contour\"}],\"contourcarpet\":[{\"colorbar\":{\"outlinewidth\":0,\"ticks\":\"\"},\"type\":\"contourcarpet\"}],\"heatmap\":[{\"colorbar\":{\"outlinewidth\":0,\"ticks\":\"\"},\"colorscale\":[[0.0,\"#0d0887\"],[0.1111111111111111,\"#46039f\"],[0.2222222222222222,\"#7201a8\"],[0.3333333333333333,\"#9c179e\"],[0.4444444444444444,\"#bd3786\"],[0.5555555555555556,\"#d8576b\"],[0.6666666666666666,\"#ed7953\"],[0.7777777777777778,\"#fb9f3a\"],[0.8888888888888888,\"#fdca26\"],[1.0,\"#f0f921\"]],\"type\":\"heatmap\"}],\"heatmapgl\":[{\"colorbar\":{\"outlinewidth\":0,\"ticks\":\"\"},\"colorscale\":[[0.0,\"#0d0887\"],[0.1111111111111111,\"#46039f\"],[0.2222222222222222,\"#7201a8\"],[0.3333333333333333,\"#9c179e\"],[0.4444444444444444,\"#bd3786\"],[0.5555555555555556,\"#d8576b\"],[0.6666666666666666,\"#ed7953\"],[0.7777777777777778,\"#fb9f3a\"],[0.8888888888888888,\"#fdca26\"],[1.0,\"#f0f921\"]],\"type\":\"heatmapgl\"}],\"histogram\":[{\"marker\":{\"pattern\":{\"fillmode\":\"overlay\",\"size\":10,\"solidity\":0.2}},\"type\":\"histogram\"}],\"histogram2d\":[{\"colorbar\":{\"outlinewidth\":0,\"ticks\":\"\"},\"colorscale\":[[0.0,\"#0d0887\"],[0.1111111111111111,\"#46039f\"],[0.2222222222222222,\"#7201a8\"],[0.3333333333333333,\"#9c179e\"],[0.4444444444444444,\"#bd3786\"],[0.5555555555555556,\"#d8576b\"],[0.6666666666666666,\"#ed7953\"],[0.7777777777777778,\"#fb9f3a\"],[0.8888888888888888,\"#fdca26\"],[1.0,\"#f0f921\"]],\"type\":\"histogram2d\"}],\"histogram2dcontour\":[{\"colorbar\":{\"outlinewidth\":0,\"ticks\":\"\"},\"colorscale\":[[0.0,\"#0d0887\"],[0.1111111111111111,\"#46039f\"],[0.2222222222222222,\"#7201a8\"],[0.3333333333333333,\"#9c179e\"],[0.4444444444444444,\"#bd3786\"],[0.5555555555555556,\"#d8576b\"],[0.6666666666666666,\"#ed7953\"],[0.7777777777777778,\"#fb9f3a\"],[0.8888888888888888,\"#fdca26\"],[1.0,\"#f0f921\"]],\"type\":\"histogram2dcontour\"}],\"mesh3d\":[{\"colorbar\":{\"outlinewidth\":0,\"ticks\":\"\"},\"type\":\"mesh3d\"}],\"parcoords\":[{\"line\":{\"colorbar\":{\"outlinewidth\":0,\"ticks\":\"\"}},\"type\":\"parcoords\"}],\"pie\":[{\"automargin\":true,\"type\":\"pie\"}],\"scatter\":[{\"marker\":{\"colorbar\":{\"outlinewidth\":0,\"ticks\":\"\"}},\"type\":\"scatter\"}],\"scatter3d\":[{\"line\":{\"colorbar\":{\"outlinewidth\":0,\"ticks\":\"\"}},\"marker\":{\"colorbar\":{\"outlinewidth\":0,\"ticks\":\"\"}},\"type\":\"scatter3d\"}],\"scattercarpet\":[{\"marker\":{\"colorbar\":{\"outlinewidth\":0,\"ticks\":\"\"}},\"type\":\"scattercarpet\"}],\"scattergeo\":[{\"marker\":{\"colorbar\":{\"outlinewidth\":0,\"ticks\":\"\"}},\"type\":\"scattergeo\"}],\"scattergl\":[{\"marker\":{\"colorbar\":{\"outlinewidth\":0,\"ticks\":\"\"}},\"type\":\"scattergl\"}],\"scattermapbox\":[{\"marker\":{\"colorbar\":{\"outlinewidth\":0,\"ticks\":\"\"}},\"type\":\"scattermapbox\"}],\"scatterpolar\":[{\"marker\":{\"colorbar\":{\"outlinewidth\":0,\"ticks\":\"\"}},\"type\":\"scatterpolar\"}],\"scatterpolargl\":[{\"marker\":{\"colorbar\":{\"outlinewidth\":0,\"ticks\":\"\"}},\"type\":\"scatterpolargl\"}],\"scatterternary\":[{\"marker\":{\"colorbar\":{\"outlinewidth\":0,\"ticks\":\"\"}},\"type\":\"scatterternary\"}],\"surface\":[{\"colorbar\":{\"outlinewidth\":0,\"ticks\":\"\"},\"colorscale\":[[0.0,\"#0d0887\"],[0.1111111111111111,\"#46039f\"],[0.2222222222222222,\"#7201a8\"],[0.3333333333333333,\"#9c179e\"],[0.4444444444444444,\"#bd3786\"],[0.5555555555555556,\"#d8576b\"],[0.6666666666666666,\"#ed7953\"],[0.7777777777777778,\"#fb9f3a\"],[0.8888888888888888,\"#fdca26\"],[1.0,\"#f0f921\"]],\"type\":\"surface\"}],\"table\":[{\"cells\":{\"fill\":{\"color\":\"#EBF0F8\"},\"line\":{\"color\":\"white\"}},\"header\":{\"fill\":{\"color\":\"#C8D4E3\"},\"line\":{\"color\":\"white\"}},\"type\":\"table\"}]},\"layout\":{\"annotationdefaults\":{\"arrowcolor\":\"#2a3f5f\",\"arrowhead\":0,\"arrowwidth\":1},\"autotypenumbers\":\"strict\",\"coloraxis\":{\"colorbar\":{\"outlinewidth\":0,\"ticks\":\"\"}},\"colorscale\":{\"diverging\":[[0,\"#8e0152\"],[0.1,\"#c51b7d\"],[0.2,\"#de77ae\"],[0.3,\"#f1b6da\"],[0.4,\"#fde0ef\"],[0.5,\"#f7f7f7\"],[0.6,\"#e6f5d0\"],[0.7,\"#b8e186\"],[0.8,\"#7fbc41\"],[0.9,\"#4d9221\"],[1,\"#276419\"]],\"sequential\":[[0.0,\"#0d0887\"],[0.1111111111111111,\"#46039f\"],[0.2222222222222222,\"#7201a8\"],[0.3333333333333333,\"#9c179e\"],[0.4444444444444444,\"#bd3786\"],[0.5555555555555556,\"#d8576b\"],[0.6666666666666666,\"#ed7953\"],[0.7777777777777778,\"#fb9f3a\"],[0.8888888888888888,\"#fdca26\"],[1.0,\"#f0f921\"]],\"sequentialminus\":[[0.0,\"#0d0887\"],[0.1111111111111111,\"#46039f\"],[0.2222222222222222,\"#7201a8\"],[0.3333333333333333,\"#9c179e\"],[0.4444444444444444,\"#bd3786\"],[0.5555555555555556,\"#d8576b\"],[0.6666666666666666,\"#ed7953\"],[0.7777777777777778,\"#fb9f3a\"],[0.8888888888888888,\"#fdca26\"],[1.0,\"#f0f921\"]]},\"colorway\":[\"#636efa\",\"#EF553B\",\"#00cc96\",\"#ab63fa\",\"#FFA15A\",\"#19d3f3\",\"#FF6692\",\"#B6E880\",\"#FF97FF\",\"#FECB52\"],\"font\":{\"color\":\"#2a3f5f\"},\"geo\":{\"bgcolor\":\"white\",\"lakecolor\":\"white\",\"landcolor\":\"#E5ECF6\",\"showlakes\":true,\"showland\":true,\"subunitcolor\":\"white\"},\"hoverlabel\":{\"align\":\"left\"},\"hovermode\":\"closest\",\"mapbox\":{\"style\":\"light\"},\"paper_bgcolor\":\"white\",\"plot_bgcolor\":\"#E5ECF6\",\"polar\":{\"angularaxis\":{\"gridcolor\":\"white\",\"linecolor\":\"white\",\"ticks\":\"\"},\"bgcolor\":\"#E5ECF6\",\"radialaxis\":{\"gridcolor\":\"white\",\"linecolor\":\"white\",\"ticks\":\"\"}},\"scene\":{\"xaxis\":{\"backgroundcolor\":\"#E5ECF6\",\"gridcolor\":\"white\",\"gridwidth\":2,\"linecolor\":\"white\",\"showbackground\":true,\"ticks\":\"\",\"zerolinecolor\":\"white\"},\"yaxis\":{\"backgroundcolor\":\"#E5ECF6\",\"gridcolor\":\"white\",\"gridwidth\":2,\"linecolor\":\"white\",\"showbackground\":true,\"ticks\":\"\",\"zerolinecolor\":\"white\"},\"zaxis\":{\"backgroundcolor\":\"#E5ECF6\",\"gridcolor\":\"white\",\"gridwidth\":2,\"linecolor\":\"white\",\"showbackground\":true,\"ticks\":\"\",\"zerolinecolor\":\"white\"}},\"shapedefaults\":{\"line\":{\"color\":\"#2a3f5f\"}},\"ternary\":{\"aaxis\":{\"gridcolor\":\"white\",\"linecolor\":\"white\",\"ticks\":\"\"},\"baxis\":{\"gridcolor\":\"white\",\"linecolor\":\"white\",\"ticks\":\"\"},\"bgcolor\":\"#E5ECF6\",\"caxis\":{\"gridcolor\":\"white\",\"linecolor\":\"white\",\"ticks\":\"\"}},\"title\":{\"x\":0.05},\"xaxis\":{\"automargin\":true,\"gridcolor\":\"white\",\"linecolor\":\"white\",\"ticks\":\"\",\"title\":{\"standoff\":15},\"zerolinecolor\":\"white\",\"zerolinewidth\":2},\"yaxis\":{\"automargin\":true,\"gridcolor\":\"white\",\"linecolor\":\"white\",\"ticks\":\"\",\"title\":{\"standoff\":15},\"zerolinecolor\":\"white\",\"zerolinewidth\":2}}},\"scene\":{\"domain\":{\"x\":[0.0,1.0],\"y\":[0.0,1.0]},\"xaxis\":{\"title\":{\"text\":\"x\"}},\"yaxis\":{\"title\":{\"text\":\"y\"}},\"zaxis\":{\"title\":{\"text\":\"z\"},\"range\":[0,35]}},\"legend\":{\"tracegroupgap\":0},\"margin\":{\"t\":60}},                        {\"responsive\": true}                    ).then(function(){\n",
              "                            \n",
              "var gd = document.getElementById('e1f53b8c-c11c-4cb2-9112-8373c90c5119');\n",
              "var x = new MutationObserver(function (mutations, observer) {{\n",
              "        var display = window.getComputedStyle(gd).display;\n",
              "        if (!display || display === 'none') {{\n",
              "            console.log([gd, 'removed!']);\n",
              "            Plotly.purge(gd);\n",
              "            observer.disconnect();\n",
              "        }}\n",
              "}});\n",
              "\n",
              "// Listen for the removal of the full notebook cells\n",
              "var notebookContainer = gd.closest('#notebook-container');\n",
              "if (notebookContainer) {{\n",
              "    x.observe(notebookContainer, {childList: true});\n",
              "}}\n",
              "\n",
              "// Listen for the clearing of the current output cell\n",
              "var outputEl = gd.closest('.output');\n",
              "if (outputEl) {{\n",
              "    x.observe(outputEl, {childList: true});\n",
              "}}\n",
              "\n",
              "                        })                };                            </script>        </div>\n",
              "</body>\n",
              "</html>"
            ]
          },
          "metadata": {}
        }
      ]
    }
  ],
  "metadata": {
    "colab": {
      "name": "polynominal (simple and multiple)regressor.ipynb",
      "provenance": [],
      "collapsed_sections": [],
      "mount_file_id": "15wGNYkS024uN3QhofFOdguQR3xEP-d4q",
      "authorship_tag": "ABX9TyPYZofXvbs02eI/j1XLCZfa",
      "include_colab_link": true
    },
    "kernelspec": {
      "display_name": "Python 3",
      "name": "python3"
    },
    "language_info": {
      "name": "python"
    }
  },
  "nbformat": 4,
  "nbformat_minor": 0
}