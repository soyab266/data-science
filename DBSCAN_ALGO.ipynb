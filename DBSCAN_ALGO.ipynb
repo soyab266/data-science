{
  "cells": [
    {
      "cell_type": "markdown",
      "metadata": {
        "id": "view-in-github",
        "colab_type": "text"
      },
      "source": [
        "<a href=\"https://colab.research.google.com/github/soyab266/data-science/blob/master/DBSCAN_ALGO.ipynb\" target=\"_parent\"><img src=\"https://colab.research.google.com/assets/colab-badge.svg\" alt=\"Open In Colab\"/></a>"
      ]
    },
    {
      "cell_type": "code",
      "execution_count": 1,
      "metadata": {
        "id": "89ONI-gcC8Ym"
      },
      "outputs": [],
      "source": [
        "import matplotlib.pyplot as plt\n",
        "import plotly.express as px\n",
        "from sklearn.cluster import KMeans \n",
        "from sklearn.datasets import make_blobs \n",
        "from sklearn.metrics import silhouette_score\n",
        "%matplotlib inline\n",
        "from sklearn.model_selection import train_test_split\n",
        "import numpy as np \n",
        "import pandas as pd\n",
        "from scipy import ndimage \n",
        "from scipy.cluster import hierarchy \n",
        "from scipy.spatial import distance_matrix \n",
        "from matplotlib import pyplot as plt \n",
        "from sklearn import manifold, datasets \n",
        "from sklearn.cluster import AgglomerativeClustering \n",
        "from sklearn.datasets import make_blobs \n",
        "from sklearn.preprocessing import MinMaxScaler\n",
        "%matplotlib inline\n",
        "from sklearn.cluster import DBSCAN\n",
        "from sklearn.neighbors import NearestNeighbors\n",
        "#! pip install https://github.com/pandas-profiling/pandas-profiling/archive/master.zip"
      ]
    },
    {
      "cell_type": "code",
      "execution_count": 55,
      "metadata": {
        "id": "LI2pf6vDMZ2A"
      },
      "outputs": [],
      "source": [
        "x=np.array([[1,2], [2,3],[2,5],[5,9], [3,4],[4,5],[5,6],[7,8], [8,9],[25,80], [50,70],[69,89]])"
      ]
    },
    {
      "cell_type": "code",
      "execution_count": 56,
      "metadata": {
        "colab": {
          "base_uri": "https://localhost:8080/"
        },
        "id": "4w_1yXGoMZ6M",
        "outputId": "99dc6230-ae42-4607-f476-c08de5912968"
      },
      "outputs": [
        {
          "output_type": "execute_result",
          "data": {
            "text/plain": [
              "array([[ 1,  2],\n",
              "       [ 2,  3],\n",
              "       [ 2,  5],\n",
              "       [ 5,  9],\n",
              "       [ 3,  4],\n",
              "       [ 4,  5],\n",
              "       [ 5,  6],\n",
              "       [ 7,  8],\n",
              "       [ 8,  9],\n",
              "       [25, 80],\n",
              "       [50, 70],\n",
              "       [69, 89]])"
            ]
          },
          "metadata": {},
          "execution_count": 56
        }
      ],
      "source": [
        "x"
      ]
    },
    {
      "cell_type": "code",
      "execution_count": 57,
      "metadata": {
        "colab": {
          "base_uri": "https://localhost:8080/",
          "height": 610
        },
        "id": "G-IcGZRvMZ9p",
        "outputId": "06375667-8d2e-4990-a76a-97540ebd3513"
      },
      "outputs": [
        {
          "output_type": "execute_result",
          "data": {
            "text/plain": [
              "<matplotlib.collections.PathCollection at 0x7fba8f390c90>"
            ]
          },
          "metadata": {},
          "execution_count": 57
        },
        {
          "output_type": "display_data",
          "data": {
            "text/plain": [
              "<Figure size 720x720 with 1 Axes>"
            ],
            "image/png": "[encoded data removed]"
          },
          "metadata": {
            "needs_background": "light"
          }
        }
      ],
      "source": [
        "fig=plt.figure(figsize=(10,10))\n",
        "plt.scatter(x[:,0], x[:,1], color='r')\n"
      ]
    },
    {
      "cell_type": "code",
      "execution_count": 58,
      "metadata": {
        "colab": {
          "base_uri": "https://localhost:8080/"
        },
        "id": "L_vKZQQPMaD5",
        "outputId": "82976cf6-9f96-4999-de3c-037c39105d5f"
      },
      "outputs": [
        {
          "output_type": "execute_result",
          "data": {
            "text/plain": [
              "array([ 0,  0,  0, -1,  0,  0,  0, -1, -1, -1, -1, -1])"
            ]
          },
          "metadata": {},
          "execution_count": 58
        }
      ],
      "source": [
        "scan=DBSCAN(eps=1.5,min_samples=3)\n",
        "scan.fit(x)\n",
        "scan.labels_"
      ]
    },
    {
      "cell_type": "code",
      "execution_count": 59,
      "metadata": {
        "colab": {
          "base_uri": "https://localhost:8080/"
        },
        "id": "pe7jtsGfOjto",
        "outputId": "86c7f03c-26f9-4f87-b202-e8c1c9e6f77d"
      },
      "outputs": [
        {
          "output_type": "execute_result",
          "data": {
            "text/plain": [
              "array([0, 0, 0, 0, 0, 0, 0, 0, 0, 1, 1, 1], dtype=int32)"
            ]
          },
          "metadata": {},
          "execution_count": 59
        }
      ],
      "source": [
        "km=KMeans( n_clusters=2)\n",
        "km.fit(x)\n",
        "km.labels_"
      ]
    },
    {
      "cell_type": "code",
      "execution_count": 60,
      "metadata": {
        "colab": {
          "base_uri": "https://localhost:8080/"
        },
        "id": "Pp2jwn34Ojze",
        "outputId": "ed297b08-c92b-4e6c-c618-1b8b12b71f83"
      },
      "outputs": [
        {
          "output_type": "execute_result",
          "data": {
            "text/plain": [
              "array([0, 1], dtype=int32)"
            ]
          },
          "metadata": {},
          "execution_count": 60
        }
      ],
      "source": [
        "km.predict([[22,32], [32,42]])"
      ]
    },
    {
      "cell_type": "code",
      "execution_count": 61,
      "metadata": {
        "id": "sLplalyfOj2P"
      },
      "outputs": [],
      "source": [
        "X, Y= make_blobs( n_samples=10000, centers=5,cluster_std=0.60, random_state=0 )"
      ]
    },
    {
      "cell_type": "code",
      "execution_count": 43,
      "metadata": {
        "colab": {
          "base_uri": "https://localhost:8080/",
          "height": 501
        },
        "id": "ozvliK-_Sdya",
        "outputId": "c414df12-7189-4273-83ed-1c36366fd6ee"
      },
      "outputs": [
        {
          "output_type": "execute_result",
          "data": {
            "text/plain": [
              "<matplotlib.collections.PathCollection at 0x7fba8f4d1b50>"
            ]
          },
          "metadata": {},
          "execution_count": 43
        },
        {
          "output_type": "display_data",
          "data": {
            "text/plain": [
              "<Figure size 1080x576 with 1 Axes>"
            ],
            "image/png": "[encoded data removed]"
          },
          "metadata": {
            "needs_background": "light"
          }
        }
      ],
      "source": [
        "plt.figure(figsize=(15,8))\n",
        "plt.scatter(X[:,0], X[:,1])"
      ]
    },
    {
      "cell_type": "code",
      "execution_count": 11,
      "metadata": {
        "colab": {
          "base_uri": "https://localhost:8080/"
        },
        "id": "nx1g2nBeSd1m",
        "outputId": "57c4e866-a300-47ec-80d3-5238b3ac6923"
      },
      "outputs": [
        {
          "output_type": "execute_result",
          "data": {
            "text/plain": [
              "NearestNeighbors(n_neighbors=1)"
            ]
          },
          "metadata": {},
          "execution_count": 11
        }
      ],
      "source": [
        "samp=[0.,0.1,0.],[0.5, 0.2,0.8],[1.0,0.9,0.1]\n",
        "neigh=NearestNeighbors(n_neighbors=1 )\n",
        "neigh.fit(samp)"
      ]
    },
    {
      "cell_type": "code",
      "execution_count": 12,
      "metadata": {
        "colab": {
          "base_uri": "https://localhost:8080/"
        },
        "id": "VIYadDj2Sd4s",
        "outputId": "ec87337b-48a0-44f6-b458-3254fc82d39f"
      },
      "outputs": [
        {
          "output_type": "stream",
          "name": "stdout",
          "text": [
            "(array([[0.24494897]]), array([[1]]))\n"
          ]
        }
      ],
      "source": [
        "print(neigh.kneighbors([[0.4,0.1, 0.6]]))"
      ]
    },
    {
      "cell_type": "code",
      "execution_count": 62,
      "metadata": {
        "id": "QrsJqs3cSd7n"
      },
      "outputs": [],
      "source": [
        "neigh=NearestNeighbors(n_neighbors=2 )\n",
        "data=neigh.fit(X)\n",
        "distances, indices= data.kneighbors(X)"
      ]
    },
    {
      "cell_type": "code",
      "execution_count": 63,
      "metadata": {
        "colab": {
          "base_uri": "https://localhost:8080/",
          "height": 283
        },
        "id": "x9JeVJS_Sd-q",
        "outputId": "9c6250a1-d17d-4898-e770-325bc767e0c5"
      },
      "outputs": [
        {
          "output_type": "execute_result",
          "data": {
            "text/plain": [
              "[<matplotlib.lines.Line2D at 0x7fba8f300050>]"
            ]
          },
          "metadata": {},
          "execution_count": 63
        },
        {
          "output_type": "display_data",
          "data": {
            "text/plain": [
              "<Figure size 432x288 with 1 Axes>"
            ],
            "image/png": "[encoded data removed]"
          },
          "metadata": {
            "needs_background": "light"
          }
        }
      ],
      "source": [
        "distances=np.sort(distances, axis=0)\n",
        "distances = distances [:, 1]\n",
        "plt.plot(distances)"
      ]
    },
    {
      "cell_type": "code",
      "execution_count": 69,
      "metadata": {
        "colab": {
          "base_uri": "https://localhost:8080/"
        },
        "id": "YfFGpck2rr9B",
        "outputId": "d52b8c08-83de-404f-a19d-43005095f93a"
      },
      "outputs": [
        {
          "output_type": "execute_result",
          "data": {
            "text/plain": [
              "DBSCAN(eps=0.3, min_samples=3)"
            ]
          },
          "metadata": {},
          "execution_count": 69
        }
      ],
      "source": [
        "scan=DBSCAN(  eps=0.3,min_samples=3)\n",
        "scan.fit(X)\n"
      ]
    },
    {
      "cell_type": "code",
      "execution_count": 70,
      "metadata": {
        "colab": {
          "base_uri": "https://localhost:8080/"
        },
        "id": "3UqV7Nh1rsBK",
        "outputId": "c193383f-9491-4fbe-a57d-e48982652454"
      },
      "outputs": [
        {
          "output_type": "execute_result",
          "data": {
            "text/plain": [
              "6"
            ]
          },
          "metadata": {},
          "execution_count": 70
        }
      ],
      "source": [
        "cluster=scan.labels_\n",
        "len(set(cluster))"
      ]
    },
    {
      "cell_type": "code",
      "execution_count": 72,
      "metadata": {
        "colab": {
          "base_uri": "https://localhost:8080/"
        },
        "id": "blmE9P8Wx6Nc",
        "outputId": "dbc0a226-8f8e-420c-9946-827fa44e1e54"
      },
      "outputs": [
        {
          "output_type": "execute_result",
          "data": {
            "text/plain": [
              "0.11308681654249138"
            ]
          },
          "metadata": {},
          "execution_count": 72
        }
      ],
      "source": [
        "silhouette_score(X, cluster)"
      ]
    }
  ],
  "metadata": {
    "colab": {
      "collapsed_sections": [],
      "provenance": [],
      "mount_file_id": "15wGNYkS024uN3QhofFOdguQR3xEP-d4q",
      "authorship_tag": "ABX9TyNBCAlixwGy/xMwsyhvcUpS",
      "include_colab_link": true
    },
    "kernelspec": {
      "display_name": "Python 3",
      "name": "python3"
    },
    "language_info": {
      "name": "python"
    }
  },
  "nbformat": 4,
  "nbformat_minor": 0
}