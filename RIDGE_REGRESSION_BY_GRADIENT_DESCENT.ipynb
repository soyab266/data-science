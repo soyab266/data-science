{
  "nbformat": 4,
  "nbformat_minor": 0,
  "metadata": {
    "colab": {
      "provenance": [],
      "authorship_tag": "ABX9TyOjaE9MEJ1DdlblorhwKcby",
      "include_colab_link": true
    },
    "kernelspec": {
      "name": "python3",
      "display_name": "Python 3"
    },
    "language_info": {
      "name": "python"
    }
  },
  "cells": [
    {
      "cell_type": "markdown",
      "metadata": {
        "id": "view-in-github",
        "colab_type": "text"
      },
      "source": [
        "<a href=\"https://colab.research.google.com/github/soyab266/data-science/blob/master/RIDGE_REGRESSION_BY_GRADIENT_DESCENT.ipynb\" target=\"_parent\"><img src=\"https://colab.research.google.com/assets/colab-badge.svg\" alt=\"Open In Colab\"/></a>"
      ]
    },
    {
      "cell_type": "code",
      "execution_count": 2,
      "metadata": {
        "id": "i05T8ex5rXMI"
      },
      "outputs": [],
      "source": [
        "import pandas as pd\n",
        "import numpy as np\n",
        "import matplotlib.pyplot as plt\n",
        "from sklearn.datasets import load_diabetes\n",
        "from sklearn.datasets import make_regression\n",
        "from sklearn.model_selection import train_test_split\n",
        "from sklearn.linear_model import LinearRegression,SGDRegressor,Ridge\n",
        "from sklearn.preprocessing import PolynomialFeatures,StandardScaler\n",
        "from sklearn.metrics import r2_score,mean_squared_error"
      ]
    },
    {
      "cell_type": "code",
      "source": [
        "x,y = load_diabetes(return_X_y=True)"
      ],
      "metadata": {
        "id": "GpH5Kz7VrYHh"
      },
      "execution_count": 6,
      "outputs": []
    },
    {
      "cell_type": "code",
      "source": [
        "x_train, x_test, y_train, y_test=train_test_split(x,y ,test_size=0.2, random_state=4)"
      ],
      "metadata": {
        "id": "ZLF0PyWnrYKz"
      },
      "execution_count": 7,
      "outputs": []
    },
    {
      "cell_type": "code",
      "source": [
        "from sklearn.linear_model import SGDRegressor\n",
        "sgd=SGDRegressor(penalty='l2',max_iter=500,eta0=0.1,learning_rate='constant',alpha=0.001 )\n",
        "sgd.fit(x_train, y_train)\n",
        "y_pred=sgd.predict(x_test)"
      ],
      "metadata": {
        "id": "PPMuN905rYNw"
      },
      "execution_count": 31,
      "outputs": []
    },
    {
      "cell_type": "code",
      "source": [
        "r2_score(y_test, y_pred)"
      ],
      "metadata": {
        "colab": {
          "base_uri": "https://localhost:8080/"
        },
        "id": "HI-zojB1rYQk",
        "outputId": "bcfee6a5-94e6-4caf-a2eb-8444e219ebd8"
      },
      "execution_count": 32,
      "outputs": [
        {
          "output_type": "execute_result",
          "data": {
            "text/plain": [
              "0.46193105503805676"
            ]
          },
          "metadata": {},
          "execution_count": 32
        }
      ]
    },
    {
      "cell_type": "code",
      "source": [
        "print(sgd.coef_)\n",
        "print(sgd.intercept_)"
      ],
      "metadata": {
        "colab": {
          "base_uri": "https://localhost:8080/"
        },
        "id": "ja1k152MrYTf",
        "outputId": "18c409b9-f00c-4e5b-f0f5-47c1c881dd09"
      },
      "execution_count": 33,
      "outputs": [
        {
          "output_type": "stream",
          "name": "stdout",
          "text": [
            "[  49.27849574 -155.5841657   375.3329778   274.63634277   -9.8875696\n",
            "  -63.18415597 -165.03556141  132.93957909  333.27964908   91.76067411]\n",
            "[155.26315777]\n"
          ]
        }
      ]
    },
    {
      "cell_type": "code",
      "source": [
        "reg = Ridge(alpha=0.001, max_iter=500,solver='sparse_cg')\n",
        "reg.fit(x_train, y_train)\n",
        "y_pred=reg.predict(x_test)"
      ],
      "metadata": {
        "id": "W3eOKPdVrYWW"
      },
      "execution_count": 34,
      "outputs": []
    },
    {
      "cell_type": "code",
      "source": [
        "r2_score(y_test, y_pred)"
      ],
      "metadata": {
        "colab": {
          "base_uri": "https://localhost:8080/"
        },
        "id": "2riB3Ot0zCEQ",
        "outputId": "fc741389-cc8c-4c09-8c3f-4928b900a9c1"
      },
      "execution_count": 36,
      "outputs": [
        {
          "output_type": "execute_result",
          "data": {
            "text/plain": [
              "0.46250101619914563"
            ]
          },
          "metadata": {},
          "execution_count": 36
        }
      ]
    },
    {
      "cell_type": "code",
      "source": [
        "print(reg.coef_)\n",
        "print(reg.intercept_)"
      ],
      "metadata": {
        "colab": {
          "base_uri": "https://localhost:8080/"
        },
        "id": "3ggbEbZhzQ8I",
        "outputId": "6022b5cd-01fe-4571-e959-2f8a7a4d3b45"
      },
      "execution_count": 37,
      "outputs": [
        {
          "output_type": "stream",
          "name": "stdout",
          "text": [
            "[  34.52192544 -290.84084076  482.40181344  368.0678662  -852.44873179\n",
            "  501.59160336  180.11115788  270.76333979  759.73534372   37.4913546 ]\n",
            "151.10198517439466\n"
          ]
        }
      ]
    }
  ]
}