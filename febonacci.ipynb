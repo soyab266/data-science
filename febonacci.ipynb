{
  "nbformat": 4,
  "nbformat_minor": 0,
  "metadata": {
    "colab": {
      "provenance": [],
      "mount_file_id": "1hX0XfnXLHMnqtzzjBkkagnvdS8ZrPScq",
      "authorship_tag": "ABX9TyPldetEs4SyTtWZynSrvLpT",
      "include_colab_link": true
    },
    "kernelspec": {
      "name": "python3",
      "display_name": "Python 3"
    },
    "language_info": {
      "name": "python"
    }
  },
  "cells": [
    {
      "cell_type": "markdown",
      "metadata": {
        "id": "view-in-github",
        "colab_type": "text"
      },
      "source": [
        "<a href=\"https://colab.research.google.com/github/soyab266/data-science/blob/master/febonacci.ipynb\" target=\"_parent\"><img src=\"https://colab.research.google.com/assets/colab-badge.svg\" alt=\"Open In Colab\"/></a>"
      ]
    },
    {
      "cell_type": "code",
      "execution_count": 2,
      "metadata": {
        "id": "gb6RclR4JP-7"
      },
      "outputs": [],
      "source": [
        "import pandas as pd\n",
        "import numpy as np\n",
        "import matplotlib.pyplot as plt\n",
        "import seaborn as sns\n",
        "pd.set_option('display.max_rows',None)\n",
        "pd.set_option('display.max_columns',None)"
      ]
    },
    {
      "cell_type": "code",
      "source": [
        "import time\n",
        "start=time.time()\n",
        "d={0:1,1:1}\n",
        "def feb(n,d):\n",
        "  if n in d:\n",
        "    return d[n]\n",
        "  else:\n",
        "    d[n]=feb(n-1,d) + feb(n-2,d)\n",
        "    return d[n]\n",
        "print(time.time()-start)"
      ],
      "metadata": {
        "colab": {
          "base_uri": "https://localhost:8080/"
        },
        "id": "7Fh11PYZx29z",
        "outputId": "f1f0d9b8-10e8-4fe0-b528-ffa8db712376"
      },
      "execution_count": 3,
      "outputs": [
        {
          "output_type": "stream",
          "name": "stdout",
          "text": [
            "0.00010514259338378906\n"
          ]
        }
      ]
    },
    {
      "cell_type": "code",
      "source": [
        "start=time.time()\n",
        "print(feb(100,d))\n",
        "print(time.time()-start)"
      ],
      "metadata": {
        "colab": {
          "base_uri": "https://localhost:8080/"
        },
        "id": "1hWnxaMGx2_v",
        "outputId": "374a1c6b-eddf-476e-aff0-b3d7305e7ee7"
      },
      "execution_count": 7,
      "outputs": [
        {
          "output_type": "stream",
          "name": "stdout",
          "text": [
            "573147844013817084101\n",
            "0.00012683868408203125\n"
          ]
        }
      ]
    }
  ]
}