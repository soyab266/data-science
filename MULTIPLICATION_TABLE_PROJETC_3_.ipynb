{
  "cells": [
    {
      "cell_type": "markdown",
      "metadata": {
        "id": "view-in-github",
        "colab_type": "text"
      },
      "source": [
        "<a href=\"https://colab.research.google.com/github/soyab266/test/blob/master/MULTIPLICATION_TABLE_PROJETC_3_.ipynb\" target=\"_parent\"><img src=\"https://colab.research.google.com/assets/colab-badge.svg\" alt=\"Open In Colab\"/></a>"
      ]
    },
    {
      "cell_type": "code",
      "source": [
        "import matplotlib.pyplot as plt\n",
        "import numpy as np\n",
        "import pandas as pd\n",
        "%matplotlib inline"
      ],
      "metadata": {
        "id": "YAS3H_eriDsH"
      },
      "execution_count": null,
      "outputs": []
    },
    {
      "cell_type": "code",
      "source": [
        "num=12\n",
        "num=int (input('your number for multiple= '))\n",
        "for i in range (1,11):\n",
        "  print( num, 'x', i , '=', num * i)"
      ],
      "metadata": {
        "colab": {
          "base_uri": "https://localhost:8080/"
        },
        "id": "T_hfPPj81rQ_",
        "outputId": "12bd345b-fbfa-43a7-a7bd-4e0160e73309"
      },
      "execution_count": 16,
      "outputs": [
        {
          "output_type": "stream",
          "name": "stdout",
          "text": [
            "your number for multiple= 56\n",
            "56 x 1 = 56\n",
            "56 x 2 = 112\n",
            "56 x 3 = 168\n",
            "56 x 4 = 224\n",
            "56 x 5 = 280\n",
            "56 x 6 = 336\n",
            "56 x 7 = 392\n",
            "56 x 8 = 448\n",
            "56 x 9 = 504\n",
            "56 x 10 = 560\n"
          ]
        }
      ]
    }
  ],
  "metadata": {
    "colab": {
      "name": "MULTIPLICATION TABLE PROJETC 3 .ipynb",
      "provenance": [],
      "collapsed_sections": [],
      "mount_file_id": "15wGNYkS024uN3QhofFOdguQR3xEP-d4q",
      "authorship_tag": "ABX9TyP8LkbGXbefj3Ozv7YsDrab",
      "include_colab_link": true
    },
    "kernelspec": {
      "display_name": "Python 3",
      "name": "python3"
    },
    "language_info": {
      "name": "python"
    }
  },
  "nbformat": 4,
  "nbformat_minor": 0
}